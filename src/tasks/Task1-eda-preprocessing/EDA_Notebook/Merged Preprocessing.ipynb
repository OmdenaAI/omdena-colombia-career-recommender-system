{
 "cells": [
  {
   "cell_type": "code",
   "execution_count": 252,
   "id": "delayed-hunter",
   "metadata": {},
   "outputs": [],
   "source": [
    "import pandas as pd\n",
    "import numpy as np\n",
    "from Translate_data import translate_data\n",
    "import matplotlib.pyplot as plt\n",
    "import seaborn as sns\n",
    "%matplotlib inline"
   ]
  },
  {
   "cell_type": "code",
   "execution_count": 2,
   "id": "nominated-neighborhood",
   "metadata": {},
   "outputs": [],
   "source": [
    "pd.set_option('display.max_columns', 150)\n",
    "pd.set_option('display.max_rows', 15)"
   ]
  },
  {
   "cell_type": "code",
   "execution_count": 3,
   "id": "sweet-therapy",
   "metadata": {},
   "outputs": [],
   "source": [
    "df = pd.read_csv(\"saber_combined_all_fields.csv\")"
   ]
  },
  {
   "cell_type": "markdown",
   "id": "indian-growing",
   "metadata": {},
   "source": [
    "### Translation of Data from Spanish to English"
   ]
  },
  {
   "cell_type": "code",
   "execution_count": 4,
   "id": "according-bracelet",
   "metadata": {},
   "outputs": [],
   "source": [
    "# Credits to Victor for the translation code\n",
    "# TRANSLATION\n",
    "data = translate_data(df, 'spanish', 'english')"
   ]
  },
  {
   "cell_type": "code",
   "execution_count": 5,
   "id": "focused-bleeding",
   "metadata": {},
   "outputs": [
    {
     "data": {
      "text/html": [
       "<div>\n",
       "<style scoped>\n",
       "    .dataframe tbody tr th:only-of-type {\n",
       "        vertical-align: middle;\n",
       "    }\n",
       "\n",
       "    .dataframe tbody tr th {\n",
       "        vertical-align: top;\n",
       "    }\n",
       "\n",
       "    .dataframe thead th {\n",
       "        text-align: right;\n",
       "    }\n",
       "</style>\n",
       "<table border=\"1\" class=\"dataframe\">\n",
       "  <thead>\n",
       "    <tr style=\"text-align: right;\">\n",
       "      <th></th>\n",
       "      <th>Unnamed: 0</th>\n",
       "      <th>estu_tipodocumento</th>\n",
       "      <th>estu_nacionalidad</th>\n",
       "      <th>estu_genero</th>\n",
       "      <th>estu_fechanacimiento</th>\n",
       "      <th>estu_exterior</th>\n",
       "      <th>periodo</th>\n",
       "      <th>estu_consecutivo</th>\n",
       "      <th>estu_estadocivil</th>\n",
       "      <th>estu_estudiante</th>\n",
       "      <th>estu_pais_reside</th>\n",
       "      <th>estu_tieneetnia</th>\n",
       "      <th>estu_depto_reside</th>\n",
       "      <th>estu_cod_reside_depto</th>\n",
       "      <th>estu_mcpio_reside</th>\n",
       "      <th>estu_cod_reside_mcpio</th>\n",
       "      <th>estu_tituloobtenidobachiller</th>\n",
       "      <th>estu_ano_examenestado_sb11</th>\n",
       "      <th>estu_semestre_examenestadosb11</th>\n",
       "      <th>estu_porcentajecreditosaprob</th>\n",
       "      <th>estu_valormatriculauniversidad</th>\n",
       "      <th>estu_pagomatriculabeca</th>\n",
       "      <th>estu_pagomatriculacredito</th>\n",
       "      <th>estu_pagomatriculapadres</th>\n",
       "      <th>estu_pagomatriculapropio</th>\n",
       "      <th>estu_tomo_cursopreparacion</th>\n",
       "      <th>estu_cursodocentesies</th>\n",
       "      <th>estu_cursoiesapoyoexterno</th>\n",
       "      <th>estu_cursoiesexterna</th>\n",
       "      <th>estu_simulacrotipoicfes</th>\n",
       "      <th>estu_actividadrefuerzoareas</th>\n",
       "      <th>estu_actividadrefuerzogeneric</th>\n",
       "      <th>estu_semestrecursa</th>\n",
       "      <th>fami_hogaractual</th>\n",
       "      <th>fami_cabezafamilia</th>\n",
       "      <th>fami_numpersonasacargo</th>\n",
       "      <th>fami_educacionpadre</th>\n",
       "      <th>fami_educacionmadre</th>\n",
       "      <th>fami_ocupacionpadre</th>\n",
       "      <th>fami_ocupacionmadre</th>\n",
       "      <th>fami_trabajolaborpadre</th>\n",
       "      <th>fami_trabajolabormadre</th>\n",
       "      <th>fami_estratovivienda</th>\n",
       "      <th>fami_nivel_sisben</th>\n",
       "      <th>fami_tieneinternet</th>\n",
       "      <th>fami_tienecomputador</th>\n",
       "      <th>fami_tiene_horno</th>\n",
       "      <th>fami_tieneautomovil</th>\n",
       "      <th>fami_tiene_nevera</th>\n",
       "      <th>fami_tiene_celular</th>\n",
       "      <th>fami_numlibros</th>\n",
       "      <th>fami_telefono</th>\n",
       "      <th>fami_ingreso_fmiliar_mensual</th>\n",
       "      <th>estu_trabaja_actualmente</th>\n",
       "      <th>inst_cod_institucion</th>\n",
       "      <th>inst_nombre_institucion</th>\n",
       "      <th>estu_prgm_academico</th>\n",
       "      <th>estu_snies_prgmacademico</th>\n",
       "      <th>gruporeferencia</th>\n",
       "      <th>estu_prgm_codmunicipio</th>\n",
       "      <th>estu_prgm_municipio</th>\n",
       "      <th>estu_prgm_departamento</th>\n",
       "      <th>estu_nivel_prgm_academico</th>\n",
       "      <th>estu_metodo_prgm</th>\n",
       "      <th>estu_nucleo_pregrado</th>\n",
       "      <th>estu_inst_codmunicipio</th>\n",
       "      <th>estu_inst_municipio</th>\n",
       "      <th>estu_inst_departamento</th>\n",
       "      <th>inst_caracter_academico</th>\n",
       "      <th>inst_origen</th>\n",
       "      <th>mod_razona_cuantitat_punt</th>\n",
       "      <th>mod_lectura_critica_punt</th>\n",
       "      <th>mod_competen_ciudada_punt</th>\n",
       "      <th>mod_ingles_punt</th>\n",
       "      <th>mod_comuni_escrita_punt</th>\n",
       "      <th>estu_estadoinvestigacion</th>\n",
       "      <th>estu_inst_cod_departamento</th>\n",
       "      <th>estu_tipodocumento.1</th>\n",
       "      <th>estu_nacionalidad.1</th>\n",
       "      <th>estu_genero.1</th>\n",
       "      <th>estu_fechanacimiento.1</th>\n",
       "      <th>periodo.1</th>\n",
       "      <th>estu_consecutivo.1</th>\n",
       "      <th>estu_estudiante.1</th>\n",
       "      <th>estu_pais_reside.1</th>\n",
       "      <th>estu_depto_reside.1</th>\n",
       "      <th>estu_cod_reside_depto.1</th>\n",
       "      <th>estu_mcpio_reside.1</th>\n",
       "      <th>estu_cod_reside_mcpio.1</th>\n",
       "      <th>estu_areareside</th>\n",
       "      <th>estu_valorpensioncolegio</th>\n",
       "      <th>estu_vecespresentoexamen</th>\n",
       "      <th>fami_educacionpadre.1</th>\n",
       "      <th>fami_educacionmadre.1</th>\n",
       "      <th>fami_ocupacionpadre.1</th>\n",
       "      <th>fami_ocupacionmadre.1</th>\n",
       "      <th>fami_estratovivienda.1</th>\n",
       "      <th>fami_nivelsisben</th>\n",
       "      <th>fami_personashogar</th>\n",
       "      <th>fami_cuartoshogar</th>\n",
       "      <th>fami_pisoshogar</th>\n",
       "      <th>fami_tieneinternet.1</th>\n",
       "      <th>fami_tienecomputador.1</th>\n",
       "      <th>fami_tienelavadora</th>\n",
       "      <th>fami_tienemicroondas</th>\n",
       "      <th>fami_tienehorno</th>\n",
       "      <th>fami_tieneautomovil.1</th>\n",
       "      <th>fami_tienedvd</th>\n",
       "      <th>fami_tiene_nevera.1</th>\n",
       "      <th>fami_tiene_celular.1</th>\n",
       "      <th>fami_telefono.1</th>\n",
       "      <th>fami_ingresofmiliarmensual</th>\n",
       "      <th>estu_trabajaactualmente</th>\n",
       "      <th>estu_antecedentes</th>\n",
       "      <th>estu_expectativas</th>\n",
       "      <th>cole_codigo_icfes</th>\n",
       "      <th>cole_cod_dane_establecimiento</th>\n",
       "      <th>cole_nombre_establecimiento</th>\n",
       "      <th>cole_genero</th>\n",
       "      <th>cole_naturaleza</th>\n",
       "      <th>cole_calendario</th>\n",
       "      <th>cole_bilingue</th>\n",
       "      <th>cole_caracter</th>\n",
       "      <th>cole_cod_dane_sede</th>\n",
       "      <th>cole_nombre_sede</th>\n",
       "      <th>cole_sede_principal</th>\n",
       "      <th>cole_area_ubicacion</th>\n",
       "      <th>cole_jornada</th>\n",
       "      <th>cole_cod_mcpio_ubicacion</th>\n",
       "      <th>cole_mcpio_ubicacion</th>\n",
       "      <th>cole_cod_depto_ubicacion</th>\n",
       "      <th>cole_depto_ubicacion</th>\n",
       "      <th>punt_lenguaje</th>\n",
       "      <th>punt_matematicas</th>\n",
       "      <th>punt_biologia</th>\n",
       "      <th>punt_quimica</th>\n",
       "      <th>punt_fisica</th>\n",
       "      <th>punt_ciencias_sociales</th>\n",
       "      <th>punt_filosofia</th>\n",
       "      <th>punt_ingles</th>\n",
       "      <th>desemp_ingles</th>\n",
       "      <th>profundiza</th>\n",
       "      <th>puntaje_prof</th>\n",
       "      <th>desemp_prof</th>\n",
       "    </tr>\n",
       "  </thead>\n",
       "  <tbody>\n",
       "    <tr>\n",
       "      <th>0</th>\n",
       "      <td>0</td>\n",
       "      <td>TI</td>\n",
       "      <td>COLOMBIA</td>\n",
       "      <td>M</td>\n",
       "      <td>30/07/1996</td>\n",
       "      <td>NaN</td>\n",
       "      <td>20134</td>\n",
       "      <td>EK201340233804</td>\n",
       "      <td>Soltero</td>\n",
       "      <td>ESTUDIANTE</td>\n",
       "      <td>COLOMBIA</td>\n",
       "      <td>NaN</td>\n",
       "      <td>BOYACA</td>\n",
       "      <td>15.0</td>\n",
       "      <td>GUATEQUE</td>\n",
       "      <td>15322.0</td>\n",
       "      <td>Bachiller técnico</td>\n",
       "      <td>2013.0</td>\n",
       "      <td>Primer semestre</td>\n",
       "      <td>No sigue el sistema de créditos</td>\n",
       "      <td>No pagó matrícula</td>\n",
       "      <td>NaN</td>\n",
       "      <td>NaN</td>\n",
       "      <td>NaN</td>\n",
       "      <td>NaN</td>\n",
       "      <td>NaN</td>\n",
       "      <td>NaN</td>\n",
       "      <td>NaN</td>\n",
       "      <td>NaN</td>\n",
       "      <td>NaN</td>\n",
       "      <td>NaN</td>\n",
       "      <td>NaN</td>\n",
       "      <td>2.0</td>\n",
       "      <td>Es habitual o permanente</td>\n",
       "      <td>No</td>\n",
       "      <td>Ninguna</td>\n",
       "      <td>Educación profesional completa</td>\n",
       "      <td>Secundaria (Bachillerato) completa</td>\n",
       "      <td>Profesional independiente</td>\n",
       "      <td>Profesional independiente</td>\n",
       "      <td>NaN</td>\n",
       "      <td>NaN</td>\n",
       "      <td>Estrato 3</td>\n",
       "      <td>No está clasificada por el SISBEN</td>\n",
       "      <td>Si</td>\n",
       "      <td>No</td>\n",
       "      <td>Si</td>\n",
       "      <td>No</td>\n",
       "      <td>Si</td>\n",
       "      <td>Si</td>\n",
       "      <td>NaN</td>\n",
       "      <td>No</td>\n",
       "      <td>Entre 3 y menos de 5 SMLV</td>\n",
       "      <td>No</td>\n",
       "      <td>9110</td>\n",
       "      <td>SERVICIO NACIONAL DE APRENDIZAJE-SENA</td>\n",
       "      <td>TECNOLOGÍA EN CONTABILIDAD Y FINANZAS</td>\n",
       "      <td>91157.0</td>\n",
       "      <td>TECNOLOGICO EN ADMINISTRACIÓN Y TURISMO</td>\n",
       "      <td>11001</td>\n",
       "      <td>BOGOTÁ D.C.</td>\n",
       "      <td>BOGOTA</td>\n",
       "      <td>TECNOLOGÍA</td>\n",
       "      <td>DISTANCIA</td>\n",
       "      <td>CONTADURIA PUBLICA</td>\n",
       "      <td>11001</td>\n",
       "      <td>BOGOTÁ D.C.</td>\n",
       "      <td>BOGOTA</td>\n",
       "      <td>INSTITUCIÓN TECNOLÓGICA</td>\n",
       "      <td>OFICIAL NACIONAL</td>\n",
       "      <td>9.6</td>\n",
       "      <td>8.3</td>\n",
       "      <td>8.2</td>\n",
       "      <td>9.4</td>\n",
       "      <td>9.4</td>\n",
       "      <td>PUBLICAR</td>\n",
       "      <td>11</td>\n",
       "      <td>TI</td>\n",
       "      <td>COLOMBIA</td>\n",
       "      <td>M</td>\n",
       "      <td>30/07/1996</td>\n",
       "      <td>20122</td>\n",
       "      <td>SB11201220401680</td>\n",
       "      <td>ESTUDIANTE</td>\n",
       "      <td>COLOMBIA</td>\n",
       "      <td>BOYACA</td>\n",
       "      <td>15.0</td>\n",
       "      <td>GUATEQUE</td>\n",
       "      <td>15322.0</td>\n",
       "      <td>Cabecera Municipal</td>\n",
       "      <td>No paga Pensión</td>\n",
       "      <td>NaN</td>\n",
       "      <td>Postgrado</td>\n",
       "      <td>Secundaria (Bachillerato) completa</td>\n",
       "      <td>Empresario</td>\n",
       "      <td>Empresario</td>\n",
       "      <td>Estrato 3</td>\n",
       "      <td>No está clasificada por el SISBEN</td>\n",
       "      <td>Cuatro</td>\n",
       "      <td>Cuatro</td>\n",
       "      <td>Madera pulida, baldosa, tableta, mármol, alfombra</td>\n",
       "      <td>Si</td>\n",
       "      <td>Si</td>\n",
       "      <td>Si</td>\n",
       "      <td>Si</td>\n",
       "      <td>Si</td>\n",
       "      <td>Si</td>\n",
       "      <td>Si</td>\n",
       "      <td>Si</td>\n",
       "      <td>Si</td>\n",
       "      <td>Si</td>\n",
       "      <td>NaN</td>\n",
       "      <td>No</td>\n",
       "      <td>No</td>\n",
       "      <td>NaN</td>\n",
       "      <td>5207.0</td>\n",
       "      <td>1.153220e+11</td>\n",
       "      <td>I.E. VALLE DE TENZA</td>\n",
       "      <td>MIXTO</td>\n",
       "      <td>OFICIAL</td>\n",
       "      <td>A</td>\n",
       "      <td>N</td>\n",
       "      <td>TÉCNICO/ACADÉMICO</td>\n",
       "      <td>1.153220e+11</td>\n",
       "      <td>I.E. VALLE DE TENZA - SEDE PRINCIPAL</td>\n",
       "      <td>S</td>\n",
       "      <td>URBANO</td>\n",
       "      <td>MAÑANA</td>\n",
       "      <td>15322.0</td>\n",
       "      <td>GUATEQUE</td>\n",
       "      <td>15.0</td>\n",
       "      <td>BOYACA</td>\n",
       "      <td>32.0</td>\n",
       "      <td>43.0</td>\n",
       "      <td>39.0</td>\n",
       "      <td>42.0</td>\n",
       "      <td>33.0</td>\n",
       "      <td>33.0</td>\n",
       "      <td>29.0</td>\n",
       "      <td>38.0</td>\n",
       "      <td>A-</td>\n",
       "      <td>PUNT_INTERDISC_MEDIOAMBIENTE</td>\n",
       "      <td>49.0</td>\n",
       "      <td>NaN</td>\n",
       "    </tr>\n",
       "    <tr>\n",
       "      <th>1</th>\n",
       "      <td>1</td>\n",
       "      <td>CC</td>\n",
       "      <td>COLOMBIA</td>\n",
       "      <td>M</td>\n",
       "      <td>13/04/1994</td>\n",
       "      <td>NaN</td>\n",
       "      <td>20133</td>\n",
       "      <td>EK201330220754</td>\n",
       "      <td>Soltero</td>\n",
       "      <td>ESTUDIANTE</td>\n",
       "      <td>COLOMBIA</td>\n",
       "      <td>NaN</td>\n",
       "      <td>AMAZONAS</td>\n",
       "      <td>91.0</td>\n",
       "      <td>LETICIA</td>\n",
       "      <td>91001.0</td>\n",
       "      <td>Bachiller académico</td>\n",
       "      <td>2012.0</td>\n",
       "      <td>Segundo semestre</td>\n",
       "      <td>Menos del 75%</td>\n",
       "      <td>No pagó matrícula</td>\n",
       "      <td>NaN</td>\n",
       "      <td>NaN</td>\n",
       "      <td>NaN</td>\n",
       "      <td>NaN</td>\n",
       "      <td>Si</td>\n",
       "      <td>Entre 20 y 30 horas</td>\n",
       "      <td>Entre 20 y 30 horas</td>\n",
       "      <td>No tomó curso</td>\n",
       "      <td>Si</td>\n",
       "      <td>Si</td>\n",
       "      <td>Si</td>\n",
       "      <td>2.0</td>\n",
       "      <td>Es habitual o permanente</td>\n",
       "      <td>No</td>\n",
       "      <td>Ninguna</td>\n",
       "      <td>Secundaria (Bachillerato) completa</td>\n",
       "      <td>Técnica o tecnológica completa</td>\n",
       "      <td>Empleado de nivel auxiliar o administrativo</td>\n",
       "      <td>Trabajador por cuenta propia</td>\n",
       "      <td>NaN</td>\n",
       "      <td>NaN</td>\n",
       "      <td>Estrato 2</td>\n",
       "      <td>No está clasificada por el SISBEN</td>\n",
       "      <td>No</td>\n",
       "      <td>Si</td>\n",
       "      <td>Si</td>\n",
       "      <td>Si</td>\n",
       "      <td>Si</td>\n",
       "      <td>Si</td>\n",
       "      <td>NaN</td>\n",
       "      <td>No</td>\n",
       "      <td>Entre 2 y menos de 3 SMLV</td>\n",
       "      <td>No</td>\n",
       "      <td>2106</td>\n",
       "      <td>DIRECCION NACIONAL DE ESCUELAS-BOGOTÁ D.C.</td>\n",
       "      <td>TECNICO PROFESIONAL EN SERVICIO DE POLICIA</td>\n",
       "      <td>11675.0</td>\n",
       "      <td>TECNOLOGICO EN MILITAR Y POLICIAL</td>\n",
       "      <td>11001</td>\n",
       "      <td>BOGOTÁ D.C.</td>\n",
       "      <td>BOGOTA</td>\n",
       "      <td>TÉCNICO PROFESIONAL</td>\n",
       "      <td>PRESENCIAL</td>\n",
       "      <td>FORMACION RELACIONADA CON EL CAMPO MILITAR O P...</td>\n",
       "      <td>11001</td>\n",
       "      <td>BOGOTÁ D.C.</td>\n",
       "      <td>BOGOTA</td>\n",
       "      <td>INSTITUCIÓN UNIVERSITARIA</td>\n",
       "      <td>OFICIAL NACIONAL</td>\n",
       "      <td>10.8</td>\n",
       "      <td>10.1</td>\n",
       "      <td>11.4</td>\n",
       "      <td>9.6</td>\n",
       "      <td>10.4</td>\n",
       "      <td>PUBLICAR</td>\n",
       "      <td>11</td>\n",
       "      <td>CC</td>\n",
       "      <td>COLOMBIA</td>\n",
       "      <td>M</td>\n",
       "      <td>13/04/1994</td>\n",
       "      <td>20122</td>\n",
       "      <td>SB11201220585536</td>\n",
       "      <td>ESTUDIANTE</td>\n",
       "      <td>COLOMBIA</td>\n",
       "      <td>AMAZONAS</td>\n",
       "      <td>91.0</td>\n",
       "      <td>LETICIA</td>\n",
       "      <td>91001.0</td>\n",
       "      <td>Cabecera Municipal</td>\n",
       "      <td>No paga Pensión</td>\n",
       "      <td>NaN</td>\n",
       "      <td>Secundaria (Bachillerato) completa</td>\n",
       "      <td>Secundaria (Bachillerato) completa</td>\n",
       "      <td>Empleado con cargo como director o gerente gen...</td>\n",
       "      <td>Trabajador por cuenta propia</td>\n",
       "      <td>Estrato 2</td>\n",
       "      <td>No está clasificada por el SISBEN</td>\n",
       "      <td>Cinco</td>\n",
       "      <td>Tres</td>\n",
       "      <td>Cemento, gravilla, ladrillo</td>\n",
       "      <td>No</td>\n",
       "      <td>No</td>\n",
       "      <td>Si</td>\n",
       "      <td>No</td>\n",
       "      <td>No</td>\n",
       "      <td>No</td>\n",
       "      <td>Si</td>\n",
       "      <td>No</td>\n",
       "      <td>Si</td>\n",
       "      <td>Si</td>\n",
       "      <td>Entre 2 y menos de 3 SMLV</td>\n",
       "      <td>Si, 20 horas o más a la semana</td>\n",
       "      <td>No</td>\n",
       "      <td>NaN</td>\n",
       "      <td>38919.0</td>\n",
       "      <td>1.910010e+11</td>\n",
       "      <td>I.E. INEM JOSE EUSTASIO RIVERA</td>\n",
       "      <td>MIXTO</td>\n",
       "      <td>OFICIAL</td>\n",
       "      <td>A</td>\n",
       "      <td>N</td>\n",
       "      <td>TÉCNICO/ACADÉMICO</td>\n",
       "      <td>1.910010e+11</td>\n",
       "      <td>I.E. INEM JOSE EUSTASIO RIVERA - SEDE PRINCIPAL</td>\n",
       "      <td>S</td>\n",
       "      <td>URBANO</td>\n",
       "      <td>MAÑANA</td>\n",
       "      <td>91001.0</td>\n",
       "      <td>LETICIA</td>\n",
       "      <td>91.0</td>\n",
       "      <td>AMAZONAS</td>\n",
       "      <td>48.0</td>\n",
       "      <td>64.0</td>\n",
       "      <td>52.0</td>\n",
       "      <td>52.0</td>\n",
       "      <td>54.0</td>\n",
       "      <td>44.0</td>\n",
       "      <td>47.0</td>\n",
       "      <td>51.0</td>\n",
       "      <td>A1</td>\n",
       "      <td>PUNT_PROFUNDIZA_LENGUAJE</td>\n",
       "      <td>6.0</td>\n",
       "      <td>II</td>\n",
       "    </tr>\n",
       "    <tr>\n",
       "      <th>2</th>\n",
       "      <td>2</td>\n",
       "      <td>CC</td>\n",
       "      <td>COLOMBIA</td>\n",
       "      <td>F</td>\n",
       "      <td>08/12/1991</td>\n",
       "      <td>NaN</td>\n",
       "      <td>20134</td>\n",
       "      <td>EK201340246502</td>\n",
       "      <td>Soltero</td>\n",
       "      <td>ESTUDIANTE</td>\n",
       "      <td>COLOMBIA</td>\n",
       "      <td>NaN</td>\n",
       "      <td>RISARALDA</td>\n",
       "      <td>66.0</td>\n",
       "      <td>DOSQUEBRADAS</td>\n",
       "      <td>66170.0</td>\n",
       "      <td>Bachiller técnico</td>\n",
       "      <td>2012.0</td>\n",
       "      <td>Segundo semestre</td>\n",
       "      <td>No sigue el sistema de créditos</td>\n",
       "      <td>No pagó matrícula</td>\n",
       "      <td>NaN</td>\n",
       "      <td>NaN</td>\n",
       "      <td>NaN</td>\n",
       "      <td>NaN</td>\n",
       "      <td>No</td>\n",
       "      <td>No tomó Curso</td>\n",
       "      <td>No tomó Curso</td>\n",
       "      <td>No tomó curso</td>\n",
       "      <td>No</td>\n",
       "      <td>No</td>\n",
       "      <td>No</td>\n",
       "      <td>2.0</td>\n",
       "      <td>Es habitual o permanente</td>\n",
       "      <td>No</td>\n",
       "      <td>Ninguna</td>\n",
       "      <td>Primaria incompleta</td>\n",
       "      <td>Primaria incompleta</td>\n",
       "      <td>Otra actividad u ocupación</td>\n",
       "      <td>Hogar</td>\n",
       "      <td>NaN</td>\n",
       "      <td>NaN</td>\n",
       "      <td>Estrato 2</td>\n",
       "      <td>Nivel 2</td>\n",
       "      <td>No</td>\n",
       "      <td>No</td>\n",
       "      <td>No</td>\n",
       "      <td>No</td>\n",
       "      <td>Si</td>\n",
       "      <td>Si</td>\n",
       "      <td>NaN</td>\n",
       "      <td>No</td>\n",
       "      <td>Menos de 1 SMLV</td>\n",
       "      <td>No</td>\n",
       "      <td>9110</td>\n",
       "      <td>SERVICIO NACIONAL DE APRENDIZAJE-SENA</td>\n",
       "      <td>TECNOLOGÍA EN CONTABILIDAD Y FINANZAS</td>\n",
       "      <td>91157.0</td>\n",
       "      <td>TECNOLOGICO EN ADMINISTRACIÓN Y TURISMO</td>\n",
       "      <td>66001</td>\n",
       "      <td>PEREIRA</td>\n",
       "      <td>RISARALDA</td>\n",
       "      <td>TECNOLOGÍA</td>\n",
       "      <td>DISTANCIA</td>\n",
       "      <td>CONTADURIA PUBLICA</td>\n",
       "      <td>11001</td>\n",
       "      <td>BOGOTÁ D.C.</td>\n",
       "      <td>BOGOTA</td>\n",
       "      <td>INSTITUCIÓN TECNOLÓGICA</td>\n",
       "      <td>OFICIAL NACIONAL</td>\n",
       "      <td>10.6</td>\n",
       "      <td>11.2</td>\n",
       "      <td>10.4</td>\n",
       "      <td>9.5</td>\n",
       "      <td>9.9</td>\n",
       "      <td>PUBLICAR</td>\n",
       "      <td>11</td>\n",
       "      <td>CC</td>\n",
       "      <td>COLOMBIA</td>\n",
       "      <td>F</td>\n",
       "      <td>08/12/1991</td>\n",
       "      <td>20122</td>\n",
       "      <td>SB11201220051348</td>\n",
       "      <td>ESTUDIANTE</td>\n",
       "      <td>COLOMBIA</td>\n",
       "      <td>RISARALDA</td>\n",
       "      <td>66.0</td>\n",
       "      <td>PEREIRA</td>\n",
       "      <td>66001.0</td>\n",
       "      <td>Cabecera Municipal</td>\n",
       "      <td>No paga Pensión</td>\n",
       "      <td>NaN</td>\n",
       "      <td>Secundaria (Bachillerato) completa</td>\n",
       "      <td>Primaria completa</td>\n",
       "      <td>Hogar</td>\n",
       "      <td>Hogar</td>\n",
       "      <td>Estrato 2</td>\n",
       "      <td>Nivel 2</td>\n",
       "      <td>Cinco</td>\n",
       "      <td>Tres</td>\n",
       "      <td>Cemento, gravilla, ladrillo</td>\n",
       "      <td>Si</td>\n",
       "      <td>Si</td>\n",
       "      <td>Si</td>\n",
       "      <td>Si</td>\n",
       "      <td>Si</td>\n",
       "      <td>No</td>\n",
       "      <td>Si</td>\n",
       "      <td>Si</td>\n",
       "      <td>Si</td>\n",
       "      <td>Si</td>\n",
       "      <td>Menos de 1 SMLV</td>\n",
       "      <td>No</td>\n",
       "      <td>Si</td>\n",
       "      <td>NaN</td>\n",
       "      <td>61424.0</td>\n",
       "      <td>1.660010e+11</td>\n",
       "      <td>IE AQUILINO BEDOYA</td>\n",
       "      <td>MIXTO</td>\n",
       "      <td>OFICIAL</td>\n",
       "      <td>A</td>\n",
       "      <td>N</td>\n",
       "      <td>TÉCNICO/ACADÉMICO</td>\n",
       "      <td>1.660010e+11</td>\n",
       "      <td>LIC CIAL AQUILINO BEDOYA</td>\n",
       "      <td>S</td>\n",
       "      <td>URBANO</td>\n",
       "      <td>TARDE</td>\n",
       "      <td>66001.0</td>\n",
       "      <td>PEREIRA</td>\n",
       "      <td>66.0</td>\n",
       "      <td>RISARALDA</td>\n",
       "      <td>57.0</td>\n",
       "      <td>42.0</td>\n",
       "      <td>50.0</td>\n",
       "      <td>51.0</td>\n",
       "      <td>28.0</td>\n",
       "      <td>46.0</td>\n",
       "      <td>45.0</td>\n",
       "      <td>43.0</td>\n",
       "      <td>A-</td>\n",
       "      <td>PUNT_PROFUNDIZA_BIOLOGIA</td>\n",
       "      <td>5.0</td>\n",
       "      <td>I</td>\n",
       "    </tr>\n",
       "    <tr>\n",
       "      <th>3</th>\n",
       "      <td>3</td>\n",
       "      <td>TI</td>\n",
       "      <td>COLOMBIA</td>\n",
       "      <td>F</td>\n",
       "      <td>10/01/1996</td>\n",
       "      <td>NaN</td>\n",
       "      <td>20134</td>\n",
       "      <td>EK201340237996</td>\n",
       "      <td>Soltero</td>\n",
       "      <td>ESTUDIANTE</td>\n",
       "      <td>COLOMBIA</td>\n",
       "      <td>NaN</td>\n",
       "      <td>BOLIVAR</td>\n",
       "      <td>13.0</td>\n",
       "      <td>CARTAGENA DE INDIAS</td>\n",
       "      <td>13001.0</td>\n",
       "      <td>Bachiller técnico</td>\n",
       "      <td>2012.0</td>\n",
       "      <td>Segundo semestre</td>\n",
       "      <td>No sigue el sistema de créditos</td>\n",
       "      <td>No pagó matrícula</td>\n",
       "      <td>NaN</td>\n",
       "      <td>NaN</td>\n",
       "      <td>NaN</td>\n",
       "      <td>NaN</td>\n",
       "      <td>No</td>\n",
       "      <td>No tomó Curso</td>\n",
       "      <td>No tomó Curso</td>\n",
       "      <td>No tomó curso</td>\n",
       "      <td>No</td>\n",
       "      <td>No</td>\n",
       "      <td>No</td>\n",
       "      <td>5.0</td>\n",
       "      <td>Es habitual o permanente</td>\n",
       "      <td>No</td>\n",
       "      <td>Ninguna</td>\n",
       "      <td>Técnica o tecnológica completa</td>\n",
       "      <td>Secundaria (Bachillerato) completa</td>\n",
       "      <td>Otra actividad u ocupación</td>\n",
       "      <td>Empleado de nivel auxiliar o administrativo</td>\n",
       "      <td>NaN</td>\n",
       "      <td>NaN</td>\n",
       "      <td>Estrato 1</td>\n",
       "      <td>Nivel 1</td>\n",
       "      <td>No</td>\n",
       "      <td>No</td>\n",
       "      <td>No</td>\n",
       "      <td>No</td>\n",
       "      <td>No</td>\n",
       "      <td>Si</td>\n",
       "      <td>NaN</td>\n",
       "      <td>Si</td>\n",
       "      <td>Menos de 1 SMLV</td>\n",
       "      <td>No</td>\n",
       "      <td>9110</td>\n",
       "      <td>SERVICIO NACIONAL DE APRENDIZAJE-SENA</td>\n",
       "      <td>TECNOLOGIA EN GESTION PORTUARIA</td>\n",
       "      <td>91227.0</td>\n",
       "      <td>TECNOLOGICO EN ADMINISTRACIÓN Y TURISMO</td>\n",
       "      <td>13001</td>\n",
       "      <td>CARTAGENA DE INDIAS</td>\n",
       "      <td>BOLIVAR</td>\n",
       "      <td>TECNOLOGÍA</td>\n",
       "      <td>DISTANCIA</td>\n",
       "      <td>ECONOMIA</td>\n",
       "      <td>11001</td>\n",
       "      <td>BOGOTÁ D.C.</td>\n",
       "      <td>BOGOTA</td>\n",
       "      <td>INSTITUCIÓN TECNOLÓGICA</td>\n",
       "      <td>OFICIAL NACIONAL</td>\n",
       "      <td>9.3</td>\n",
       "      <td>8.2</td>\n",
       "      <td>9.2</td>\n",
       "      <td>9.5</td>\n",
       "      <td>9.4</td>\n",
       "      <td>PUBLICAR</td>\n",
       "      <td>11</td>\n",
       "      <td>TI</td>\n",
       "      <td>COLOMBIA</td>\n",
       "      <td>F</td>\n",
       "      <td>10/01/1996</td>\n",
       "      <td>20122</td>\n",
       "      <td>SB11201220372144</td>\n",
       "      <td>ESTUDIANTE</td>\n",
       "      <td>COLOMBIA</td>\n",
       "      <td>BOLIVAR</td>\n",
       "      <td>13.0</td>\n",
       "      <td>CARTAGENA DE INDIAS</td>\n",
       "      <td>13001.0</td>\n",
       "      <td>Cabecera Municipal</td>\n",
       "      <td>No paga Pensión</td>\n",
       "      <td>NaN</td>\n",
       "      <td>Educación profesional completa</td>\n",
       "      <td>Secundaria (Bachillerato) completa</td>\n",
       "      <td>Empleado de nivel técnico o profesional</td>\n",
       "      <td>Empleado obrero u operario</td>\n",
       "      <td>NaN</td>\n",
       "      <td>Nivel 1</td>\n",
       "      <td>Nueve</td>\n",
       "      <td>Cuatro</td>\n",
       "      <td>Madera pulida, baldosa, tableta, mármol, alfombra</td>\n",
       "      <td>No</td>\n",
       "      <td>No</td>\n",
       "      <td>No</td>\n",
       "      <td>No</td>\n",
       "      <td>No</td>\n",
       "      <td>No</td>\n",
       "      <td>Si</td>\n",
       "      <td>No</td>\n",
       "      <td>Si</td>\n",
       "      <td>No</td>\n",
       "      <td>Entre 2 y menos de 3 SMLV</td>\n",
       "      <td>No</td>\n",
       "      <td>No</td>\n",
       "      <td>NaN</td>\n",
       "      <td>9110.0</td>\n",
       "      <td>1.130010e+11</td>\n",
       "      <td>INSTITUCION EDUCATIVA OLGA GONZALEZ ARRAUT</td>\n",
       "      <td>MIXTO</td>\n",
       "      <td>OFICIAL</td>\n",
       "      <td>A</td>\n",
       "      <td>N</td>\n",
       "      <td>TÉCNICO/ACADÉMICO</td>\n",
       "      <td>1.130010e+11</td>\n",
       "      <td>INSTITUCION EDUCATIVA OLGA GONZALEZ ARRAUT</td>\n",
       "      <td>S</td>\n",
       "      <td>URBANO</td>\n",
       "      <td>TARDE</td>\n",
       "      <td>13001.0</td>\n",
       "      <td>CARTAGENA DE INDIAS</td>\n",
       "      <td>13.0</td>\n",
       "      <td>BOLIVAR</td>\n",
       "      <td>40.0</td>\n",
       "      <td>46.0</td>\n",
       "      <td>34.0</td>\n",
       "      <td>35.0</td>\n",
       "      <td>45.0</td>\n",
       "      <td>42.0</td>\n",
       "      <td>40.0</td>\n",
       "      <td>43.0</td>\n",
       "      <td>A-</td>\n",
       "      <td>PUNT_INTERDISC_VIOLENCIAYSOC</td>\n",
       "      <td>29.0</td>\n",
       "      <td>NaN</td>\n",
       "    </tr>\n",
       "    <tr>\n",
       "      <th>4</th>\n",
       "      <td>4</td>\n",
       "      <td>CC</td>\n",
       "      <td>COLOMBIA</td>\n",
       "      <td>M</td>\n",
       "      <td>11/10/1995</td>\n",
       "      <td>NO</td>\n",
       "      <td>20173</td>\n",
       "      <td>EK201730119521</td>\n",
       "      <td>NaN</td>\n",
       "      <td>ESTUDIANTE</td>\n",
       "      <td>COLOMBIA</td>\n",
       "      <td>No</td>\n",
       "      <td>CUNDINAMARCA</td>\n",
       "      <td>25.0</td>\n",
       "      <td>SOACHA</td>\n",
       "      <td>25754.0</td>\n",
       "      <td>Bachiller técnico</td>\n",
       "      <td>NaN</td>\n",
       "      <td>NaN</td>\n",
       "      <td>NaN</td>\n",
       "      <td>Entre 2.5 millones y menos de 4 millones</td>\n",
       "      <td>No</td>\n",
       "      <td>Si</td>\n",
       "      <td>No</td>\n",
       "      <td>No</td>\n",
       "      <td>NaN</td>\n",
       "      <td>NaN</td>\n",
       "      <td>NaN</td>\n",
       "      <td>NaN</td>\n",
       "      <td>NaN</td>\n",
       "      <td>NaN</td>\n",
       "      <td>NaN</td>\n",
       "      <td>8.0</td>\n",
       "      <td>Es habitual o permanente</td>\n",
       "      <td>No</td>\n",
       "      <td>Ninguna</td>\n",
       "      <td>Primaria completa</td>\n",
       "      <td>Secundaria (Bachillerato) completa</td>\n",
       "      <td>No aplica</td>\n",
       "      <td>No aplica</td>\n",
       "      <td>NaN</td>\n",
       "      <td>NaN</td>\n",
       "      <td>Estrato 3</td>\n",
       "      <td>NaN</td>\n",
       "      <td>Si</td>\n",
       "      <td>Si</td>\n",
       "      <td>NaN</td>\n",
       "      <td>No</td>\n",
       "      <td>NaN</td>\n",
       "      <td>NaN</td>\n",
       "      <td>26 A 100 LIBROS</td>\n",
       "      <td>NaN</td>\n",
       "      <td>NaN</td>\n",
       "      <td>NaN</td>\n",
       "      <td>2728</td>\n",
       "      <td>FUNDACION UNIVERSITARIA DEL AREA ANDINA-BOGOTÁ...</td>\n",
       "      <td>NEGOCIOS INTERNACIONALES</td>\n",
       "      <td>4678.0</td>\n",
       "      <td>ADMINISTRACIÓN Y AFINES</td>\n",
       "      <td>11001</td>\n",
       "      <td>BOGOTÁ, D.C.</td>\n",
       "      <td>BOGOTA</td>\n",
       "      <td>UNIVERSITARIO</td>\n",
       "      <td>PRESENCIAL</td>\n",
       "      <td>ADMINISTRACION</td>\n",
       "      <td>11001</td>\n",
       "      <td>BOGOTÁ, D.C.</td>\n",
       "      <td>BOGOTA</td>\n",
       "      <td>INSTITUCIÓN UNIVERSITARIA</td>\n",
       "      <td>NO OFICIAL - FUNDACIÓN</td>\n",
       "      <td>145.0</td>\n",
       "      <td>179.0</td>\n",
       "      <td>118.0</td>\n",
       "      <td>132.0</td>\n",
       "      <td>138.0</td>\n",
       "      <td>PUBLICAR</td>\n",
       "      <td>11</td>\n",
       "      <td>TI</td>\n",
       "      <td>COLOMBIA</td>\n",
       "      <td>M</td>\n",
       "      <td>11/10/1995</td>\n",
       "      <td>20132</td>\n",
       "      <td>SB11201320427497</td>\n",
       "      <td>ESTUDIANTE</td>\n",
       "      <td>COLOMBIA</td>\n",
       "      <td>CUNDINAMARCA</td>\n",
       "      <td>25.0</td>\n",
       "      <td>SOACHA</td>\n",
       "      <td>25754.0</td>\n",
       "      <td>Cabecera Municipal</td>\n",
       "      <td>No paga Pensión</td>\n",
       "      <td>Ninguna vez</td>\n",
       "      <td>Secundaria (Bachillerato) completa</td>\n",
       "      <td>Primaria completa</td>\n",
       "      <td>Otra actividad u ocupación</td>\n",
       "      <td>Otra actividad u ocupación</td>\n",
       "      <td>Estrato 3</td>\n",
       "      <td>No está clasificada por el SISBEN</td>\n",
       "      <td>Seis</td>\n",
       "      <td>Cuatro</td>\n",
       "      <td>Madera pulida, baldosa, tableta, mármol, alfombra</td>\n",
       "      <td>Si</td>\n",
       "      <td>Si</td>\n",
       "      <td>Si</td>\n",
       "      <td>Si</td>\n",
       "      <td>No</td>\n",
       "      <td>Si</td>\n",
       "      <td>Si</td>\n",
       "      <td>Si</td>\n",
       "      <td>Si</td>\n",
       "      <td>Si</td>\n",
       "      <td>Entre 1 y menos de 2 SMLV</td>\n",
       "      <td>No</td>\n",
       "      <td>No</td>\n",
       "      <td>Si</td>\n",
       "      <td>157636.0</td>\n",
       "      <td>3.257540e+11</td>\n",
       "      <td>LICEO NUESTRA SENORA MILAGROSA</td>\n",
       "      <td>MIXTO</td>\n",
       "      <td>NO OFICIAL</td>\n",
       "      <td>A</td>\n",
       "      <td>NaN</td>\n",
       "      <td>ACADÉMICO</td>\n",
       "      <td>3.257540e+11</td>\n",
       "      <td>LICEO NUESTRA SENORA MILAGROSA</td>\n",
       "      <td>S</td>\n",
       "      <td>URBANO</td>\n",
       "      <td>COMPLETA</td>\n",
       "      <td>25754.0</td>\n",
       "      <td>SOACHA</td>\n",
       "      <td>25.0</td>\n",
       "      <td>CUNDINAMARCA</td>\n",
       "      <td>48.0</td>\n",
       "      <td>44.0</td>\n",
       "      <td>57.0</td>\n",
       "      <td>65.0</td>\n",
       "      <td>44.0</td>\n",
       "      <td>49.0</td>\n",
       "      <td>43.0</td>\n",
       "      <td>42.0</td>\n",
       "      <td>A-</td>\n",
       "      <td>PUNT_INTERDISC_MEDIOAMBIENTE</td>\n",
       "      <td>55.0</td>\n",
       "      <td>NaN</td>\n",
       "    </tr>\n",
       "  </tbody>\n",
       "</table>\n",
       "</div>"
      ],
      "text/plain": [
       "   Unnamed: 0 estu_tipodocumento estu_nacionalidad estu_genero  \\\n",
       "0           0                 TI          COLOMBIA           M   \n",
       "1           1                 CC          COLOMBIA           M   \n",
       "2           2                 CC          COLOMBIA           F   \n",
       "3           3                 TI          COLOMBIA           F   \n",
       "4           4                 CC          COLOMBIA           M   \n",
       "\n",
       "  estu_fechanacimiento estu_exterior  periodo estu_consecutivo  \\\n",
       "0           30/07/1996           NaN    20134   EK201340233804   \n",
       "1           13/04/1994           NaN    20133   EK201330220754   \n",
       "2           08/12/1991           NaN    20134   EK201340246502   \n",
       "3           10/01/1996           NaN    20134   EK201340237996   \n",
       "4           11/10/1995            NO    20173   EK201730119521   \n",
       "\n",
       "  estu_estadocivil estu_estudiante estu_pais_reside estu_tieneetnia  \\\n",
       "0          Soltero      ESTUDIANTE         COLOMBIA             NaN   \n",
       "1          Soltero      ESTUDIANTE         COLOMBIA             NaN   \n",
       "2          Soltero      ESTUDIANTE         COLOMBIA             NaN   \n",
       "3          Soltero      ESTUDIANTE         COLOMBIA             NaN   \n",
       "4              NaN      ESTUDIANTE         COLOMBIA              No   \n",
       "\n",
       "  estu_depto_reside  estu_cod_reside_depto    estu_mcpio_reside  \\\n",
       "0            BOYACA                   15.0             GUATEQUE   \n",
       "1          AMAZONAS                   91.0              LETICIA   \n",
       "2         RISARALDA                   66.0         DOSQUEBRADAS   \n",
       "3           BOLIVAR                   13.0  CARTAGENA DE INDIAS   \n",
       "4      CUNDINAMARCA                   25.0               SOACHA   \n",
       "\n",
       "   estu_cod_reside_mcpio estu_tituloobtenidobachiller  \\\n",
       "0                15322.0            Bachiller técnico   \n",
       "1                91001.0          Bachiller académico   \n",
       "2                66170.0            Bachiller técnico   \n",
       "3                13001.0            Bachiller técnico   \n",
       "4                25754.0            Bachiller técnico   \n",
       "\n",
       "   estu_ano_examenestado_sb11 estu_semestre_examenestadosb11  \\\n",
       "0                      2013.0                Primer semestre   \n",
       "1                      2012.0               Segundo semestre   \n",
       "2                      2012.0               Segundo semestre   \n",
       "3                      2012.0               Segundo semestre   \n",
       "4                         NaN                            NaN   \n",
       "\n",
       "      estu_porcentajecreditosaprob            estu_valormatriculauniversidad  \\\n",
       "0  No sigue el sistema de créditos                         No pagó matrícula   \n",
       "1                    Menos del 75%                         No pagó matrícula   \n",
       "2  No sigue el sistema de créditos                         No pagó matrícula   \n",
       "3  No sigue el sistema de créditos                         No pagó matrícula   \n",
       "4                              NaN  Entre 2.5 millones y menos de 4 millones   \n",
       "\n",
       "  estu_pagomatriculabeca estu_pagomatriculacredito estu_pagomatriculapadres  \\\n",
       "0                    NaN                       NaN                      NaN   \n",
       "1                    NaN                       NaN                      NaN   \n",
       "2                    NaN                       NaN                      NaN   \n",
       "3                    NaN                       NaN                      NaN   \n",
       "4                     No                        Si                       No   \n",
       "\n",
       "  estu_pagomatriculapropio estu_tomo_cursopreparacion estu_cursodocentesies  \\\n",
       "0                      NaN                        NaN                   NaN   \n",
       "1                      NaN                         Si   Entre 20 y 30 horas   \n",
       "2                      NaN                         No         No tomó Curso   \n",
       "3                      NaN                         No         No tomó Curso   \n",
       "4                       No                        NaN                   NaN   \n",
       "\n",
       "  estu_cursoiesapoyoexterno estu_cursoiesexterna estu_simulacrotipoicfes  \\\n",
       "0                       NaN                  NaN                     NaN   \n",
       "1       Entre 20 y 30 horas        No tomó curso                      Si   \n",
       "2             No tomó Curso        No tomó curso                      No   \n",
       "3             No tomó Curso        No tomó curso                      No   \n",
       "4                       NaN                  NaN                     NaN   \n",
       "\n",
       "  estu_actividadrefuerzoareas estu_actividadrefuerzogeneric  \\\n",
       "0                         NaN                           NaN   \n",
       "1                          Si                            Si   \n",
       "2                          No                            No   \n",
       "3                          No                            No   \n",
       "4                         NaN                           NaN   \n",
       "\n",
       "   estu_semestrecursa          fami_hogaractual fami_cabezafamilia  \\\n",
       "0                 2.0  Es habitual o permanente                 No   \n",
       "1                 2.0  Es habitual o permanente                 No   \n",
       "2                 2.0  Es habitual o permanente                 No   \n",
       "3                 5.0  Es habitual o permanente                 No   \n",
       "4                 8.0  Es habitual o permanente                 No   \n",
       "\n",
       "  fami_numpersonasacargo                 fami_educacionpadre  \\\n",
       "0                Ninguna      Educación profesional completa   \n",
       "1                Ninguna  Secundaria (Bachillerato) completa   \n",
       "2                Ninguna                 Primaria incompleta   \n",
       "3                Ninguna      Técnica o tecnológica completa   \n",
       "4                Ninguna                   Primaria completa   \n",
       "\n",
       "                  fami_educacionmadre  \\\n",
       "0  Secundaria (Bachillerato) completa   \n",
       "1      Técnica o tecnológica completa   \n",
       "2                 Primaria incompleta   \n",
       "3  Secundaria (Bachillerato) completa   \n",
       "4  Secundaria (Bachillerato) completa   \n",
       "\n",
       "                           fami_ocupacionpadre  \\\n",
       "0                    Profesional independiente   \n",
       "1  Empleado de nivel auxiliar o administrativo   \n",
       "2                   Otra actividad u ocupación   \n",
       "3                   Otra actividad u ocupación   \n",
       "4                                    No aplica   \n",
       "\n",
       "                           fami_ocupacionmadre fami_trabajolaborpadre  \\\n",
       "0                    Profesional independiente                    NaN   \n",
       "1                 Trabajador por cuenta propia                    NaN   \n",
       "2                                        Hogar                    NaN   \n",
       "3  Empleado de nivel auxiliar o administrativo                    NaN   \n",
       "4                                    No aplica                    NaN   \n",
       "\n",
       "  fami_trabajolabormadre fami_estratovivienda  \\\n",
       "0                    NaN            Estrato 3   \n",
       "1                    NaN            Estrato 2   \n",
       "2                    NaN            Estrato 2   \n",
       "3                    NaN            Estrato 1   \n",
       "4                    NaN            Estrato 3   \n",
       "\n",
       "                   fami_nivel_sisben fami_tieneinternet fami_tienecomputador  \\\n",
       "0  No está clasificada por el SISBEN                 Si                   No   \n",
       "1  No está clasificada por el SISBEN                 No                   Si   \n",
       "2                            Nivel 2                 No                   No   \n",
       "3                            Nivel 1                 No                   No   \n",
       "4                                NaN                 Si                   Si   \n",
       "\n",
       "  fami_tiene_horno fami_tieneautomovil fami_tiene_nevera fami_tiene_celular  \\\n",
       "0               Si                  No                Si                 Si   \n",
       "1               Si                  Si                Si                 Si   \n",
       "2               No                  No                Si                 Si   \n",
       "3               No                  No                No                 Si   \n",
       "4              NaN                  No               NaN                NaN   \n",
       "\n",
       "    fami_numlibros fami_telefono fami_ingreso_fmiliar_mensual  \\\n",
       "0              NaN            No    Entre 3 y menos de 5 SMLV   \n",
       "1              NaN            No    Entre 2 y menos de 3 SMLV   \n",
       "2              NaN            No              Menos de 1 SMLV   \n",
       "3              NaN            Si              Menos de 1 SMLV   \n",
       "4  26 A 100 LIBROS           NaN                          NaN   \n",
       "\n",
       "  estu_trabaja_actualmente  inst_cod_institucion  \\\n",
       "0                       No                  9110   \n",
       "1                       No                  2106   \n",
       "2                       No                  9110   \n",
       "3                       No                  9110   \n",
       "4                      NaN                  2728   \n",
       "\n",
       "                             inst_nombre_institucion  \\\n",
       "0              SERVICIO NACIONAL DE APRENDIZAJE-SENA   \n",
       "1         DIRECCION NACIONAL DE ESCUELAS-BOGOTÁ D.C.   \n",
       "2              SERVICIO NACIONAL DE APRENDIZAJE-SENA   \n",
       "3              SERVICIO NACIONAL DE APRENDIZAJE-SENA   \n",
       "4  FUNDACION UNIVERSITARIA DEL AREA ANDINA-BOGOTÁ...   \n",
       "\n",
       "                          estu_prgm_academico  estu_snies_prgmacademico  \\\n",
       "0       TECNOLOGÍA EN CONTABILIDAD Y FINANZAS                   91157.0   \n",
       "1  TECNICO PROFESIONAL EN SERVICIO DE POLICIA                   11675.0   \n",
       "2       TECNOLOGÍA EN CONTABILIDAD Y FINANZAS                   91157.0   \n",
       "3             TECNOLOGIA EN GESTION PORTUARIA                   91227.0   \n",
       "4                    NEGOCIOS INTERNACIONALES                    4678.0   \n",
       "\n",
       "                           gruporeferencia  estu_prgm_codmunicipio  \\\n",
       "0  TECNOLOGICO EN ADMINISTRACIÓN Y TURISMO                   11001   \n",
       "1        TECNOLOGICO EN MILITAR Y POLICIAL                   11001   \n",
       "2  TECNOLOGICO EN ADMINISTRACIÓN Y TURISMO                   66001   \n",
       "3  TECNOLOGICO EN ADMINISTRACIÓN Y TURISMO                   13001   \n",
       "4                  ADMINISTRACIÓN Y AFINES                   11001   \n",
       "\n",
       "   estu_prgm_municipio estu_prgm_departamento estu_nivel_prgm_academico  \\\n",
       "0          BOGOTÁ D.C.                 BOGOTA                TECNOLOGÍA   \n",
       "1          BOGOTÁ D.C.                 BOGOTA       TÉCNICO PROFESIONAL   \n",
       "2              PEREIRA              RISARALDA                TECNOLOGÍA   \n",
       "3  CARTAGENA DE INDIAS                BOLIVAR                TECNOLOGÍA   \n",
       "4         BOGOTÁ, D.C.                 BOGOTA             UNIVERSITARIO   \n",
       "\n",
       "  estu_metodo_prgm                               estu_nucleo_pregrado  \\\n",
       "0        DISTANCIA                                 CONTADURIA PUBLICA   \n",
       "1       PRESENCIAL  FORMACION RELACIONADA CON EL CAMPO MILITAR O P...   \n",
       "2        DISTANCIA                                 CONTADURIA PUBLICA   \n",
       "3        DISTANCIA                                           ECONOMIA   \n",
       "4       PRESENCIAL                                     ADMINISTRACION   \n",
       "\n",
       "   estu_inst_codmunicipio estu_inst_municipio estu_inst_departamento  \\\n",
       "0                   11001         BOGOTÁ D.C.                 BOGOTA   \n",
       "1                   11001         BOGOTÁ D.C.                 BOGOTA   \n",
       "2                   11001         BOGOTÁ D.C.                 BOGOTA   \n",
       "3                   11001         BOGOTÁ D.C.                 BOGOTA   \n",
       "4                   11001        BOGOTÁ, D.C.                 BOGOTA   \n",
       "\n",
       "     inst_caracter_academico             inst_origen  \\\n",
       "0    INSTITUCIÓN TECNOLÓGICA        OFICIAL NACIONAL   \n",
       "1  INSTITUCIÓN UNIVERSITARIA        OFICIAL NACIONAL   \n",
       "2    INSTITUCIÓN TECNOLÓGICA        OFICIAL NACIONAL   \n",
       "3    INSTITUCIÓN TECNOLÓGICA        OFICIAL NACIONAL   \n",
       "4  INSTITUCIÓN UNIVERSITARIA  NO OFICIAL - FUNDACIÓN   \n",
       "\n",
       "   mod_razona_cuantitat_punt  mod_lectura_critica_punt  \\\n",
       "0                        9.6                       8.3   \n",
       "1                       10.8                      10.1   \n",
       "2                       10.6                      11.2   \n",
       "3                        9.3                       8.2   \n",
       "4                      145.0                     179.0   \n",
       "\n",
       "   mod_competen_ciudada_punt  mod_ingles_punt  mod_comuni_escrita_punt  \\\n",
       "0                        8.2              9.4                      9.4   \n",
       "1                       11.4              9.6                     10.4   \n",
       "2                       10.4              9.5                      9.9   \n",
       "3                        9.2              9.5                      9.4   \n",
       "4                      118.0            132.0                    138.0   \n",
       "\n",
       "  estu_estadoinvestigacion  estu_inst_cod_departamento estu_tipodocumento.1  \\\n",
       "0                 PUBLICAR                          11                   TI   \n",
       "1                 PUBLICAR                          11                   CC   \n",
       "2                 PUBLICAR                          11                   CC   \n",
       "3                 PUBLICAR                          11                   TI   \n",
       "4                 PUBLICAR                          11                   TI   \n",
       "\n",
       "  estu_nacionalidad.1 estu_genero.1 estu_fechanacimiento.1  periodo.1  \\\n",
       "0            COLOMBIA             M             30/07/1996      20122   \n",
       "1            COLOMBIA             M             13/04/1994      20122   \n",
       "2            COLOMBIA             F             08/12/1991      20122   \n",
       "3            COLOMBIA             F             10/01/1996      20122   \n",
       "4            COLOMBIA             M             11/10/1995      20132   \n",
       "\n",
       "  estu_consecutivo.1 estu_estudiante.1 estu_pais_reside.1 estu_depto_reside.1  \\\n",
       "0   SB11201220401680        ESTUDIANTE           COLOMBIA              BOYACA   \n",
       "1   SB11201220585536        ESTUDIANTE           COLOMBIA            AMAZONAS   \n",
       "2   SB11201220051348        ESTUDIANTE           COLOMBIA           RISARALDA   \n",
       "3   SB11201220372144        ESTUDIANTE           COLOMBIA             BOLIVAR   \n",
       "4   SB11201320427497        ESTUDIANTE           COLOMBIA        CUNDINAMARCA   \n",
       "\n",
       "   estu_cod_reside_depto.1  estu_mcpio_reside.1  estu_cod_reside_mcpio.1  \\\n",
       "0                     15.0             GUATEQUE                  15322.0   \n",
       "1                     91.0              LETICIA                  91001.0   \n",
       "2                     66.0              PEREIRA                  66001.0   \n",
       "3                     13.0  CARTAGENA DE INDIAS                  13001.0   \n",
       "4                     25.0               SOACHA                  25754.0   \n",
       "\n",
       "      estu_areareside estu_valorpensioncolegio estu_vecespresentoexamen  \\\n",
       "0  Cabecera Municipal          No paga Pensión                      NaN   \n",
       "1  Cabecera Municipal          No paga Pensión                      NaN   \n",
       "2  Cabecera Municipal          No paga Pensión                      NaN   \n",
       "3  Cabecera Municipal          No paga Pensión                      NaN   \n",
       "4  Cabecera Municipal          No paga Pensión              Ninguna vez   \n",
       "\n",
       "                fami_educacionpadre.1               fami_educacionmadre.1  \\\n",
       "0                           Postgrado  Secundaria (Bachillerato) completa   \n",
       "1  Secundaria (Bachillerato) completa  Secundaria (Bachillerato) completa   \n",
       "2  Secundaria (Bachillerato) completa                   Primaria completa   \n",
       "3      Educación profesional completa  Secundaria (Bachillerato) completa   \n",
       "4  Secundaria (Bachillerato) completa                   Primaria completa   \n",
       "\n",
       "                               fami_ocupacionpadre.1  \\\n",
       "0                                         Empresario   \n",
       "1  Empleado con cargo como director o gerente gen...   \n",
       "2                                              Hogar   \n",
       "3            Empleado de nivel técnico o profesional   \n",
       "4                         Otra actividad u ocupación   \n",
       "\n",
       "          fami_ocupacionmadre.1 fami_estratovivienda.1  \\\n",
       "0                    Empresario              Estrato 3   \n",
       "1  Trabajador por cuenta propia              Estrato 2   \n",
       "2                         Hogar              Estrato 2   \n",
       "3    Empleado obrero u operario                    NaN   \n",
       "4    Otra actividad u ocupación              Estrato 3   \n",
       "\n",
       "                    fami_nivelsisben fami_personashogar fami_cuartoshogar  \\\n",
       "0  No está clasificada por el SISBEN             Cuatro            Cuatro   \n",
       "1  No está clasificada por el SISBEN              Cinco              Tres   \n",
       "2                            Nivel 2              Cinco              Tres   \n",
       "3                            Nivel 1              Nueve            Cuatro   \n",
       "4  No está clasificada por el SISBEN               Seis            Cuatro   \n",
       "\n",
       "                                     fami_pisoshogar fami_tieneinternet.1  \\\n",
       "0  Madera pulida, baldosa, tableta, mármol, alfombra                   Si   \n",
       "1                        Cemento, gravilla, ladrillo                   No   \n",
       "2                        Cemento, gravilla, ladrillo                   Si   \n",
       "3  Madera pulida, baldosa, tableta, mármol, alfombra                   No   \n",
       "4  Madera pulida, baldosa, tableta, mármol, alfombra                   Si   \n",
       "\n",
       "  fami_tienecomputador.1 fami_tienelavadora fami_tienemicroondas  \\\n",
       "0                     Si                 Si                   Si   \n",
       "1                     No                 Si                   No   \n",
       "2                     Si                 Si                   Si   \n",
       "3                     No                 No                   No   \n",
       "4                     Si                 Si                   Si   \n",
       "\n",
       "  fami_tienehorno fami_tieneautomovil.1 fami_tienedvd fami_tiene_nevera.1  \\\n",
       "0              Si                    Si            Si                  Si   \n",
       "1              No                    No            Si                  No   \n",
       "2              Si                    No            Si                  Si   \n",
       "3              No                    No            Si                  No   \n",
       "4              No                    Si            Si                  Si   \n",
       "\n",
       "  fami_tiene_celular.1 fami_telefono.1 fami_ingresofmiliarmensual  \\\n",
       "0                   Si              Si                        NaN   \n",
       "1                   Si              Si  Entre 2 y menos de 3 SMLV   \n",
       "2                   Si              Si            Menos de 1 SMLV   \n",
       "3                   Si              No  Entre 2 y menos de 3 SMLV   \n",
       "4                   Si              Si  Entre 1 y menos de 2 SMLV   \n",
       "\n",
       "          estu_trabajaactualmente estu_antecedentes estu_expectativas  \\\n",
       "0                              No                No               NaN   \n",
       "1  Si, 20 horas o más a la semana                No               NaN   \n",
       "2                              No                Si               NaN   \n",
       "3                              No                No               NaN   \n",
       "4                              No                No                Si   \n",
       "\n",
       "   cole_codigo_icfes  cole_cod_dane_establecimiento  \\\n",
       "0             5207.0                   1.153220e+11   \n",
       "1            38919.0                   1.910010e+11   \n",
       "2            61424.0                   1.660010e+11   \n",
       "3             9110.0                   1.130010e+11   \n",
       "4           157636.0                   3.257540e+11   \n",
       "\n",
       "                  cole_nombre_establecimiento cole_genero cole_naturaleza  \\\n",
       "0                         I.E. VALLE DE TENZA       MIXTO         OFICIAL   \n",
       "1              I.E. INEM JOSE EUSTASIO RIVERA       MIXTO         OFICIAL   \n",
       "2                          IE AQUILINO BEDOYA       MIXTO         OFICIAL   \n",
       "3  INSTITUCION EDUCATIVA OLGA GONZALEZ ARRAUT       MIXTO         OFICIAL   \n",
       "4              LICEO NUESTRA SENORA MILAGROSA       MIXTO      NO OFICIAL   \n",
       "\n",
       "  cole_calendario cole_bilingue      cole_caracter  cole_cod_dane_sede  \\\n",
       "0               A             N  TÉCNICO/ACADÉMICO        1.153220e+11   \n",
       "1               A             N  TÉCNICO/ACADÉMICO        1.910010e+11   \n",
       "2               A             N  TÉCNICO/ACADÉMICO        1.660010e+11   \n",
       "3               A             N  TÉCNICO/ACADÉMICO        1.130010e+11   \n",
       "4               A           NaN          ACADÉMICO        3.257540e+11   \n",
       "\n",
       "                                  cole_nombre_sede cole_sede_principal  \\\n",
       "0             I.E. VALLE DE TENZA - SEDE PRINCIPAL                   S   \n",
       "1  I.E. INEM JOSE EUSTASIO RIVERA - SEDE PRINCIPAL                   S   \n",
       "2                         LIC CIAL AQUILINO BEDOYA                   S   \n",
       "3       INSTITUCION EDUCATIVA OLGA GONZALEZ ARRAUT                   S   \n",
       "4                   LICEO NUESTRA SENORA MILAGROSA                   S   \n",
       "\n",
       "  cole_area_ubicacion cole_jornada  cole_cod_mcpio_ubicacion  \\\n",
       "0              URBANO       MAÑANA                   15322.0   \n",
       "1              URBANO       MAÑANA                   91001.0   \n",
       "2              URBANO        TARDE                   66001.0   \n",
       "3              URBANO        TARDE                   13001.0   \n",
       "4              URBANO     COMPLETA                   25754.0   \n",
       "\n",
       "  cole_mcpio_ubicacion  cole_cod_depto_ubicacion cole_depto_ubicacion  \\\n",
       "0             GUATEQUE                      15.0               BOYACA   \n",
       "1              LETICIA                      91.0             AMAZONAS   \n",
       "2              PEREIRA                      66.0            RISARALDA   \n",
       "3  CARTAGENA DE INDIAS                      13.0              BOLIVAR   \n",
       "4               SOACHA                      25.0         CUNDINAMARCA   \n",
       "\n",
       "   punt_lenguaje  punt_matematicas  punt_biologia  punt_quimica  punt_fisica  \\\n",
       "0           32.0              43.0           39.0          42.0         33.0   \n",
       "1           48.0              64.0           52.0          52.0         54.0   \n",
       "2           57.0              42.0           50.0          51.0         28.0   \n",
       "3           40.0              46.0           34.0          35.0         45.0   \n",
       "4           48.0              44.0           57.0          65.0         44.0   \n",
       "\n",
       "   punt_ciencias_sociales  punt_filosofia  punt_ingles desemp_ingles  \\\n",
       "0                    33.0            29.0         38.0            A-   \n",
       "1                    44.0            47.0         51.0            A1   \n",
       "2                    46.0            45.0         43.0            A-   \n",
       "3                    42.0            40.0         43.0            A-   \n",
       "4                    49.0            43.0         42.0            A-   \n",
       "\n",
       "                     profundiza  puntaje_prof desemp_prof  \n",
       "0  PUNT_INTERDISC_MEDIOAMBIENTE          49.0         NaN  \n",
       "1      PUNT_PROFUNDIZA_LENGUAJE           6.0          II  \n",
       "2      PUNT_PROFUNDIZA_BIOLOGIA           5.0           I  \n",
       "3  PUNT_INTERDISC_VIOLENCIAYSOC          29.0         NaN  \n",
       "4  PUNT_INTERDISC_MEDIOAMBIENTE          55.0         NaN  "
      ]
     },
     "execution_count": 5,
     "metadata": {},
     "output_type": "execute_result"
    }
   ],
   "source": [
    "df.head()"
   ]
  },
  {
   "cell_type": "code",
   "execution_count": 6,
   "id": "bright-invention",
   "metadata": {},
   "outputs": [
    {
     "data": {
      "text/html": [
       "<div>\n",
       "<style scoped>\n",
       "    .dataframe tbody tr th:only-of-type {\n",
       "        vertical-align: middle;\n",
       "    }\n",
       "\n",
       "    .dataframe tbody tr th {\n",
       "        vertical-align: top;\n",
       "    }\n",
       "\n",
       "    .dataframe thead th {\n",
       "        text-align: right;\n",
       "    }\n",
       "</style>\n",
       "<table border=\"1\" class=\"dataframe\">\n",
       "  <thead>\n",
       "    <tr style=\"text-align: right;\">\n",
       "      <th></th>\n",
       "      <th>Unnamed: 0</th>\n",
       "      <th>your_type_of_document</th>\n",
       "      <th>your_nationality</th>\n",
       "      <th>your_gender</th>\n",
       "      <th>your_birthdate</th>\n",
       "      <th>your_foreigner</th>\n",
       "      <th>period</th>\n",
       "      <th>your_consecutive</th>\n",
       "      <th>your_marital_status</th>\n",
       "      <th>your_student</th>\n",
       "      <th>your_country_resides</th>\n",
       "      <th>your_have_ethnicity</th>\n",
       "      <th>your_dept_resides</th>\n",
       "      <th>your_dept_code_resides</th>\n",
       "      <th>your_municipality_resides</th>\n",
       "      <th>your_municipality_code_resides</th>\n",
       "      <th>your_high_school_degree</th>\n",
       "      <th>your_year_exam_sb11</th>\n",
       "      <th>your_semester_exam__b11</th>\n",
       "      <th>your_percentage_credits_approved</th>\n",
       "      <th>your_tuition_cost_university</th>\n",
       "      <th>your_tuition_pymt_scholarship</th>\n",
       "      <th>your_tuition_pymt_credit</th>\n",
       "      <th>your_tuition_pymt_parents</th>\n",
       "      <th>your_tuition_pymt_yourself</th>\n",
       "      <th>your_i_take_course_preparation</th>\n",
       "      <th>your_course_teacher_ies</th>\n",
       "      <th>your_course_external_support_ies</th>\n",
       "      <th>your_course_external_ies</th>\n",
       "      <th>your_simulation_type_icfes</th>\n",
       "      <th>your_activity_strengths_areas</th>\n",
       "      <th>your_activity_strengths_generic</th>\n",
       "      <th>your_on_semester</th>\n",
       "      <th>fami_current_household_type</th>\n",
       "      <th>fami_is_the_head_family</th>\n",
       "      <th>fami_econ_dependents</th>\n",
       "      <th>fami_father_education</th>\n",
       "      <th>fami_mother_education</th>\n",
       "      <th>fami_father_occupation</th>\n",
       "      <th>fami_mother_occupation</th>\n",
       "      <th>fami_father_work</th>\n",
       "      <th>fami_mother_work</th>\n",
       "      <th>fami_housing_stratum</th>\n",
       "      <th>fami_social_stratum_sisben_y</th>\n",
       "      <th>fami_internet</th>\n",
       "      <th>fami_computer</th>\n",
       "      <th>fami_have_oven</th>\n",
       "      <th>fami_automobile</th>\n",
       "      <th>fami_fridge</th>\n",
       "      <th>fami_mobile</th>\n",
       "      <th>fami_num_books</th>\n",
       "      <th>fami_landline_phone</th>\n",
       "      <th>fami_monthly_family_income</th>\n",
       "      <th>your_works_currently</th>\n",
       "      <th>inst_institution_code</th>\n",
       "      <th>inst_institution_name</th>\n",
       "      <th>your_prgm_academic</th>\n",
       "      <th>your_prgm_academic_snies</th>\n",
       "      <th>group_reference</th>\n",
       "      <th>your_prgm_municipality_code</th>\n",
       "      <th>your_prgm_municipality</th>\n",
       "      <th>your_prgm_department</th>\n",
       "      <th>your_prgm_academic_level</th>\n",
       "      <th>your_prgm_method</th>\n",
       "      <th>your_undergraduate_core</th>\n",
       "      <th>your_inst_municipality_code</th>\n",
       "      <th>your_inst_municipality</th>\n",
       "      <th>your_inst_department</th>\n",
       "      <th>inst_character_academic</th>\n",
       "      <th>inst_origin</th>\n",
       "      <th>score_math_saber_pro</th>\n",
       "      <th>score_language_saber_pro</th>\n",
       "      <th>score_social_science_saber_pro</th>\n",
       "      <th>score_english_saber_pro</th>\n",
       "      <th>score_writing_saber_pro</th>\n",
       "      <th>your_state_research</th>\n",
       "      <th>your_inst_department_code</th>\n",
       "      <th>your_type_of_document.1</th>\n",
       "      <th>your_nationality.1</th>\n",
       "      <th>your_gender.1</th>\n",
       "      <th>your_birthdate.1</th>\n",
       "      <th>period.1</th>\n",
       "      <th>your_consecutive.1</th>\n",
       "      <th>your_student.1</th>\n",
       "      <th>your_country_resides.1</th>\n",
       "      <th>your_dept_resides.1</th>\n",
       "      <th>your_dept_code_resides.1</th>\n",
       "      <th>your_municipality_resides.1</th>\n",
       "      <th>your_municipality_code_resides.1</th>\n",
       "      <th>your_area_residse</th>\n",
       "      <th>your_tuition</th>\n",
       "      <th>your_times_took_exam</th>\n",
       "      <th>fami_father_education.1</th>\n",
       "      <th>fami_mother_education.1</th>\n",
       "      <th>fami_father_occupation.1</th>\n",
       "      <th>fami_mother_occupation.1</th>\n",
       "      <th>fami_housing_stratum.1</th>\n",
       "      <th>fami_social_stratum_sisben</th>\n",
       "      <th>fami_house_members</th>\n",
       "      <th>fami_house_rooms</th>\n",
       "      <th>fami_house_floor</th>\n",
       "      <th>fami_internet.1</th>\n",
       "      <th>fami_computer.1</th>\n",
       "      <th>fami_washer</th>\n",
       "      <th>fami_microwave</th>\n",
       "      <th>fami_oven</th>\n",
       "      <th>fami_automobile.1</th>\n",
       "      <th>fami_dvd</th>\n",
       "      <th>fami_fridge.1</th>\n",
       "      <th>fami_mobile.1</th>\n",
       "      <th>fami_landline_phone.1</th>\n",
       "      <th>fami_monthly_family_income</th>\n",
       "      <th>your_currently_working</th>\n",
       "      <th>your_background</th>\n",
       "      <th>your_expectations</th>\n",
       "      <th>cole_saber_11_icfes_code</th>\n",
       "      <th>cole_saber_11_icfes_dane</th>\n",
       "      <th>cole_saber_11_icfes_name</th>\n",
       "      <th>cole_type</th>\n",
       "      <th>cole_nature</th>\n",
       "      <th>cole_calendar</th>\n",
       "      <th>cole_bilingual</th>\n",
       "      <th>cole_character</th>\n",
       "      <th>cole_dane_code_campus</th>\n",
       "      <th>cole_name_campus</th>\n",
       "      <th>cole_main_campus</th>\n",
       "      <th>cole_area_location</th>\n",
       "      <th>cole_journey</th>\n",
       "      <th>cole_municipality_code_location</th>\n",
       "      <th>cole_municipality_location</th>\n",
       "      <th>cole_dept_code_location</th>\n",
       "      <th>cole_dept_location</th>\n",
       "      <th>score_language_saber_11</th>\n",
       "      <th>score_mathematics_saber_11</th>\n",
       "      <th>score_biology_saber_11</th>\n",
       "      <th>score_chemistry_saber_11</th>\n",
       "      <th>score_physics_saber_11</th>\n",
       "      <th>score_social_science_saber_11</th>\n",
       "      <th>score_philosophy_saber_11</th>\n",
       "      <th>score_english_saber_11</th>\n",
       "      <th>score_english_saber_11_category</th>\n",
       "      <th>optative_field_saber_11</th>\n",
       "      <th>score_optative_saber_11</th>\n",
       "      <th>optative_category_saber_11</th>\n",
       "    </tr>\n",
       "  </thead>\n",
       "  <tbody>\n",
       "    <tr>\n",
       "      <th>0</th>\n",
       "      <td>0</td>\n",
       "      <td>TI</td>\n",
       "      <td>COLOMBIA</td>\n",
       "      <td>M</td>\n",
       "      <td>30/07/1996</td>\n",
       "      <td>NaN</td>\n",
       "      <td>20134</td>\n",
       "      <td>EK201340233804</td>\n",
       "      <td>Single</td>\n",
       "      <td>STUDENT</td>\n",
       "      <td>COLOMBIA</td>\n",
       "      <td>NaN</td>\n",
       "      <td>BOYACA</td>\n",
       "      <td>15.0</td>\n",
       "      <td>GUATEQUE</td>\n",
       "      <td>15322.0</td>\n",
       "      <td>Technical Bachelor</td>\n",
       "      <td>2013.0</td>\n",
       "      <td>1st semester</td>\n",
       "      <td>Doesn't follow the credit system</td>\n",
       "      <td>Did not pay tuition</td>\n",
       "      <td>NaN</td>\n",
       "      <td>NaN</td>\n",
       "      <td>NaN</td>\n",
       "      <td>NaN</td>\n",
       "      <td>NaN</td>\n",
       "      <td>NaN</td>\n",
       "      <td>NaN</td>\n",
       "      <td>NaN</td>\n",
       "      <td>NaN</td>\n",
       "      <td>NaN</td>\n",
       "      <td>NaN</td>\n",
       "      <td>2.0</td>\n",
       "      <td>It is habitual or permanent</td>\n",
       "      <td>No</td>\n",
       "      <td>None</td>\n",
       "      <td>Undergraduate Degree complete</td>\n",
       "      <td>Middle School complete</td>\n",
       "      <td>Profesional independiente</td>\n",
       "      <td>Profesional independiente</td>\n",
       "      <td>NaN</td>\n",
       "      <td>NaN</td>\n",
       "      <td>Stratum 3</td>\n",
       "      <td>Not classified by SISBEN</td>\n",
       "      <td>Si</td>\n",
       "      <td>No</td>\n",
       "      <td>Si</td>\n",
       "      <td>No</td>\n",
       "      <td>Si</td>\n",
       "      <td>Si</td>\n",
       "      <td>NaN</td>\n",
       "      <td>No</td>\n",
       "      <td>Between 3 and less than 5 SMLV</td>\n",
       "      <td>No</td>\n",
       "      <td>9110</td>\n",
       "      <td>SERVICIO NACIONAL DE APRENDIZAJE-SENA</td>\n",
       "      <td>TECNOLOGÍA EN CONTABILIDAD Y FINANZAS</td>\n",
       "      <td>91157.0</td>\n",
       "      <td>TECNOLOGICO EN ADMINISTRACIÓN Y TURISMO</td>\n",
       "      <td>11001</td>\n",
       "      <td>BOGOTÁ D.C.</td>\n",
       "      <td>BOGOTA</td>\n",
       "      <td>TECHNOLOGY</td>\n",
       "      <td>DISTANCE</td>\n",
       "      <td>PUBLIC ACCOUNTING</td>\n",
       "      <td>11001</td>\n",
       "      <td>BOGOTÁ D.C.</td>\n",
       "      <td>BOGOTA</td>\n",
       "      <td>TECHNOLOGICAL INSTITUTION</td>\n",
       "      <td>OFFICIAL NATIONAL LEVEL</td>\n",
       "      <td>9.6</td>\n",
       "      <td>8.3</td>\n",
       "      <td>8.2</td>\n",
       "      <td>9.4</td>\n",
       "      <td>9.4</td>\n",
       "      <td>TO POST</td>\n",
       "      <td>11</td>\n",
       "      <td>TI</td>\n",
       "      <td>COLOMBIA</td>\n",
       "      <td>M</td>\n",
       "      <td>30/07/1996</td>\n",
       "      <td>20122</td>\n",
       "      <td>SB11201220401680</td>\n",
       "      <td>STUDENT</td>\n",
       "      <td>COLOMBIA</td>\n",
       "      <td>BOYACA</td>\n",
       "      <td>15.0</td>\n",
       "      <td>GUATEQUE</td>\n",
       "      <td>15322.0</td>\n",
       "      <td>Head of Municipality</td>\n",
       "      <td>Does not pay Pension</td>\n",
       "      <td>NaN</td>\n",
       "      <td>Graduate Degree</td>\n",
       "      <td>Middle School complete</td>\n",
       "      <td>Businessman</td>\n",
       "      <td>Businessman</td>\n",
       "      <td>Stratum 3</td>\n",
       "      <td>Not classified by SISBEN</td>\n",
       "      <td>Four</td>\n",
       "      <td>Four</td>\n",
       "      <td>Polished wood, tile, tablet, marble, carpet</td>\n",
       "      <td>Si</td>\n",
       "      <td>Si</td>\n",
       "      <td>Si</td>\n",
       "      <td>Si</td>\n",
       "      <td>Si</td>\n",
       "      <td>Si</td>\n",
       "      <td>Si</td>\n",
       "      <td>Si</td>\n",
       "      <td>Si</td>\n",
       "      <td>Si</td>\n",
       "      <td>NaN</td>\n",
       "      <td>No</td>\n",
       "      <td>No</td>\n",
       "      <td>NaN</td>\n",
       "      <td>5207.0</td>\n",
       "      <td>1.153220e+11</td>\n",
       "      <td>I.E. VALLE DE TENZA</td>\n",
       "      <td>MIXED</td>\n",
       "      <td>OFFICIAL</td>\n",
       "      <td>A</td>\n",
       "      <td>N</td>\n",
       "      <td>TECHNICAL/ACADEMIC</td>\n",
       "      <td>1.153220e+11</td>\n",
       "      <td>I.E. VALLE DE TENZA - SEDE PRINCIPAL</td>\n",
       "      <td>YES</td>\n",
       "      <td>URBAN</td>\n",
       "      <td>MORNING</td>\n",
       "      <td>15322.0</td>\n",
       "      <td>GUATEQUE</td>\n",
       "      <td>15.0</td>\n",
       "      <td>BOYACA</td>\n",
       "      <td>32.0</td>\n",
       "      <td>43.0</td>\n",
       "      <td>39.0</td>\n",
       "      <td>42.0</td>\n",
       "      <td>33.0</td>\n",
       "      <td>33.0</td>\n",
       "      <td>29.0</td>\n",
       "      <td>38.0</td>\n",
       "      <td>A-</td>\n",
       "      <td>SCORE_INTERDISC_ENVIRONMENT</td>\n",
       "      <td>49.0</td>\n",
       "      <td>NaN</td>\n",
       "    </tr>\n",
       "    <tr>\n",
       "      <th>1</th>\n",
       "      <td>1</td>\n",
       "      <td>CC</td>\n",
       "      <td>COLOMBIA</td>\n",
       "      <td>M</td>\n",
       "      <td>13/04/1994</td>\n",
       "      <td>NaN</td>\n",
       "      <td>20133</td>\n",
       "      <td>EK201330220754</td>\n",
       "      <td>Single</td>\n",
       "      <td>STUDENT</td>\n",
       "      <td>COLOMBIA</td>\n",
       "      <td>NaN</td>\n",
       "      <td>AMAZONAS</td>\n",
       "      <td>91.0</td>\n",
       "      <td>LETICIA</td>\n",
       "      <td>91001.0</td>\n",
       "      <td>Academic Bachelor</td>\n",
       "      <td>2012.0</td>\n",
       "      <td>2nd semester</td>\n",
       "      <td>Less than 75%</td>\n",
       "      <td>Did not pay tuition</td>\n",
       "      <td>NaN</td>\n",
       "      <td>NaN</td>\n",
       "      <td>NaN</td>\n",
       "      <td>NaN</td>\n",
       "      <td>Si</td>\n",
       "      <td>Between 20 and 30 hours</td>\n",
       "      <td>Between 20 and 30 hours</td>\n",
       "      <td>No tomó curso</td>\n",
       "      <td>Si</td>\n",
       "      <td>Si</td>\n",
       "      <td>Si</td>\n",
       "      <td>2.0</td>\n",
       "      <td>It is habitual or permanent</td>\n",
       "      <td>No</td>\n",
       "      <td>None</td>\n",
       "      <td>Middle School complete</td>\n",
       "      <td>Technical School complete</td>\n",
       "      <td>Empleado de nivel auxiliar o administrativo</td>\n",
       "      <td>Self-employed</td>\n",
       "      <td>NaN</td>\n",
       "      <td>NaN</td>\n",
       "      <td>Stratum 2</td>\n",
       "      <td>Not classified by SISBEN</td>\n",
       "      <td>No</td>\n",
       "      <td>Si</td>\n",
       "      <td>Si</td>\n",
       "      <td>Si</td>\n",
       "      <td>Si</td>\n",
       "      <td>Si</td>\n",
       "      <td>NaN</td>\n",
       "      <td>No</td>\n",
       "      <td>Between 2 and less than 3 SMLV</td>\n",
       "      <td>No</td>\n",
       "      <td>2106</td>\n",
       "      <td>DIRECCION NACIONAL DE ESCUELAS-BOGOTÁ D.C.</td>\n",
       "      <td>TECNICO PROFESIONAL EN SERVICIO DE POLICIA</td>\n",
       "      <td>11675.0</td>\n",
       "      <td>TECNOLOGICO EN MILITAR Y POLICIAL</td>\n",
       "      <td>11001</td>\n",
       "      <td>BOGOTÁ D.C.</td>\n",
       "      <td>BOGOTA</td>\n",
       "      <td>PROFESSIONAL TECHNICIAN</td>\n",
       "      <td>IN PERSON</td>\n",
       "      <td>MILITARY OR POLICE TRAINING</td>\n",
       "      <td>11001</td>\n",
       "      <td>BOGOTÁ D.C.</td>\n",
       "      <td>BOGOTA</td>\n",
       "      <td>UNIVERSITY INSTITUTION</td>\n",
       "      <td>OFFICIAL NATIONAL LEVEL</td>\n",
       "      <td>10.8</td>\n",
       "      <td>10.1</td>\n",
       "      <td>11.4</td>\n",
       "      <td>9.6</td>\n",
       "      <td>10.4</td>\n",
       "      <td>TO POST</td>\n",
       "      <td>11</td>\n",
       "      <td>CC</td>\n",
       "      <td>COLOMBIA</td>\n",
       "      <td>M</td>\n",
       "      <td>13/04/1994</td>\n",
       "      <td>20122</td>\n",
       "      <td>SB11201220585536</td>\n",
       "      <td>STUDENT</td>\n",
       "      <td>COLOMBIA</td>\n",
       "      <td>AMAZONAS</td>\n",
       "      <td>91.0</td>\n",
       "      <td>LETICIA</td>\n",
       "      <td>91001.0</td>\n",
       "      <td>Head of Municipality</td>\n",
       "      <td>Does not pay Pension</td>\n",
       "      <td>NaN</td>\n",
       "      <td>Middle School complete</td>\n",
       "      <td>Middle School complete</td>\n",
       "      <td>Empleado con cargo como director o gerente gen...</td>\n",
       "      <td>Self-employed</td>\n",
       "      <td>Stratum 2</td>\n",
       "      <td>Not classified by SISBEN</td>\n",
       "      <td>Five</td>\n",
       "      <td>Three</td>\n",
       "      <td>Cement, gravel, brick</td>\n",
       "      <td>No</td>\n",
       "      <td>No</td>\n",
       "      <td>Si</td>\n",
       "      <td>No</td>\n",
       "      <td>No</td>\n",
       "      <td>No</td>\n",
       "      <td>Si</td>\n",
       "      <td>No</td>\n",
       "      <td>Si</td>\n",
       "      <td>Si</td>\n",
       "      <td>Between 2 and less than 3 SMLV</td>\n",
       "      <td>Yes, 20 hours or more per week</td>\n",
       "      <td>No</td>\n",
       "      <td>NaN</td>\n",
       "      <td>38919.0</td>\n",
       "      <td>1.910010e+11</td>\n",
       "      <td>I.E. INEM JOSE EUSTASIO RIVERA</td>\n",
       "      <td>MIXED</td>\n",
       "      <td>OFFICIAL</td>\n",
       "      <td>A</td>\n",
       "      <td>N</td>\n",
       "      <td>TECHNICAL/ACADEMIC</td>\n",
       "      <td>1.910010e+11</td>\n",
       "      <td>I.E. INEM JOSE EUSTASIO RIVERA - SEDE PRINCIPAL</td>\n",
       "      <td>YES</td>\n",
       "      <td>URBAN</td>\n",
       "      <td>MORNING</td>\n",
       "      <td>91001.0</td>\n",
       "      <td>LETICIA</td>\n",
       "      <td>91.0</td>\n",
       "      <td>AMAZONAS</td>\n",
       "      <td>48.0</td>\n",
       "      <td>64.0</td>\n",
       "      <td>52.0</td>\n",
       "      <td>52.0</td>\n",
       "      <td>54.0</td>\n",
       "      <td>44.0</td>\n",
       "      <td>47.0</td>\n",
       "      <td>51.0</td>\n",
       "      <td>A1</td>\n",
       "      <td>SCORE_DEEPEN_LANGUAGE</td>\n",
       "      <td>6.0</td>\n",
       "      <td>II</td>\n",
       "    </tr>\n",
       "    <tr>\n",
       "      <th>2</th>\n",
       "      <td>2</td>\n",
       "      <td>CC</td>\n",
       "      <td>COLOMBIA</td>\n",
       "      <td>F</td>\n",
       "      <td>08/12/1991</td>\n",
       "      <td>NaN</td>\n",
       "      <td>20134</td>\n",
       "      <td>EK201340246502</td>\n",
       "      <td>Single</td>\n",
       "      <td>STUDENT</td>\n",
       "      <td>COLOMBIA</td>\n",
       "      <td>NaN</td>\n",
       "      <td>RISARALDA</td>\n",
       "      <td>66.0</td>\n",
       "      <td>DOSQUEBRADAS</td>\n",
       "      <td>66170.0</td>\n",
       "      <td>Technical Bachelor</td>\n",
       "      <td>2012.0</td>\n",
       "      <td>2nd semester</td>\n",
       "      <td>Doesn't follow the credit system</td>\n",
       "      <td>Did not pay tuition</td>\n",
       "      <td>NaN</td>\n",
       "      <td>NaN</td>\n",
       "      <td>NaN</td>\n",
       "      <td>NaN</td>\n",
       "      <td>No</td>\n",
       "      <td>He did not take a course</td>\n",
       "      <td>He did not take a course</td>\n",
       "      <td>No tomó curso</td>\n",
       "      <td>No</td>\n",
       "      <td>No</td>\n",
       "      <td>No</td>\n",
       "      <td>2.0</td>\n",
       "      <td>It is habitual or permanent</td>\n",
       "      <td>No</td>\n",
       "      <td>None</td>\n",
       "      <td>Elementary school incomplete</td>\n",
       "      <td>Elementary school incomplete</td>\n",
       "      <td>Other activity or occupation</td>\n",
       "      <td>Home</td>\n",
       "      <td>NaN</td>\n",
       "      <td>NaN</td>\n",
       "      <td>Stratum 2</td>\n",
       "      <td>Level 2</td>\n",
       "      <td>No</td>\n",
       "      <td>No</td>\n",
       "      <td>No</td>\n",
       "      <td>No</td>\n",
       "      <td>Si</td>\n",
       "      <td>Si</td>\n",
       "      <td>NaN</td>\n",
       "      <td>No</td>\n",
       "      <td>Less than 1 SMLV</td>\n",
       "      <td>No</td>\n",
       "      <td>9110</td>\n",
       "      <td>SERVICIO NACIONAL DE APRENDIZAJE-SENA</td>\n",
       "      <td>TECNOLOGÍA EN CONTABILIDAD Y FINANZAS</td>\n",
       "      <td>91157.0</td>\n",
       "      <td>TECNOLOGICO EN ADMINISTRACIÓN Y TURISMO</td>\n",
       "      <td>66001</td>\n",
       "      <td>PEREIRA</td>\n",
       "      <td>RISARALDA</td>\n",
       "      <td>TECHNOLOGY</td>\n",
       "      <td>DISTANCE</td>\n",
       "      <td>PUBLIC ACCOUNTING</td>\n",
       "      <td>11001</td>\n",
       "      <td>BOGOTÁ D.C.</td>\n",
       "      <td>BOGOTA</td>\n",
       "      <td>TECHNOLOGICAL INSTITUTION</td>\n",
       "      <td>OFFICIAL NATIONAL LEVEL</td>\n",
       "      <td>10.6</td>\n",
       "      <td>11.2</td>\n",
       "      <td>10.4</td>\n",
       "      <td>9.5</td>\n",
       "      <td>9.9</td>\n",
       "      <td>TO POST</td>\n",
       "      <td>11</td>\n",
       "      <td>CC</td>\n",
       "      <td>COLOMBIA</td>\n",
       "      <td>F</td>\n",
       "      <td>08/12/1991</td>\n",
       "      <td>20122</td>\n",
       "      <td>SB11201220051348</td>\n",
       "      <td>STUDENT</td>\n",
       "      <td>COLOMBIA</td>\n",
       "      <td>RISARALDA</td>\n",
       "      <td>66.0</td>\n",
       "      <td>PEREIRA</td>\n",
       "      <td>66001.0</td>\n",
       "      <td>Head of Municipality</td>\n",
       "      <td>Does not pay Pension</td>\n",
       "      <td>NaN</td>\n",
       "      <td>Middle School complete</td>\n",
       "      <td>Elementary school complete</td>\n",
       "      <td>Home</td>\n",
       "      <td>Home</td>\n",
       "      <td>Stratum 2</td>\n",
       "      <td>Level 2</td>\n",
       "      <td>Five</td>\n",
       "      <td>Three</td>\n",
       "      <td>Cement, gravel, brick</td>\n",
       "      <td>Si</td>\n",
       "      <td>Si</td>\n",
       "      <td>Si</td>\n",
       "      <td>Si</td>\n",
       "      <td>Si</td>\n",
       "      <td>No</td>\n",
       "      <td>Si</td>\n",
       "      <td>Si</td>\n",
       "      <td>Si</td>\n",
       "      <td>Si</td>\n",
       "      <td>Less than 1 SMLV</td>\n",
       "      <td>No</td>\n",
       "      <td>Si</td>\n",
       "      <td>NaN</td>\n",
       "      <td>61424.0</td>\n",
       "      <td>1.660010e+11</td>\n",
       "      <td>IE AQUILINO BEDOYA</td>\n",
       "      <td>MIXED</td>\n",
       "      <td>OFFICIAL</td>\n",
       "      <td>A</td>\n",
       "      <td>N</td>\n",
       "      <td>TECHNICAL/ACADEMIC</td>\n",
       "      <td>1.660010e+11</td>\n",
       "      <td>LIC CIAL AQUILINO BEDOYA</td>\n",
       "      <td>YES</td>\n",
       "      <td>URBAN</td>\n",
       "      <td>LATE</td>\n",
       "      <td>66001.0</td>\n",
       "      <td>PEREIRA</td>\n",
       "      <td>66.0</td>\n",
       "      <td>RISARALDA</td>\n",
       "      <td>57.0</td>\n",
       "      <td>42.0</td>\n",
       "      <td>50.0</td>\n",
       "      <td>51.0</td>\n",
       "      <td>28.0</td>\n",
       "      <td>46.0</td>\n",
       "      <td>45.0</td>\n",
       "      <td>43.0</td>\n",
       "      <td>A-</td>\n",
       "      <td>SCORE_DEEPEN_BIOLOGY</td>\n",
       "      <td>5.0</td>\n",
       "      <td>I</td>\n",
       "    </tr>\n",
       "    <tr>\n",
       "      <th>3</th>\n",
       "      <td>3</td>\n",
       "      <td>TI</td>\n",
       "      <td>COLOMBIA</td>\n",
       "      <td>F</td>\n",
       "      <td>10/01/1996</td>\n",
       "      <td>NaN</td>\n",
       "      <td>20134</td>\n",
       "      <td>EK201340237996</td>\n",
       "      <td>Single</td>\n",
       "      <td>STUDENT</td>\n",
       "      <td>COLOMBIA</td>\n",
       "      <td>NaN</td>\n",
       "      <td>BOLIVAR</td>\n",
       "      <td>13.0</td>\n",
       "      <td>CARTAGENA DE INDIAS</td>\n",
       "      <td>13001.0</td>\n",
       "      <td>Technical Bachelor</td>\n",
       "      <td>2012.0</td>\n",
       "      <td>2nd semester</td>\n",
       "      <td>Doesn't follow the credit system</td>\n",
       "      <td>Did not pay tuition</td>\n",
       "      <td>NaN</td>\n",
       "      <td>NaN</td>\n",
       "      <td>NaN</td>\n",
       "      <td>NaN</td>\n",
       "      <td>No</td>\n",
       "      <td>He did not take a course</td>\n",
       "      <td>He did not take a course</td>\n",
       "      <td>No tomó curso</td>\n",
       "      <td>No</td>\n",
       "      <td>No</td>\n",
       "      <td>No</td>\n",
       "      <td>5.0</td>\n",
       "      <td>It is habitual or permanent</td>\n",
       "      <td>No</td>\n",
       "      <td>None</td>\n",
       "      <td>Technical School complete</td>\n",
       "      <td>Middle School complete</td>\n",
       "      <td>Other activity or occupation</td>\n",
       "      <td>Empleado de nivel auxiliar o administrativo</td>\n",
       "      <td>NaN</td>\n",
       "      <td>NaN</td>\n",
       "      <td>Stratum 1</td>\n",
       "      <td>Level 1</td>\n",
       "      <td>No</td>\n",
       "      <td>No</td>\n",
       "      <td>No</td>\n",
       "      <td>No</td>\n",
       "      <td>No</td>\n",
       "      <td>Si</td>\n",
       "      <td>NaN</td>\n",
       "      <td>Si</td>\n",
       "      <td>Less than 1 SMLV</td>\n",
       "      <td>No</td>\n",
       "      <td>9110</td>\n",
       "      <td>SERVICIO NACIONAL DE APRENDIZAJE-SENA</td>\n",
       "      <td>TECNOLOGIA EN GESTION PORTUARIA</td>\n",
       "      <td>91227.0</td>\n",
       "      <td>TECNOLOGICO EN ADMINISTRACIÓN Y TURISMO</td>\n",
       "      <td>13001</td>\n",
       "      <td>CARTAGENA DE INDIAS</td>\n",
       "      <td>BOLIVAR</td>\n",
       "      <td>TECHNOLOGY</td>\n",
       "      <td>DISTANCE</td>\n",
       "      <td>ECONOMY</td>\n",
       "      <td>11001</td>\n",
       "      <td>BOGOTÁ D.C.</td>\n",
       "      <td>BOGOTA</td>\n",
       "      <td>TECHNOLOGICAL INSTITUTION</td>\n",
       "      <td>OFFICIAL NATIONAL LEVEL</td>\n",
       "      <td>9.3</td>\n",
       "      <td>8.2</td>\n",
       "      <td>9.2</td>\n",
       "      <td>9.5</td>\n",
       "      <td>9.4</td>\n",
       "      <td>TO POST</td>\n",
       "      <td>11</td>\n",
       "      <td>TI</td>\n",
       "      <td>COLOMBIA</td>\n",
       "      <td>F</td>\n",
       "      <td>10/01/1996</td>\n",
       "      <td>20122</td>\n",
       "      <td>SB11201220372144</td>\n",
       "      <td>STUDENT</td>\n",
       "      <td>COLOMBIA</td>\n",
       "      <td>BOLIVAR</td>\n",
       "      <td>13.0</td>\n",
       "      <td>CARTAGENA DE INDIAS</td>\n",
       "      <td>13001.0</td>\n",
       "      <td>Head of Municipality</td>\n",
       "      <td>Does not pay Pension</td>\n",
       "      <td>NaN</td>\n",
       "      <td>Undergraduate Degree complete</td>\n",
       "      <td>Middle School complete</td>\n",
       "      <td>Employee with technical level or professional</td>\n",
       "      <td>Operator employee</td>\n",
       "      <td>NaN</td>\n",
       "      <td>Level 1</td>\n",
       "      <td>Nine</td>\n",
       "      <td>Four</td>\n",
       "      <td>Polished wood, tile, tablet, marble, carpet</td>\n",
       "      <td>No</td>\n",
       "      <td>No</td>\n",
       "      <td>No</td>\n",
       "      <td>No</td>\n",
       "      <td>No</td>\n",
       "      <td>No</td>\n",
       "      <td>Si</td>\n",
       "      <td>No</td>\n",
       "      <td>Si</td>\n",
       "      <td>No</td>\n",
       "      <td>Between 2 and less than 3 SMLV</td>\n",
       "      <td>No</td>\n",
       "      <td>No</td>\n",
       "      <td>NaN</td>\n",
       "      <td>9110.0</td>\n",
       "      <td>1.130010e+11</td>\n",
       "      <td>INSTITUCION EDUCATIVA OLGA GONZALEZ ARRAUT</td>\n",
       "      <td>MIXED</td>\n",
       "      <td>OFFICIAL</td>\n",
       "      <td>A</td>\n",
       "      <td>N</td>\n",
       "      <td>TECHNICAL/ACADEMIC</td>\n",
       "      <td>1.130010e+11</td>\n",
       "      <td>INSTITUCION EDUCATIVA OLGA GONZALEZ ARRAUT</td>\n",
       "      <td>YES</td>\n",
       "      <td>URBAN</td>\n",
       "      <td>LATE</td>\n",
       "      <td>13001.0</td>\n",
       "      <td>CARTAGENA DE INDIAS</td>\n",
       "      <td>13.0</td>\n",
       "      <td>BOLIVAR</td>\n",
       "      <td>40.0</td>\n",
       "      <td>46.0</td>\n",
       "      <td>34.0</td>\n",
       "      <td>35.0</td>\n",
       "      <td>45.0</td>\n",
       "      <td>42.0</td>\n",
       "      <td>40.0</td>\n",
       "      <td>43.0</td>\n",
       "      <td>A-</td>\n",
       "      <td>SCORE_INTERDISC_VIOLENCE_AND_SOC</td>\n",
       "      <td>29.0</td>\n",
       "      <td>NaN</td>\n",
       "    </tr>\n",
       "    <tr>\n",
       "      <th>4</th>\n",
       "      <td>4</td>\n",
       "      <td>CC</td>\n",
       "      <td>COLOMBIA</td>\n",
       "      <td>M</td>\n",
       "      <td>11/10/1995</td>\n",
       "      <td>NO</td>\n",
       "      <td>20173</td>\n",
       "      <td>EK201730119521</td>\n",
       "      <td>NaN</td>\n",
       "      <td>STUDENT</td>\n",
       "      <td>COLOMBIA</td>\n",
       "      <td>No</td>\n",
       "      <td>CUNDINAMARCA</td>\n",
       "      <td>25.0</td>\n",
       "      <td>SOACHA</td>\n",
       "      <td>25754.0</td>\n",
       "      <td>Technical Bachelor</td>\n",
       "      <td>NaN</td>\n",
       "      <td>NaN</td>\n",
       "      <td>NaN</td>\n",
       "      <td>Between 2.5 million and less than 4 million</td>\n",
       "      <td>No</td>\n",
       "      <td>Si</td>\n",
       "      <td>No</td>\n",
       "      <td>No</td>\n",
       "      <td>NaN</td>\n",
       "      <td>NaN</td>\n",
       "      <td>NaN</td>\n",
       "      <td>NaN</td>\n",
       "      <td>NaN</td>\n",
       "      <td>NaN</td>\n",
       "      <td>NaN</td>\n",
       "      <td>8.0</td>\n",
       "      <td>It is habitual or permanent</td>\n",
       "      <td>No</td>\n",
       "      <td>None</td>\n",
       "      <td>Elementary school complete</td>\n",
       "      <td>Middle School complete</td>\n",
       "      <td>Does not apply</td>\n",
       "      <td>Does not apply</td>\n",
       "      <td>NaN</td>\n",
       "      <td>NaN</td>\n",
       "      <td>Stratum 3</td>\n",
       "      <td>NaN</td>\n",
       "      <td>Si</td>\n",
       "      <td>Si</td>\n",
       "      <td>NaN</td>\n",
       "      <td>No</td>\n",
       "      <td>NaN</td>\n",
       "      <td>NaN</td>\n",
       "      <td>26 TO 100 BOOKS</td>\n",
       "      <td>NaN</td>\n",
       "      <td>NaN</td>\n",
       "      <td>NaN</td>\n",
       "      <td>2728</td>\n",
       "      <td>FUNDACION UNIVERSITARIA DEL AREA ANDINA-BOGOTÁ...</td>\n",
       "      <td>NEGOCIOS INTERNACIONALES</td>\n",
       "      <td>4678.0</td>\n",
       "      <td>ADMINISTRACIÓN Y AFINES</td>\n",
       "      <td>11001</td>\n",
       "      <td>BOGOTÁ, D.C.</td>\n",
       "      <td>BOGOTA</td>\n",
       "      <td>UNIVERSITY</td>\n",
       "      <td>IN PERSON</td>\n",
       "      <td>ADMINISTRATION</td>\n",
       "      <td>11001</td>\n",
       "      <td>BOGOTÁ, D.C.</td>\n",
       "      <td>BOGOTA</td>\n",
       "      <td>UNIVERSITY INSTITUTION</td>\n",
       "      <td>NOT OFFICIAL - FOUNDATION</td>\n",
       "      <td>145.0</td>\n",
       "      <td>179.0</td>\n",
       "      <td>118.0</td>\n",
       "      <td>132.0</td>\n",
       "      <td>138.0</td>\n",
       "      <td>TO POST</td>\n",
       "      <td>11</td>\n",
       "      <td>TI</td>\n",
       "      <td>COLOMBIA</td>\n",
       "      <td>M</td>\n",
       "      <td>11/10/1995</td>\n",
       "      <td>20132</td>\n",
       "      <td>SB11201320427497</td>\n",
       "      <td>STUDENT</td>\n",
       "      <td>COLOMBIA</td>\n",
       "      <td>CUNDINAMARCA</td>\n",
       "      <td>25.0</td>\n",
       "      <td>SOACHA</td>\n",
       "      <td>25754.0</td>\n",
       "      <td>Head of Municipality</td>\n",
       "      <td>Does not pay Pension</td>\n",
       "      <td>Never</td>\n",
       "      <td>Middle School complete</td>\n",
       "      <td>Elementary school complete</td>\n",
       "      <td>Other activity or occupation</td>\n",
       "      <td>Other activity or occupation</td>\n",
       "      <td>Stratum 3</td>\n",
       "      <td>Not classified by SISBEN</td>\n",
       "      <td>Six</td>\n",
       "      <td>Four</td>\n",
       "      <td>Polished wood, tile, tablet, marble, carpet</td>\n",
       "      <td>Si</td>\n",
       "      <td>Si</td>\n",
       "      <td>Si</td>\n",
       "      <td>Si</td>\n",
       "      <td>No</td>\n",
       "      <td>Si</td>\n",
       "      <td>Si</td>\n",
       "      <td>Si</td>\n",
       "      <td>Si</td>\n",
       "      <td>Si</td>\n",
       "      <td>Between 1 and less than 2 SMLV</td>\n",
       "      <td>No</td>\n",
       "      <td>No</td>\n",
       "      <td>Si</td>\n",
       "      <td>157636.0</td>\n",
       "      <td>3.257540e+11</td>\n",
       "      <td>LICEO NUESTRA SENORA MILAGROSA</td>\n",
       "      <td>MIXED</td>\n",
       "      <td>NOT OFFICIAL</td>\n",
       "      <td>A</td>\n",
       "      <td>NaN</td>\n",
       "      <td>ACADEMIC</td>\n",
       "      <td>3.257540e+11</td>\n",
       "      <td>LICEO NUESTRA SENORA MILAGROSA</td>\n",
       "      <td>YES</td>\n",
       "      <td>URBAN</td>\n",
       "      <td>COMPLETE</td>\n",
       "      <td>25754.0</td>\n",
       "      <td>SOACHA</td>\n",
       "      <td>25.0</td>\n",
       "      <td>CUNDINAMARCA</td>\n",
       "      <td>48.0</td>\n",
       "      <td>44.0</td>\n",
       "      <td>57.0</td>\n",
       "      <td>65.0</td>\n",
       "      <td>44.0</td>\n",
       "      <td>49.0</td>\n",
       "      <td>43.0</td>\n",
       "      <td>42.0</td>\n",
       "      <td>A-</td>\n",
       "      <td>SCORE_INTERDISC_ENVIRONMENT</td>\n",
       "      <td>55.0</td>\n",
       "      <td>NaN</td>\n",
       "    </tr>\n",
       "  </tbody>\n",
       "</table>\n",
       "</div>"
      ],
      "text/plain": [
       "   Unnamed: 0 your_type_of_document your_nationality your_gender  \\\n",
       "0           0                    TI         COLOMBIA           M   \n",
       "1           1                    CC         COLOMBIA           M   \n",
       "2           2                    CC         COLOMBIA           F   \n",
       "3           3                    TI         COLOMBIA           F   \n",
       "4           4                    CC         COLOMBIA           M   \n",
       "\n",
       "  your_birthdate your_foreigner  period your_consecutive your_marital_status  \\\n",
       "0     30/07/1996            NaN   20134   EK201340233804              Single   \n",
       "1     13/04/1994            NaN   20133   EK201330220754              Single   \n",
       "2     08/12/1991            NaN   20134   EK201340246502              Single   \n",
       "3     10/01/1996            NaN   20134   EK201340237996              Single   \n",
       "4     11/10/1995             NO   20173   EK201730119521                 NaN   \n",
       "\n",
       "  your_student your_country_resides your_have_ethnicity your_dept_resides  \\\n",
       "0      STUDENT             COLOMBIA                 NaN            BOYACA   \n",
       "1      STUDENT             COLOMBIA                 NaN          AMAZONAS   \n",
       "2      STUDENT             COLOMBIA                 NaN         RISARALDA   \n",
       "3      STUDENT             COLOMBIA                 NaN           BOLIVAR   \n",
       "4      STUDENT             COLOMBIA                  No      CUNDINAMARCA   \n",
       "\n",
       "   your_dept_code_resides your_municipality_resides  \\\n",
       "0                    15.0                  GUATEQUE   \n",
       "1                    91.0                   LETICIA   \n",
       "2                    66.0              DOSQUEBRADAS   \n",
       "3                    13.0       CARTAGENA DE INDIAS   \n",
       "4                    25.0                    SOACHA   \n",
       "\n",
       "   your_municipality_code_resides your_high_school_degree  \\\n",
       "0                         15322.0      Technical Bachelor   \n",
       "1                         91001.0       Academic Bachelor   \n",
       "2                         66170.0      Technical Bachelor   \n",
       "3                         13001.0      Technical Bachelor   \n",
       "4                         25754.0      Technical Bachelor   \n",
       "\n",
       "   your_year_exam_sb11 your_semester_exam__b11  \\\n",
       "0               2013.0            1st semester   \n",
       "1               2012.0            2nd semester   \n",
       "2               2012.0            2nd semester   \n",
       "3               2012.0            2nd semester   \n",
       "4                  NaN                     NaN   \n",
       "\n",
       "   your_percentage_credits_approved  \\\n",
       "0  Doesn't follow the credit system   \n",
       "1                     Less than 75%   \n",
       "2  Doesn't follow the credit system   \n",
       "3  Doesn't follow the credit system   \n",
       "4                               NaN   \n",
       "\n",
       "                  your_tuition_cost_university your_tuition_pymt_scholarship  \\\n",
       "0                          Did not pay tuition                           NaN   \n",
       "1                          Did not pay tuition                           NaN   \n",
       "2                          Did not pay tuition                           NaN   \n",
       "3                          Did not pay tuition                           NaN   \n",
       "4  Between 2.5 million and less than 4 million                            No   \n",
       "\n",
       "  your_tuition_pymt_credit your_tuition_pymt_parents  \\\n",
       "0                      NaN                       NaN   \n",
       "1                      NaN                       NaN   \n",
       "2                      NaN                       NaN   \n",
       "3                      NaN                       NaN   \n",
       "4                       Si                        No   \n",
       "\n",
       "  your_tuition_pymt_yourself your_i_take_course_preparation  \\\n",
       "0                        NaN                            NaN   \n",
       "1                        NaN                             Si   \n",
       "2                        NaN                             No   \n",
       "3                        NaN                             No   \n",
       "4                         No                            NaN   \n",
       "\n",
       "    your_course_teacher_ies your_course_external_support_ies  \\\n",
       "0                       NaN                              NaN   \n",
       "1   Between 20 and 30 hours          Between 20 and 30 hours   \n",
       "2  He did not take a course         He did not take a course   \n",
       "3  He did not take a course         He did not take a course   \n",
       "4                       NaN                              NaN   \n",
       "\n",
       "  your_course_external_ies your_simulation_type_icfes  \\\n",
       "0                      NaN                        NaN   \n",
       "1            No tomó curso                         Si   \n",
       "2            No tomó curso                         No   \n",
       "3            No tomó curso                         No   \n",
       "4                      NaN                        NaN   \n",
       "\n",
       "  your_activity_strengths_areas your_activity_strengths_generic  \\\n",
       "0                           NaN                             NaN   \n",
       "1                            Si                              Si   \n",
       "2                            No                              No   \n",
       "3                            No                              No   \n",
       "4                           NaN                             NaN   \n",
       "\n",
       "   your_on_semester  fami_current_household_type fami_is_the_head_family  \\\n",
       "0               2.0  It is habitual or permanent                      No   \n",
       "1               2.0  It is habitual or permanent                      No   \n",
       "2               2.0  It is habitual or permanent                      No   \n",
       "3               5.0  It is habitual or permanent                      No   \n",
       "4               8.0  It is habitual or permanent                      No   \n",
       "\n",
       "  fami_econ_dependents          fami_father_education  \\\n",
       "0                 None  Undergraduate Degree complete   \n",
       "1                 None         Middle School complete   \n",
       "2                 None   Elementary school incomplete   \n",
       "3                 None      Technical School complete   \n",
       "4                 None     Elementary school complete   \n",
       "\n",
       "          fami_mother_education                       fami_father_occupation  \\\n",
       "0        Middle School complete                    Profesional independiente   \n",
       "1     Technical School complete  Empleado de nivel auxiliar o administrativo   \n",
       "2  Elementary school incomplete                 Other activity or occupation   \n",
       "3        Middle School complete                 Other activity or occupation   \n",
       "4        Middle School complete                               Does not apply   \n",
       "\n",
       "                        fami_mother_occupation fami_father_work  \\\n",
       "0                    Profesional independiente              NaN   \n",
       "1                                Self-employed              NaN   \n",
       "2                                         Home              NaN   \n",
       "3  Empleado de nivel auxiliar o administrativo              NaN   \n",
       "4                               Does not apply              NaN   \n",
       "\n",
       "  fami_mother_work fami_housing_stratum fami_social_stratum_sisben_y  \\\n",
       "0              NaN            Stratum 3     Not classified by SISBEN   \n",
       "1              NaN            Stratum 2     Not classified by SISBEN   \n",
       "2              NaN            Stratum 2                      Level 2   \n",
       "3              NaN            Stratum 1                      Level 1   \n",
       "4              NaN            Stratum 3                          NaN   \n",
       "\n",
       "  fami_internet fami_computer fami_have_oven fami_automobile fami_fridge  \\\n",
       "0            Si            No             Si              No          Si   \n",
       "1            No            Si             Si              Si          Si   \n",
       "2            No            No             No              No          Si   \n",
       "3            No            No             No              No          No   \n",
       "4            Si            Si            NaN              No         NaN   \n",
       "\n",
       "  fami_mobile   fami_num_books fami_landline_phone  \\\n",
       "0          Si              NaN                  No   \n",
       "1          Si              NaN                  No   \n",
       "2          Si              NaN                  No   \n",
       "3          Si              NaN                  Si   \n",
       "4         NaN  26 TO 100 BOOKS                 NaN   \n",
       "\n",
       "       fami_monthly_family_income your_works_currently  inst_institution_code  \\\n",
       "0  Between 3 and less than 5 SMLV                   No                   9110   \n",
       "1  Between 2 and less than 3 SMLV                   No                   2106   \n",
       "2                Less than 1 SMLV                   No                   9110   \n",
       "3                Less than 1 SMLV                   No                   9110   \n",
       "4                             NaN                  NaN                   2728   \n",
       "\n",
       "                               inst_institution_name  \\\n",
       "0              SERVICIO NACIONAL DE APRENDIZAJE-SENA   \n",
       "1         DIRECCION NACIONAL DE ESCUELAS-BOGOTÁ D.C.   \n",
       "2              SERVICIO NACIONAL DE APRENDIZAJE-SENA   \n",
       "3              SERVICIO NACIONAL DE APRENDIZAJE-SENA   \n",
       "4  FUNDACION UNIVERSITARIA DEL AREA ANDINA-BOGOTÁ...   \n",
       "\n",
       "                           your_prgm_academic  your_prgm_academic_snies  \\\n",
       "0       TECNOLOGÍA EN CONTABILIDAD Y FINANZAS                   91157.0   \n",
       "1  TECNICO PROFESIONAL EN SERVICIO DE POLICIA                   11675.0   \n",
       "2       TECNOLOGÍA EN CONTABILIDAD Y FINANZAS                   91157.0   \n",
       "3             TECNOLOGIA EN GESTION PORTUARIA                   91227.0   \n",
       "4                    NEGOCIOS INTERNACIONALES                    4678.0   \n",
       "\n",
       "                           group_reference  your_prgm_municipality_code  \\\n",
       "0  TECNOLOGICO EN ADMINISTRACIÓN Y TURISMO                        11001   \n",
       "1        TECNOLOGICO EN MILITAR Y POLICIAL                        11001   \n",
       "2  TECNOLOGICO EN ADMINISTRACIÓN Y TURISMO                        66001   \n",
       "3  TECNOLOGICO EN ADMINISTRACIÓN Y TURISMO                        13001   \n",
       "4                  ADMINISTRACIÓN Y AFINES                        11001   \n",
       "\n",
       "  your_prgm_municipality your_prgm_department your_prgm_academic_level  \\\n",
       "0            BOGOTÁ D.C.               BOGOTA               TECHNOLOGY   \n",
       "1            BOGOTÁ D.C.               BOGOTA  PROFESSIONAL TECHNICIAN   \n",
       "2                PEREIRA            RISARALDA               TECHNOLOGY   \n",
       "3    CARTAGENA DE INDIAS              BOLIVAR               TECHNOLOGY   \n",
       "4           BOGOTÁ, D.C.               BOGOTA               UNIVERSITY   \n",
       "\n",
       "  your_prgm_method      your_undergraduate_core  your_inst_municipality_code  \\\n",
       "0         DISTANCE            PUBLIC ACCOUNTING                        11001   \n",
       "1        IN PERSON  MILITARY OR POLICE TRAINING                        11001   \n",
       "2         DISTANCE            PUBLIC ACCOUNTING                        11001   \n",
       "3         DISTANCE                      ECONOMY                        11001   \n",
       "4        IN PERSON               ADMINISTRATION                        11001   \n",
       "\n",
       "  your_inst_municipality your_inst_department    inst_character_academic  \\\n",
       "0            BOGOTÁ D.C.               BOGOTA  TECHNOLOGICAL INSTITUTION   \n",
       "1            BOGOTÁ D.C.               BOGOTA     UNIVERSITY INSTITUTION   \n",
       "2            BOGOTÁ D.C.               BOGOTA  TECHNOLOGICAL INSTITUTION   \n",
       "3            BOGOTÁ D.C.               BOGOTA  TECHNOLOGICAL INSTITUTION   \n",
       "4           BOGOTÁ, D.C.               BOGOTA     UNIVERSITY INSTITUTION   \n",
       "\n",
       "                 inst_origin  score_math_saber_pro  score_language_saber_pro  \\\n",
       "0    OFFICIAL NATIONAL LEVEL                   9.6                       8.3   \n",
       "1    OFFICIAL NATIONAL LEVEL                  10.8                      10.1   \n",
       "2    OFFICIAL NATIONAL LEVEL                  10.6                      11.2   \n",
       "3    OFFICIAL NATIONAL LEVEL                   9.3                       8.2   \n",
       "4  NOT OFFICIAL - FOUNDATION                 145.0                     179.0   \n",
       "\n",
       "   score_social_science_saber_pro  score_english_saber_pro  \\\n",
       "0                             8.2                      9.4   \n",
       "1                            11.4                      9.6   \n",
       "2                            10.4                      9.5   \n",
       "3                             9.2                      9.5   \n",
       "4                           118.0                    132.0   \n",
       "\n",
       "   score_writing_saber_pro your_state_research  your_inst_department_code  \\\n",
       "0                      9.4             TO POST                         11   \n",
       "1                     10.4             TO POST                         11   \n",
       "2                      9.9             TO POST                         11   \n",
       "3                      9.4             TO POST                         11   \n",
       "4                    138.0             TO POST                         11   \n",
       "\n",
       "  your_type_of_document.1 your_nationality.1 your_gender.1 your_birthdate.1  \\\n",
       "0                      TI           COLOMBIA             M       30/07/1996   \n",
       "1                      CC           COLOMBIA             M       13/04/1994   \n",
       "2                      CC           COLOMBIA             F       08/12/1991   \n",
       "3                      TI           COLOMBIA             F       10/01/1996   \n",
       "4                      TI           COLOMBIA             M       11/10/1995   \n",
       "\n",
       "   period.1 your_consecutive.1 your_student.1 your_country_resides.1  \\\n",
       "0     20122   SB11201220401680        STUDENT               COLOMBIA   \n",
       "1     20122   SB11201220585536        STUDENT               COLOMBIA   \n",
       "2     20122   SB11201220051348        STUDENT               COLOMBIA   \n",
       "3     20122   SB11201220372144        STUDENT               COLOMBIA   \n",
       "4     20132   SB11201320427497        STUDENT               COLOMBIA   \n",
       "\n",
       "  your_dept_resides.1  your_dept_code_resides.1 your_municipality_resides.1  \\\n",
       "0              BOYACA                      15.0                    GUATEQUE   \n",
       "1            AMAZONAS                      91.0                     LETICIA   \n",
       "2           RISARALDA                      66.0                     PEREIRA   \n",
       "3             BOLIVAR                      13.0         CARTAGENA DE INDIAS   \n",
       "4        CUNDINAMARCA                      25.0                      SOACHA   \n",
       "\n",
       "   your_municipality_code_resides.1     your_area_residse  \\\n",
       "0                           15322.0  Head of Municipality   \n",
       "1                           91001.0  Head of Municipality   \n",
       "2                           66001.0  Head of Municipality   \n",
       "3                           13001.0  Head of Municipality   \n",
       "4                           25754.0  Head of Municipality   \n",
       "\n",
       "           your_tuition your_times_took_exam        fami_father_education.1  \\\n",
       "0  Does not pay Pension                  NaN                Graduate Degree   \n",
       "1  Does not pay Pension                  NaN         Middle School complete   \n",
       "2  Does not pay Pension                  NaN         Middle School complete   \n",
       "3  Does not pay Pension                  NaN  Undergraduate Degree complete   \n",
       "4  Does not pay Pension                Never         Middle School complete   \n",
       "\n",
       "      fami_mother_education.1  \\\n",
       "0      Middle School complete   \n",
       "1      Middle School complete   \n",
       "2  Elementary school complete   \n",
       "3      Middle School complete   \n",
       "4  Elementary school complete   \n",
       "\n",
       "                            fami_father_occupation.1  \\\n",
       "0                                        Businessman   \n",
       "1  Empleado con cargo como director o gerente gen...   \n",
       "2                                               Home   \n",
       "3      Employee with technical level or professional   \n",
       "4                       Other activity or occupation   \n",
       "\n",
       "       fami_mother_occupation.1 fami_housing_stratum.1  \\\n",
       "0                   Businessman              Stratum 3   \n",
       "1                 Self-employed              Stratum 2   \n",
       "2                          Home              Stratum 2   \n",
       "3             Operator employee                    NaN   \n",
       "4  Other activity or occupation              Stratum 3   \n",
       "\n",
       "  fami_social_stratum_sisben fami_house_members fami_house_rooms  \\\n",
       "0   Not classified by SISBEN               Four             Four   \n",
       "1   Not classified by SISBEN               Five            Three   \n",
       "2                    Level 2               Five            Three   \n",
       "3                    Level 1               Nine             Four   \n",
       "4   Not classified by SISBEN                Six             Four   \n",
       "\n",
       "                              fami_house_floor fami_internet.1  \\\n",
       "0  Polished wood, tile, tablet, marble, carpet              Si   \n",
       "1                        Cement, gravel, brick              No   \n",
       "2                        Cement, gravel, brick              Si   \n",
       "3  Polished wood, tile, tablet, marble, carpet              No   \n",
       "4  Polished wood, tile, tablet, marble, carpet              Si   \n",
       "\n",
       "  fami_computer.1 fami_washer fami_microwave fami_oven fami_automobile.1  \\\n",
       "0              Si          Si             Si        Si                Si   \n",
       "1              No          Si             No        No                No   \n",
       "2              Si          Si             Si        Si                No   \n",
       "3              No          No             No        No                No   \n",
       "4              Si          Si             Si        No                Si   \n",
       "\n",
       "  fami_dvd fami_fridge.1 fami_mobile.1 fami_landline_phone.1  \\\n",
       "0       Si            Si            Si                    Si   \n",
       "1       Si            No            Si                    Si   \n",
       "2       Si            Si            Si                    Si   \n",
       "3       Si            No            Si                    No   \n",
       "4       Si            Si            Si                    Si   \n",
       "\n",
       "       fami_monthly_family_income          your_currently_working  \\\n",
       "0                             NaN                              No   \n",
       "1  Between 2 and less than 3 SMLV  Yes, 20 hours or more per week   \n",
       "2                Less than 1 SMLV                              No   \n",
       "3  Between 2 and less than 3 SMLV                              No   \n",
       "4  Between 1 and less than 2 SMLV                              No   \n",
       "\n",
       "  your_background your_expectations  cole_saber_11_icfes_code  \\\n",
       "0              No               NaN                    5207.0   \n",
       "1              No               NaN                   38919.0   \n",
       "2              Si               NaN                   61424.0   \n",
       "3              No               NaN                    9110.0   \n",
       "4              No                Si                  157636.0   \n",
       "\n",
       "   cole_saber_11_icfes_dane                    cole_saber_11_icfes_name  \\\n",
       "0              1.153220e+11                         I.E. VALLE DE TENZA   \n",
       "1              1.910010e+11              I.E. INEM JOSE EUSTASIO RIVERA   \n",
       "2              1.660010e+11                          IE AQUILINO BEDOYA   \n",
       "3              1.130010e+11  INSTITUCION EDUCATIVA OLGA GONZALEZ ARRAUT   \n",
       "4              3.257540e+11              LICEO NUESTRA SENORA MILAGROSA   \n",
       "\n",
       "  cole_type   cole_nature cole_calendar cole_bilingual      cole_character  \\\n",
       "0     MIXED      OFFICIAL             A              N  TECHNICAL/ACADEMIC   \n",
       "1     MIXED      OFFICIAL             A              N  TECHNICAL/ACADEMIC   \n",
       "2     MIXED      OFFICIAL             A              N  TECHNICAL/ACADEMIC   \n",
       "3     MIXED      OFFICIAL             A              N  TECHNICAL/ACADEMIC   \n",
       "4     MIXED  NOT OFFICIAL             A            NaN            ACADEMIC   \n",
       "\n",
       "   cole_dane_code_campus                                 cole_name_campus  \\\n",
       "0           1.153220e+11             I.E. VALLE DE TENZA - SEDE PRINCIPAL   \n",
       "1           1.910010e+11  I.E. INEM JOSE EUSTASIO RIVERA - SEDE PRINCIPAL   \n",
       "2           1.660010e+11                         LIC CIAL AQUILINO BEDOYA   \n",
       "3           1.130010e+11       INSTITUCION EDUCATIVA OLGA GONZALEZ ARRAUT   \n",
       "4           3.257540e+11                   LICEO NUESTRA SENORA MILAGROSA   \n",
       "\n",
       "  cole_main_campus cole_area_location cole_journey  \\\n",
       "0              YES              URBAN      MORNING   \n",
       "1              YES              URBAN      MORNING   \n",
       "2              YES              URBAN         LATE   \n",
       "3              YES              URBAN         LATE   \n",
       "4              YES              URBAN     COMPLETE   \n",
       "\n",
       "   cole_municipality_code_location cole_municipality_location  \\\n",
       "0                          15322.0                   GUATEQUE   \n",
       "1                          91001.0                    LETICIA   \n",
       "2                          66001.0                    PEREIRA   \n",
       "3                          13001.0        CARTAGENA DE INDIAS   \n",
       "4                          25754.0                     SOACHA   \n",
       "\n",
       "   cole_dept_code_location cole_dept_location  score_language_saber_11  \\\n",
       "0                     15.0             BOYACA                     32.0   \n",
       "1                     91.0           AMAZONAS                     48.0   \n",
       "2                     66.0          RISARALDA                     57.0   \n",
       "3                     13.0            BOLIVAR                     40.0   \n",
       "4                     25.0       CUNDINAMARCA                     48.0   \n",
       "\n",
       "   score_mathematics_saber_11  score_biology_saber_11  \\\n",
       "0                        43.0                    39.0   \n",
       "1                        64.0                    52.0   \n",
       "2                        42.0                    50.0   \n",
       "3                        46.0                    34.0   \n",
       "4                        44.0                    57.0   \n",
       "\n",
       "   score_chemistry_saber_11  score_physics_saber_11  \\\n",
       "0                      42.0                    33.0   \n",
       "1                      52.0                    54.0   \n",
       "2                      51.0                    28.0   \n",
       "3                      35.0                    45.0   \n",
       "4                      65.0                    44.0   \n",
       "\n",
       "   score_social_science_saber_11  score_philosophy_saber_11  \\\n",
       "0                           33.0                       29.0   \n",
       "1                           44.0                       47.0   \n",
       "2                           46.0                       45.0   \n",
       "3                           42.0                       40.0   \n",
       "4                           49.0                       43.0   \n",
       "\n",
       "   score_english_saber_11 score_english_saber_11_category  \\\n",
       "0                    38.0                              A-   \n",
       "1                    51.0                              A1   \n",
       "2                    43.0                              A-   \n",
       "3                    43.0                              A-   \n",
       "4                    42.0                              A-   \n",
       "\n",
       "            optative_field_saber_11  score_optative_saber_11  \\\n",
       "0       SCORE_INTERDISC_ENVIRONMENT                     49.0   \n",
       "1             SCORE_DEEPEN_LANGUAGE                      6.0   \n",
       "2              SCORE_DEEPEN_BIOLOGY                      5.0   \n",
       "3  SCORE_INTERDISC_VIOLENCE_AND_SOC                     29.0   \n",
       "4       SCORE_INTERDISC_ENVIRONMENT                     55.0   \n",
       "\n",
       "  optative_category_saber_11  \n",
       "0                        NaN  \n",
       "1                         II  \n",
       "2                          I  \n",
       "3                        NaN  \n",
       "4                        NaN  "
      ]
     },
     "execution_count": 6,
     "metadata": {},
     "output_type": "execute_result"
    }
   ],
   "source": [
    "data.head()"
   ]
  },
  {
   "cell_type": "code",
   "execution_count": 7,
   "id": "attempted-pavilion",
   "metadata": {},
   "outputs": [],
   "source": [
    "# Delete the index column\n",
    "del data[\"Unnamed: 0\"]"
   ]
  },
  {
   "cell_type": "code",
   "execution_count": 8,
   "id": "graduate-polls",
   "metadata": {},
   "outputs": [
    {
     "data": {
      "text/html": [
       "<div>\n",
       "<style scoped>\n",
       "    .dataframe tbody tr th:only-of-type {\n",
       "        vertical-align: middle;\n",
       "    }\n",
       "\n",
       "    .dataframe tbody tr th {\n",
       "        vertical-align: top;\n",
       "    }\n",
       "\n",
       "    .dataframe thead th {\n",
       "        text-align: right;\n",
       "    }\n",
       "</style>\n",
       "<table border=\"1\" class=\"dataframe\">\n",
       "  <thead>\n",
       "    <tr style=\"text-align: right;\">\n",
       "      <th></th>\n",
       "      <th>your_type_of_document</th>\n",
       "      <th>your_nationality</th>\n",
       "      <th>your_gender</th>\n",
       "      <th>your_birthdate</th>\n",
       "      <th>your_foreigner</th>\n",
       "      <th>period</th>\n",
       "      <th>your_consecutive</th>\n",
       "      <th>your_marital_status</th>\n",
       "      <th>your_student</th>\n",
       "      <th>your_country_resides</th>\n",
       "      <th>your_have_ethnicity</th>\n",
       "      <th>your_dept_resides</th>\n",
       "      <th>your_dept_code_resides</th>\n",
       "      <th>your_municipality_resides</th>\n",
       "      <th>your_municipality_code_resides</th>\n",
       "      <th>your_high_school_degree</th>\n",
       "      <th>your_year_exam_sb11</th>\n",
       "      <th>your_semester_exam__b11</th>\n",
       "      <th>your_percentage_credits_approved</th>\n",
       "      <th>your_tuition_cost_university</th>\n",
       "      <th>your_tuition_pymt_scholarship</th>\n",
       "      <th>your_tuition_pymt_credit</th>\n",
       "      <th>your_tuition_pymt_parents</th>\n",
       "      <th>your_tuition_pymt_yourself</th>\n",
       "      <th>your_i_take_course_preparation</th>\n",
       "      <th>your_course_teacher_ies</th>\n",
       "      <th>your_course_external_support_ies</th>\n",
       "      <th>your_course_external_ies</th>\n",
       "      <th>your_simulation_type_icfes</th>\n",
       "      <th>your_activity_strengths_areas</th>\n",
       "      <th>your_activity_strengths_generic</th>\n",
       "      <th>your_on_semester</th>\n",
       "      <th>fami_current_household_type</th>\n",
       "      <th>fami_is_the_head_family</th>\n",
       "      <th>fami_econ_dependents</th>\n",
       "      <th>fami_father_education</th>\n",
       "      <th>fami_mother_education</th>\n",
       "      <th>fami_father_occupation</th>\n",
       "      <th>fami_mother_occupation</th>\n",
       "      <th>fami_father_work</th>\n",
       "      <th>fami_mother_work</th>\n",
       "      <th>fami_housing_stratum</th>\n",
       "      <th>fami_social_stratum_sisben_y</th>\n",
       "      <th>fami_internet</th>\n",
       "      <th>fami_computer</th>\n",
       "      <th>fami_have_oven</th>\n",
       "      <th>fami_automobile</th>\n",
       "      <th>fami_fridge</th>\n",
       "      <th>fami_mobile</th>\n",
       "      <th>fami_num_books</th>\n",
       "      <th>fami_landline_phone</th>\n",
       "      <th>fami_monthly_family_income</th>\n",
       "      <th>your_works_currently</th>\n",
       "      <th>inst_institution_code</th>\n",
       "      <th>inst_institution_name</th>\n",
       "      <th>your_prgm_academic</th>\n",
       "      <th>your_prgm_academic_snies</th>\n",
       "      <th>group_reference</th>\n",
       "      <th>your_prgm_municipality_code</th>\n",
       "      <th>your_prgm_municipality</th>\n",
       "      <th>your_prgm_department</th>\n",
       "      <th>your_prgm_academic_level</th>\n",
       "      <th>your_prgm_method</th>\n",
       "      <th>your_undergraduate_core</th>\n",
       "      <th>your_inst_municipality_code</th>\n",
       "      <th>your_inst_municipality</th>\n",
       "      <th>your_inst_department</th>\n",
       "      <th>inst_character_academic</th>\n",
       "      <th>inst_origin</th>\n",
       "      <th>score_math_saber_pro</th>\n",
       "      <th>score_language_saber_pro</th>\n",
       "      <th>score_social_science_saber_pro</th>\n",
       "      <th>score_english_saber_pro</th>\n",
       "      <th>score_writing_saber_pro</th>\n",
       "      <th>your_state_research</th>\n",
       "      <th>your_inst_department_code</th>\n",
       "      <th>your_type_of_document.1</th>\n",
       "      <th>your_nationality.1</th>\n",
       "      <th>your_gender.1</th>\n",
       "      <th>your_birthdate.1</th>\n",
       "      <th>period.1</th>\n",
       "      <th>your_consecutive.1</th>\n",
       "      <th>your_student.1</th>\n",
       "      <th>your_country_resides.1</th>\n",
       "      <th>your_dept_resides.1</th>\n",
       "      <th>your_dept_code_resides.1</th>\n",
       "      <th>your_municipality_resides.1</th>\n",
       "      <th>your_municipality_code_resides.1</th>\n",
       "      <th>your_area_residse</th>\n",
       "      <th>your_tuition</th>\n",
       "      <th>your_times_took_exam</th>\n",
       "      <th>fami_father_education.1</th>\n",
       "      <th>fami_mother_education.1</th>\n",
       "      <th>fami_father_occupation.1</th>\n",
       "      <th>fami_mother_occupation.1</th>\n",
       "      <th>fami_housing_stratum.1</th>\n",
       "      <th>fami_social_stratum_sisben</th>\n",
       "      <th>fami_house_members</th>\n",
       "      <th>fami_house_rooms</th>\n",
       "      <th>fami_house_floor</th>\n",
       "      <th>fami_internet.1</th>\n",
       "      <th>fami_computer.1</th>\n",
       "      <th>fami_washer</th>\n",
       "      <th>fami_microwave</th>\n",
       "      <th>fami_oven</th>\n",
       "      <th>fami_automobile.1</th>\n",
       "      <th>fami_dvd</th>\n",
       "      <th>fami_fridge.1</th>\n",
       "      <th>fami_mobile.1</th>\n",
       "      <th>fami_landline_phone.1</th>\n",
       "      <th>fami_monthly_family_income</th>\n",
       "      <th>your_currently_working</th>\n",
       "      <th>your_background</th>\n",
       "      <th>your_expectations</th>\n",
       "      <th>cole_saber_11_icfes_code</th>\n",
       "      <th>cole_saber_11_icfes_dane</th>\n",
       "      <th>cole_saber_11_icfes_name</th>\n",
       "      <th>cole_type</th>\n",
       "      <th>cole_nature</th>\n",
       "      <th>cole_calendar</th>\n",
       "      <th>cole_bilingual</th>\n",
       "      <th>cole_character</th>\n",
       "      <th>cole_dane_code_campus</th>\n",
       "      <th>cole_name_campus</th>\n",
       "      <th>cole_main_campus</th>\n",
       "      <th>cole_area_location</th>\n",
       "      <th>cole_journey</th>\n",
       "      <th>cole_municipality_code_location</th>\n",
       "      <th>cole_municipality_location</th>\n",
       "      <th>cole_dept_code_location</th>\n",
       "      <th>cole_dept_location</th>\n",
       "      <th>score_language_saber_11</th>\n",
       "      <th>score_mathematics_saber_11</th>\n",
       "      <th>score_biology_saber_11</th>\n",
       "      <th>score_chemistry_saber_11</th>\n",
       "      <th>score_physics_saber_11</th>\n",
       "      <th>score_social_science_saber_11</th>\n",
       "      <th>score_philosophy_saber_11</th>\n",
       "      <th>score_english_saber_11</th>\n",
       "      <th>score_english_saber_11_category</th>\n",
       "      <th>optative_field_saber_11</th>\n",
       "      <th>score_optative_saber_11</th>\n",
       "      <th>optative_category_saber_11</th>\n",
       "    </tr>\n",
       "  </thead>\n",
       "  <tbody>\n",
       "    <tr>\n",
       "      <th>0</th>\n",
       "      <td>TI</td>\n",
       "      <td>COLOMBIA</td>\n",
       "      <td>M</td>\n",
       "      <td>30/07/1996</td>\n",
       "      <td>NaN</td>\n",
       "      <td>20134</td>\n",
       "      <td>EK201340233804</td>\n",
       "      <td>Single</td>\n",
       "      <td>STUDENT</td>\n",
       "      <td>COLOMBIA</td>\n",
       "      <td>NaN</td>\n",
       "      <td>BOYACA</td>\n",
       "      <td>15.0</td>\n",
       "      <td>GUATEQUE</td>\n",
       "      <td>15322.0</td>\n",
       "      <td>Technical Bachelor</td>\n",
       "      <td>2013.0</td>\n",
       "      <td>1st semester</td>\n",
       "      <td>Doesn't follow the credit system</td>\n",
       "      <td>Did not pay tuition</td>\n",
       "      <td>NaN</td>\n",
       "      <td>NaN</td>\n",
       "      <td>NaN</td>\n",
       "      <td>NaN</td>\n",
       "      <td>NaN</td>\n",
       "      <td>NaN</td>\n",
       "      <td>NaN</td>\n",
       "      <td>NaN</td>\n",
       "      <td>NaN</td>\n",
       "      <td>NaN</td>\n",
       "      <td>NaN</td>\n",
       "      <td>2.0</td>\n",
       "      <td>It is habitual or permanent</td>\n",
       "      <td>No</td>\n",
       "      <td>None</td>\n",
       "      <td>Undergraduate Degree complete</td>\n",
       "      <td>Middle School complete</td>\n",
       "      <td>Profesional independiente</td>\n",
       "      <td>Profesional independiente</td>\n",
       "      <td>NaN</td>\n",
       "      <td>NaN</td>\n",
       "      <td>Stratum 3</td>\n",
       "      <td>Not classified by SISBEN</td>\n",
       "      <td>Si</td>\n",
       "      <td>No</td>\n",
       "      <td>Si</td>\n",
       "      <td>No</td>\n",
       "      <td>Si</td>\n",
       "      <td>Si</td>\n",
       "      <td>NaN</td>\n",
       "      <td>No</td>\n",
       "      <td>Between 3 and less than 5 SMLV</td>\n",
       "      <td>No</td>\n",
       "      <td>9110</td>\n",
       "      <td>SERVICIO NACIONAL DE APRENDIZAJE-SENA</td>\n",
       "      <td>TECNOLOGÍA EN CONTABILIDAD Y FINANZAS</td>\n",
       "      <td>91157.0</td>\n",
       "      <td>TECNOLOGICO EN ADMINISTRACIÓN Y TURISMO</td>\n",
       "      <td>11001</td>\n",
       "      <td>BOGOTÁ D.C.</td>\n",
       "      <td>BOGOTA</td>\n",
       "      <td>TECHNOLOGY</td>\n",
       "      <td>DISTANCE</td>\n",
       "      <td>PUBLIC ACCOUNTING</td>\n",
       "      <td>11001</td>\n",
       "      <td>BOGOTÁ D.C.</td>\n",
       "      <td>BOGOTA</td>\n",
       "      <td>TECHNOLOGICAL INSTITUTION</td>\n",
       "      <td>OFFICIAL NATIONAL LEVEL</td>\n",
       "      <td>9.6</td>\n",
       "      <td>8.3</td>\n",
       "      <td>8.2</td>\n",
       "      <td>9.4</td>\n",
       "      <td>9.4</td>\n",
       "      <td>TO POST</td>\n",
       "      <td>11</td>\n",
       "      <td>TI</td>\n",
       "      <td>COLOMBIA</td>\n",
       "      <td>M</td>\n",
       "      <td>30/07/1996</td>\n",
       "      <td>20122</td>\n",
       "      <td>SB11201220401680</td>\n",
       "      <td>STUDENT</td>\n",
       "      <td>COLOMBIA</td>\n",
       "      <td>BOYACA</td>\n",
       "      <td>15.0</td>\n",
       "      <td>GUATEQUE</td>\n",
       "      <td>15322.0</td>\n",
       "      <td>Head of Municipality</td>\n",
       "      <td>Does not pay Pension</td>\n",
       "      <td>NaN</td>\n",
       "      <td>Graduate Degree</td>\n",
       "      <td>Middle School complete</td>\n",
       "      <td>Businessman</td>\n",
       "      <td>Businessman</td>\n",
       "      <td>Stratum 3</td>\n",
       "      <td>Not classified by SISBEN</td>\n",
       "      <td>Four</td>\n",
       "      <td>Four</td>\n",
       "      <td>Polished wood, tile, tablet, marble, carpet</td>\n",
       "      <td>Si</td>\n",
       "      <td>Si</td>\n",
       "      <td>Si</td>\n",
       "      <td>Si</td>\n",
       "      <td>Si</td>\n",
       "      <td>Si</td>\n",
       "      <td>Si</td>\n",
       "      <td>Si</td>\n",
       "      <td>Si</td>\n",
       "      <td>Si</td>\n",
       "      <td>NaN</td>\n",
       "      <td>No</td>\n",
       "      <td>No</td>\n",
       "      <td>NaN</td>\n",
       "      <td>5207.0</td>\n",
       "      <td>1.153220e+11</td>\n",
       "      <td>I.E. VALLE DE TENZA</td>\n",
       "      <td>MIXED</td>\n",
       "      <td>OFFICIAL</td>\n",
       "      <td>A</td>\n",
       "      <td>N</td>\n",
       "      <td>TECHNICAL/ACADEMIC</td>\n",
       "      <td>1.153220e+11</td>\n",
       "      <td>I.E. VALLE DE TENZA - SEDE PRINCIPAL</td>\n",
       "      <td>YES</td>\n",
       "      <td>URBAN</td>\n",
       "      <td>MORNING</td>\n",
       "      <td>15322.0</td>\n",
       "      <td>GUATEQUE</td>\n",
       "      <td>15.0</td>\n",
       "      <td>BOYACA</td>\n",
       "      <td>32.0</td>\n",
       "      <td>43.0</td>\n",
       "      <td>39.0</td>\n",
       "      <td>42.0</td>\n",
       "      <td>33.0</td>\n",
       "      <td>33.0</td>\n",
       "      <td>29.0</td>\n",
       "      <td>38.0</td>\n",
       "      <td>A-</td>\n",
       "      <td>SCORE_INTERDISC_ENVIRONMENT</td>\n",
       "      <td>49.0</td>\n",
       "      <td>NaN</td>\n",
       "    </tr>\n",
       "    <tr>\n",
       "      <th>1</th>\n",
       "      <td>CC</td>\n",
       "      <td>COLOMBIA</td>\n",
       "      <td>M</td>\n",
       "      <td>13/04/1994</td>\n",
       "      <td>NaN</td>\n",
       "      <td>20133</td>\n",
       "      <td>EK201330220754</td>\n",
       "      <td>Single</td>\n",
       "      <td>STUDENT</td>\n",
       "      <td>COLOMBIA</td>\n",
       "      <td>NaN</td>\n",
       "      <td>AMAZONAS</td>\n",
       "      <td>91.0</td>\n",
       "      <td>LETICIA</td>\n",
       "      <td>91001.0</td>\n",
       "      <td>Academic Bachelor</td>\n",
       "      <td>2012.0</td>\n",
       "      <td>2nd semester</td>\n",
       "      <td>Less than 75%</td>\n",
       "      <td>Did not pay tuition</td>\n",
       "      <td>NaN</td>\n",
       "      <td>NaN</td>\n",
       "      <td>NaN</td>\n",
       "      <td>NaN</td>\n",
       "      <td>Si</td>\n",
       "      <td>Between 20 and 30 hours</td>\n",
       "      <td>Between 20 and 30 hours</td>\n",
       "      <td>No tomó curso</td>\n",
       "      <td>Si</td>\n",
       "      <td>Si</td>\n",
       "      <td>Si</td>\n",
       "      <td>2.0</td>\n",
       "      <td>It is habitual or permanent</td>\n",
       "      <td>No</td>\n",
       "      <td>None</td>\n",
       "      <td>Middle School complete</td>\n",
       "      <td>Technical School complete</td>\n",
       "      <td>Empleado de nivel auxiliar o administrativo</td>\n",
       "      <td>Self-employed</td>\n",
       "      <td>NaN</td>\n",
       "      <td>NaN</td>\n",
       "      <td>Stratum 2</td>\n",
       "      <td>Not classified by SISBEN</td>\n",
       "      <td>No</td>\n",
       "      <td>Si</td>\n",
       "      <td>Si</td>\n",
       "      <td>Si</td>\n",
       "      <td>Si</td>\n",
       "      <td>Si</td>\n",
       "      <td>NaN</td>\n",
       "      <td>No</td>\n",
       "      <td>Between 2 and less than 3 SMLV</td>\n",
       "      <td>No</td>\n",
       "      <td>2106</td>\n",
       "      <td>DIRECCION NACIONAL DE ESCUELAS-BOGOTÁ D.C.</td>\n",
       "      <td>TECNICO PROFESIONAL EN SERVICIO DE POLICIA</td>\n",
       "      <td>11675.0</td>\n",
       "      <td>TECNOLOGICO EN MILITAR Y POLICIAL</td>\n",
       "      <td>11001</td>\n",
       "      <td>BOGOTÁ D.C.</td>\n",
       "      <td>BOGOTA</td>\n",
       "      <td>PROFESSIONAL TECHNICIAN</td>\n",
       "      <td>IN PERSON</td>\n",
       "      <td>MILITARY OR POLICE TRAINING</td>\n",
       "      <td>11001</td>\n",
       "      <td>BOGOTÁ D.C.</td>\n",
       "      <td>BOGOTA</td>\n",
       "      <td>UNIVERSITY INSTITUTION</td>\n",
       "      <td>OFFICIAL NATIONAL LEVEL</td>\n",
       "      <td>10.8</td>\n",
       "      <td>10.1</td>\n",
       "      <td>11.4</td>\n",
       "      <td>9.6</td>\n",
       "      <td>10.4</td>\n",
       "      <td>TO POST</td>\n",
       "      <td>11</td>\n",
       "      <td>CC</td>\n",
       "      <td>COLOMBIA</td>\n",
       "      <td>M</td>\n",
       "      <td>13/04/1994</td>\n",
       "      <td>20122</td>\n",
       "      <td>SB11201220585536</td>\n",
       "      <td>STUDENT</td>\n",
       "      <td>COLOMBIA</td>\n",
       "      <td>AMAZONAS</td>\n",
       "      <td>91.0</td>\n",
       "      <td>LETICIA</td>\n",
       "      <td>91001.0</td>\n",
       "      <td>Head of Municipality</td>\n",
       "      <td>Does not pay Pension</td>\n",
       "      <td>NaN</td>\n",
       "      <td>Middle School complete</td>\n",
       "      <td>Middle School complete</td>\n",
       "      <td>Empleado con cargo como director o gerente gen...</td>\n",
       "      <td>Self-employed</td>\n",
       "      <td>Stratum 2</td>\n",
       "      <td>Not classified by SISBEN</td>\n",
       "      <td>Five</td>\n",
       "      <td>Three</td>\n",
       "      <td>Cement, gravel, brick</td>\n",
       "      <td>No</td>\n",
       "      <td>No</td>\n",
       "      <td>Si</td>\n",
       "      <td>No</td>\n",
       "      <td>No</td>\n",
       "      <td>No</td>\n",
       "      <td>Si</td>\n",
       "      <td>No</td>\n",
       "      <td>Si</td>\n",
       "      <td>Si</td>\n",
       "      <td>Between 2 and less than 3 SMLV</td>\n",
       "      <td>Yes, 20 hours or more per week</td>\n",
       "      <td>No</td>\n",
       "      <td>NaN</td>\n",
       "      <td>38919.0</td>\n",
       "      <td>1.910010e+11</td>\n",
       "      <td>I.E. INEM JOSE EUSTASIO RIVERA</td>\n",
       "      <td>MIXED</td>\n",
       "      <td>OFFICIAL</td>\n",
       "      <td>A</td>\n",
       "      <td>N</td>\n",
       "      <td>TECHNICAL/ACADEMIC</td>\n",
       "      <td>1.910010e+11</td>\n",
       "      <td>I.E. INEM JOSE EUSTASIO RIVERA - SEDE PRINCIPAL</td>\n",
       "      <td>YES</td>\n",
       "      <td>URBAN</td>\n",
       "      <td>MORNING</td>\n",
       "      <td>91001.0</td>\n",
       "      <td>LETICIA</td>\n",
       "      <td>91.0</td>\n",
       "      <td>AMAZONAS</td>\n",
       "      <td>48.0</td>\n",
       "      <td>64.0</td>\n",
       "      <td>52.0</td>\n",
       "      <td>52.0</td>\n",
       "      <td>54.0</td>\n",
       "      <td>44.0</td>\n",
       "      <td>47.0</td>\n",
       "      <td>51.0</td>\n",
       "      <td>A1</td>\n",
       "      <td>SCORE_DEEPEN_LANGUAGE</td>\n",
       "      <td>6.0</td>\n",
       "      <td>II</td>\n",
       "    </tr>\n",
       "    <tr>\n",
       "      <th>2</th>\n",
       "      <td>CC</td>\n",
       "      <td>COLOMBIA</td>\n",
       "      <td>F</td>\n",
       "      <td>08/12/1991</td>\n",
       "      <td>NaN</td>\n",
       "      <td>20134</td>\n",
       "      <td>EK201340246502</td>\n",
       "      <td>Single</td>\n",
       "      <td>STUDENT</td>\n",
       "      <td>COLOMBIA</td>\n",
       "      <td>NaN</td>\n",
       "      <td>RISARALDA</td>\n",
       "      <td>66.0</td>\n",
       "      <td>DOSQUEBRADAS</td>\n",
       "      <td>66170.0</td>\n",
       "      <td>Technical Bachelor</td>\n",
       "      <td>2012.0</td>\n",
       "      <td>2nd semester</td>\n",
       "      <td>Doesn't follow the credit system</td>\n",
       "      <td>Did not pay tuition</td>\n",
       "      <td>NaN</td>\n",
       "      <td>NaN</td>\n",
       "      <td>NaN</td>\n",
       "      <td>NaN</td>\n",
       "      <td>No</td>\n",
       "      <td>He did not take a course</td>\n",
       "      <td>He did not take a course</td>\n",
       "      <td>No tomó curso</td>\n",
       "      <td>No</td>\n",
       "      <td>No</td>\n",
       "      <td>No</td>\n",
       "      <td>2.0</td>\n",
       "      <td>It is habitual or permanent</td>\n",
       "      <td>No</td>\n",
       "      <td>None</td>\n",
       "      <td>Elementary school incomplete</td>\n",
       "      <td>Elementary school incomplete</td>\n",
       "      <td>Other activity or occupation</td>\n",
       "      <td>Home</td>\n",
       "      <td>NaN</td>\n",
       "      <td>NaN</td>\n",
       "      <td>Stratum 2</td>\n",
       "      <td>Level 2</td>\n",
       "      <td>No</td>\n",
       "      <td>No</td>\n",
       "      <td>No</td>\n",
       "      <td>No</td>\n",
       "      <td>Si</td>\n",
       "      <td>Si</td>\n",
       "      <td>NaN</td>\n",
       "      <td>No</td>\n",
       "      <td>Less than 1 SMLV</td>\n",
       "      <td>No</td>\n",
       "      <td>9110</td>\n",
       "      <td>SERVICIO NACIONAL DE APRENDIZAJE-SENA</td>\n",
       "      <td>TECNOLOGÍA EN CONTABILIDAD Y FINANZAS</td>\n",
       "      <td>91157.0</td>\n",
       "      <td>TECNOLOGICO EN ADMINISTRACIÓN Y TURISMO</td>\n",
       "      <td>66001</td>\n",
       "      <td>PEREIRA</td>\n",
       "      <td>RISARALDA</td>\n",
       "      <td>TECHNOLOGY</td>\n",
       "      <td>DISTANCE</td>\n",
       "      <td>PUBLIC ACCOUNTING</td>\n",
       "      <td>11001</td>\n",
       "      <td>BOGOTÁ D.C.</td>\n",
       "      <td>BOGOTA</td>\n",
       "      <td>TECHNOLOGICAL INSTITUTION</td>\n",
       "      <td>OFFICIAL NATIONAL LEVEL</td>\n",
       "      <td>10.6</td>\n",
       "      <td>11.2</td>\n",
       "      <td>10.4</td>\n",
       "      <td>9.5</td>\n",
       "      <td>9.9</td>\n",
       "      <td>TO POST</td>\n",
       "      <td>11</td>\n",
       "      <td>CC</td>\n",
       "      <td>COLOMBIA</td>\n",
       "      <td>F</td>\n",
       "      <td>08/12/1991</td>\n",
       "      <td>20122</td>\n",
       "      <td>SB11201220051348</td>\n",
       "      <td>STUDENT</td>\n",
       "      <td>COLOMBIA</td>\n",
       "      <td>RISARALDA</td>\n",
       "      <td>66.0</td>\n",
       "      <td>PEREIRA</td>\n",
       "      <td>66001.0</td>\n",
       "      <td>Head of Municipality</td>\n",
       "      <td>Does not pay Pension</td>\n",
       "      <td>NaN</td>\n",
       "      <td>Middle School complete</td>\n",
       "      <td>Elementary school complete</td>\n",
       "      <td>Home</td>\n",
       "      <td>Home</td>\n",
       "      <td>Stratum 2</td>\n",
       "      <td>Level 2</td>\n",
       "      <td>Five</td>\n",
       "      <td>Three</td>\n",
       "      <td>Cement, gravel, brick</td>\n",
       "      <td>Si</td>\n",
       "      <td>Si</td>\n",
       "      <td>Si</td>\n",
       "      <td>Si</td>\n",
       "      <td>Si</td>\n",
       "      <td>No</td>\n",
       "      <td>Si</td>\n",
       "      <td>Si</td>\n",
       "      <td>Si</td>\n",
       "      <td>Si</td>\n",
       "      <td>Less than 1 SMLV</td>\n",
       "      <td>No</td>\n",
       "      <td>Si</td>\n",
       "      <td>NaN</td>\n",
       "      <td>61424.0</td>\n",
       "      <td>1.660010e+11</td>\n",
       "      <td>IE AQUILINO BEDOYA</td>\n",
       "      <td>MIXED</td>\n",
       "      <td>OFFICIAL</td>\n",
       "      <td>A</td>\n",
       "      <td>N</td>\n",
       "      <td>TECHNICAL/ACADEMIC</td>\n",
       "      <td>1.660010e+11</td>\n",
       "      <td>LIC CIAL AQUILINO BEDOYA</td>\n",
       "      <td>YES</td>\n",
       "      <td>URBAN</td>\n",
       "      <td>LATE</td>\n",
       "      <td>66001.0</td>\n",
       "      <td>PEREIRA</td>\n",
       "      <td>66.0</td>\n",
       "      <td>RISARALDA</td>\n",
       "      <td>57.0</td>\n",
       "      <td>42.0</td>\n",
       "      <td>50.0</td>\n",
       "      <td>51.0</td>\n",
       "      <td>28.0</td>\n",
       "      <td>46.0</td>\n",
       "      <td>45.0</td>\n",
       "      <td>43.0</td>\n",
       "      <td>A-</td>\n",
       "      <td>SCORE_DEEPEN_BIOLOGY</td>\n",
       "      <td>5.0</td>\n",
       "      <td>I</td>\n",
       "    </tr>\n",
       "    <tr>\n",
       "      <th>3</th>\n",
       "      <td>TI</td>\n",
       "      <td>COLOMBIA</td>\n",
       "      <td>F</td>\n",
       "      <td>10/01/1996</td>\n",
       "      <td>NaN</td>\n",
       "      <td>20134</td>\n",
       "      <td>EK201340237996</td>\n",
       "      <td>Single</td>\n",
       "      <td>STUDENT</td>\n",
       "      <td>COLOMBIA</td>\n",
       "      <td>NaN</td>\n",
       "      <td>BOLIVAR</td>\n",
       "      <td>13.0</td>\n",
       "      <td>CARTAGENA DE INDIAS</td>\n",
       "      <td>13001.0</td>\n",
       "      <td>Technical Bachelor</td>\n",
       "      <td>2012.0</td>\n",
       "      <td>2nd semester</td>\n",
       "      <td>Doesn't follow the credit system</td>\n",
       "      <td>Did not pay tuition</td>\n",
       "      <td>NaN</td>\n",
       "      <td>NaN</td>\n",
       "      <td>NaN</td>\n",
       "      <td>NaN</td>\n",
       "      <td>No</td>\n",
       "      <td>He did not take a course</td>\n",
       "      <td>He did not take a course</td>\n",
       "      <td>No tomó curso</td>\n",
       "      <td>No</td>\n",
       "      <td>No</td>\n",
       "      <td>No</td>\n",
       "      <td>5.0</td>\n",
       "      <td>It is habitual or permanent</td>\n",
       "      <td>No</td>\n",
       "      <td>None</td>\n",
       "      <td>Technical School complete</td>\n",
       "      <td>Middle School complete</td>\n",
       "      <td>Other activity or occupation</td>\n",
       "      <td>Empleado de nivel auxiliar o administrativo</td>\n",
       "      <td>NaN</td>\n",
       "      <td>NaN</td>\n",
       "      <td>Stratum 1</td>\n",
       "      <td>Level 1</td>\n",
       "      <td>No</td>\n",
       "      <td>No</td>\n",
       "      <td>No</td>\n",
       "      <td>No</td>\n",
       "      <td>No</td>\n",
       "      <td>Si</td>\n",
       "      <td>NaN</td>\n",
       "      <td>Si</td>\n",
       "      <td>Less than 1 SMLV</td>\n",
       "      <td>No</td>\n",
       "      <td>9110</td>\n",
       "      <td>SERVICIO NACIONAL DE APRENDIZAJE-SENA</td>\n",
       "      <td>TECNOLOGIA EN GESTION PORTUARIA</td>\n",
       "      <td>91227.0</td>\n",
       "      <td>TECNOLOGICO EN ADMINISTRACIÓN Y TURISMO</td>\n",
       "      <td>13001</td>\n",
       "      <td>CARTAGENA DE INDIAS</td>\n",
       "      <td>BOLIVAR</td>\n",
       "      <td>TECHNOLOGY</td>\n",
       "      <td>DISTANCE</td>\n",
       "      <td>ECONOMY</td>\n",
       "      <td>11001</td>\n",
       "      <td>BOGOTÁ D.C.</td>\n",
       "      <td>BOGOTA</td>\n",
       "      <td>TECHNOLOGICAL INSTITUTION</td>\n",
       "      <td>OFFICIAL NATIONAL LEVEL</td>\n",
       "      <td>9.3</td>\n",
       "      <td>8.2</td>\n",
       "      <td>9.2</td>\n",
       "      <td>9.5</td>\n",
       "      <td>9.4</td>\n",
       "      <td>TO POST</td>\n",
       "      <td>11</td>\n",
       "      <td>TI</td>\n",
       "      <td>COLOMBIA</td>\n",
       "      <td>F</td>\n",
       "      <td>10/01/1996</td>\n",
       "      <td>20122</td>\n",
       "      <td>SB11201220372144</td>\n",
       "      <td>STUDENT</td>\n",
       "      <td>COLOMBIA</td>\n",
       "      <td>BOLIVAR</td>\n",
       "      <td>13.0</td>\n",
       "      <td>CARTAGENA DE INDIAS</td>\n",
       "      <td>13001.0</td>\n",
       "      <td>Head of Municipality</td>\n",
       "      <td>Does not pay Pension</td>\n",
       "      <td>NaN</td>\n",
       "      <td>Undergraduate Degree complete</td>\n",
       "      <td>Middle School complete</td>\n",
       "      <td>Employee with technical level or professional</td>\n",
       "      <td>Operator employee</td>\n",
       "      <td>NaN</td>\n",
       "      <td>Level 1</td>\n",
       "      <td>Nine</td>\n",
       "      <td>Four</td>\n",
       "      <td>Polished wood, tile, tablet, marble, carpet</td>\n",
       "      <td>No</td>\n",
       "      <td>No</td>\n",
       "      <td>No</td>\n",
       "      <td>No</td>\n",
       "      <td>No</td>\n",
       "      <td>No</td>\n",
       "      <td>Si</td>\n",
       "      <td>No</td>\n",
       "      <td>Si</td>\n",
       "      <td>No</td>\n",
       "      <td>Between 2 and less than 3 SMLV</td>\n",
       "      <td>No</td>\n",
       "      <td>No</td>\n",
       "      <td>NaN</td>\n",
       "      <td>9110.0</td>\n",
       "      <td>1.130010e+11</td>\n",
       "      <td>INSTITUCION EDUCATIVA OLGA GONZALEZ ARRAUT</td>\n",
       "      <td>MIXED</td>\n",
       "      <td>OFFICIAL</td>\n",
       "      <td>A</td>\n",
       "      <td>N</td>\n",
       "      <td>TECHNICAL/ACADEMIC</td>\n",
       "      <td>1.130010e+11</td>\n",
       "      <td>INSTITUCION EDUCATIVA OLGA GONZALEZ ARRAUT</td>\n",
       "      <td>YES</td>\n",
       "      <td>URBAN</td>\n",
       "      <td>LATE</td>\n",
       "      <td>13001.0</td>\n",
       "      <td>CARTAGENA DE INDIAS</td>\n",
       "      <td>13.0</td>\n",
       "      <td>BOLIVAR</td>\n",
       "      <td>40.0</td>\n",
       "      <td>46.0</td>\n",
       "      <td>34.0</td>\n",
       "      <td>35.0</td>\n",
       "      <td>45.0</td>\n",
       "      <td>42.0</td>\n",
       "      <td>40.0</td>\n",
       "      <td>43.0</td>\n",
       "      <td>A-</td>\n",
       "      <td>SCORE_INTERDISC_VIOLENCE_AND_SOC</td>\n",
       "      <td>29.0</td>\n",
       "      <td>NaN</td>\n",
       "    </tr>\n",
       "    <tr>\n",
       "      <th>4</th>\n",
       "      <td>CC</td>\n",
       "      <td>COLOMBIA</td>\n",
       "      <td>M</td>\n",
       "      <td>11/10/1995</td>\n",
       "      <td>NO</td>\n",
       "      <td>20173</td>\n",
       "      <td>EK201730119521</td>\n",
       "      <td>NaN</td>\n",
       "      <td>STUDENT</td>\n",
       "      <td>COLOMBIA</td>\n",
       "      <td>No</td>\n",
       "      <td>CUNDINAMARCA</td>\n",
       "      <td>25.0</td>\n",
       "      <td>SOACHA</td>\n",
       "      <td>25754.0</td>\n",
       "      <td>Technical Bachelor</td>\n",
       "      <td>NaN</td>\n",
       "      <td>NaN</td>\n",
       "      <td>NaN</td>\n",
       "      <td>Between 2.5 million and less than 4 million</td>\n",
       "      <td>No</td>\n",
       "      <td>Si</td>\n",
       "      <td>No</td>\n",
       "      <td>No</td>\n",
       "      <td>NaN</td>\n",
       "      <td>NaN</td>\n",
       "      <td>NaN</td>\n",
       "      <td>NaN</td>\n",
       "      <td>NaN</td>\n",
       "      <td>NaN</td>\n",
       "      <td>NaN</td>\n",
       "      <td>8.0</td>\n",
       "      <td>It is habitual or permanent</td>\n",
       "      <td>No</td>\n",
       "      <td>None</td>\n",
       "      <td>Elementary school complete</td>\n",
       "      <td>Middle School complete</td>\n",
       "      <td>Does not apply</td>\n",
       "      <td>Does not apply</td>\n",
       "      <td>NaN</td>\n",
       "      <td>NaN</td>\n",
       "      <td>Stratum 3</td>\n",
       "      <td>NaN</td>\n",
       "      <td>Si</td>\n",
       "      <td>Si</td>\n",
       "      <td>NaN</td>\n",
       "      <td>No</td>\n",
       "      <td>NaN</td>\n",
       "      <td>NaN</td>\n",
       "      <td>26 TO 100 BOOKS</td>\n",
       "      <td>NaN</td>\n",
       "      <td>NaN</td>\n",
       "      <td>NaN</td>\n",
       "      <td>2728</td>\n",
       "      <td>FUNDACION UNIVERSITARIA DEL AREA ANDINA-BOGOTÁ...</td>\n",
       "      <td>NEGOCIOS INTERNACIONALES</td>\n",
       "      <td>4678.0</td>\n",
       "      <td>ADMINISTRACIÓN Y AFINES</td>\n",
       "      <td>11001</td>\n",
       "      <td>BOGOTÁ, D.C.</td>\n",
       "      <td>BOGOTA</td>\n",
       "      <td>UNIVERSITY</td>\n",
       "      <td>IN PERSON</td>\n",
       "      <td>ADMINISTRATION</td>\n",
       "      <td>11001</td>\n",
       "      <td>BOGOTÁ, D.C.</td>\n",
       "      <td>BOGOTA</td>\n",
       "      <td>UNIVERSITY INSTITUTION</td>\n",
       "      <td>NOT OFFICIAL - FOUNDATION</td>\n",
       "      <td>145.0</td>\n",
       "      <td>179.0</td>\n",
       "      <td>118.0</td>\n",
       "      <td>132.0</td>\n",
       "      <td>138.0</td>\n",
       "      <td>TO POST</td>\n",
       "      <td>11</td>\n",
       "      <td>TI</td>\n",
       "      <td>COLOMBIA</td>\n",
       "      <td>M</td>\n",
       "      <td>11/10/1995</td>\n",
       "      <td>20132</td>\n",
       "      <td>SB11201320427497</td>\n",
       "      <td>STUDENT</td>\n",
       "      <td>COLOMBIA</td>\n",
       "      <td>CUNDINAMARCA</td>\n",
       "      <td>25.0</td>\n",
       "      <td>SOACHA</td>\n",
       "      <td>25754.0</td>\n",
       "      <td>Head of Municipality</td>\n",
       "      <td>Does not pay Pension</td>\n",
       "      <td>Never</td>\n",
       "      <td>Middle School complete</td>\n",
       "      <td>Elementary school complete</td>\n",
       "      <td>Other activity or occupation</td>\n",
       "      <td>Other activity or occupation</td>\n",
       "      <td>Stratum 3</td>\n",
       "      <td>Not classified by SISBEN</td>\n",
       "      <td>Six</td>\n",
       "      <td>Four</td>\n",
       "      <td>Polished wood, tile, tablet, marble, carpet</td>\n",
       "      <td>Si</td>\n",
       "      <td>Si</td>\n",
       "      <td>Si</td>\n",
       "      <td>Si</td>\n",
       "      <td>No</td>\n",
       "      <td>Si</td>\n",
       "      <td>Si</td>\n",
       "      <td>Si</td>\n",
       "      <td>Si</td>\n",
       "      <td>Si</td>\n",
       "      <td>Between 1 and less than 2 SMLV</td>\n",
       "      <td>No</td>\n",
       "      <td>No</td>\n",
       "      <td>Si</td>\n",
       "      <td>157636.0</td>\n",
       "      <td>3.257540e+11</td>\n",
       "      <td>LICEO NUESTRA SENORA MILAGROSA</td>\n",
       "      <td>MIXED</td>\n",
       "      <td>NOT OFFICIAL</td>\n",
       "      <td>A</td>\n",
       "      <td>NaN</td>\n",
       "      <td>ACADEMIC</td>\n",
       "      <td>3.257540e+11</td>\n",
       "      <td>LICEO NUESTRA SENORA MILAGROSA</td>\n",
       "      <td>YES</td>\n",
       "      <td>URBAN</td>\n",
       "      <td>COMPLETE</td>\n",
       "      <td>25754.0</td>\n",
       "      <td>SOACHA</td>\n",
       "      <td>25.0</td>\n",
       "      <td>CUNDINAMARCA</td>\n",
       "      <td>48.0</td>\n",
       "      <td>44.0</td>\n",
       "      <td>57.0</td>\n",
       "      <td>65.0</td>\n",
       "      <td>44.0</td>\n",
       "      <td>49.0</td>\n",
       "      <td>43.0</td>\n",
       "      <td>42.0</td>\n",
       "      <td>A-</td>\n",
       "      <td>SCORE_INTERDISC_ENVIRONMENT</td>\n",
       "      <td>55.0</td>\n",
       "      <td>NaN</td>\n",
       "    </tr>\n",
       "  </tbody>\n",
       "</table>\n",
       "</div>"
      ],
      "text/plain": [
       "  your_type_of_document your_nationality your_gender your_birthdate  \\\n",
       "0                    TI         COLOMBIA           M     30/07/1996   \n",
       "1                    CC         COLOMBIA           M     13/04/1994   \n",
       "2                    CC         COLOMBIA           F     08/12/1991   \n",
       "3                    TI         COLOMBIA           F     10/01/1996   \n",
       "4                    CC         COLOMBIA           M     11/10/1995   \n",
       "\n",
       "  your_foreigner  period your_consecutive your_marital_status your_student  \\\n",
       "0            NaN   20134   EK201340233804              Single      STUDENT   \n",
       "1            NaN   20133   EK201330220754              Single      STUDENT   \n",
       "2            NaN   20134   EK201340246502              Single      STUDENT   \n",
       "3            NaN   20134   EK201340237996              Single      STUDENT   \n",
       "4             NO   20173   EK201730119521                 NaN      STUDENT   \n",
       "\n",
       "  your_country_resides your_have_ethnicity your_dept_resides  \\\n",
       "0             COLOMBIA                 NaN            BOYACA   \n",
       "1             COLOMBIA                 NaN          AMAZONAS   \n",
       "2             COLOMBIA                 NaN         RISARALDA   \n",
       "3             COLOMBIA                 NaN           BOLIVAR   \n",
       "4             COLOMBIA                  No      CUNDINAMARCA   \n",
       "\n",
       "   your_dept_code_resides your_municipality_resides  \\\n",
       "0                    15.0                  GUATEQUE   \n",
       "1                    91.0                   LETICIA   \n",
       "2                    66.0              DOSQUEBRADAS   \n",
       "3                    13.0       CARTAGENA DE INDIAS   \n",
       "4                    25.0                    SOACHA   \n",
       "\n",
       "   your_municipality_code_resides your_high_school_degree  \\\n",
       "0                         15322.0      Technical Bachelor   \n",
       "1                         91001.0       Academic Bachelor   \n",
       "2                         66170.0      Technical Bachelor   \n",
       "3                         13001.0      Technical Bachelor   \n",
       "4                         25754.0      Technical Bachelor   \n",
       "\n",
       "   your_year_exam_sb11 your_semester_exam__b11  \\\n",
       "0               2013.0            1st semester   \n",
       "1               2012.0            2nd semester   \n",
       "2               2012.0            2nd semester   \n",
       "3               2012.0            2nd semester   \n",
       "4                  NaN                     NaN   \n",
       "\n",
       "   your_percentage_credits_approved  \\\n",
       "0  Doesn't follow the credit system   \n",
       "1                     Less than 75%   \n",
       "2  Doesn't follow the credit system   \n",
       "3  Doesn't follow the credit system   \n",
       "4                               NaN   \n",
       "\n",
       "                  your_tuition_cost_university your_tuition_pymt_scholarship  \\\n",
       "0                          Did not pay tuition                           NaN   \n",
       "1                          Did not pay tuition                           NaN   \n",
       "2                          Did not pay tuition                           NaN   \n",
       "3                          Did not pay tuition                           NaN   \n",
       "4  Between 2.5 million and less than 4 million                            No   \n",
       "\n",
       "  your_tuition_pymt_credit your_tuition_pymt_parents  \\\n",
       "0                      NaN                       NaN   \n",
       "1                      NaN                       NaN   \n",
       "2                      NaN                       NaN   \n",
       "3                      NaN                       NaN   \n",
       "4                       Si                        No   \n",
       "\n",
       "  your_tuition_pymt_yourself your_i_take_course_preparation  \\\n",
       "0                        NaN                            NaN   \n",
       "1                        NaN                             Si   \n",
       "2                        NaN                             No   \n",
       "3                        NaN                             No   \n",
       "4                         No                            NaN   \n",
       "\n",
       "    your_course_teacher_ies your_course_external_support_ies  \\\n",
       "0                       NaN                              NaN   \n",
       "1   Between 20 and 30 hours          Between 20 and 30 hours   \n",
       "2  He did not take a course         He did not take a course   \n",
       "3  He did not take a course         He did not take a course   \n",
       "4                       NaN                              NaN   \n",
       "\n",
       "  your_course_external_ies your_simulation_type_icfes  \\\n",
       "0                      NaN                        NaN   \n",
       "1            No tomó curso                         Si   \n",
       "2            No tomó curso                         No   \n",
       "3            No tomó curso                         No   \n",
       "4                      NaN                        NaN   \n",
       "\n",
       "  your_activity_strengths_areas your_activity_strengths_generic  \\\n",
       "0                           NaN                             NaN   \n",
       "1                            Si                              Si   \n",
       "2                            No                              No   \n",
       "3                            No                              No   \n",
       "4                           NaN                             NaN   \n",
       "\n",
       "   your_on_semester  fami_current_household_type fami_is_the_head_family  \\\n",
       "0               2.0  It is habitual or permanent                      No   \n",
       "1               2.0  It is habitual or permanent                      No   \n",
       "2               2.0  It is habitual or permanent                      No   \n",
       "3               5.0  It is habitual or permanent                      No   \n",
       "4               8.0  It is habitual or permanent                      No   \n",
       "\n",
       "  fami_econ_dependents          fami_father_education  \\\n",
       "0                 None  Undergraduate Degree complete   \n",
       "1                 None         Middle School complete   \n",
       "2                 None   Elementary school incomplete   \n",
       "3                 None      Technical School complete   \n",
       "4                 None     Elementary school complete   \n",
       "\n",
       "          fami_mother_education                       fami_father_occupation  \\\n",
       "0        Middle School complete                    Profesional independiente   \n",
       "1     Technical School complete  Empleado de nivel auxiliar o administrativo   \n",
       "2  Elementary school incomplete                 Other activity or occupation   \n",
       "3        Middle School complete                 Other activity or occupation   \n",
       "4        Middle School complete                               Does not apply   \n",
       "\n",
       "                        fami_mother_occupation fami_father_work  \\\n",
       "0                    Profesional independiente              NaN   \n",
       "1                                Self-employed              NaN   \n",
       "2                                         Home              NaN   \n",
       "3  Empleado de nivel auxiliar o administrativo              NaN   \n",
       "4                               Does not apply              NaN   \n",
       "\n",
       "  fami_mother_work fami_housing_stratum fami_social_stratum_sisben_y  \\\n",
       "0              NaN            Stratum 3     Not classified by SISBEN   \n",
       "1              NaN            Stratum 2     Not classified by SISBEN   \n",
       "2              NaN            Stratum 2                      Level 2   \n",
       "3              NaN            Stratum 1                      Level 1   \n",
       "4              NaN            Stratum 3                          NaN   \n",
       "\n",
       "  fami_internet fami_computer fami_have_oven fami_automobile fami_fridge  \\\n",
       "0            Si            No             Si              No          Si   \n",
       "1            No            Si             Si              Si          Si   \n",
       "2            No            No             No              No          Si   \n",
       "3            No            No             No              No          No   \n",
       "4            Si            Si            NaN              No         NaN   \n",
       "\n",
       "  fami_mobile   fami_num_books fami_landline_phone  \\\n",
       "0          Si              NaN                  No   \n",
       "1          Si              NaN                  No   \n",
       "2          Si              NaN                  No   \n",
       "3          Si              NaN                  Si   \n",
       "4         NaN  26 TO 100 BOOKS                 NaN   \n",
       "\n",
       "       fami_monthly_family_income your_works_currently  inst_institution_code  \\\n",
       "0  Between 3 and less than 5 SMLV                   No                   9110   \n",
       "1  Between 2 and less than 3 SMLV                   No                   2106   \n",
       "2                Less than 1 SMLV                   No                   9110   \n",
       "3                Less than 1 SMLV                   No                   9110   \n",
       "4                             NaN                  NaN                   2728   \n",
       "\n",
       "                               inst_institution_name  \\\n",
       "0              SERVICIO NACIONAL DE APRENDIZAJE-SENA   \n",
       "1         DIRECCION NACIONAL DE ESCUELAS-BOGOTÁ D.C.   \n",
       "2              SERVICIO NACIONAL DE APRENDIZAJE-SENA   \n",
       "3              SERVICIO NACIONAL DE APRENDIZAJE-SENA   \n",
       "4  FUNDACION UNIVERSITARIA DEL AREA ANDINA-BOGOTÁ...   \n",
       "\n",
       "                           your_prgm_academic  your_prgm_academic_snies  \\\n",
       "0       TECNOLOGÍA EN CONTABILIDAD Y FINANZAS                   91157.0   \n",
       "1  TECNICO PROFESIONAL EN SERVICIO DE POLICIA                   11675.0   \n",
       "2       TECNOLOGÍA EN CONTABILIDAD Y FINANZAS                   91157.0   \n",
       "3             TECNOLOGIA EN GESTION PORTUARIA                   91227.0   \n",
       "4                    NEGOCIOS INTERNACIONALES                    4678.0   \n",
       "\n",
       "                           group_reference  your_prgm_municipality_code  \\\n",
       "0  TECNOLOGICO EN ADMINISTRACIÓN Y TURISMO                        11001   \n",
       "1        TECNOLOGICO EN MILITAR Y POLICIAL                        11001   \n",
       "2  TECNOLOGICO EN ADMINISTRACIÓN Y TURISMO                        66001   \n",
       "3  TECNOLOGICO EN ADMINISTRACIÓN Y TURISMO                        13001   \n",
       "4                  ADMINISTRACIÓN Y AFINES                        11001   \n",
       "\n",
       "  your_prgm_municipality your_prgm_department your_prgm_academic_level  \\\n",
       "0            BOGOTÁ D.C.               BOGOTA               TECHNOLOGY   \n",
       "1            BOGOTÁ D.C.               BOGOTA  PROFESSIONAL TECHNICIAN   \n",
       "2                PEREIRA            RISARALDA               TECHNOLOGY   \n",
       "3    CARTAGENA DE INDIAS              BOLIVAR               TECHNOLOGY   \n",
       "4           BOGOTÁ, D.C.               BOGOTA               UNIVERSITY   \n",
       "\n",
       "  your_prgm_method      your_undergraduate_core  your_inst_municipality_code  \\\n",
       "0         DISTANCE            PUBLIC ACCOUNTING                        11001   \n",
       "1        IN PERSON  MILITARY OR POLICE TRAINING                        11001   \n",
       "2         DISTANCE            PUBLIC ACCOUNTING                        11001   \n",
       "3         DISTANCE                      ECONOMY                        11001   \n",
       "4        IN PERSON               ADMINISTRATION                        11001   \n",
       "\n",
       "  your_inst_municipality your_inst_department    inst_character_academic  \\\n",
       "0            BOGOTÁ D.C.               BOGOTA  TECHNOLOGICAL INSTITUTION   \n",
       "1            BOGOTÁ D.C.               BOGOTA     UNIVERSITY INSTITUTION   \n",
       "2            BOGOTÁ D.C.               BOGOTA  TECHNOLOGICAL INSTITUTION   \n",
       "3            BOGOTÁ D.C.               BOGOTA  TECHNOLOGICAL INSTITUTION   \n",
       "4           BOGOTÁ, D.C.               BOGOTA     UNIVERSITY INSTITUTION   \n",
       "\n",
       "                 inst_origin  score_math_saber_pro  score_language_saber_pro  \\\n",
       "0    OFFICIAL NATIONAL LEVEL                   9.6                       8.3   \n",
       "1    OFFICIAL NATIONAL LEVEL                  10.8                      10.1   \n",
       "2    OFFICIAL NATIONAL LEVEL                  10.6                      11.2   \n",
       "3    OFFICIAL NATIONAL LEVEL                   9.3                       8.2   \n",
       "4  NOT OFFICIAL - FOUNDATION                 145.0                     179.0   \n",
       "\n",
       "   score_social_science_saber_pro  score_english_saber_pro  \\\n",
       "0                             8.2                      9.4   \n",
       "1                            11.4                      9.6   \n",
       "2                            10.4                      9.5   \n",
       "3                             9.2                      9.5   \n",
       "4                           118.0                    132.0   \n",
       "\n",
       "   score_writing_saber_pro your_state_research  your_inst_department_code  \\\n",
       "0                      9.4             TO POST                         11   \n",
       "1                     10.4             TO POST                         11   \n",
       "2                      9.9             TO POST                         11   \n",
       "3                      9.4             TO POST                         11   \n",
       "4                    138.0             TO POST                         11   \n",
       "\n",
       "  your_type_of_document.1 your_nationality.1 your_gender.1 your_birthdate.1  \\\n",
       "0                      TI           COLOMBIA             M       30/07/1996   \n",
       "1                      CC           COLOMBIA             M       13/04/1994   \n",
       "2                      CC           COLOMBIA             F       08/12/1991   \n",
       "3                      TI           COLOMBIA             F       10/01/1996   \n",
       "4                      TI           COLOMBIA             M       11/10/1995   \n",
       "\n",
       "   period.1 your_consecutive.1 your_student.1 your_country_resides.1  \\\n",
       "0     20122   SB11201220401680        STUDENT               COLOMBIA   \n",
       "1     20122   SB11201220585536        STUDENT               COLOMBIA   \n",
       "2     20122   SB11201220051348        STUDENT               COLOMBIA   \n",
       "3     20122   SB11201220372144        STUDENT               COLOMBIA   \n",
       "4     20132   SB11201320427497        STUDENT               COLOMBIA   \n",
       "\n",
       "  your_dept_resides.1  your_dept_code_resides.1 your_municipality_resides.1  \\\n",
       "0              BOYACA                      15.0                    GUATEQUE   \n",
       "1            AMAZONAS                      91.0                     LETICIA   \n",
       "2           RISARALDA                      66.0                     PEREIRA   \n",
       "3             BOLIVAR                      13.0         CARTAGENA DE INDIAS   \n",
       "4        CUNDINAMARCA                      25.0                      SOACHA   \n",
       "\n",
       "   your_municipality_code_resides.1     your_area_residse  \\\n",
       "0                           15322.0  Head of Municipality   \n",
       "1                           91001.0  Head of Municipality   \n",
       "2                           66001.0  Head of Municipality   \n",
       "3                           13001.0  Head of Municipality   \n",
       "4                           25754.0  Head of Municipality   \n",
       "\n",
       "           your_tuition your_times_took_exam        fami_father_education.1  \\\n",
       "0  Does not pay Pension                  NaN                Graduate Degree   \n",
       "1  Does not pay Pension                  NaN         Middle School complete   \n",
       "2  Does not pay Pension                  NaN         Middle School complete   \n",
       "3  Does not pay Pension                  NaN  Undergraduate Degree complete   \n",
       "4  Does not pay Pension                Never         Middle School complete   \n",
       "\n",
       "      fami_mother_education.1  \\\n",
       "0      Middle School complete   \n",
       "1      Middle School complete   \n",
       "2  Elementary school complete   \n",
       "3      Middle School complete   \n",
       "4  Elementary school complete   \n",
       "\n",
       "                            fami_father_occupation.1  \\\n",
       "0                                        Businessman   \n",
       "1  Empleado con cargo como director o gerente gen...   \n",
       "2                                               Home   \n",
       "3      Employee with technical level or professional   \n",
       "4                       Other activity or occupation   \n",
       "\n",
       "       fami_mother_occupation.1 fami_housing_stratum.1  \\\n",
       "0                   Businessman              Stratum 3   \n",
       "1                 Self-employed              Stratum 2   \n",
       "2                          Home              Stratum 2   \n",
       "3             Operator employee                    NaN   \n",
       "4  Other activity or occupation              Stratum 3   \n",
       "\n",
       "  fami_social_stratum_sisben fami_house_members fami_house_rooms  \\\n",
       "0   Not classified by SISBEN               Four             Four   \n",
       "1   Not classified by SISBEN               Five            Three   \n",
       "2                    Level 2               Five            Three   \n",
       "3                    Level 1               Nine             Four   \n",
       "4   Not classified by SISBEN                Six             Four   \n",
       "\n",
       "                              fami_house_floor fami_internet.1  \\\n",
       "0  Polished wood, tile, tablet, marble, carpet              Si   \n",
       "1                        Cement, gravel, brick              No   \n",
       "2                        Cement, gravel, brick              Si   \n",
       "3  Polished wood, tile, tablet, marble, carpet              No   \n",
       "4  Polished wood, tile, tablet, marble, carpet              Si   \n",
       "\n",
       "  fami_computer.1 fami_washer fami_microwave fami_oven fami_automobile.1  \\\n",
       "0              Si          Si             Si        Si                Si   \n",
       "1              No          Si             No        No                No   \n",
       "2              Si          Si             Si        Si                No   \n",
       "3              No          No             No        No                No   \n",
       "4              Si          Si             Si        No                Si   \n",
       "\n",
       "  fami_dvd fami_fridge.1 fami_mobile.1 fami_landline_phone.1  \\\n",
       "0       Si            Si            Si                    Si   \n",
       "1       Si            No            Si                    Si   \n",
       "2       Si            Si            Si                    Si   \n",
       "3       Si            No            Si                    No   \n",
       "4       Si            Si            Si                    Si   \n",
       "\n",
       "       fami_monthly_family_income          your_currently_working  \\\n",
       "0                             NaN                              No   \n",
       "1  Between 2 and less than 3 SMLV  Yes, 20 hours or more per week   \n",
       "2                Less than 1 SMLV                              No   \n",
       "3  Between 2 and less than 3 SMLV                              No   \n",
       "4  Between 1 and less than 2 SMLV                              No   \n",
       "\n",
       "  your_background your_expectations  cole_saber_11_icfes_code  \\\n",
       "0              No               NaN                    5207.0   \n",
       "1              No               NaN                   38919.0   \n",
       "2              Si               NaN                   61424.0   \n",
       "3              No               NaN                    9110.0   \n",
       "4              No                Si                  157636.0   \n",
       "\n",
       "   cole_saber_11_icfes_dane                    cole_saber_11_icfes_name  \\\n",
       "0              1.153220e+11                         I.E. VALLE DE TENZA   \n",
       "1              1.910010e+11              I.E. INEM JOSE EUSTASIO RIVERA   \n",
       "2              1.660010e+11                          IE AQUILINO BEDOYA   \n",
       "3              1.130010e+11  INSTITUCION EDUCATIVA OLGA GONZALEZ ARRAUT   \n",
       "4              3.257540e+11              LICEO NUESTRA SENORA MILAGROSA   \n",
       "\n",
       "  cole_type   cole_nature cole_calendar cole_bilingual      cole_character  \\\n",
       "0     MIXED      OFFICIAL             A              N  TECHNICAL/ACADEMIC   \n",
       "1     MIXED      OFFICIAL             A              N  TECHNICAL/ACADEMIC   \n",
       "2     MIXED      OFFICIAL             A              N  TECHNICAL/ACADEMIC   \n",
       "3     MIXED      OFFICIAL             A              N  TECHNICAL/ACADEMIC   \n",
       "4     MIXED  NOT OFFICIAL             A            NaN            ACADEMIC   \n",
       "\n",
       "   cole_dane_code_campus                                 cole_name_campus  \\\n",
       "0           1.153220e+11             I.E. VALLE DE TENZA - SEDE PRINCIPAL   \n",
       "1           1.910010e+11  I.E. INEM JOSE EUSTASIO RIVERA - SEDE PRINCIPAL   \n",
       "2           1.660010e+11                         LIC CIAL AQUILINO BEDOYA   \n",
       "3           1.130010e+11       INSTITUCION EDUCATIVA OLGA GONZALEZ ARRAUT   \n",
       "4           3.257540e+11                   LICEO NUESTRA SENORA MILAGROSA   \n",
       "\n",
       "  cole_main_campus cole_area_location cole_journey  \\\n",
       "0              YES              URBAN      MORNING   \n",
       "1              YES              URBAN      MORNING   \n",
       "2              YES              URBAN         LATE   \n",
       "3              YES              URBAN         LATE   \n",
       "4              YES              URBAN     COMPLETE   \n",
       "\n",
       "   cole_municipality_code_location cole_municipality_location  \\\n",
       "0                          15322.0                   GUATEQUE   \n",
       "1                          91001.0                    LETICIA   \n",
       "2                          66001.0                    PEREIRA   \n",
       "3                          13001.0        CARTAGENA DE INDIAS   \n",
       "4                          25754.0                     SOACHA   \n",
       "\n",
       "   cole_dept_code_location cole_dept_location  score_language_saber_11  \\\n",
       "0                     15.0             BOYACA                     32.0   \n",
       "1                     91.0           AMAZONAS                     48.0   \n",
       "2                     66.0          RISARALDA                     57.0   \n",
       "3                     13.0            BOLIVAR                     40.0   \n",
       "4                     25.0       CUNDINAMARCA                     48.0   \n",
       "\n",
       "   score_mathematics_saber_11  score_biology_saber_11  \\\n",
       "0                        43.0                    39.0   \n",
       "1                        64.0                    52.0   \n",
       "2                        42.0                    50.0   \n",
       "3                        46.0                    34.0   \n",
       "4                        44.0                    57.0   \n",
       "\n",
       "   score_chemistry_saber_11  score_physics_saber_11  \\\n",
       "0                      42.0                    33.0   \n",
       "1                      52.0                    54.0   \n",
       "2                      51.0                    28.0   \n",
       "3                      35.0                    45.0   \n",
       "4                      65.0                    44.0   \n",
       "\n",
       "   score_social_science_saber_11  score_philosophy_saber_11  \\\n",
       "0                           33.0                       29.0   \n",
       "1                           44.0                       47.0   \n",
       "2                           46.0                       45.0   \n",
       "3                           42.0                       40.0   \n",
       "4                           49.0                       43.0   \n",
       "\n",
       "   score_english_saber_11 score_english_saber_11_category  \\\n",
       "0                    38.0                              A-   \n",
       "1                    51.0                              A1   \n",
       "2                    43.0                              A-   \n",
       "3                    43.0                              A-   \n",
       "4                    42.0                              A-   \n",
       "\n",
       "            optative_field_saber_11  score_optative_saber_11  \\\n",
       "0       SCORE_INTERDISC_ENVIRONMENT                     49.0   \n",
       "1             SCORE_DEEPEN_LANGUAGE                      6.0   \n",
       "2              SCORE_DEEPEN_BIOLOGY                      5.0   \n",
       "3  SCORE_INTERDISC_VIOLENCE_AND_SOC                     29.0   \n",
       "4       SCORE_INTERDISC_ENVIRONMENT                     55.0   \n",
       "\n",
       "  optative_category_saber_11  \n",
       "0                        NaN  \n",
       "1                         II  \n",
       "2                          I  \n",
       "3                        NaN  \n",
       "4                        NaN  "
      ]
     },
     "execution_count": 8,
     "metadata": {},
     "output_type": "execute_result"
    }
   ],
   "source": [
    "data.head()"
   ]
  },
  {
   "cell_type": "markdown",
   "id": "cutting-syntax",
   "metadata": {},
   "source": [
    "All the data has been translated from Spanish to English. Now we can move on with the further preprocessing steps."
   ]
  },
  {
   "cell_type": "markdown",
   "id": "bearing-channels",
   "metadata": {},
   "source": [
    "### Handling the Null values in tha Data"
   ]
  },
  {
   "cell_type": "code",
   "execution_count": 9,
   "id": "cognitive-uruguay",
   "metadata": {},
   "outputs": [
    {
     "data": {
      "text/plain": [
       "(212010, 143)"
      ]
     },
     "execution_count": 9,
     "metadata": {},
     "output_type": "execute_result"
    }
   ],
   "source": [
    "data.shape"
   ]
  },
  {
   "cell_type": "code",
   "execution_count": 10,
   "id": "modular-special",
   "metadata": {},
   "outputs": [
    {
     "name": "stdout",
     "output_type": "stream",
     "text": [
      "84805\n"
     ]
    }
   ],
   "source": [
    "# Credits to Prakash for this block of code\n",
    "# Delete dataframe columns based on NaN percentage( i.e 60 %)\n",
    "perc = 60.0 # Like N %\n",
    "min_count =  int(((100-perc)/100)*data.shape[0] + 1)\n",
    "print(min_count)\n",
    "data = data.dropna( axis=1, \n",
    "                thresh=min_count)"
   ]
  },
  {
   "cell_type": "code",
   "execution_count": 11,
   "id": "continuing-signal",
   "metadata": {},
   "outputs": [
    {
     "data": {
      "text/plain": [
       "(212010, 123)"
      ]
     },
     "execution_count": 11,
     "metadata": {},
     "output_type": "execute_result"
    }
   ],
   "source": [
    "data.shape"
   ]
  },
  {
   "cell_type": "markdown",
   "id": "printable-pharmaceutical",
   "metadata": {},
   "source": [
    "We have removed 20 features which had more than 60% null values."
   ]
  },
  {
   "cell_type": "code",
   "execution_count": 12,
   "id": "natural-collaboration",
   "metadata": {},
   "outputs": [
    {
     "name": "stdout",
     "output_type": "stream",
     "text": [
      "your_type_of_document              False\n",
      "your_nationality                   False\n",
      "your_gender                         True\n",
      "your_birthdate                      True\n",
      "your_foreigner                      True\n",
      "                                   ...  \n",
      "score_english_saber_11             False\n",
      "score_english_saber_11_category     True\n",
      "optative_field_saber_11            False\n",
      "score_optative_saber_11            False\n",
      "optative_category_saber_11          True\n",
      "Length: 123, dtype: bool\n"
     ]
    }
   ],
   "source": [
    "print(data.isnull().any())"
   ]
  },
  {
   "cell_type": "markdown",
   "id": "centered-blast",
   "metadata": {},
   "source": [
    "### Deleting the duplicate columns"
   ]
  },
  {
   "cell_type": "code",
   "execution_count": 13,
   "id": "revolutionary-novelty",
   "metadata": {},
   "outputs": [],
   "source": [
    "cols = data.columns"
   ]
  },
  {
   "cell_type": "code",
   "execution_count": 14,
   "id": "vital-insert",
   "metadata": {},
   "outputs": [
    {
     "name": "stdout",
     "output_type": "stream",
     "text": [
      "Index(['your_type_of_document', 'your_nationality', 'your_gender',\n",
      "       'your_birthdate', 'your_foreigner', 'period', 'your_consecutive',\n",
      "       'your_marital_status', 'your_student', 'your_country_resides',\n",
      "       ...\n",
      "       'score_biology_saber_11', 'score_chemistry_saber_11',\n",
      "       'score_physics_saber_11', 'score_social_science_saber_11',\n",
      "       'score_philosophy_saber_11', 'score_english_saber_11',\n",
      "       'score_english_saber_11_category', 'optative_field_saber_11',\n",
      "       'score_optative_saber_11', 'optative_category_saber_11'],\n",
      "      dtype='object', length=123)\n"
     ]
    }
   ],
   "source": [
    "print(cols)"
   ]
  },
  {
   "cell_type": "code",
   "execution_count": 15,
   "id": "indonesian-ladder",
   "metadata": {},
   "outputs": [],
   "source": [
    "dup_cols = [col for col in cols if \".1\" in col]"
   ]
  },
  {
   "cell_type": "code",
   "execution_count": 16,
   "id": "waiting-cyprus",
   "metadata": {},
   "outputs": [
    {
     "data": {
      "text/plain": [
       "['your_type_of_document.1',\n",
       " 'your_nationality.1',\n",
       " 'your_gender.1',\n",
       " 'your_birthdate.1',\n",
       " 'period.1',\n",
       " 'your_consecutive.1',\n",
       " 'your_student.1',\n",
       " 'your_country_resides.1',\n",
       " 'your_dept_resides.1',\n",
       " 'your_dept_code_resides.1',\n",
       " 'your_municipality_resides.1',\n",
       " 'your_municipality_code_resides.1',\n",
       " 'fami_father_education.1',\n",
       " 'fami_mother_education.1',\n",
       " 'fami_father_occupation.1',\n",
       " 'fami_mother_occupation.1',\n",
       " 'fami_housing_stratum.1',\n",
       " 'fami_internet.1',\n",
       " 'fami_computer.1',\n",
       " 'fami_automobile.1',\n",
       " 'fami_fridge.1',\n",
       " 'fami_mobile.1',\n",
       " 'fami_landline_phone.1']"
      ]
     },
     "execution_count": 16,
     "metadata": {},
     "output_type": "execute_result"
    }
   ],
   "source": [
    "dup_cols"
   ]
  },
  {
   "cell_type": "code",
   "execution_count": 17,
   "id": "bottom-physics",
   "metadata": {},
   "outputs": [
    {
     "data": {
      "text/plain": [
       "23"
      ]
     },
     "execution_count": 17,
     "metadata": {},
     "output_type": "execute_result"
    }
   ],
   "source": [
    "len(dup_cols)"
   ]
  },
  {
   "cell_type": "markdown",
   "id": "surprising-contribution",
   "metadata": {},
   "source": [
    "We have found 23 columns that are duplicate. These columns can be removed."
   ]
  },
  {
   "cell_type": "code",
   "execution_count": 18,
   "id": "lucky-monte",
   "metadata": {},
   "outputs": [
    {
     "data": {
      "text/plain": [
       "(212010, 123)"
      ]
     },
     "execution_count": 18,
     "metadata": {},
     "output_type": "execute_result"
    }
   ],
   "source": [
    "data.shape"
   ]
  },
  {
   "cell_type": "code",
   "execution_count": 19,
   "id": "economic-portable",
   "metadata": {},
   "outputs": [],
   "source": [
    "data.drop(labels=dup_cols, axis=1, inplace=True)"
   ]
  },
  {
   "cell_type": "code",
   "execution_count": 20,
   "id": "fancy-kenya",
   "metadata": {},
   "outputs": [
    {
     "data": {
      "text/plain": [
       "(212010, 100)"
      ]
     },
     "execution_count": 20,
     "metadata": {},
     "output_type": "execute_result"
    }
   ],
   "source": [
    "data.shape"
   ]
  },
  {
   "cell_type": "markdown",
   "id": "satisfactory-sunset",
   "metadata": {},
   "source": [
    "We have successfully dropped the 23 duplicate columns."
   ]
  },
  {
   "cell_type": "code",
   "execution_count": 21,
   "id": "wound-exhibit",
   "metadata": {},
   "outputs": [
    {
     "data": {
      "text/plain": [
       "53"
      ]
     },
     "execution_count": 21,
     "metadata": {},
     "output_type": "execute_result"
    }
   ],
   "source": [
    "sum(data.isnull().any())"
   ]
  },
  {
   "cell_type": "code",
   "execution_count": 22,
   "id": "chief-safety",
   "metadata": {},
   "outputs": [],
   "source": [
    "nan_cols = [i for i in data.columns if data[i].isnull().any()]"
   ]
  },
  {
   "cell_type": "code",
   "execution_count": 23,
   "id": "civil-raise",
   "metadata": {},
   "outputs": [
    {
     "data": {
      "text/plain": [
       "53"
      ]
     },
     "execution_count": 23,
     "metadata": {},
     "output_type": "execute_result"
    }
   ],
   "source": [
    "len(nan_cols)"
   ]
  },
  {
   "cell_type": "markdown",
   "id": "robust-ukraine",
   "metadata": {},
   "source": [
    "We are left with 53 features that have some null values. We need to perform further analysis to devise a strategy to remove these null values."
   ]
  },
  {
   "cell_type": "code",
   "execution_count": 24,
   "id": "harmful-cooling",
   "metadata": {},
   "outputs": [
    {
     "data": {
      "text/plain": [
       "['your_gender',\n",
       " 'your_birthdate',\n",
       " 'your_foreigner',\n",
       " 'your_marital_status',\n",
       " 'your_have_ethnicity',\n",
       " 'your_dept_resides',\n",
       " 'your_dept_code_resides',\n",
       " 'your_municipality_resides',\n",
       " 'your_municipality_code_resides',\n",
       " 'your_high_school_degree',\n",
       " 'your_tuition_cost_university',\n",
       " 'your_tuition_pymt_scholarship',\n",
       " 'your_tuition_pymt_credit',\n",
       " 'your_tuition_pymt_parents',\n",
       " 'your_tuition_pymt_yourself',\n",
       " 'your_on_semester',\n",
       " 'fami_current_household_type',\n",
       " 'fami_is_the_head_family',\n",
       " 'fami_econ_dependents',\n",
       " 'fami_father_education',\n",
       " 'fami_mother_education',\n",
       " 'fami_father_occupation',\n",
       " 'fami_mother_occupation',\n",
       " 'fami_housing_stratum',\n",
       " 'fami_internet',\n",
       " 'fami_computer',\n",
       " 'fami_automobile',\n",
       " 'fami_num_books',\n",
       " 'your_prgm_academic_snies',\n",
       " 'your_undergraduate_core',\n",
       " 'score_writing_saber_pro',\n",
       " 'your_area_residse',\n",
       " 'your_tuition',\n",
       " 'your_times_took_exam',\n",
       " 'fami_social_stratum_sisben',\n",
       " 'fami_house_members',\n",
       " 'fami_house_rooms',\n",
       " 'fami_house_floor',\n",
       " 'fami_washer',\n",
       " 'fami_microwave',\n",
       " 'fami_oven',\n",
       " 'fami_dvd',\n",
       " 'fami_monthly_family_income',\n",
       " 'your_currently_working',\n",
       " 'cole_saber_11_icfes_code',\n",
       " 'cole_saber_11_icfes_dane',\n",
       " 'cole_calendar',\n",
       " 'cole_bilingual',\n",
       " 'cole_character',\n",
       " 'cole_dane_code_campus',\n",
       " 'cole_area_location',\n",
       " 'score_english_saber_11_category',\n",
       " 'optative_category_saber_11']"
      ]
     },
     "execution_count": 24,
     "metadata": {},
     "output_type": "execute_result"
    }
   ],
   "source": [
    "nan_cols"
   ]
  },
  {
   "cell_type": "markdown",
   "id": "married-footwear",
   "metadata": {},
   "source": [
    "### your_gender"
   ]
  },
  {
   "cell_type": "code",
   "execution_count": 25,
   "id": "specific-thriller",
   "metadata": {},
   "outputs": [
    {
     "data": {
      "text/plain": [
       "3"
      ]
     },
     "execution_count": 25,
     "metadata": {},
     "output_type": "execute_result"
    }
   ],
   "source": [
    "data[\"your_gender\"].isnull().sum()"
   ]
  },
  {
   "cell_type": "code",
   "execution_count": 26,
   "id": "proper-subcommittee",
   "metadata": {},
   "outputs": [
    {
     "data": {
      "text/plain": [
       "F    129974\n",
       "M     82033\n",
       "Name: your_gender, dtype: int64"
      ]
     },
     "execution_count": 26,
     "metadata": {},
     "output_type": "execute_result"
    }
   ],
   "source": [
    "data[\"your_gender\"].value_counts()"
   ]
  },
  {
   "cell_type": "markdown",
   "id": "planned-grove",
   "metadata": {},
   "source": [
    "There are just 3 values that are missing. As we have found in EDA insights that both the genders have the same statistics hence we can just replace the null values with the majority category which is F."
   ]
  },
  {
   "cell_type": "code",
   "execution_count": 27,
   "id": "enhanced-mozambique",
   "metadata": {},
   "outputs": [],
   "source": [
    "data[\"your_gender\"].fillna(\"F\", inplace=True)"
   ]
  },
  {
   "cell_type": "code",
   "execution_count": 28,
   "id": "respected-customs",
   "metadata": {},
   "outputs": [
    {
     "data": {
      "text/plain": [
       "0"
      ]
     },
     "execution_count": 28,
     "metadata": {},
     "output_type": "execute_result"
    }
   ],
   "source": [
    "data[\"your_gender\"].isnull().sum()"
   ]
  },
  {
   "cell_type": "code",
   "execution_count": 29,
   "id": "equipped-dominican",
   "metadata": {},
   "outputs": [
    {
     "data": {
      "text/plain": [
       "F    129977\n",
       "M     82033\n",
       "Name: your_gender, dtype: int64"
      ]
     },
     "execution_count": 29,
     "metadata": {},
     "output_type": "execute_result"
    }
   ],
   "source": [
    "data[\"your_gender\"].value_counts()"
   ]
  },
  {
   "cell_type": "markdown",
   "id": "impaired-commonwealth",
   "metadata": {},
   "source": [
    "### your_birthdate"
   ]
  },
  {
   "cell_type": "code",
   "execution_count": 30,
   "id": "applicable-moscow",
   "metadata": {},
   "outputs": [
    {
     "data": {
      "text/plain": [
       "121"
      ]
     },
     "execution_count": 30,
     "metadata": {},
     "output_type": "execute_result"
    }
   ],
   "source": [
    "data[\"your_birthdate\"].isnull().sum()"
   ]
  },
  {
   "cell_type": "code",
   "execution_count": 31,
   "id": "suburban-aspect",
   "metadata": {},
   "outputs": [
    {
     "data": {
      "text/plain": [
       "15/09/1995    318\n",
       "10/10/1995    317\n",
       "12/12/1995    316\n",
       "28/09/1995    314\n",
       "20/10/1995    312\n",
       "             ... \n",
       "05/08/1985      1\n",
       "05/12/1990      1\n",
       "05/05/1981      1\n",
       "06/07/1977      1\n",
       "02/08/1989      1\n",
       "Name: your_birthdate, Length: 5856, dtype: int64"
      ]
     },
     "execution_count": 31,
     "metadata": {},
     "output_type": "execute_result"
    }
   ],
   "source": [
    "data[\"your_birthdate\"].value_counts()"
   ]
  },
  {
   "cell_type": "markdown",
   "id": "behind-suicide",
   "metadata": {},
   "source": [
    "Birthdate does not seem like an important feature. We can see that majority of the birth dates are in the year 1995. Maybe we can fill random values for the month and day to fill the null values."
   ]
  },
  {
   "cell_type": "code",
   "execution_count": 32,
   "id": "alien-entry",
   "metadata": {},
   "outputs": [],
   "source": [
    "data[\"your_birthdate\"].fillna(\"07/08/1995\", inplace=True)"
   ]
  },
  {
   "cell_type": "code",
   "execution_count": 33,
   "id": "minute-parish",
   "metadata": {},
   "outputs": [
    {
     "data": {
      "text/plain": [
       "0"
      ]
     },
     "execution_count": 33,
     "metadata": {},
     "output_type": "execute_result"
    }
   ],
   "source": [
    "data['your_birthdate'].isnull().sum()"
   ]
  },
  {
   "cell_type": "markdown",
   "id": "sexual-milwaukee",
   "metadata": {},
   "source": [
    "### your_foreigner"
   ]
  },
  {
   "cell_type": "code",
   "execution_count": 34,
   "id": "modular-printing",
   "metadata": {},
   "outputs": [
    {
     "data": {
      "text/plain": [
       "47118"
      ]
     },
     "execution_count": 34,
     "metadata": {},
     "output_type": "execute_result"
    }
   ],
   "source": [
    "data[\"your_foreigner\"].isnull().sum()"
   ]
  },
  {
   "cell_type": "code",
   "execution_count": 35,
   "id": "applicable-copying",
   "metadata": {},
   "outputs": [
    {
     "data": {
      "text/plain": [
       "NO     163543\n",
       "YES      1349\n",
       "Name: your_foreigner, dtype: int64"
      ]
     },
     "execution_count": 35,
     "metadata": {},
     "output_type": "execute_result"
    }
   ],
   "source": [
    "data[\"your_foreigner\"].value_counts()"
   ]
  },
  {
   "cell_type": "markdown",
   "id": "cosmetic-transcription",
   "metadata": {},
   "source": [
    "No is the majority class. Hence we can fill the null values with no"
   ]
  },
  {
   "cell_type": "code",
   "execution_count": 36,
   "id": "stainless-outline",
   "metadata": {},
   "outputs": [],
   "source": [
    "data[\"your_foreigner\"].fillna(\"NO\", inplace=True)"
   ]
  },
  {
   "cell_type": "code",
   "execution_count": 37,
   "id": "breathing-legislation",
   "metadata": {},
   "outputs": [
    {
     "data": {
      "text/plain": [
       "0"
      ]
     },
     "execution_count": 37,
     "metadata": {},
     "output_type": "execute_result"
    }
   ],
   "source": [
    "data[\"your_foreigner\"].isnull().sum()"
   ]
  },
  {
   "cell_type": "markdown",
   "id": "literary-hardwood",
   "metadata": {},
   "source": [
    "### your_marital_status"
   ]
  },
  {
   "cell_type": "code",
   "execution_count": 38,
   "id": "european-prospect",
   "metadata": {},
   "outputs": [
    {
     "data": {
      "text/plain": [
       "65832"
      ]
     },
     "execution_count": 38,
     "metadata": {},
     "output_type": "execute_result"
    }
   ],
   "source": [
    "data[\"your_marital_status\"].isnull().sum()"
   ]
  },
  {
   "cell_type": "code",
   "execution_count": 39,
   "id": "metropolitan-variety",
   "metadata": {},
   "outputs": [
    {
     "data": {
      "text/plain": [
       "Single                       140341\n",
       "Free Union                     3896\n",
       "Married                        1699\n",
       "Separated and/or Widowed        150\n",
       "Separated and/or Divorced        77\n",
       "Widowed                          15\n",
       "Name: your_marital_status, dtype: int64"
      ]
     },
     "execution_count": 39,
     "metadata": {},
     "output_type": "execute_result"
    }
   ],
   "source": [
    "data[\"your_marital_status\"].value_counts()"
   ]
  },
  {
   "cell_type": "markdown",
   "id": "confused-telephone",
   "metadata": {},
   "source": [
    "Most of the students are single so we can fill the null values with single."
   ]
  },
  {
   "cell_type": "code",
   "execution_count": 40,
   "id": "interior-publisher",
   "metadata": {},
   "outputs": [],
   "source": [
    "data[\"your_marital_status\"].fillna(\"Single\", inplace=True)"
   ]
  },
  {
   "cell_type": "code",
   "execution_count": 41,
   "id": "portable-ribbon",
   "metadata": {},
   "outputs": [
    {
     "data": {
      "text/plain": [
       "0"
      ]
     },
     "execution_count": 41,
     "metadata": {},
     "output_type": "execute_result"
    }
   ],
   "source": [
    "data[\"your_marital_status\"].isnull().sum()"
   ]
  },
  {
   "cell_type": "markdown",
   "id": "suffering-stanley",
   "metadata": {},
   "source": [
    "### your_have_ethnicity"
   ]
  },
  {
   "cell_type": "code",
   "execution_count": 42,
   "id": "fuzzy-playing",
   "metadata": {},
   "outputs": [
    {
     "data": {
      "text/plain": [
       "47432"
      ]
     },
     "execution_count": 42,
     "metadata": {},
     "output_type": "execute_result"
    }
   ],
   "source": [
    "data[\"your_have_ethnicity\"].isnull().sum()"
   ]
  },
  {
   "cell_type": "code",
   "execution_count": 43,
   "id": "acquired-patrol",
   "metadata": {},
   "outputs": [
    {
     "data": {
      "text/plain": [
       "No    157383\n",
       "Si      7195\n",
       "Name: your_have_ethnicity, dtype: int64"
      ]
     },
     "execution_count": 43,
     "metadata": {},
     "output_type": "execute_result"
    }
   ],
   "source": [
    "data[\"your_have_ethnicity\"].value_counts()"
   ]
  },
  {
   "cell_type": "markdown",
   "id": "sought-photograph",
   "metadata": {},
   "source": [
    "Fill the null values with no"
   ]
  },
  {
   "cell_type": "code",
   "execution_count": 44,
   "id": "characteristic-solid",
   "metadata": {},
   "outputs": [],
   "source": [
    "data[\"your_have_ethnicity\"].fillna(\"No\", inplace=True)"
   ]
  },
  {
   "cell_type": "code",
   "execution_count": 45,
   "id": "opening-cigarette",
   "metadata": {},
   "outputs": [
    {
     "data": {
      "text/plain": [
       "0"
      ]
     },
     "execution_count": 45,
     "metadata": {},
     "output_type": "execute_result"
    }
   ],
   "source": [
    "data[\"your_have_ethnicity\"].isnull().sum()"
   ]
  },
  {
   "cell_type": "markdown",
   "id": "gross-improvement",
   "metadata": {},
   "source": [
    "### your_dept_resides"
   ]
  },
  {
   "cell_type": "code",
   "execution_count": 46,
   "id": "stock-reform",
   "metadata": {},
   "outputs": [
    {
     "data": {
      "text/plain": [
       "365"
      ]
     },
     "execution_count": 46,
     "metadata": {},
     "output_type": "execute_result"
    }
   ],
   "source": [
    "data[\"your_dept_resides\"].isnull().sum()"
   ]
  },
  {
   "cell_type": "code",
   "execution_count": 47,
   "id": "helpful-harbor",
   "metadata": {},
   "outputs": [
    {
     "data": {
      "text/plain": [
       "BOGOTA          63529\n",
       "ANTIOQUIA       24266\n",
       "VALLE           16891\n",
       "ATLANTICO       14004\n",
       "CUNDINAMARCA    12776\n",
       "                ...  \n",
       "VICHADA            39\n",
       "AMAZONAS           32\n",
       "GUAINIA            25\n",
       "EXTRANJERO         19\n",
       "VAUPES             11\n",
       "Name: your_dept_resides, Length: 34, dtype: int64"
      ]
     },
     "execution_count": 47,
     "metadata": {},
     "output_type": "execute_result"
    }
   ],
   "source": [
    "data[\"your_dept_resides\"].value_counts()"
   ]
  },
  {
   "cell_type": "code",
   "execution_count": 48,
   "id": "looking-chess",
   "metadata": {},
   "outputs": [],
   "source": [
    "data[\"your_dept_resides\"].fillna(\"BOGOTA\", inplace=True)"
   ]
  },
  {
   "cell_type": "code",
   "execution_count": 49,
   "id": "running-pleasure",
   "metadata": {},
   "outputs": [
    {
     "data": {
      "text/plain": [
       "0"
      ]
     },
     "execution_count": 49,
     "metadata": {},
     "output_type": "execute_result"
    }
   ],
   "source": [
    "data[\"your_dept_resides\"].isnull().sum()"
   ]
  },
  {
   "cell_type": "markdown",
   "id": "seasonal-round",
   "metadata": {},
   "source": [
    "### your_dept_code_resides"
   ]
  },
  {
   "cell_type": "code",
   "execution_count": 50,
   "id": "brief-imagination",
   "metadata": {},
   "outputs": [
    {
     "data": {
      "text/plain": [
       "365"
      ]
     },
     "execution_count": 50,
     "metadata": {},
     "output_type": "execute_result"
    }
   ],
   "source": [
    "data[\"your_dept_code_resides\"].isnull().sum()"
   ]
  },
  {
   "cell_type": "code",
   "execution_count": 51,
   "id": "cooked-michael",
   "metadata": {},
   "outputs": [
    {
     "data": {
      "text/plain": [
       "11.0       63529\n",
       "5.0        24266\n",
       "76.0       16891\n",
       "8.0        14004\n",
       "25.0       12776\n",
       "           ...  \n",
       "99.0          39\n",
       "91.0          32\n",
       "94.0          25\n",
       "99999.0       19\n",
       "97.0          11\n",
       "Name: your_dept_code_resides, Length: 34, dtype: int64"
      ]
     },
     "execution_count": 51,
     "metadata": {},
     "output_type": "execute_result"
    }
   ],
   "source": [
    "data[\"your_dept_code_resides\"].value_counts()"
   ]
  },
  {
   "cell_type": "markdown",
   "id": "regional-delight",
   "metadata": {},
   "source": [
    "As the dept null values were filled with Bogota we need to fill the null values of the code with the code of Bogota which in 11.0"
   ]
  },
  {
   "cell_type": "code",
   "execution_count": 52,
   "id": "dutch-master",
   "metadata": {},
   "outputs": [],
   "source": [
    "data[\"your_dept_code_resides\"].fillna(11.0, inplace=True)"
   ]
  },
  {
   "cell_type": "code",
   "execution_count": 53,
   "id": "uniform-allowance",
   "metadata": {},
   "outputs": [
    {
     "data": {
      "text/plain": [
       "0"
      ]
     },
     "execution_count": 53,
     "metadata": {},
     "output_type": "execute_result"
    }
   ],
   "source": [
    "data[\"your_dept_code_resides\"].isnull().sum()"
   ]
  },
  {
   "cell_type": "code",
   "execution_count": 54,
   "id": "gothic-membership",
   "metadata": {},
   "outputs": [
    {
     "data": {
      "text/plain": [
       "11.0       63894\n",
       "5.0        24266\n",
       "76.0       16891\n",
       "8.0        14004\n",
       "25.0       12776\n",
       "           ...  \n",
       "99.0          39\n",
       "91.0          32\n",
       "94.0          25\n",
       "99999.0       19\n",
       "97.0          11\n",
       "Name: your_dept_code_resides, Length: 34, dtype: int64"
      ]
     },
     "execution_count": 54,
     "metadata": {},
     "output_type": "execute_result"
    }
   ],
   "source": [
    "data[\"your_dept_code_resides\"].value_counts()"
   ]
  },
  {
   "cell_type": "markdown",
   "id": "plain-contrast",
   "metadata": {},
   "source": [
    "### your_municipality_resides and your_municipality_code_resides"
   ]
  },
  {
   "cell_type": "code",
   "execution_count": 55,
   "id": "durable-manhattan",
   "metadata": {},
   "outputs": [
    {
     "data": {
      "text/plain": [
       "365"
      ]
     },
     "execution_count": 55,
     "metadata": {},
     "output_type": "execute_result"
    }
   ],
   "source": [
    "data[\"your_municipality_resides\"].isnull().sum()"
   ]
  },
  {
   "cell_type": "code",
   "execution_count": 56,
   "id": "adjustable-diesel",
   "metadata": {},
   "outputs": [
    {
     "data": {
      "text/plain": [
       "BOGOTÁ D.C.            43236\n",
       "BOGOTÁ, D.C.           20293\n",
       "MEDELLÍN               13093\n",
       "CALI                   11002\n",
       "BARRANQUILLA            9979\n",
       "                       ...  \n",
       "PACHAVITA                  1\n",
       "EL CARMEN DE ATRATO        1\n",
       "GONZÁLEZ                   1\n",
       "SUSACÓN                    1\n",
       "NUQUÍ                      1\n",
       "Name: your_municipality_resides, Length: 963, dtype: int64"
      ]
     },
     "execution_count": 56,
     "metadata": {},
     "output_type": "execute_result"
    }
   ],
   "source": [
    "data[\"your_municipality_resides\"].value_counts()"
   ]
  },
  {
   "cell_type": "code",
   "execution_count": 57,
   "id": "genetic-mercury",
   "metadata": {},
   "outputs": [],
   "source": [
    "data[\"your_municipality_resides\"].fillna(\"BOGOTÁ D.C.\", inplace=True)"
   ]
  },
  {
   "cell_type": "code",
   "execution_count": 58,
   "id": "creative-dependence",
   "metadata": {},
   "outputs": [
    {
     "data": {
      "text/plain": [
       "BOGOTÁ D.C.            43601\n",
       "BOGOTÁ, D.C.           20293\n",
       "MEDELLÍN               13093\n",
       "CALI                   11002\n",
       "BARRANQUILLA            9979\n",
       "                       ...  \n",
       "PACHAVITA                  1\n",
       "EL CARMEN DE ATRATO        1\n",
       "GONZÁLEZ                   1\n",
       "SUSACÓN                    1\n",
       "NUQUÍ                      1\n",
       "Name: your_municipality_resides, Length: 963, dtype: int64"
      ]
     },
     "execution_count": 58,
     "metadata": {},
     "output_type": "execute_result"
    }
   ],
   "source": [
    "data[\"your_municipality_resides\"].value_counts()"
   ]
  },
  {
   "cell_type": "markdown",
   "id": "revised-amsterdam",
   "metadata": {},
   "source": [
    "Similarly we need to fill the municipality code with the BOGOTÁ D.C. municipality code."
   ]
  },
  {
   "cell_type": "code",
   "execution_count": 59,
   "id": "automated-caution",
   "metadata": {},
   "outputs": [
    {
     "data": {
      "text/plain": [
       "365"
      ]
     },
     "execution_count": 59,
     "metadata": {},
     "output_type": "execute_result"
    }
   ],
   "source": [
    "data[\"your_municipality_code_resides\"].isnull().sum()"
   ]
  },
  {
   "cell_type": "code",
   "execution_count": 60,
   "id": "forward-david",
   "metadata": {},
   "outputs": [
    {
     "data": {
      "text/plain": [
       "11001.0    63529\n",
       "5001.0     13093\n",
       "76001.0    11002\n",
       "8001.0      9979\n",
       "13001.0     5626\n",
       "           ...  \n",
       "13810.0        1\n",
       "25871.0        1\n",
       "95025.0        1\n",
       "18460.0        1\n",
       "68425.0        1\n",
       "Name: your_municipality_code_resides, Length: 1038, dtype: int64"
      ]
     },
     "execution_count": 60,
     "metadata": {},
     "output_type": "execute_result"
    }
   ],
   "source": [
    "data[\"your_municipality_code_resides\"].value_counts()"
   ]
  },
  {
   "cell_type": "code",
   "execution_count": 61,
   "id": "satisfied-donor",
   "metadata": {},
   "outputs": [],
   "source": [
    "data[\"your_municipality_code_resides\"].fillna(11001.0, inplace=True)"
   ]
  },
  {
   "cell_type": "code",
   "execution_count": 62,
   "id": "pacific-assurance",
   "metadata": {},
   "outputs": [
    {
     "data": {
      "text/plain": [
       "0"
      ]
     },
     "execution_count": 62,
     "metadata": {},
     "output_type": "execute_result"
    }
   ],
   "source": [
    "data[\"your_municipality_code_resides\"].isnull().sum()"
   ]
  },
  {
   "cell_type": "markdown",
   "id": "gentle-brief",
   "metadata": {},
   "source": [
    "### your_high_school_degree"
   ]
  },
  {
   "cell_type": "code",
   "execution_count": 63,
   "id": "lucky-truth",
   "metadata": {},
   "outputs": [
    {
     "data": {
      "text/plain": [
       "1876"
      ]
     },
     "execution_count": 63,
     "metadata": {},
     "output_type": "execute_result"
    }
   ],
   "source": [
    "data[\"your_high_school_degree\"].isnull().sum()"
   ]
  },
  {
   "cell_type": "code",
   "execution_count": 64,
   "id": "european-superior",
   "metadata": {},
   "outputs": [
    {
     "data": {
      "text/plain": [
       "Academic Bachelor                       144212\n",
       "Technical Bachelor                       59264\n",
       "Pedagogical or normalist high school      4288\n",
       "Superior Normalist                        2370\n",
       "Name: your_high_school_degree, dtype: int64"
      ]
     },
     "execution_count": 64,
     "metadata": {},
     "output_type": "execute_result"
    }
   ],
   "source": [
    "data[\"your_high_school_degree\"].value_counts()"
   ]
  },
  {
   "cell_type": "markdown",
   "id": "answering-pipeline",
   "metadata": {},
   "source": [
    "We need to discuss how to handle the null values for this feature as this feature has a high effect on the saber pro scores as we have seen in the analysis. "
   ]
  },
  {
   "cell_type": "markdown",
   "id": "insured-teens",
   "metadata": {},
   "source": [
    "As discussed we can fill the null values with the Academic Bachelor category"
   ]
  },
  {
   "cell_type": "code",
   "execution_count": 235,
   "id": "featured-taylor",
   "metadata": {},
   "outputs": [],
   "source": [
    "data['your_high_school_degree'].fillna(\"Academic Bachelor\", inplace=True)"
   ]
  },
  {
   "cell_type": "code",
   "execution_count": 236,
   "id": "historic-keyboard",
   "metadata": {},
   "outputs": [
    {
     "data": {
      "text/plain": [
       "0"
      ]
     },
     "execution_count": 236,
     "metadata": {},
     "output_type": "execute_result"
    }
   ],
   "source": [
    "data[\"your_high_school_degree\"].isnull().sum()"
   ]
  },
  {
   "cell_type": "code",
   "execution_count": 237,
   "id": "modular-white",
   "metadata": {},
   "outputs": [
    {
     "data": {
      "text/plain": [
       "Academic Bachelor                       146088\n",
       "Technical Bachelor                       59264\n",
       "Pedagogical or normalist high school      4288\n",
       "Superior Normalist                        2370\n",
       "Name: your_high_school_degree, dtype: int64"
      ]
     },
     "execution_count": 237,
     "metadata": {},
     "output_type": "execute_result"
    }
   ],
   "source": [
    "data[\"your_high_school_degree\"].value_counts()"
   ]
  },
  {
   "cell_type": "markdown",
   "id": "japanese-courtesy",
   "metadata": {},
   "source": [
    "### your_tuition_cost_university"
   ]
  },
  {
   "cell_type": "code",
   "execution_count": 65,
   "id": "voluntary-planner",
   "metadata": {},
   "outputs": [
    {
     "data": {
      "text/plain": [
       "4045"
      ]
     },
     "execution_count": 65,
     "metadata": {},
     "output_type": "execute_result"
    }
   ],
   "source": [
    "data[\"your_tuition_cost_university\"].isnull().sum()"
   ]
  },
  {
   "cell_type": "code",
   "execution_count": 66,
   "id": "informational-percentage",
   "metadata": {},
   "outputs": [
    {
     "data": {
      "text/plain": [
       "Did not pay tuition                             37441\n",
       "Between 2.5 million and less than 4 million     33463\n",
       "Between 1 million and less than 2.5 million     29693\n",
       "Less than 500 thousand                          23805\n",
       "More than 7 million                             22765\n",
       "Between 4 million and less than 5.5 million     22407\n",
       "Between 500 thousand and less than 1 million    19668\n",
       "Between 5.5 million and less than 7 million     13681\n",
       "Between 1 million and less than 3 million        4296\n",
       "Between 3 million and less than 5 million         535\n",
       "More than 5 million                               211\n",
       "Name: your_tuition_cost_university, dtype: int64"
      ]
     },
     "execution_count": 66,
     "metadata": {},
     "output_type": "execute_result"
    }
   ],
   "source": [
    "data[\"your_tuition_cost_university\"].value_counts()"
   ]
  },
  {
   "cell_type": "code",
   "execution_count": 238,
   "id": "isolated-steel",
   "metadata": {},
   "outputs": [],
   "source": [
    "data[\"your_tuition_cost_university\"].fillna(\"Did not pay tuition\", inplace=True)"
   ]
  },
  {
   "cell_type": "code",
   "execution_count": 239,
   "id": "fiscal-emperor",
   "metadata": {},
   "outputs": [
    {
     "data": {
      "text/plain": [
       "0"
      ]
     },
     "execution_count": 239,
     "metadata": {},
     "output_type": "execute_result"
    }
   ],
   "source": [
    "data[\"your_tuition_cost_university\"].isnull().sum()"
   ]
  },
  {
   "cell_type": "code",
   "execution_count": 240,
   "id": "biological-hampton",
   "metadata": {},
   "outputs": [
    {
     "data": {
      "text/plain": [
       "Did not pay tuition                             41486\n",
       "Between 2.5 million and less than 4 million     33463\n",
       "Between 1 million and less than 2.5 million     29693\n",
       "Less than 500 thousand                          23805\n",
       "More than 7 million                             22765\n",
       "Between 4 million and less than 5.5 million     22407\n",
       "Between 500 thousand and less than 1 million    19668\n",
       "Between 5.5 million and less than 7 million     13681\n",
       "Between 1 million and less than 3 million        4296\n",
       "Between 3 million and less than 5 million         535\n",
       "More than 5 million                               211\n",
       "Name: your_tuition_cost_university, dtype: int64"
      ]
     },
     "execution_count": 240,
     "metadata": {},
     "output_type": "execute_result"
    }
   ],
   "source": [
    "data[\"your_tuition_cost_university\"].value_counts()"
   ]
  },
  {
   "cell_type": "markdown",
   "id": "peripheral-tuning",
   "metadata": {},
   "source": [
    "**Further Work can be done by clubbing the categories in dollars.**"
   ]
  },
  {
   "cell_type": "markdown",
   "id": "optimum-lafayette",
   "metadata": {},
   "source": [
    "### your_tuition_pymt_scholarship"
   ]
  },
  {
   "cell_type": "code",
   "execution_count": 67,
   "id": "aggregate-measurement",
   "metadata": {},
   "outputs": [
    {
     "data": {
      "text/plain": [
       "45880"
      ]
     },
     "execution_count": 67,
     "metadata": {},
     "output_type": "execute_result"
    }
   ],
   "source": [
    "data[\"your_tuition_pymt_scholarship\"].isnull().sum()"
   ]
  },
  {
   "cell_type": "code",
   "execution_count": 68,
   "id": "opened-hebrew",
   "metadata": {},
   "outputs": [
    {
     "data": {
      "text/plain": [
       "No    135004\n",
       "Si     31126\n",
       "Name: your_tuition_pymt_scholarship, dtype: int64"
      ]
     },
     "execution_count": 68,
     "metadata": {},
     "output_type": "execute_result"
    }
   ],
   "source": [
    "data[\"your_tuition_pymt_scholarship\"].value_counts()"
   ]
  },
  {
   "cell_type": "code",
   "execution_count": 69,
   "id": "convinced-champion",
   "metadata": {},
   "outputs": [],
   "source": [
    "data[\"your_tuition_pymt_scholarship\"].fillna(\"No\", inplace=True)"
   ]
  },
  {
   "cell_type": "code",
   "execution_count": 70,
   "id": "unique-cylinder",
   "metadata": {},
   "outputs": [
    {
     "data": {
      "text/plain": [
       "0"
      ]
     },
     "execution_count": 70,
     "metadata": {},
     "output_type": "execute_result"
    }
   ],
   "source": [
    "data[\"your_tuition_pymt_scholarship\"].isnull().sum()"
   ]
  },
  {
   "cell_type": "markdown",
   "id": "joined-kinase",
   "metadata": {},
   "source": [
    "### your_tuition_pymt_credit"
   ]
  },
  {
   "cell_type": "code",
   "execution_count": 71,
   "id": "automatic-romania",
   "metadata": {},
   "outputs": [
    {
     "data": {
      "text/plain": [
       "45444"
      ]
     },
     "execution_count": 71,
     "metadata": {},
     "output_type": "execute_result"
    }
   ],
   "source": [
    "data[\"your_tuition_pymt_credit\"].isnull().sum()"
   ]
  },
  {
   "cell_type": "code",
   "execution_count": 72,
   "id": "productive-conservative",
   "metadata": {},
   "outputs": [
    {
     "data": {
      "text/plain": [
       "No    113261\n",
       "Si     53305\n",
       "Name: your_tuition_pymt_credit, dtype: int64"
      ]
     },
     "execution_count": 72,
     "metadata": {},
     "output_type": "execute_result"
    }
   ],
   "source": [
    "data[\"your_tuition_pymt_credit\"].value_counts()"
   ]
  },
  {
   "cell_type": "code",
   "execution_count": 73,
   "id": "irish-badge",
   "metadata": {},
   "outputs": [],
   "source": [
    "data[\"your_tuition_pymt_credit\"].fillna(\"No\", inplace=True)"
   ]
  },
  {
   "cell_type": "code",
   "execution_count": 74,
   "id": "indian-palmer",
   "metadata": {},
   "outputs": [
    {
     "data": {
      "text/plain": [
       "0"
      ]
     },
     "execution_count": 74,
     "metadata": {},
     "output_type": "execute_result"
    }
   ],
   "source": [
    "data[\"your_tuition_pymt_credit\"].isnull().sum()"
   ]
  },
  {
   "cell_type": "markdown",
   "id": "worst-heart",
   "metadata": {},
   "source": [
    "### your_tuition_pymt_parents"
   ]
  },
  {
   "cell_type": "code",
   "execution_count": 75,
   "id": "creative-syndication",
   "metadata": {},
   "outputs": [
    {
     "data": {
      "text/plain": [
       "42130"
      ]
     },
     "execution_count": 75,
     "metadata": {},
     "output_type": "execute_result"
    }
   ],
   "source": [
    "data[\"your_tuition_pymt_parents\"].isnull().sum()"
   ]
  },
  {
   "cell_type": "code",
   "execution_count": 76,
   "id": "executed-expression",
   "metadata": {},
   "outputs": [
    {
     "data": {
      "text/plain": [
       "Si    130409\n",
       "No     39471\n",
       "Name: your_tuition_pymt_parents, dtype: int64"
      ]
     },
     "execution_count": 76,
     "metadata": {},
     "output_type": "execute_result"
    }
   ],
   "source": [
    "data[\"your_tuition_pymt_parents\"].value_counts()"
   ]
  },
  {
   "cell_type": "code",
   "execution_count": 77,
   "id": "surprised-weekly",
   "metadata": {},
   "outputs": [],
   "source": [
    "data[\"your_tuition_pymt_parents\"].fillna(\"Si\", inplace=True)"
   ]
  },
  {
   "cell_type": "code",
   "execution_count": 78,
   "id": "genetic-synthesis",
   "metadata": {},
   "outputs": [
    {
     "data": {
      "text/plain": [
       "0"
      ]
     },
     "execution_count": 78,
     "metadata": {},
     "output_type": "execute_result"
    }
   ],
   "source": [
    "data[\"your_tuition_pymt_parents\"].isnull().sum()"
   ]
  },
  {
   "cell_type": "markdown",
   "id": "warming-dictionary",
   "metadata": {},
   "source": [
    "### your_tuition_pymt_yourself"
   ]
  },
  {
   "cell_type": "code",
   "execution_count": 79,
   "id": "bronze-import",
   "metadata": {},
   "outputs": [
    {
     "data": {
      "text/plain": [
       "45801"
      ]
     },
     "execution_count": 79,
     "metadata": {},
     "output_type": "execute_result"
    }
   ],
   "source": [
    "data[\"your_tuition_pymt_yourself\"].isnull().sum()"
   ]
  },
  {
   "cell_type": "code",
   "execution_count": 80,
   "id": "noticed-modern",
   "metadata": {},
   "outputs": [
    {
     "data": {
      "text/plain": [
       "No    129182\n",
       "Si     37027\n",
       "Name: your_tuition_pymt_yourself, dtype: int64"
      ]
     },
     "execution_count": 80,
     "metadata": {},
     "output_type": "execute_result"
    }
   ],
   "source": [
    "data[\"your_tuition_pymt_yourself\"].value_counts()"
   ]
  },
  {
   "cell_type": "code",
   "execution_count": 81,
   "id": "fundamental-valve",
   "metadata": {},
   "outputs": [],
   "source": [
    "data[\"your_tuition_pymt_yourself\"].fillna(\"No\", inplace=True)"
   ]
  },
  {
   "cell_type": "code",
   "execution_count": 82,
   "id": "external-letter",
   "metadata": {},
   "outputs": [
    {
     "data": {
      "text/plain": [
       "0"
      ]
     },
     "execution_count": 82,
     "metadata": {},
     "output_type": "execute_result"
    }
   ],
   "source": [
    "data[\"your_tuition_pymt_yourself\"].isnull().sum()"
   ]
  },
  {
   "cell_type": "markdown",
   "id": "stupid-homeless",
   "metadata": {},
   "source": [
    "### your_on_semester"
   ]
  },
  {
   "cell_type": "code",
   "execution_count": 83,
   "id": "political-tonight",
   "metadata": {},
   "outputs": [
    {
     "data": {
      "text/plain": [
       "85823"
      ]
     },
     "execution_count": 83,
     "metadata": {},
     "output_type": "execute_result"
    }
   ],
   "source": [
    "data[\"your_on_semester\"].isnull().sum()"
   ]
  },
  {
   "cell_type": "code",
   "execution_count": 84,
   "id": "adopted-teens",
   "metadata": {},
   "outputs": [
    {
     "data": {
      "text/plain": [
       "8.0     26847\n",
       "9.0     24151\n",
       "10.0    22396\n",
       "3.0     18603\n",
       "4.0     11634\n",
       "7.0      7904\n",
       "2.0      4797\n",
       "6.0      4477\n",
       "5.0      3838\n",
       "1.0       943\n",
       "11.0      597\n",
       "Name: your_on_semester, dtype: int64"
      ]
     },
     "execution_count": 84,
     "metadata": {},
     "output_type": "execute_result"
    }
   ],
   "source": [
    "data[\"your_on_semester\"].value_counts()"
   ]
  },
  {
   "cell_type": "markdown",
   "id": "iraqi-congo",
   "metadata": {},
   "source": [
    "There is a really high amount of null values and I have no idea on how to handle them. Maybe we can just replace the null values by 0.0. As discussed, this column can be dropped."
   ]
  },
  {
   "cell_type": "code",
   "execution_count": 242,
   "id": "changing-bloom",
   "metadata": {},
   "outputs": [],
   "source": [
    "data.drop(labels=\"your_on_semester\", axis=1, inplace=True)"
   ]
  },
  {
   "cell_type": "markdown",
   "id": "geological-colombia",
   "metadata": {},
   "source": [
    "### fami_father_education"
   ]
  },
  {
   "cell_type": "code",
   "execution_count": 85,
   "id": "certified-liberia",
   "metadata": {},
   "outputs": [
    {
     "data": {
      "text/plain": [
       "5247"
      ]
     },
     "execution_count": 85,
     "metadata": {},
     "output_type": "execute_result"
    }
   ],
   "source": [
    "data[\"fami_father_education\"].isnull().sum()"
   ]
  },
  {
   "cell_type": "code",
   "execution_count": 86,
   "id": "square-trash",
   "metadata": {},
   "outputs": [
    {
     "data": {
      "text/plain": [
       "Middle School complete             45150\n",
       "Undergraduate Degree complete      32572\n",
       "Elementary school incomplete       27610\n",
       "Middle School incomplete           22781\n",
       "Technical School complete          20345\n",
       "Elementary school complete         17103\n",
       "Graduate Degree                    16889\n",
       "Undergraduate Degree incomplete     7901\n",
       "None                                6028\n",
       "Technical School incomplete         5935\n",
       "Doesn't know                        3441\n",
       "Not apply                           1008\n",
       "Name: fami_father_education, dtype: int64"
      ]
     },
     "execution_count": 86,
     "metadata": {},
     "output_type": "execute_result"
    }
   ],
   "source": [
    "data[\"fami_father_education\"].value_counts()"
   ]
  },
  {
   "cell_type": "markdown",
   "id": "following-monkey",
   "metadata": {},
   "source": [
    "The null values can be replaced by a new category which can be named unknown."
   ]
  },
  {
   "cell_type": "code",
   "execution_count": 87,
   "id": "minute-definition",
   "metadata": {},
   "outputs": [],
   "source": [
    "data[\"fami_father_education\"].fillna(\"Unknown\", inplace=True)"
   ]
  },
  {
   "cell_type": "code",
   "execution_count": 88,
   "id": "aggressive-alloy",
   "metadata": {},
   "outputs": [
    {
     "data": {
      "text/plain": [
       "0"
      ]
     },
     "execution_count": 88,
     "metadata": {},
     "output_type": "execute_result"
    }
   ],
   "source": [
    "data[\"fami_father_education\"].isnull().sum()"
   ]
  },
  {
   "cell_type": "code",
   "execution_count": 89,
   "id": "median-access",
   "metadata": {},
   "outputs": [
    {
     "data": {
      "text/plain": [
       "Middle School complete             45150\n",
       "Undergraduate Degree complete      32572\n",
       "Elementary school incomplete       27610\n",
       "Middle School incomplete           22781\n",
       "Technical School complete          20345\n",
       "Elementary school complete         17103\n",
       "Graduate Degree                    16889\n",
       "Undergraduate Degree incomplete     7901\n",
       "None                                6028\n",
       "Technical School incomplete         5935\n",
       "Unknown                             5247\n",
       "Doesn't know                        3441\n",
       "Not apply                           1008\n",
       "Name: fami_father_education, dtype: int64"
      ]
     },
     "execution_count": 89,
     "metadata": {},
     "output_type": "execute_result"
    }
   ],
   "source": [
    "data[\"fami_father_education\"].value_counts()"
   ]
  },
  {
   "cell_type": "markdown",
   "id": "special-disclaimer",
   "metadata": {},
   "source": [
    "### fami_mother_education"
   ]
  },
  {
   "cell_type": "code",
   "execution_count": 90,
   "id": "married-webcam",
   "metadata": {},
   "outputs": [
    {
     "data": {
      "text/plain": [
       "5439"
      ]
     },
     "execution_count": 90,
     "metadata": {},
     "output_type": "execute_result"
    }
   ],
   "source": [
    "data[\"fami_mother_education\"].isnull().sum()"
   ]
  },
  {
   "cell_type": "code",
   "execution_count": 91,
   "id": "bronze-infrared",
   "metadata": {},
   "outputs": [
    {
     "data": {
      "text/plain": [
       "Middle School complete             49279\n",
       "Undergraduate Degree complete      33946\n",
       "Technical School complete          28212\n",
       "Middle School incomplete           24600\n",
       "Elementary school incomplete       20305\n",
       "Graduate Degree                    16094\n",
       "Elementary school complete         15935\n",
       "Undergraduate Degree incomplete     7601\n",
       "Technical School incomplete         7329\n",
       "None                                2302\n",
       "Doesn't know                         755\n",
       "Does not apply                       213\n",
       "Name: fami_mother_education, dtype: int64"
      ]
     },
     "execution_count": 91,
     "metadata": {},
     "output_type": "execute_result"
    }
   ],
   "source": [
    "data[\"fami_mother_education\"].value_counts()"
   ]
  },
  {
   "cell_type": "markdown",
   "id": "scheduled-capture",
   "metadata": {},
   "source": [
    "This feature can be handled in the same way as the previous feature."
   ]
  },
  {
   "cell_type": "code",
   "execution_count": 92,
   "id": "directed-palace",
   "metadata": {},
   "outputs": [],
   "source": [
    "data[\"fami_mother_education\"].fillna(\"Unknown\", inplace=True)"
   ]
  },
  {
   "cell_type": "code",
   "execution_count": 93,
   "id": "fifth-avatar",
   "metadata": {},
   "outputs": [
    {
     "data": {
      "text/plain": [
       "0"
      ]
     },
     "execution_count": 93,
     "metadata": {},
     "output_type": "execute_result"
    }
   ],
   "source": [
    "data[\"fami_mother_education\"].isnull().sum()"
   ]
  },
  {
   "cell_type": "code",
   "execution_count": 94,
   "id": "common-swaziland",
   "metadata": {},
   "outputs": [
    {
     "data": {
      "text/plain": [
       "Middle School complete             49279\n",
       "Undergraduate Degree complete      33946\n",
       "Technical School complete          28212\n",
       "Middle School incomplete           24600\n",
       "Elementary school incomplete       20305\n",
       "Graduate Degree                    16094\n",
       "Elementary school complete         15935\n",
       "Undergraduate Degree incomplete     7601\n",
       "Technical School incomplete         7329\n",
       "Unknown                             5439\n",
       "None                                2302\n",
       "Doesn't know                         755\n",
       "Does not apply                       213\n",
       "Name: fami_mother_education, dtype: int64"
      ]
     },
     "execution_count": 94,
     "metadata": {},
     "output_type": "execute_result"
    }
   ],
   "source": [
    "data[\"fami_mother_education\"].value_counts()"
   ]
  },
  {
   "cell_type": "markdown",
   "id": "stretch-financing",
   "metadata": {},
   "source": [
    "### fami_father_occupation"
   ]
  },
  {
   "cell_type": "code",
   "execution_count": 95,
   "id": "explicit-exercise",
   "metadata": {},
   "outputs": [
    {
     "data": {
      "text/plain": [
       "83704"
      ]
     },
     "execution_count": 95,
     "metadata": {},
     "output_type": "execute_result"
    }
   ],
   "source": [
    "data[\"fami_father_occupation\"].isnull().sum()"
   ]
  },
  {
   "cell_type": "code",
   "execution_count": 96,
   "id": "according-bronze",
   "metadata": {},
   "outputs": [
    {
     "data": {
      "text/plain": [
       "Self-employed                                                   36195\n",
       "Employee of a private company                                   20083\n",
       "Other activity or occupation                                    15498\n",
       "Operator employee                                               10651\n",
       "Pensioner                                                        8630\n",
       "                                                                ...  \n",
       "Director or General Manager                                       648\n",
       "Businessman                                                       515\n",
       "Domestic employee                                                 323\n",
       "Unpaid worker in companies or businesses of other households      282\n",
       "Unpaid family worker                                              162\n",
       "Name: fami_father_occupation, Length: 21, dtype: int64"
      ]
     },
     "execution_count": 96,
     "metadata": {},
     "output_type": "execute_result"
    }
   ],
   "source": [
    "data[\"fami_father_occupation\"].value_counts()"
   ]
  },
  {
   "cell_type": "markdown",
   "id": "smaller-recovery",
   "metadata": {},
   "source": [
    "I am going to fill it with the same category of unknown."
   ]
  },
  {
   "cell_type": "code",
   "execution_count": 97,
   "id": "written-prague",
   "metadata": {},
   "outputs": [],
   "source": [
    "data[\"fami_father_occupation\"].fillna(\"Unknown\", inplace=True)"
   ]
  },
  {
   "cell_type": "code",
   "execution_count": 98,
   "id": "subject-douglas",
   "metadata": {},
   "outputs": [
    {
     "data": {
      "text/plain": [
       "0"
      ]
     },
     "execution_count": 98,
     "metadata": {},
     "output_type": "execute_result"
    }
   ],
   "source": [
    "data[\"fami_father_occupation\"].isnull().sum()"
   ]
  },
  {
   "cell_type": "code",
   "execution_count": 99,
   "id": "facial-coral",
   "metadata": {},
   "outputs": [
    {
     "data": {
      "text/plain": [
       "Unknown                                                         83704\n",
       "Self-employed                                                   36195\n",
       "Employee of a private company                                   20083\n",
       "Other activity or occupation                                    15498\n",
       "Operator employee                                               10651\n",
       "                                                                ...  \n",
       "Director or General Manager                                       648\n",
       "Businessman                                                       515\n",
       "Domestic employee                                                 323\n",
       "Unpaid worker in companies or businesses of other households      282\n",
       "Unpaid family worker                                              162\n",
       "Name: fami_father_occupation, Length: 22, dtype: int64"
      ]
     },
     "execution_count": 99,
     "metadata": {},
     "output_type": "execute_result"
    }
   ],
   "source": [
    "data[\"fami_father_occupation\"].value_counts()"
   ]
  },
  {
   "cell_type": "markdown",
   "id": "introductory-texas",
   "metadata": {},
   "source": [
    "### fami_mother_occupation"
   ]
  },
  {
   "cell_type": "code",
   "execution_count": 100,
   "id": "stupid-nashville",
   "metadata": {},
   "outputs": [
    {
     "data": {
      "text/plain": [
       "83454"
      ]
     },
     "execution_count": 100,
     "metadata": {},
     "output_type": "execute_result"
    }
   ],
   "source": [
    "data[\"fami_mother_occupation\"].isnull().sum()"
   ]
  },
  {
   "cell_type": "code",
   "execution_count": 101,
   "id": "worse-queen",
   "metadata": {},
   "outputs": [
    {
     "data": {
      "text/plain": [
       "Home                                                            23165\n",
       "Self-employed                                                   22830\n",
       "Employee of a private company                                   14952\n",
       "Other activity or occupation                                    12089\n",
       "Government employee                                              8997\n",
       "                                                                ...  \n",
       "Executive                                                        1091\n",
       "Director or General Manager                                       387\n",
       "Unpaid worker in companies or businesses of other households      360\n",
       "Businessman                                                       331\n",
       "Laborer                                                           150\n",
       "Name: fami_mother_occupation, Length: 21, dtype: int64"
      ]
     },
     "execution_count": 101,
     "metadata": {},
     "output_type": "execute_result"
    }
   ],
   "source": [
    "data[\"fami_mother_occupation\"].value_counts()"
   ]
  },
  {
   "cell_type": "markdown",
   "id": "sexual-glucose",
   "metadata": {},
   "source": [
    "Null values can be handled in the same way as the previous feature"
   ]
  },
  {
   "cell_type": "code",
   "execution_count": 102,
   "id": "north-national",
   "metadata": {},
   "outputs": [],
   "source": [
    "data[\"fami_mother_occupation\"].fillna(\"Unknown\", inplace=True)"
   ]
  },
  {
   "cell_type": "code",
   "execution_count": 103,
   "id": "dangerous-owner",
   "metadata": {},
   "outputs": [
    {
     "data": {
      "text/plain": [
       "0"
      ]
     },
     "execution_count": 103,
     "metadata": {},
     "output_type": "execute_result"
    }
   ],
   "source": [
    "data[\"fami_father_occupation\"].isnull().sum()"
   ]
  },
  {
   "cell_type": "code",
   "execution_count": 104,
   "id": "derived-attendance",
   "metadata": {},
   "outputs": [
    {
     "data": {
      "text/plain": [
       "Unknown                                                         83704\n",
       "Self-employed                                                   36195\n",
       "Employee of a private company                                   20083\n",
       "Other activity or occupation                                    15498\n",
       "Operator employee                                               10651\n",
       "                                                                ...  \n",
       "Director or General Manager                                       648\n",
       "Businessman                                                       515\n",
       "Domestic employee                                                 323\n",
       "Unpaid worker in companies or businesses of other households      282\n",
       "Unpaid family worker                                              162\n",
       "Name: fami_father_occupation, Length: 22, dtype: int64"
      ]
     },
     "execution_count": 104,
     "metadata": {},
     "output_type": "execute_result"
    }
   ],
   "source": [
    "data[\"fami_father_occupation\"].value_counts()"
   ]
  },
  {
   "cell_type": "markdown",
   "id": "blond-spencer",
   "metadata": {},
   "source": [
    "### fami_housing_stratum"
   ]
  },
  {
   "cell_type": "code",
   "execution_count": 105,
   "id": "adolescent-sunday",
   "metadata": {},
   "outputs": [
    {
     "data": {
      "text/plain": [
       "5818"
      ]
     },
     "execution_count": 105,
     "metadata": {},
     "output_type": "execute_result"
    }
   ],
   "source": [
    "data[\"fami_housing_stratum\"].isnull().sum()"
   ]
  },
  {
   "cell_type": "code",
   "execution_count": 106,
   "id": "standard-panama",
   "metadata": {},
   "outputs": [
    {
     "data": {
      "text/plain": [
       "Stratum 2                                                    68183\n",
       "Stratum 3                                                    61735\n",
       "Stratum 1                                                    35662\n",
       "Stratum 4                                                    23758\n",
       "Stratum 5                                                     9979\n",
       "Stratum 6                                                     6218\n",
       "Without Stratum                                                360\n",
       "Stratum 0                                                      215\n",
       "Rural area where there is no socioeconomic stratification       82\n",
       "Name: fami_housing_stratum, dtype: int64"
      ]
     },
     "execution_count": 106,
     "metadata": {},
     "output_type": "execute_result"
    }
   ],
   "source": [
    "data[\"fami_housing_stratum\"].value_counts()"
   ]
  },
  {
   "cell_type": "code",
   "execution_count": 243,
   "id": "auburn-compound",
   "metadata": {},
   "outputs": [],
   "source": [
    "data['fami_housing_stratum'].fillna(\"Unknown\", inplace=True)"
   ]
  },
  {
   "cell_type": "code",
   "execution_count": 244,
   "id": "offensive-bachelor",
   "metadata": {},
   "outputs": [
    {
     "data": {
      "text/plain": [
       "0"
      ]
     },
     "execution_count": 244,
     "metadata": {},
     "output_type": "execute_result"
    }
   ],
   "source": [
    "data[\"fami_housing_stratum\"].isnull().sum()"
   ]
  },
  {
   "cell_type": "code",
   "execution_count": 245,
   "id": "worse-azerbaijan",
   "metadata": {},
   "outputs": [
    {
     "data": {
      "text/plain": [
       "Stratum 2                                                    68183\n",
       "Stratum 3                                                    61735\n",
       "Stratum 1                                                    35662\n",
       "Stratum 4                                                    23758\n",
       "Stratum 5                                                     9979\n",
       "Stratum 6                                                     6218\n",
       "Unknown                                                       5818\n",
       "Without Stratum                                                360\n",
       "Stratum 0                                                      215\n",
       "Rural area where there is no socioeconomic stratification       82\n",
       "Name: fami_housing_stratum, dtype: int64"
      ]
     },
     "execution_count": 245,
     "metadata": {},
     "output_type": "execute_result"
    }
   ],
   "source": [
    "data[\"fami_housing_stratum\"].value_counts()"
   ]
  },
  {
   "cell_type": "markdown",
   "id": "veterinary-stamp",
   "metadata": {},
   "source": [
    "### fami_internet"
   ]
  },
  {
   "cell_type": "code",
   "execution_count": 107,
   "id": "afraid-interstate",
   "metadata": {},
   "outputs": [
    {
     "data": {
      "text/plain": [
       "5160"
      ]
     },
     "execution_count": 107,
     "metadata": {},
     "output_type": "execute_result"
    }
   ],
   "source": [
    "data[\"fami_internet\"].isnull().sum()"
   ]
  },
  {
   "cell_type": "code",
   "execution_count": 108,
   "id": "civic-personality",
   "metadata": {},
   "outputs": [
    {
     "data": {
      "text/plain": [
       "Si    172021\n",
       "No     34829\n",
       "Name: fami_internet, dtype: int64"
      ]
     },
     "execution_count": 108,
     "metadata": {},
     "output_type": "execute_result"
    }
   ],
   "source": [
    "data[\"fami_internet\"].value_counts()"
   ]
  },
  {
   "cell_type": "markdown",
   "id": "partial-universe",
   "metadata": {},
   "source": [
    "This feature is important for insights and is not at all important for the recommendation model. Hence, null values can be filled with Si."
   ]
  },
  {
   "cell_type": "code",
   "execution_count": 246,
   "id": "geographic-theme",
   "metadata": {},
   "outputs": [],
   "source": [
    "data['fami_internet'].fillna(\"Si\", inplace=True)"
   ]
  },
  {
   "cell_type": "code",
   "execution_count": 247,
   "id": "piano-overall",
   "metadata": {},
   "outputs": [
    {
     "data": {
      "text/plain": [
       "0"
      ]
     },
     "execution_count": 247,
     "metadata": {},
     "output_type": "execute_result"
    }
   ],
   "source": [
    "data[\"fami_internet\"].isnull().sum()"
   ]
  },
  {
   "cell_type": "code",
   "execution_count": 248,
   "id": "opponent-horizon",
   "metadata": {},
   "outputs": [
    {
     "data": {
      "text/plain": [
       "Si    177181\n",
       "No     34829\n",
       "Name: fami_internet, dtype: int64"
      ]
     },
     "execution_count": 248,
     "metadata": {},
     "output_type": "execute_result"
    }
   ],
   "source": [
    "data[\"fami_internet\"].value_counts()"
   ]
  },
  {
   "cell_type": "markdown",
   "id": "normal-prevention",
   "metadata": {},
   "source": [
    "This feature can also be compared to the fami_computer feature and the null values can then be handled in a different way."
   ]
  },
  {
   "cell_type": "markdown",
   "id": "resistant-revelation",
   "metadata": {},
   "source": [
    "### fami_computer"
   ]
  },
  {
   "cell_type": "code",
   "execution_count": 109,
   "id": "moving-highway",
   "metadata": {},
   "outputs": [
    {
     "data": {
      "text/plain": [
       "5669"
      ]
     },
     "execution_count": 109,
     "metadata": {},
     "output_type": "execute_result"
    }
   ],
   "source": [
    "data[\"fami_computer\"].isnull().sum()"
   ]
  },
  {
   "cell_type": "code",
   "execution_count": 110,
   "id": "serious-tucson",
   "metadata": {},
   "outputs": [
    {
     "data": {
      "text/plain": [
       "Si    184727\n",
       "No     21614\n",
       "Name: fami_computer, dtype: int64"
      ]
     },
     "execution_count": 110,
     "metadata": {},
     "output_type": "execute_result"
    }
   ],
   "source": [
    "data[\"fami_computer\"].value_counts()"
   ]
  },
  {
   "cell_type": "code",
   "execution_count": 111,
   "id": "lesser-syndicate",
   "metadata": {},
   "outputs": [],
   "source": [
    "data[\"fami_computer\"].fillna(\"Si\", inplace=True)"
   ]
  },
  {
   "cell_type": "code",
   "execution_count": 112,
   "id": "adjustable-moscow",
   "metadata": {},
   "outputs": [
    {
     "data": {
      "text/plain": [
       "0"
      ]
     },
     "execution_count": 112,
     "metadata": {},
     "output_type": "execute_result"
    }
   ],
   "source": [
    "data[\"fami_computer\"].isnull().sum()"
   ]
  },
  {
   "cell_type": "markdown",
   "id": "practical-halifax",
   "metadata": {},
   "source": [
    "### fami_automobile"
   ]
  },
  {
   "cell_type": "code",
   "execution_count": 113,
   "id": "played-destruction",
   "metadata": {},
   "outputs": [
    {
     "data": {
      "text/plain": [
       "5356"
      ]
     },
     "execution_count": 113,
     "metadata": {},
     "output_type": "execute_result"
    }
   ],
   "source": [
    "data[\"fami_automobile\"].isnull().sum()"
   ]
  },
  {
   "cell_type": "code",
   "execution_count": 114,
   "id": "covered-phone",
   "metadata": {},
   "outputs": [
    {
     "data": {
      "text/plain": [
       "No    128949\n",
       "Si     77705\n",
       "Name: fami_automobile, dtype: int64"
      ]
     },
     "execution_count": 114,
     "metadata": {},
     "output_type": "execute_result"
    }
   ],
   "source": [
    "data[\"fami_automobile\"].value_counts()"
   ]
  },
  {
   "cell_type": "code",
   "execution_count": 249,
   "id": "modular-blame",
   "metadata": {},
   "outputs": [],
   "source": [
    "data['fami_automobile'].fillna(\"Unknown\", inplace=True)"
   ]
  },
  {
   "cell_type": "code",
   "execution_count": 250,
   "id": "faced-inflation",
   "metadata": {},
   "outputs": [
    {
     "data": {
      "text/plain": [
       "0"
      ]
     },
     "execution_count": 250,
     "metadata": {},
     "output_type": "execute_result"
    }
   ],
   "source": [
    "data[\"fami_automobile\"].isnull().sum()"
   ]
  },
  {
   "cell_type": "code",
   "execution_count": 251,
   "id": "subject-tampa",
   "metadata": {},
   "outputs": [
    {
     "data": {
      "text/plain": [
       "No         128949\n",
       "Si          77705\n",
       "Unknown      5356\n",
       "Name: fami_automobile, dtype: int64"
      ]
     },
     "execution_count": 251,
     "metadata": {},
     "output_type": "execute_result"
    }
   ],
   "source": [
    "data[\"fami_automobile\"].value_counts()"
   ]
  },
  {
   "cell_type": "markdown",
   "id": "fifteen-timber",
   "metadata": {},
   "source": [
    "### fami_num_books"
   ]
  },
  {
   "cell_type": "code",
   "execution_count": 115,
   "id": "local-turkish",
   "metadata": {},
   "outputs": [
    {
     "data": {
      "text/plain": [
       "48779"
      ]
     },
     "execution_count": 115,
     "metadata": {},
     "output_type": "execute_result"
    }
   ],
   "source": [
    "data[\"fami_num_books\"].isnull().sum()"
   ]
  },
  {
   "cell_type": "code",
   "execution_count": 116,
   "id": "funky-oxygen",
   "metadata": {},
   "outputs": [
    {
     "data": {
      "text/plain": [
       "26 TO 100 BOOKS        53403\n",
       "11 TO 25 BOOKS         46314\n",
       "0 TO 10 BOOKS          41140\n",
       "MORE THAN 100 BOOKS    22374\n",
       "Name: fami_num_books, dtype: int64"
      ]
     },
     "execution_count": 116,
     "metadata": {},
     "output_type": "execute_result"
    }
   ],
   "source": [
    "data[\"fami_num_books\"].value_counts()"
   ]
  },
  {
   "cell_type": "code",
   "execution_count": 117,
   "id": "higher-beads",
   "metadata": {},
   "outputs": [],
   "source": [
    "data[\"fami_num_books\"].fillna(\"Unknown\", inplace=True)"
   ]
  },
  {
   "cell_type": "code",
   "execution_count": 118,
   "id": "anonymous-discharge",
   "metadata": {},
   "outputs": [
    {
     "data": {
      "text/plain": [
       "0"
      ]
     },
     "execution_count": 118,
     "metadata": {},
     "output_type": "execute_result"
    }
   ],
   "source": [
    "data['fami_num_books'].isnull().sum()"
   ]
  },
  {
   "cell_type": "markdown",
   "id": "improved-binding",
   "metadata": {},
   "source": [
    "### your_prgm_academic_snies"
   ]
  },
  {
   "cell_type": "code",
   "execution_count": 119,
   "id": "hired-natural",
   "metadata": {},
   "outputs": [
    {
     "data": {
      "text/plain": [
       "6531"
      ]
     },
     "execution_count": 119,
     "metadata": {},
     "output_type": "execute_result"
    }
   ],
   "source": [
    "data[\"your_prgm_academic_snies\"].isnull().sum()"
   ]
  },
  {
   "cell_type": "code",
   "execution_count": 120,
   "id": "basic-serve",
   "metadata": {},
   "outputs": [
    {
     "data": {
      "text/plain": [
       "91157.0     5264\n",
       "91182.0     2812\n",
       "91175.0     2415\n",
       "91151.0     2071\n",
       "103633.0    1507\n",
       "            ... \n",
       "54896.0        1\n",
       "102540.0       1\n",
       "7403.0         1\n",
       "102365.0       1\n",
       "90773.0        1\n",
       "Name: your_prgm_academic_snies, Length: 4425, dtype: int64"
      ]
     },
     "execution_count": 120,
     "metadata": {},
     "output_type": "execute_result"
    }
   ],
   "source": [
    "data[\"your_prgm_academic_snies\"].value_counts()"
   ]
  },
  {
   "cell_type": "markdown",
   "id": "ready-quick",
   "metadata": {},
   "source": [
    "I am not sure what this feature means. This feature does not seem important hence it might be dropped after a discussion."
   ]
  },
  {
   "cell_type": "code",
   "execution_count": 241,
   "id": "detailed-variety",
   "metadata": {},
   "outputs": [],
   "source": [
    "data.drop(labels=\"your_prgm_academic_snies\", axis=1, inplace=True)"
   ]
  },
  {
   "cell_type": "markdown",
   "id": "consecutive-dress",
   "metadata": {},
   "source": [
    "### your_undergraduate_core"
   ]
  },
  {
   "cell_type": "code",
   "execution_count": 121,
   "id": "comfortable-turkey",
   "metadata": {},
   "outputs": [
    {
     "data": {
      "text/plain": [
       "523"
      ]
     },
     "execution_count": 121,
     "metadata": {},
     "output_type": "execute_result"
    }
   ],
   "source": [
    "data[\"your_undergraduate_core\"].isnull().sum()"
   ]
  },
  {
   "cell_type": "code",
   "execution_count": 122,
   "id": "thermal-translation",
   "metadata": {},
   "outputs": [
    {
     "data": {
      "text/plain": [
       "ADMINISTRATION                                      35790\n",
       "LAW                                                 15263\n",
       "PUBLIC ACCOUNTING                                   14334\n",
       "EDUCATION                                           14219\n",
       "INDUSTRIAL ENGINEERING                              10660\n",
       "                                                    ...  \n",
       "NUTRITION AND DIET                                    264\n",
       "AGRICULTURAL, FOREST ENGINEERING                      244\n",
       "PHISICS                                               191\n",
       "TRAINING RELATED TO THE MILITARY OR POLICE FIELD      168\n",
       "REPRESENTATIVE ARTS                                   164\n",
       "Name: your_undergraduate_core, Length: 63, dtype: int64"
      ]
     },
     "execution_count": 122,
     "metadata": {},
     "output_type": "execute_result"
    }
   ],
   "source": [
    "data[\"your_undergraduate_core\"].value_counts()"
   ]
  },
  {
   "cell_type": "markdown",
   "id": "realistic-truck",
   "metadata": {},
   "source": [
    "This might be an important field hence the null values can be filled by a placeholder value of UNKNOWN."
   ]
  },
  {
   "cell_type": "code",
   "execution_count": 123,
   "id": "regulated-python",
   "metadata": {},
   "outputs": [],
   "source": [
    "data[\"your_undergraduate_core\"].fillna(\"UNKNOWN\", inplace=True)"
   ]
  },
  {
   "cell_type": "code",
   "execution_count": 124,
   "id": "alone-hammer",
   "metadata": {},
   "outputs": [
    {
     "data": {
      "text/plain": [
       "0"
      ]
     },
     "execution_count": 124,
     "metadata": {},
     "output_type": "execute_result"
    }
   ],
   "source": [
    "data[\"your_undergraduate_core\"].isnull().sum()"
   ]
  },
  {
   "cell_type": "markdown",
   "id": "intimate-tobago",
   "metadata": {},
   "source": [
    "### score_writing_saber_pro"
   ]
  },
  {
   "cell_type": "code",
   "execution_count": 125,
   "id": "systematic-medicine",
   "metadata": {},
   "outputs": [
    {
     "data": {
      "text/plain": [
       "5929"
      ]
     },
     "execution_count": 125,
     "metadata": {},
     "output_type": "execute_result"
    }
   ],
   "source": [
    "data[\"score_writing_saber_pro\"].isnull().sum()"
   ]
  },
  {
   "cell_type": "code",
   "execution_count": 126,
   "id": "generous-envelope",
   "metadata": {},
   "outputs": [
    {
     "data": {
      "text/plain": [
       "10.10     3032\n",
       "141.00    2354\n",
       "161.00    2343\n",
       "142.00    2320\n",
       "160.00    2310\n",
       "          ... \n",
       "51.00        1\n",
       "13.34        1\n",
       "12.96        1\n",
       "257.00       1\n",
       "13.90        1\n",
       "Name: score_writing_saber_pro, Length: 791, dtype: int64"
      ]
     },
     "execution_count": 126,
     "metadata": {},
     "output_type": "execute_result"
    }
   ],
   "source": [
    "data[\"score_writing_saber_pro\"].value_counts()"
   ]
  },
  {
   "cell_type": "code",
   "execution_count": 260,
   "id": "better-general",
   "metadata": {},
   "outputs": [
    {
     "data": {
      "image/png": "[encoded data removed]",
      "text/plain": [
       "<Figure size 864x432 with 1 Axes>"
      ]
     },
     "metadata": {
      "needs_background": "light"
     },
     "output_type": "display_data"
    }
   ],
   "source": [
    "# Plot a histogram to decide the statistic to be used to fill the null values.\n",
    "plt.figure(figsize=(12,6))\n",
    "plt.hist(data[\"score_writing_saber_pro\"], bins=np.arange(0, 300, 10));"
   ]
  },
  {
   "cell_type": "code",
   "execution_count": 256,
   "id": "brazilian-copyright",
   "metadata": {},
   "outputs": [
    {
     "data": {
      "text/plain": [
       "122.05421023772206"
      ]
     },
     "execution_count": 256,
     "metadata": {},
     "output_type": "execute_result"
    }
   ],
   "source": [
    "data[\"score_writing_saber_pro\"].mean()"
   ]
  },
  {
   "cell_type": "code",
   "execution_count": 257,
   "id": "incomplete-excellence",
   "metadata": {},
   "outputs": [
    {
     "data": {
      "text/plain": [
       "141.0"
      ]
     },
     "execution_count": 257,
     "metadata": {},
     "output_type": "execute_result"
    }
   ],
   "source": [
    "data[\"score_writing_saber_pro\"].median()"
   ]
  },
  {
   "cell_type": "code",
   "execution_count": 258,
   "id": "impaired-vermont",
   "metadata": {},
   "outputs": [
    {
     "data": {
      "text/plain": [
       "0    10.1\n",
       "dtype: float64"
      ]
     },
     "execution_count": 258,
     "metadata": {},
     "output_type": "execute_result"
    }
   ],
   "source": [
    "data[\"score_writing_saber_pro\"].mode()"
   ]
  },
  {
   "cell_type": "code",
   "execution_count": 261,
   "id": "unlikely-excellence",
   "metadata": {},
   "outputs": [],
   "source": [
    "data[\"score_writing_saber_pro\"].fillna(data[\"score_writing_saber_pro\"].mean(), inplace=True)"
   ]
  },
  {
   "cell_type": "code",
   "execution_count": 262,
   "id": "scientific-collective",
   "metadata": {},
   "outputs": [
    {
     "data": {
      "text/plain": [
       "0"
      ]
     },
     "execution_count": 262,
     "metadata": {},
     "output_type": "execute_result"
    }
   ],
   "source": [
    "data[\"score_writing_saber_pro\"].isnull().sum()"
   ]
  },
  {
   "cell_type": "code",
   "execution_count": 263,
   "id": "romance-fleece",
   "metadata": {},
   "outputs": [
    {
     "data": {
      "text/plain": [
       "122.05421    5929\n",
       "10.10000     3032\n",
       "141.00000    2354\n",
       "161.00000    2343\n",
       "142.00000    2320\n",
       "             ... \n",
       "13.19000        1\n",
       "13.29000        1\n",
       "12.42000        1\n",
       "13.62000        1\n",
       "13.60000        1\n",
       "Name: score_writing_saber_pro, Length: 792, dtype: int64"
      ]
     },
     "execution_count": 263,
     "metadata": {},
     "output_type": "execute_result"
    }
   ],
   "source": [
    "data[\"score_writing_saber_pro\"].value_counts()"
   ]
  },
  {
   "cell_type": "markdown",
   "id": "pediatric-coupon",
   "metadata": {},
   "source": [
    "### your_area_residse"
   ]
  },
  {
   "cell_type": "code",
   "execution_count": 127,
   "id": "cooked-hundred",
   "metadata": {},
   "outputs": [
    {
     "data": {
      "text/plain": [
       "13286"
      ]
     },
     "execution_count": 127,
     "metadata": {},
     "output_type": "execute_result"
    }
   ],
   "source": [
    "data[\"your_area_residse\"].isnull().sum()"
   ]
  },
  {
   "cell_type": "code",
   "execution_count": 128,
   "id": "early-lawrence",
   "metadata": {},
   "outputs": [
    {
     "data": {
      "text/plain": [
       "Head of Municipality    175663\n",
       "Rural area               23061\n",
       "Name: your_area_residse, dtype: int64"
      ]
     },
     "execution_count": 128,
     "metadata": {},
     "output_type": "execute_result"
    }
   ],
   "source": [
    "data[\"your_area_residse\"].value_counts()"
   ]
  },
  {
   "cell_type": "code",
   "execution_count": 129,
   "id": "nuclear-basement",
   "metadata": {},
   "outputs": [],
   "source": [
    "data[\"your_area_residse\"].fillna(\"Unknown\", inplace=True)"
   ]
  },
  {
   "cell_type": "code",
   "execution_count": 130,
   "id": "favorite-midwest",
   "metadata": {},
   "outputs": [
    {
     "data": {
      "text/plain": [
       "0"
      ]
     },
     "execution_count": 130,
     "metadata": {},
     "output_type": "execute_result"
    }
   ],
   "source": [
    "data[\"your_area_residse\"].isnull().sum()"
   ]
  },
  {
   "cell_type": "markdown",
   "id": "visible-fight",
   "metadata": {},
   "source": [
    "### your_tuition"
   ]
  },
  {
   "cell_type": "code",
   "execution_count": 131,
   "id": "knowing-event",
   "metadata": {},
   "outputs": [
    {
     "data": {
      "text/plain": [
       "1733"
      ]
     },
     "execution_count": 131,
     "metadata": {},
     "output_type": "execute_result"
    }
   ],
   "source": [
    "data['your_tuition'].isnull().sum()"
   ]
  },
  {
   "cell_type": "code",
   "execution_count": 132,
   "id": "military-independence",
   "metadata": {},
   "outputs": [
    {
     "data": {
      "text/plain": [
       "Does not pay Pension                     126856\n",
       "250,000 or more                           32006\n",
       "Between 150,000 and less than 250,000     21597\n",
       "Less than 87,000                          10413\n",
       "Between 87,000 and less than 120,000      10287\n",
       "Between 120,000 and less than 150,000      9118\n",
       "Name: your_tuition, dtype: int64"
      ]
     },
     "execution_count": 132,
     "metadata": {},
     "output_type": "execute_result"
    }
   ],
   "source": [
    "data['your_tuition'].value_counts()"
   ]
  },
  {
   "cell_type": "code",
   "execution_count": 264,
   "id": "informative-dinner",
   "metadata": {},
   "outputs": [],
   "source": [
    "data['your_tuition'].fillna(\"Does not pay Pension\", inplace=True)"
   ]
  },
  {
   "cell_type": "code",
   "execution_count": 265,
   "id": "brutal-thesis",
   "metadata": {},
   "outputs": [
    {
     "data": {
      "text/plain": [
       "0"
      ]
     },
     "execution_count": 265,
     "metadata": {},
     "output_type": "execute_result"
    }
   ],
   "source": [
    "data['your_tuition'].isnull().sum()"
   ]
  },
  {
   "cell_type": "code",
   "execution_count": 266,
   "id": "unnecessary-vitamin",
   "metadata": {},
   "outputs": [
    {
     "data": {
      "text/plain": [
       "Does not pay Pension                     128589\n",
       "250,000 or more                           32006\n",
       "Between 150,000 and less than 250,000     21597\n",
       "Less than 87,000                          10413\n",
       "Between 87,000 and less than 120,000      10287\n",
       "Between 120,000 and less than 150,000      9118\n",
       "Name: your_tuition, dtype: int64"
      ]
     },
     "execution_count": 266,
     "metadata": {},
     "output_type": "execute_result"
    }
   ],
   "source": [
    "data['your_tuition'].value_counts()"
   ]
  },
  {
   "cell_type": "markdown",
   "id": "continuous-andrews",
   "metadata": {},
   "source": [
    "### your_times_took_exam"
   ]
  },
  {
   "cell_type": "code",
   "execution_count": 133,
   "id": "serious-demonstration",
   "metadata": {},
   "outputs": [
    {
     "data": {
      "text/plain": [
       "123105"
      ]
     },
     "execution_count": 133,
     "metadata": {},
     "output_type": "execute_result"
    }
   ],
   "source": [
    "data['your_times_took_exam'].isnull().sum()"
   ]
  },
  {
   "cell_type": "code",
   "execution_count": 134,
   "id": "analyzed-wisdom",
   "metadata": {},
   "outputs": [
    {
     "data": {
      "text/plain": [
       "Never                  85747\n",
       "Once                    2542\n",
       "Twice                    497\n",
       "Three times or more      119\n",
       "Name: your_times_took_exam, dtype: int64"
      ]
     },
     "execution_count": 134,
     "metadata": {},
     "output_type": "execute_result"
    }
   ],
   "source": [
    "data['your_times_took_exam'].value_counts()"
   ]
  },
  {
   "cell_type": "code",
   "execution_count": 135,
   "id": "classical-applicant",
   "metadata": {},
   "outputs": [],
   "source": [
    "data['your_times_took_exam'].fillna(\"Unknown\", inplace=True)"
   ]
  },
  {
   "cell_type": "code",
   "execution_count": 136,
   "id": "criminal-research",
   "metadata": {},
   "outputs": [
    {
     "data": {
      "text/plain": [
       "0"
      ]
     },
     "execution_count": 136,
     "metadata": {},
     "output_type": "execute_result"
    }
   ],
   "source": [
    "data['your_times_took_exam'].isnull().sum()"
   ]
  },
  {
   "cell_type": "markdown",
   "id": "automatic-mapping",
   "metadata": {},
   "source": [
    "### fami_social_stratum_sisben"
   ]
  },
  {
   "cell_type": "code",
   "execution_count": 137,
   "id": "settled-momentum",
   "metadata": {},
   "outputs": [
    {
     "data": {
      "text/plain": [
       "1861"
      ]
     },
     "execution_count": 137,
     "metadata": {},
     "output_type": "execute_result"
    }
   ],
   "source": [
    "data['fami_social_stratum_sisben'].isnull().sum()"
   ]
  },
  {
   "cell_type": "code",
   "execution_count": 138,
   "id": "qualified-melissa",
   "metadata": {},
   "outputs": [
    {
     "data": {
      "text/plain": [
       "Not classified by SISBEN    104554\n",
       "Level 1                      50471\n",
       "Level 2                      42698\n",
       "Level 3                      10742\n",
       "Other level SISBEN            1684\n",
       "Name: fami_social_stratum_sisben, dtype: int64"
      ]
     },
     "execution_count": 138,
     "metadata": {},
     "output_type": "execute_result"
    }
   ],
   "source": [
    "data['fami_social_stratum_sisben'].value_counts()"
   ]
  },
  {
   "cell_type": "code",
   "execution_count": 139,
   "id": "rural-queen",
   "metadata": {},
   "outputs": [],
   "source": [
    "data['fami_social_stratum_sisben'].fillna(\"Unknown\", inplace=True)"
   ]
  },
  {
   "cell_type": "code",
   "execution_count": 140,
   "id": "studied-temperature",
   "metadata": {},
   "outputs": [
    {
     "data": {
      "text/plain": [
       "0"
      ]
     },
     "execution_count": 140,
     "metadata": {},
     "output_type": "execute_result"
    }
   ],
   "source": [
    "data['fami_social_stratum_sisben'].isnull().sum()"
   ]
  },
  {
   "cell_type": "code",
   "execution_count": 141,
   "id": "stylish-detection",
   "metadata": {},
   "outputs": [
    {
     "data": {
      "text/plain": [
       "Not classified by SISBEN    104554\n",
       "Level 1                      50471\n",
       "Level 2                      42698\n",
       "Level 3                      10742\n",
       "Unknown                       1861\n",
       "Other level SISBEN            1684\n",
       "Name: fami_social_stratum_sisben, dtype: int64"
      ]
     },
     "execution_count": 141,
     "metadata": {},
     "output_type": "execute_result"
    }
   ],
   "source": [
    "data['fami_social_stratum_sisben'].value_counts()"
   ]
  },
  {
   "cell_type": "markdown",
   "id": "substantial-overhead",
   "metadata": {},
   "source": [
    "### fami_house_members"
   ]
  },
  {
   "cell_type": "code",
   "execution_count": 142,
   "id": "considered-devon",
   "metadata": {},
   "outputs": [
    {
     "data": {
      "text/plain": [
       "1863"
      ]
     },
     "execution_count": 142,
     "metadata": {},
     "output_type": "execute_result"
    }
   ],
   "source": [
    "data['fami_house_members'].isnull().sum()"
   ]
  },
  {
   "cell_type": "code",
   "execution_count": 143,
   "id": "aware-advice",
   "metadata": {},
   "outputs": [
    {
     "data": {
      "text/plain": [
       "Four              74832\n",
       "Five              49611\n",
       "Three             37756\n",
       "Six               20261\n",
       "Two               10250\n",
       "Seven              8280\n",
       "Eight              4134\n",
       "Nine               1793\n",
       "Ten                1257\n",
       "Twelve or more     1012\n",
       "Eleven              571\n",
       "One                 390\n",
       "Name: fami_house_members, dtype: int64"
      ]
     },
     "execution_count": 143,
     "metadata": {},
     "output_type": "execute_result"
    }
   ],
   "source": [
    "data['fami_house_members'].value_counts()"
   ]
  },
  {
   "cell_type": "markdown",
   "id": "posted-improvement",
   "metadata": {},
   "source": [
    "This does not seem like an important feature. Fill the null values with the mode."
   ]
  },
  {
   "cell_type": "code",
   "execution_count": 144,
   "id": "contemporary-sunday",
   "metadata": {},
   "outputs": [],
   "source": [
    "data['fami_house_members'].fillna(\"Four\", inplace=True)"
   ]
  },
  {
   "cell_type": "code",
   "execution_count": 145,
   "id": "sacred-secondary",
   "metadata": {},
   "outputs": [
    {
     "data": {
      "text/plain": [
       "0"
      ]
     },
     "execution_count": 145,
     "metadata": {},
     "output_type": "execute_result"
    }
   ],
   "source": [
    "data['fami_house_members'].isnull().sum()"
   ]
  },
  {
   "cell_type": "code",
   "execution_count": 146,
   "id": "temporal-helen",
   "metadata": {},
   "outputs": [
    {
     "data": {
      "text/plain": [
       "Four              76695\n",
       "Five              49611\n",
       "Three             37756\n",
       "Six               20261\n",
       "Two               10250\n",
       "Seven              8280\n",
       "Eight              4134\n",
       "Nine               1793\n",
       "Ten                1257\n",
       "Twelve or more     1012\n",
       "Eleven              571\n",
       "One                 390\n",
       "Name: fami_house_members, dtype: int64"
      ]
     },
     "execution_count": 146,
     "metadata": {},
     "output_type": "execute_result"
    }
   ],
   "source": [
    "data['fami_house_members'].value_counts()"
   ]
  },
  {
   "cell_type": "markdown",
   "id": "animated-tracy",
   "metadata": {},
   "source": [
    "### fami_house_rooms"
   ]
  },
  {
   "cell_type": "code",
   "execution_count": 147,
   "id": "increasing-plate",
   "metadata": {},
   "outputs": [
    {
     "data": {
      "text/plain": [
       "1855"
      ]
     },
     "execution_count": 147,
     "metadata": {},
     "output_type": "execute_result"
    }
   ],
   "source": [
    "data['fami_house_rooms'].isnull().sum()"
   ]
  },
  {
   "cell_type": "code",
   "execution_count": 148,
   "id": "blessed-luxembourg",
   "metadata": {},
   "outputs": [
    {
     "data": {
      "text/plain": [
       "Three          98131\n",
       "Two            64033\n",
       "Four           31266\n",
       "Five            7830\n",
       "One             5047\n",
       "Six             2301\n",
       "Seven            805\n",
       "Eight            398\n",
       "Ten or more      193\n",
       "Nine             151\n",
       "Name: fami_house_rooms, dtype: int64"
      ]
     },
     "execution_count": 148,
     "metadata": {},
     "output_type": "execute_result"
    }
   ],
   "source": [
    "data['fami_house_rooms'].value_counts()"
   ]
  },
  {
   "cell_type": "code",
   "execution_count": 149,
   "id": "actual-sociology",
   "metadata": {},
   "outputs": [],
   "source": [
    "data['fami_house_rooms'].fillna(\"Three\", inplace=True)"
   ]
  },
  {
   "cell_type": "code",
   "execution_count": 150,
   "id": "adjacent-turkish",
   "metadata": {},
   "outputs": [
    {
     "data": {
      "text/plain": [
       "0"
      ]
     },
     "execution_count": 150,
     "metadata": {},
     "output_type": "execute_result"
    }
   ],
   "source": [
    "data['fami_house_rooms'].isnull().sum()"
   ]
  },
  {
   "cell_type": "markdown",
   "id": "minus-ancient",
   "metadata": {},
   "source": [
    "### fami_house_floor"
   ]
  },
  {
   "cell_type": "code",
   "execution_count": 151,
   "id": "monetary-scott",
   "metadata": {},
   "outputs": [
    {
     "data": {
      "text/plain": [
       "1862"
      ]
     },
     "execution_count": 151,
     "metadata": {},
     "output_type": "execute_result"
    }
   ],
   "source": [
    "data['fami_house_floor'].isnull().sum()"
   ]
  },
  {
   "cell_type": "code",
   "execution_count": 152,
   "id": "chronic-attack",
   "metadata": {},
   "outputs": [
    {
     "data": {
      "text/plain": [
       "Polished wood, tile, tablet, marble, carpet    134257\n",
       "Cement, gravel, brick                           63660\n",
       "Rough wood, board, plank                         8651\n",
       "Dirt, sand                                       3580\n",
       "Name: fami_house_floor, dtype: int64"
      ]
     },
     "execution_count": 152,
     "metadata": {},
     "output_type": "execute_result"
    }
   ],
   "source": [
    "data['fami_house_floor'].value_counts()"
   ]
  },
  {
   "cell_type": "code",
   "execution_count": 153,
   "id": "physical-malta",
   "metadata": {},
   "outputs": [
    {
     "data": {
      "text/plain": [
       "'Polished wood, tile, tablet, marble, carpet'"
      ]
     },
     "execution_count": 153,
     "metadata": {},
     "output_type": "execute_result"
    }
   ],
   "source": [
    "(data['fami_house_floor'].mode().item())"
   ]
  },
  {
   "cell_type": "code",
   "execution_count": 154,
   "id": "retained-ontario",
   "metadata": {},
   "outputs": [],
   "source": [
    "data['fami_house_floor'].fillna(data['fami_house_floor'].mode().item(), inplace=True)"
   ]
  },
  {
   "cell_type": "code",
   "execution_count": 155,
   "id": "fiscal-brooklyn",
   "metadata": {},
   "outputs": [
    {
     "data": {
      "text/plain": [
       "Polished wood, tile, tablet, marble, carpet    136119\n",
       "Cement, gravel, brick                           63660\n",
       "Rough wood, board, plank                         8651\n",
       "Dirt, sand                                       3580\n",
       "Name: fami_house_floor, dtype: int64"
      ]
     },
     "execution_count": 155,
     "metadata": {},
     "output_type": "execute_result"
    }
   ],
   "source": [
    "data['fami_house_floor'].value_counts()"
   ]
  },
  {
   "cell_type": "code",
   "execution_count": 156,
   "id": "proprietary-separate",
   "metadata": {},
   "outputs": [
    {
     "data": {
      "text/plain": [
       "0"
      ]
     },
     "execution_count": 156,
     "metadata": {},
     "output_type": "execute_result"
    }
   ],
   "source": [
    "data['fami_house_floor'].isnull().sum()"
   ]
  },
  {
   "cell_type": "markdown",
   "id": "sporting-england",
   "metadata": {},
   "source": [
    "### fami_washer"
   ]
  },
  {
   "cell_type": "code",
   "execution_count": 157,
   "id": "covered-observer",
   "metadata": {},
   "outputs": [
    {
     "data": {
      "text/plain": [
       "1862"
      ]
     },
     "execution_count": 157,
     "metadata": {},
     "output_type": "execute_result"
    }
   ],
   "source": [
    "data['fami_washer'].isnull().sum()"
   ]
  },
  {
   "cell_type": "code",
   "execution_count": 158,
   "id": "optional-zealand",
   "metadata": {},
   "outputs": [
    {
     "data": {
      "text/plain": [
       "Si    164195\n",
       "No     45953\n",
       "Name: fami_washer, dtype: int64"
      ]
     },
     "execution_count": 158,
     "metadata": {},
     "output_type": "execute_result"
    }
   ],
   "source": [
    "data['fami_washer'].value_counts()"
   ]
  },
  {
   "cell_type": "code",
   "execution_count": 159,
   "id": "acknowledged-macedonia",
   "metadata": {},
   "outputs": [],
   "source": [
    "data['fami_washer'].fillna(\"Si\", inplace=True)"
   ]
  },
  {
   "cell_type": "code",
   "execution_count": 160,
   "id": "unauthorized-intermediate",
   "metadata": {},
   "outputs": [
    {
     "data": {
      "text/plain": [
       "0"
      ]
     },
     "execution_count": 160,
     "metadata": {},
     "output_type": "execute_result"
    }
   ],
   "source": [
    "data['fami_washer'].isnull().sum()"
   ]
  },
  {
   "cell_type": "markdown",
   "id": "racial-stanford",
   "metadata": {},
   "source": [
    "### fami_microwave"
   ]
  },
  {
   "cell_type": "code",
   "execution_count": 161,
   "id": "weird-strap",
   "metadata": {},
   "outputs": [
    {
     "data": {
      "text/plain": [
       "1862"
      ]
     },
     "execution_count": 161,
     "metadata": {},
     "output_type": "execute_result"
    }
   ],
   "source": [
    "data['fami_microwave'].isnull().sum()"
   ]
  },
  {
   "cell_type": "code",
   "execution_count": 162,
   "id": "unusual-seven",
   "metadata": {},
   "outputs": [
    {
     "data": {
      "text/plain": [
       "No    122054\n",
       "Si     88094\n",
       "Name: fami_microwave, dtype: int64"
      ]
     },
     "execution_count": 162,
     "metadata": {},
     "output_type": "execute_result"
    }
   ],
   "source": [
    "data['fami_microwave'].value_counts()"
   ]
  },
  {
   "cell_type": "code",
   "execution_count": 163,
   "id": "accessory-binary",
   "metadata": {},
   "outputs": [],
   "source": [
    "data['fami_microwave'].fillna(\"No\", inplace=True)"
   ]
  },
  {
   "cell_type": "code",
   "execution_count": 164,
   "id": "objective-designation",
   "metadata": {},
   "outputs": [
    {
     "data": {
      "text/plain": [
       "0"
      ]
     },
     "execution_count": 164,
     "metadata": {},
     "output_type": "execute_result"
    }
   ],
   "source": [
    "data['fami_microwave'].isnull().sum()"
   ]
  },
  {
   "cell_type": "markdown",
   "id": "reserved-commander",
   "metadata": {},
   "source": [
    "### fami_oven"
   ]
  },
  {
   "cell_type": "code",
   "execution_count": 165,
   "id": "choice-composite",
   "metadata": {},
   "outputs": [
    {
     "data": {
      "text/plain": [
       "10366"
      ]
     },
     "execution_count": 165,
     "metadata": {},
     "output_type": "execute_result"
    }
   ],
   "source": [
    "data['fami_oven'].isnull().sum()"
   ]
  },
  {
   "cell_type": "code",
   "execution_count": 166,
   "id": "cultural-milan",
   "metadata": {},
   "outputs": [
    {
     "data": {
      "text/plain": [
       "Si    112925\n",
       "No     88719\n",
       "Name: fami_oven, dtype: int64"
      ]
     },
     "execution_count": 166,
     "metadata": {},
     "output_type": "execute_result"
    }
   ],
   "source": [
    "data['fami_oven'].value_counts()"
   ]
  },
  {
   "cell_type": "code",
   "execution_count": 167,
   "id": "industrial-singles",
   "metadata": {},
   "outputs": [],
   "source": [
    "data['fami_oven'].fillna(\"Unknown\", inplace=True)"
   ]
  },
  {
   "cell_type": "code",
   "execution_count": 168,
   "id": "dietary-strategy",
   "metadata": {},
   "outputs": [
    {
     "data": {
      "text/plain": [
       "0"
      ]
     },
     "execution_count": 168,
     "metadata": {},
     "output_type": "execute_result"
    }
   ],
   "source": [
    "data['fami_oven'].isnull().sum()"
   ]
  },
  {
   "cell_type": "markdown",
   "id": "rapid-louisville",
   "metadata": {},
   "source": [
    "### fami_dvd"
   ]
  },
  {
   "cell_type": "code",
   "execution_count": 169,
   "id": "closing-graduate",
   "metadata": {},
   "outputs": [
    {
     "data": {
      "text/plain": [
       "1862"
      ]
     },
     "execution_count": 169,
     "metadata": {},
     "output_type": "execute_result"
    }
   ],
   "source": [
    "data['fami_dvd'].isnull().sum()"
   ]
  },
  {
   "cell_type": "code",
   "execution_count": 170,
   "id": "pretty-organization",
   "metadata": {},
   "outputs": [
    {
     "data": {
      "text/plain": [
       "Si    154561\n",
       "No     55587\n",
       "Name: fami_dvd, dtype: int64"
      ]
     },
     "execution_count": 170,
     "metadata": {},
     "output_type": "execute_result"
    }
   ],
   "source": [
    "data['fami_dvd'].value_counts()"
   ]
  },
  {
   "cell_type": "code",
   "execution_count": 171,
   "id": "legendary-folder",
   "metadata": {},
   "outputs": [],
   "source": [
    "data['fami_dvd'].fillna(\"Si\", inplace=True)"
   ]
  },
  {
   "cell_type": "code",
   "execution_count": 172,
   "id": "instant-allen",
   "metadata": {},
   "outputs": [
    {
     "data": {
      "text/plain": [
       "0"
      ]
     },
     "execution_count": 172,
     "metadata": {},
     "output_type": "execute_result"
    }
   ],
   "source": [
    "data['fami_dvd'].isnull().sum()"
   ]
  },
  {
   "cell_type": "markdown",
   "id": "chronic-celebration",
   "metadata": {},
   "source": [
    "### fami_monthly_family_income"
   ]
  },
  {
   "cell_type": "code",
   "execution_count": 173,
   "id": "broadband-burke",
   "metadata": {},
   "outputs": [
    {
     "data": {
      "text/plain": [
       "7887"
      ]
     },
     "execution_count": 173,
     "metadata": {},
     "output_type": "execute_result"
    }
   ],
   "source": [
    "data['fami_monthly_family_income'].isnull().sum()"
   ]
  },
  {
   "cell_type": "code",
   "execution_count": 174,
   "id": "outer-candle",
   "metadata": {},
   "outputs": [
    {
     "data": {
      "text/plain": [
       "Between 1 and less than 2 SMLV     79315\n",
       "Between 2 and less than 3 SMLV     40566\n",
       "Less than 1 SMLV                   33258\n",
       "Between 3 and less than 5 SMLV     27076\n",
       "Between 5 and less than 7 SMLV     11496\n",
       "10 or more SMLV                     7956\n",
       "Between 7 and less than 10 SMLV     4456\n",
       "Name: fami_monthly_family_income, dtype: int64"
      ]
     },
     "execution_count": 174,
     "metadata": {},
     "output_type": "execute_result"
    }
   ],
   "source": [
    "data['fami_monthly_family_income'].value_counts()"
   ]
  },
  {
   "cell_type": "code",
   "execution_count": 175,
   "id": "democratic-basics",
   "metadata": {},
   "outputs": [],
   "source": [
    "data['fami_monthly_family_income'].fillna(\"Unknown\", inplace=True)"
   ]
  },
  {
   "cell_type": "code",
   "execution_count": 176,
   "id": "offshore-diamond",
   "metadata": {},
   "outputs": [
    {
     "data": {
      "text/plain": [
       "0"
      ]
     },
     "execution_count": 176,
     "metadata": {},
     "output_type": "execute_result"
    }
   ],
   "source": [
    "data['fami_monthly_family_income'].isnull().sum()"
   ]
  },
  {
   "cell_type": "markdown",
   "id": "contemporary-organization",
   "metadata": {},
   "source": [
    "### your_currently_working"
   ]
  },
  {
   "cell_type": "code",
   "execution_count": 177,
   "id": "spiritual-worcester",
   "metadata": {},
   "outputs": [
    {
     "data": {
      "text/plain": [
       "3456"
      ]
     },
     "execution_count": 177,
     "metadata": {},
     "output_type": "execute_result"
    }
   ],
   "source": [
    "data['your_currently_working'].isnull().sum()"
   ]
  },
  {
   "cell_type": "code",
   "execution_count": 178,
   "id": "removable-heritage",
   "metadata": {},
   "outputs": [
    {
     "data": {
      "text/plain": [
       "No                                199733\n",
       "Yes, less than 20 hours a week      5714\n",
       "Yes, 20 hours or more per week      3107\n",
       "Name: your_currently_working, dtype: int64"
      ]
     },
     "execution_count": 178,
     "metadata": {},
     "output_type": "execute_result"
    }
   ],
   "source": [
    "data['your_currently_working'].value_counts()"
   ]
  },
  {
   "cell_type": "code",
   "execution_count": 179,
   "id": "structured-yellow",
   "metadata": {},
   "outputs": [],
   "source": [
    "data['your_currently_working'].fillna(\"No\", inplace=True)"
   ]
  },
  {
   "cell_type": "code",
   "execution_count": 180,
   "id": "recreational-acrylic",
   "metadata": {},
   "outputs": [
    {
     "data": {
      "text/plain": [
       "0"
      ]
     },
     "execution_count": 180,
     "metadata": {},
     "output_type": "execute_result"
    }
   ],
   "source": [
    "data['your_currently_working'].isnull().sum()"
   ]
  },
  {
   "cell_type": "markdown",
   "id": "dimensional-mechanics",
   "metadata": {},
   "source": [
    "### cole_saber_11_icfes_code"
   ]
  },
  {
   "cell_type": "code",
   "execution_count": 181,
   "id": "touched-programming",
   "metadata": {},
   "outputs": [
    {
     "data": {
      "text/plain": [
       "11003"
      ]
     },
     "execution_count": 181,
     "metadata": {},
     "output_type": "execute_result"
    }
   ],
   "source": [
    "data['cole_saber_11_icfes_code'].isnull().sum()"
   ]
  },
  {
   "cell_type": "code",
   "execution_count": 182,
   "id": "protecting-pregnancy",
   "metadata": {},
   "outputs": [
    {
     "data": {
      "text/plain": [
       "9110.0      724\n",
       "59.0        618\n",
       "786.0       367\n",
       "19893.0     314\n",
       "27102.0     300\n",
       "           ... \n",
       "15263.0       1\n",
       "120956.0      1\n",
       "174029.0      1\n",
       "146472.0      1\n",
       "95588.0       1\n",
       "Name: cole_saber_11_icfes_code, Length: 10805, dtype: int64"
      ]
     },
     "execution_count": 182,
     "metadata": {},
     "output_type": "execute_result"
    }
   ],
   "source": [
    "data['cole_saber_11_icfes_code'].value_counts()"
   ]
  },
  {
   "cell_type": "code",
   "execution_count": 183,
   "id": "ruled-suspect",
   "metadata": {},
   "outputs": [],
   "source": [
    "data['cole_saber_11_icfes_code'].fillna(0.0, inplace=True)"
   ]
  },
  {
   "cell_type": "code",
   "execution_count": 184,
   "id": "prompt-cattle",
   "metadata": {},
   "outputs": [
    {
     "data": {
      "text/plain": [
       "0"
      ]
     },
     "execution_count": 184,
     "metadata": {},
     "output_type": "execute_result"
    }
   ],
   "source": [
    "data['cole_saber_11_icfes_code'].isnull().sum()"
   ]
  },
  {
   "cell_type": "markdown",
   "id": "foster-array",
   "metadata": {},
   "source": [
    "### cole_saber_11_icfes_dane"
   ]
  },
  {
   "cell_type": "code",
   "execution_count": 185,
   "id": "matched-tokyo",
   "metadata": {},
   "outputs": [
    {
     "data": {
      "text/plain": [
       "68"
      ]
     },
     "execution_count": 185,
     "metadata": {},
     "output_type": "execute_result"
    }
   ],
   "source": [
    "data['cole_saber_11_icfes_dane'].isnull().sum()"
   ]
  },
  {
   "cell_type": "code",
   "execution_count": 186,
   "id": "alien-governor",
   "metadata": {},
   "outputs": [
    {
     "data": {
      "text/plain": [
       "1.050010e+11    684\n",
       "3.050010e+11    430\n",
       "3.050010e+11    424\n",
       "1.050010e+11    373\n",
       "1.110010e+11    344\n",
       "               ... \n",
       "2.413780e+11      1\n",
       "2.851250e+11      1\n",
       "2.134300e+11      1\n",
       "1.522030e+11      1\n",
       "2.732830e+11      1\n",
       "Name: cole_saber_11_icfes_dane, Length: 9052, dtype: int64"
      ]
     },
     "execution_count": 186,
     "metadata": {},
     "output_type": "execute_result"
    }
   ],
   "source": [
    "data['cole_saber_11_icfes_dane'].value_counts()"
   ]
  },
  {
   "cell_type": "code",
   "execution_count": 187,
   "id": "patent-equity",
   "metadata": {},
   "outputs": [],
   "source": [
    "data['cole_saber_11_icfes_dane'].fillna(0.0, inplace=True)"
   ]
  },
  {
   "cell_type": "code",
   "execution_count": 188,
   "id": "civilian-worthy",
   "metadata": {},
   "outputs": [
    {
     "data": {
      "text/plain": [
       "0"
      ]
     },
     "execution_count": 188,
     "metadata": {},
     "output_type": "execute_result"
    }
   ],
   "source": [
    "data['cole_saber_11_icfes_dane'].isnull().sum()"
   ]
  },
  {
   "cell_type": "markdown",
   "id": "thorough-tobacco",
   "metadata": {},
   "source": [
    "### cole_calendar"
   ]
  },
  {
   "cell_type": "code",
   "execution_count": 189,
   "id": "polish-basketball",
   "metadata": {},
   "outputs": [
    {
     "data": {
      "text/plain": [
       "20"
      ]
     },
     "execution_count": 189,
     "metadata": {},
     "output_type": "execute_result"
    }
   ],
   "source": [
    "data['cole_calendar'].isnull().sum()"
   ]
  },
  {
   "cell_type": "code",
   "execution_count": 190,
   "id": "confused-diameter",
   "metadata": {},
   "outputs": [
    {
     "data": {
      "text/plain": [
       "A       194648\n",
       "B        16770\n",
       "OTRO       572\n",
       "Name: cole_calendar, dtype: int64"
      ]
     },
     "execution_count": 190,
     "metadata": {},
     "output_type": "execute_result"
    }
   ],
   "source": [
    "data['cole_calendar'].value_counts()"
   ]
  },
  {
   "cell_type": "code",
   "execution_count": 191,
   "id": "checked-illustration",
   "metadata": {},
   "outputs": [],
   "source": [
    "data['cole_calendar'].fillna(\"A\", inplace=True)"
   ]
  },
  {
   "cell_type": "code",
   "execution_count": 192,
   "id": "parental-economy",
   "metadata": {},
   "outputs": [
    {
     "data": {
      "text/plain": [
       "A       194668\n",
       "B        16770\n",
       "OTRO       572\n",
       "Name: cole_calendar, dtype: int64"
      ]
     },
     "execution_count": 192,
     "metadata": {},
     "output_type": "execute_result"
    }
   ],
   "source": [
    "data['cole_calendar'].value_counts()"
   ]
  },
  {
   "cell_type": "markdown",
   "id": "metric-midwest",
   "metadata": {},
   "source": [
    "### cole_bilingual"
   ]
  },
  {
   "cell_type": "code",
   "execution_count": 193,
   "id": "ancient-asian",
   "metadata": {},
   "outputs": [
    {
     "data": {
      "text/plain": [
       "15551"
      ]
     },
     "execution_count": 193,
     "metadata": {},
     "output_type": "execute_result"
    }
   ],
   "source": [
    "data['cole_bilingual'].isnull().sum()"
   ]
  },
  {
   "cell_type": "code",
   "execution_count": 194,
   "id": "married-dispute",
   "metadata": {},
   "outputs": [
    {
     "data": {
      "text/plain": [
       "N    188841\n",
       "S      7618\n",
       "Name: cole_bilingual, dtype: int64"
      ]
     },
     "execution_count": 194,
     "metadata": {},
     "output_type": "execute_result"
    }
   ],
   "source": [
    "data['cole_bilingual'].value_counts()"
   ]
  },
  {
   "cell_type": "code",
   "execution_count": 195,
   "id": "brazilian-adelaide",
   "metadata": {},
   "outputs": [],
   "source": [
    "data['cole_bilingual'].fillna(\"UNKNOWN\", inplace=True)"
   ]
  },
  {
   "cell_type": "code",
   "execution_count": 196,
   "id": "velvet-webster",
   "metadata": {},
   "outputs": [
    {
     "data": {
      "text/plain": [
       "0"
      ]
     },
     "execution_count": 196,
     "metadata": {},
     "output_type": "execute_result"
    }
   ],
   "source": [
    "data['cole_bilingual'].isnull().sum()"
   ]
  },
  {
   "cell_type": "code",
   "execution_count": 197,
   "id": "dental-contribution",
   "metadata": {},
   "outputs": [
    {
     "data": {
      "text/plain": [
       "N          188841\n",
       "UNKNOWN     15551\n",
       "S            7618\n",
       "Name: cole_bilingual, dtype: int64"
      ]
     },
     "execution_count": 197,
     "metadata": {},
     "output_type": "execute_result"
    }
   ],
   "source": [
    "data['cole_bilingual'].value_counts()"
   ]
  },
  {
   "cell_type": "markdown",
   "id": "relative-daily",
   "metadata": {},
   "source": [
    "### cole_character"
   ]
  },
  {
   "cell_type": "code",
   "execution_count": 198,
   "id": "imported-launch",
   "metadata": {},
   "outputs": [
    {
     "data": {
      "text/plain": [
       "327"
      ]
     },
     "execution_count": 198,
     "metadata": {},
     "output_type": "execute_result"
    }
   ],
   "source": [
    "data['cole_character'].isnull().sum()"
   ]
  },
  {
   "cell_type": "code",
   "execution_count": 199,
   "id": "purple-breed",
   "metadata": {},
   "outputs": [
    {
     "data": {
      "text/plain": [
       "ACADEMIC              124057\n",
       "TECHNICAL/ACADEMIC     67347\n",
       "TECHNICAL              19997\n",
       "DOES NOT APPLY           282\n",
       "Name: cole_character, dtype: int64"
      ]
     },
     "execution_count": 199,
     "metadata": {},
     "output_type": "execute_result"
    }
   ],
   "source": [
    "data['cole_character'].value_counts()"
   ]
  },
  {
   "cell_type": "code",
   "execution_count": 200,
   "id": "dominican-check",
   "metadata": {},
   "outputs": [],
   "source": [
    "data['cole_character'].fillna(\"ACADEMIC\", inplace=True)"
   ]
  },
  {
   "cell_type": "code",
   "execution_count": 201,
   "id": "civilian-omaha",
   "metadata": {},
   "outputs": [
    {
     "data": {
      "text/plain": [
       "0"
      ]
     },
     "execution_count": 201,
     "metadata": {},
     "output_type": "execute_result"
    }
   ],
   "source": [
    "data['cole_character'].isnull().sum()"
   ]
  },
  {
   "cell_type": "markdown",
   "id": "adverse-terry",
   "metadata": {},
   "source": [
    "### cole_dane_code_campus"
   ]
  },
  {
   "cell_type": "code",
   "execution_count": 202,
   "id": "unexpected-direction",
   "metadata": {},
   "outputs": [
    {
     "data": {
      "text/plain": [
       "4"
      ]
     },
     "execution_count": 202,
     "metadata": {},
     "output_type": "execute_result"
    }
   ],
   "source": [
    "data['cole_dane_code_campus'].isnull().sum()"
   ]
  },
  {
   "cell_type": "code",
   "execution_count": 203,
   "id": "interim-intellectual",
   "metadata": {},
   "outputs": [
    {
     "data": {
      "text/plain": [
       "1.050010e+11    684\n",
       "3.050010e+11    430\n",
       "3.050010e+11    424\n",
       "1.050010e+11    373\n",
       "1.110010e+11    344\n",
       "               ... \n",
       "1.235860e+11      1\n",
       "2.154690e+11      1\n",
       "1.130010e+11      1\n",
       "2.416150e+11      1\n",
       "1.760010e+11      1\n",
       "Name: cole_dane_code_campus, Length: 9205, dtype: int64"
      ]
     },
     "execution_count": 203,
     "metadata": {},
     "output_type": "execute_result"
    }
   ],
   "source": [
    "data['cole_dane_code_campus'].value_counts()"
   ]
  },
  {
   "cell_type": "code",
   "execution_count": 204,
   "id": "sitting-earthquake",
   "metadata": {},
   "outputs": [],
   "source": [
    "data['cole_dane_code_campus'].fillna(data['cole_dane_code_campus'].mode().item(), inplace=True)"
   ]
  },
  {
   "cell_type": "code",
   "execution_count": 205,
   "id": "handy-finance",
   "metadata": {},
   "outputs": [
    {
     "data": {
      "text/plain": [
       "1.050010e+11    688\n",
       "3.050010e+11    430\n",
       "3.050010e+11    424\n",
       "1.050010e+11    373\n",
       "1.110010e+11    344\n",
       "               ... \n",
       "1.235860e+11      1\n",
       "2.154690e+11      1\n",
       "1.130010e+11      1\n",
       "2.416150e+11      1\n",
       "1.760010e+11      1\n",
       "Name: cole_dane_code_campus, Length: 9205, dtype: int64"
      ]
     },
     "execution_count": 205,
     "metadata": {},
     "output_type": "execute_result"
    }
   ],
   "source": [
    "data['cole_dane_code_campus'].value_counts()"
   ]
  },
  {
   "cell_type": "markdown",
   "id": "happy-election",
   "metadata": {},
   "source": [
    "### cole_area_location"
   ]
  },
  {
   "cell_type": "code",
   "execution_count": 206,
   "id": "violent-genre",
   "metadata": {},
   "outputs": [
    {
     "data": {
      "text/plain": [
       "60"
      ]
     },
     "execution_count": 206,
     "metadata": {},
     "output_type": "execute_result"
    }
   ],
   "source": [
    "data['cole_area_location'].isnull().sum()"
   ]
  },
  {
   "cell_type": "code",
   "execution_count": 207,
   "id": "worthy-lexington",
   "metadata": {},
   "outputs": [
    {
     "data": {
      "text/plain": [
       "URBAN    195351\n",
       "RURAL     16599\n",
       "Name: cole_area_location, dtype: int64"
      ]
     },
     "execution_count": 207,
     "metadata": {},
     "output_type": "execute_result"
    }
   ],
   "source": [
    "data['cole_area_location'].value_counts()"
   ]
  },
  {
   "cell_type": "code",
   "execution_count": 208,
   "id": "capital-turkey",
   "metadata": {},
   "outputs": [],
   "source": [
    "data['cole_area_location'].fillna(\"URBAN\", inplace=True)"
   ]
  },
  {
   "cell_type": "code",
   "execution_count": 209,
   "id": "personalized-reform",
   "metadata": {},
   "outputs": [
    {
     "data": {
      "text/plain": [
       "0"
      ]
     },
     "execution_count": 209,
     "metadata": {},
     "output_type": "execute_result"
    }
   ],
   "source": [
    "data['cole_area_location'].isnull().sum()"
   ]
  },
  {
   "cell_type": "markdown",
   "id": "hungarian-slovakia",
   "metadata": {},
   "source": [
    "### score_english_saber_11_category"
   ]
  },
  {
   "cell_type": "code",
   "execution_count": 210,
   "id": "boring-wisdom",
   "metadata": {},
   "outputs": [
    {
     "data": {
      "text/plain": [
       "22"
      ]
     },
     "execution_count": 210,
     "metadata": {},
     "output_type": "execute_result"
    }
   ],
   "source": [
    "data['score_english_saber_11_category'].isnull().sum()"
   ]
  },
  {
   "cell_type": "code",
   "execution_count": 211,
   "id": "major-hamburg",
   "metadata": {},
   "outputs": [
    {
     "data": {
      "text/plain": [
       "A1    74079\n",
       "A-    63704\n",
       "A2    32998\n",
       "B1    29070\n",
       "B+    12137\n",
       "Name: score_english_saber_11_category, dtype: int64"
      ]
     },
     "execution_count": 211,
     "metadata": {},
     "output_type": "execute_result"
    }
   ],
   "source": [
    "data['score_english_saber_11_category'].value_counts()"
   ]
  },
  {
   "cell_type": "markdown",
   "id": "ranking-sherman",
   "metadata": {},
   "source": [
    "This might be a useful feature. Hence it must be discussed."
   ]
  },
  {
   "cell_type": "code",
   "execution_count": 270,
   "id": "bizarre-silicon",
   "metadata": {},
   "outputs": [],
   "source": [
    "data['score_english_saber_11_category'].fillna(\"A1\", inplace=True)"
   ]
  },
  {
   "cell_type": "code",
   "execution_count": 271,
   "id": "difficult-medline",
   "metadata": {},
   "outputs": [
    {
     "data": {
      "text/plain": [
       "0"
      ]
     },
     "execution_count": 271,
     "metadata": {},
     "output_type": "execute_result"
    }
   ],
   "source": [
    "data['score_english_saber_11_category'].isnull().sum()"
   ]
  },
  {
   "cell_type": "markdown",
   "id": "expanded-citation",
   "metadata": {},
   "source": [
    "### optative_category_saber_11"
   ]
  },
  {
   "cell_type": "code",
   "execution_count": 212,
   "id": "unable-vinyl",
   "metadata": {},
   "outputs": [
    {
     "data": {
      "text/plain": [
       "114055"
      ]
     },
     "execution_count": 212,
     "metadata": {},
     "output_type": "execute_result"
    }
   ],
   "source": [
    "data['optative_category_saber_11'].isnull().sum()"
   ]
  },
  {
   "cell_type": "code",
   "execution_count": 213,
   "id": "experimental-viewer",
   "metadata": {},
   "outputs": [
    {
     "data": {
      "text/plain": [
       "I      48868\n",
       "II     23410\n",
       "GB     22476\n",
       "III     3201\n",
       "Name: optative_category_saber_11, dtype: int64"
      ]
     },
     "execution_count": 213,
     "metadata": {},
     "output_type": "execute_result"
    }
   ],
   "source": [
    "data['optative_category_saber_11'].value_counts()"
   ]
  },
  {
   "cell_type": "code",
   "execution_count": 214,
   "id": "smoking-struggle",
   "metadata": {},
   "outputs": [],
   "source": [
    "data['optative_category_saber_11'].fillna(\"UNK\", inplace=True)"
   ]
  },
  {
   "cell_type": "code",
   "execution_count": 215,
   "id": "cardiovascular-dancing",
   "metadata": {},
   "outputs": [
    {
     "data": {
      "text/plain": [
       "UNK    114055\n",
       "I       48868\n",
       "II      23410\n",
       "GB      22476\n",
       "III      3201\n",
       "Name: optative_category_saber_11, dtype: int64"
      ]
     },
     "execution_count": 215,
     "metadata": {},
     "output_type": "execute_result"
    }
   ],
   "source": [
    "data['optative_category_saber_11'].value_counts()"
   ]
  },
  {
   "cell_type": "code",
   "execution_count": 216,
   "id": "rising-apparel",
   "metadata": {},
   "outputs": [],
   "source": [
    "nan_cols_a = [i for i in data.columns if data[i].isnull().any()]"
   ]
  },
  {
   "cell_type": "code",
   "execution_count": 217,
   "id": "anticipated-cooper",
   "metadata": {},
   "outputs": [
    {
     "data": {
      "text/plain": [
       "13"
      ]
     },
     "execution_count": 217,
     "metadata": {},
     "output_type": "execute_result"
    }
   ],
   "source": [
    "len(nan_cols_a)"
   ]
  },
  {
   "cell_type": "code",
   "execution_count": 218,
   "id": "statewide-applicant",
   "metadata": {},
   "outputs": [
    {
     "data": {
      "text/plain": [
       "['your_high_school_degree',\n",
       " 'your_tuition_cost_university',\n",
       " 'your_on_semester',\n",
       " 'fami_current_household_type',\n",
       " 'fami_is_the_head_family',\n",
       " 'fami_econ_dependents',\n",
       " 'fami_housing_stratum',\n",
       " 'fami_internet',\n",
       " 'fami_automobile',\n",
       " 'your_prgm_academic_snies',\n",
       " 'score_writing_saber_pro',\n",
       " 'your_tuition',\n",
       " 'score_english_saber_11_category']"
      ]
     },
     "execution_count": 218,
     "metadata": {},
     "output_type": "execute_result"
    }
   ],
   "source": [
    "nan_cols_a"
   ]
  },
  {
   "cell_type": "markdown",
   "id": "excessive-supervision",
   "metadata": {},
   "source": [
    "### fami_current_household_type"
   ]
  },
  {
   "cell_type": "code",
   "execution_count": 219,
   "id": "nuclear-bahrain",
   "metadata": {},
   "outputs": [
    {
     "data": {
      "text/plain": [
       "1713"
      ]
     },
     "execution_count": 219,
     "metadata": {},
     "output_type": "execute_result"
    }
   ],
   "source": [
    "data['fami_current_household_type'].isnull().sum()"
   ]
  },
  {
   "cell_type": "code",
   "execution_count": 220,
   "id": "surrounded-projection",
   "metadata": {},
   "outputs": [
    {
     "data": {
      "text/plain": [
       "It is habitual or permanent                   171510\n",
       "It is temporary for study or other reasons     38787\n",
       "Name: fami_current_household_type, dtype: int64"
      ]
     },
     "execution_count": 220,
     "metadata": {},
     "output_type": "execute_result"
    }
   ],
   "source": [
    "data['fami_current_household_type'].value_counts()"
   ]
  },
  {
   "cell_type": "code",
   "execution_count": 221,
   "id": "buried-position",
   "metadata": {},
   "outputs": [],
   "source": [
    "data['fami_current_household_type'].fillna(data['fami_current_household_type'].mode().item(), inplace=True)"
   ]
  },
  {
   "cell_type": "code",
   "execution_count": 222,
   "id": "willing-amazon",
   "metadata": {},
   "outputs": [
    {
     "data": {
      "text/plain": [
       "0"
      ]
     },
     "execution_count": 222,
     "metadata": {},
     "output_type": "execute_result"
    }
   ],
   "source": [
    "data['fami_current_household_type'].isnull().sum()"
   ]
  },
  {
   "cell_type": "markdown",
   "id": "working-phoenix",
   "metadata": {},
   "source": [
    "### fami_is_the_head_family"
   ]
  },
  {
   "cell_type": "code",
   "execution_count": 223,
   "id": "demographic-continuity",
   "metadata": {},
   "outputs": [
    {
     "data": {
      "text/plain": [
       "1711"
      ]
     },
     "execution_count": 223,
     "metadata": {},
     "output_type": "execute_result"
    }
   ],
   "source": [
    "data['fami_is_the_head_family'].isnull().sum()"
   ]
  },
  {
   "cell_type": "code",
   "execution_count": 224,
   "id": "public-primary",
   "metadata": {},
   "outputs": [
    {
     "data": {
      "text/plain": [
       "No    202806\n",
       "Si      7493\n",
       "Name: fami_is_the_head_family, dtype: int64"
      ]
     },
     "execution_count": 224,
     "metadata": {},
     "output_type": "execute_result"
    }
   ],
   "source": [
    "data['fami_is_the_head_family'].value_counts()"
   ]
  },
  {
   "cell_type": "code",
   "execution_count": 225,
   "id": "stretch-kingdom",
   "metadata": {},
   "outputs": [],
   "source": [
    "data['fami_is_the_head_family'].fillna(\"No\", inplace=True)"
   ]
  },
  {
   "cell_type": "code",
   "execution_count": 226,
   "id": "historical-museum",
   "metadata": {},
   "outputs": [
    {
     "data": {
      "text/plain": [
       "0"
      ]
     },
     "execution_count": 226,
     "metadata": {},
     "output_type": "execute_result"
    }
   ],
   "source": [
    "data['fami_is_the_head_family'].isnull().sum()"
   ]
  },
  {
   "cell_type": "markdown",
   "id": "selective-repeat",
   "metadata": {},
   "source": [
    "### fami_econ_dependents"
   ]
  },
  {
   "cell_type": "code",
   "execution_count": 227,
   "id": "elegant-camcorder",
   "metadata": {},
   "outputs": [
    {
     "data": {
      "text/plain": [
       "1713"
      ]
     },
     "execution_count": 227,
     "metadata": {},
     "output_type": "execute_result"
    }
   ],
   "source": [
    "data['fami_econ_dependents'].isnull().sum()"
   ]
  },
  {
   "cell_type": "code",
   "execution_count": 228,
   "id": "international-algorithm",
   "metadata": {},
   "outputs": [
    {
     "data": {
      "text/plain": [
       "None              187051\n",
       "One                12698\n",
       "Two                 6038\n",
       "Three               2219\n",
       "Four                1354\n",
       "Five                 624\n",
       "Six                  169\n",
       "Seven                 55\n",
       "Eight                 26\n",
       "Ten                   21\n",
       "Nine                  18\n",
       "Twelve or more        16\n",
       "Eleven                 8\n",
       "Name: fami_econ_dependents, dtype: int64"
      ]
     },
     "execution_count": 228,
     "metadata": {},
     "output_type": "execute_result"
    }
   ],
   "source": [
    "data['fami_econ_dependents'].value_counts()"
   ]
  },
  {
   "cell_type": "code",
   "execution_count": 229,
   "id": "civilian-criticism",
   "metadata": {},
   "outputs": [],
   "source": [
    "data['fami_econ_dependents'].fillna(\"Unknown\", inplace=True)"
   ]
  },
  {
   "cell_type": "code",
   "execution_count": 230,
   "id": "subject-moderator",
   "metadata": {},
   "outputs": [
    {
     "data": {
      "text/plain": [
       "0"
      ]
     },
     "execution_count": 230,
     "metadata": {},
     "output_type": "execute_result"
    }
   ],
   "source": [
    "data['fami_econ_dependents'].isnull().sum()"
   ]
  },
  {
   "cell_type": "markdown",
   "id": "anticipated-delay",
   "metadata": {},
   "source": [
    "### fami_housing_stratum"
   ]
  },
  {
   "cell_type": "code",
   "execution_count": 231,
   "id": "brutal-adrian",
   "metadata": {},
   "outputs": [
    {
     "data": {
      "text/plain": [
       "5818"
      ]
     },
     "execution_count": 231,
     "metadata": {},
     "output_type": "execute_result"
    }
   ],
   "source": [
    "data['fami_housing_stratum'].isnull().sum()"
   ]
  },
  {
   "cell_type": "code",
   "execution_count": 232,
   "id": "checked-subject",
   "metadata": {},
   "outputs": [
    {
     "data": {
      "text/plain": [
       "Stratum 2                                                    68183\n",
       "Stratum 3                                                    61735\n",
       "Stratum 1                                                    35662\n",
       "Stratum 4                                                    23758\n",
       "Stratum 5                                                     9979\n",
       "Stratum 6                                                     6218\n",
       "Without Stratum                                                360\n",
       "Stratum 0                                                      215\n",
       "Rural area where there is no socioeconomic stratification       82\n",
       "Name: fami_housing_stratum, dtype: int64"
      ]
     },
     "execution_count": 232,
     "metadata": {},
     "output_type": "execute_result"
    }
   ],
   "source": [
    "data['fami_housing_stratum'].value_counts()"
   ]
  },
  {
   "cell_type": "code",
   "execution_count": 233,
   "id": "contemporary-company",
   "metadata": {},
   "outputs": [],
   "source": [
    "data['fami_housing_stratum'].fillna(\"Unknown\", inplace=True)"
   ]
  },
  {
   "cell_type": "code",
   "execution_count": 234,
   "id": "piano-vacation",
   "metadata": {},
   "outputs": [
    {
     "data": {
      "text/plain": [
       "0"
      ]
     },
     "execution_count": 234,
     "metadata": {},
     "output_type": "execute_result"
    }
   ],
   "source": [
    "data['fami_housing_stratum'].isnull().sum()"
   ]
  },
  {
   "cell_type": "code",
   "execution_count": 273,
   "id": "responsible-conflict",
   "metadata": {},
   "outputs": [
    {
     "data": {
      "text/plain": [
       "0"
      ]
     },
     "execution_count": 273,
     "metadata": {},
     "output_type": "execute_result"
    }
   ],
   "source": [
    "sum(data.isnull().any())"
   ]
  },
  {
   "cell_type": "markdown",
   "id": "engaged-intent",
   "metadata": {},
   "source": [
    "All the 53 features with null values have been handled."
   ]
  },
  {
   "cell_type": "code",
   "execution_count": 274,
   "id": "white-concord",
   "metadata": {},
   "outputs": [],
   "source": [
    "# Download the preprocessed dataset\n",
    "data.to_csv(\"saber_combined_preprocessed.csv\", index=False)"
   ]
  },
  {
   "cell_type": "markdown",
   "id": "amateur-success",
   "metadata": {},
   "source": [
    "### Feature Selection"
   ]
  },
  {
   "cell_type": "markdown",
   "id": "numerical-atlas",
   "metadata": {},
   "source": [
    "Add the feature selection code below."
   ]
  }
 ],
 "metadata": {
  "kernelspec": {
   "display_name": "Python 3",
   "language": "python",
   "name": "python3"
  },
  "language_info": {
   "codemirror_mode": {
    "name": "ipython",
    "version": 3
   },
   "file_extension": ".py",
   "mimetype": "text/x-python",
   "name": "python",
   "nbconvert_exporter": "python",
   "pygments_lexer": "ipython3",
   "version": "3.8.10"
  }
 },
 "nbformat": 4,
 "nbformat_minor": 5
}
