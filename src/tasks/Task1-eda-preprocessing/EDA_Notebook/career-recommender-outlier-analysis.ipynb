{
 "cells": [
  {
   "cell_type": "code",
   "execution_count": 1,
   "id": "6bad5180",
   "metadata": {
    "execution": {
     "iopub.execute_input": "2021-11-20T13:57:14.285691Z",
     "iopub.status.busy": "2021-11-20T13:57:14.284843Z",
     "iopub.status.idle": "2021-11-20T13:57:15.145073Z",
     "shell.execute_reply": "2021-11-20T13:57:15.145566Z",
     "shell.execute_reply.started": "2021-11-20T13:35:59.018612Z"
    },
    "papermill": {
     "duration": 0.884095,
     "end_time": "2021-11-20T13:57:15.145876",
     "exception": false,
     "start_time": "2021-11-20T13:57:14.261781",
     "status": "completed"
    },
    "tags": []
   },
   "outputs": [],
   "source": [
    "import warnings\n",
    "warnings.simplefilter('ignore')\n",
    "import numpy as np\n",
    "import pandas as pd\n",
    "import os, sys, gc\n",
    "import matplotlib.pyplot as plt\n",
    "import seaborn as sns\n",
    "%matplotlib inline"
   ]
  },
  {
   "cell_type": "code",
   "execution_count": 2,
   "id": "b082ee9c",
   "metadata": {
    "execution": {
     "iopub.execute_input": "2021-11-20T13:57:15.173318Z",
     "iopub.status.busy": "2021-11-20T13:57:15.172658Z",
     "iopub.status.idle": "2021-11-20T13:57:15.188043Z",
     "shell.execute_reply": "2021-11-20T13:57:15.187369Z",
     "shell.execute_reply.started": "2021-11-20T13:35:59.970775Z"
    },
    "papermill": {
     "duration": 0.029561,
     "end_time": "2021-11-20T13:57:15.188208",
     "exception": false,
     "start_time": "2021-11-20T13:57:15.158647",
     "status": "completed"
    },
    "tags": []
   },
   "outputs": [
    {
     "data": {
      "text/plain": [
       "['Saber_Data_with_Null_Percentage.csv',\n",
       " 'saber_combined_preprocessed.csv',\n",
       " 'translate_headers.txt',\n",
       " 'README.md',\n",
       " 'Colombia_departamentos_municipios_poblacion-topo.json',\n",
       " 'translate_cat.txt',\n",
       " 'database.json',\n",
       " 'spanish_to_english.txt']"
      ]
     },
     "execution_count": 2,
     "metadata": {},
     "output_type": "execute_result"
    }
   ],
   "source": [
    "DATA_DIR = f\"../input/colombiacareerrecommender\"\n",
    "os.listdir(\"../input/colombiacareerrecommender\")"
   ]
  },
  {
   "cell_type": "code",
   "execution_count": 3,
   "id": "c5be4863",
   "metadata": {
    "execution": {
     "iopub.execute_input": "2021-11-20T13:57:15.216265Z",
     "iopub.status.busy": "2021-11-20T13:57:15.215622Z",
     "iopub.status.idle": "2021-11-20T13:57:21.252171Z",
     "shell.execute_reply": "2021-11-20T13:57:21.251656Z",
     "shell.execute_reply.started": "2021-11-20T13:35:59.987895Z"
    },
    "papermill": {
     "duration": 6.051487,
     "end_time": "2021-11-20T13:57:21.252329",
     "exception": false,
     "start_time": "2021-11-20T13:57:15.200842",
     "status": "completed"
    },
    "tags": []
   },
   "outputs": [
    {
     "data": {
      "text/plain": [
       "((212010, 98),\n",
       " Index(['your_type_of_document', 'your_nationality', 'your_gender',\n",
       "        'your_birthdate', 'your_foreigner', 'period', 'your_consecutive',\n",
       "        'your_marital_status', 'your_student', 'your_country_resides',\n",
       "        'your_have_ethnicity', 'your_dept_resides', 'your_dept_code_resides',\n",
       "        'your_municipality_resides', 'your_municipality_code_resides',\n",
       "        'your_high_school_degree', 'your_tuition_cost_university',\n",
       "        'your_tuition_pymt_scholarship', 'your_tuition_pymt_credit',\n",
       "        'your_tuition_pymt_parents', 'your_tuition_pymt_yourself',\n",
       "        'fami_current_household_type', 'fami_is_the_head_family',\n",
       "        'fami_econ_dependents', 'fami_father_education',\n",
       "        'fami_mother_education', 'fami_father_occupation',\n",
       "        'fami_mother_occupation', 'fami_housing_stratum', 'fami_internet',\n",
       "        'fami_computer', 'fami_automobile', 'fami_num_books',\n",
       "        'inst_institution_code', 'inst_institution_name', 'your_prgm_academic',\n",
       "        'group_reference', 'your_prgm_municipality_code',\n",
       "        'your_prgm_municipality', 'your_prgm_department',\n",
       "        'your_prgm_academic_level', 'your_prgm_method',\n",
       "        'your_undergraduate_core', 'your_inst_municipality_code',\n",
       "        'your_inst_municipality', 'your_inst_department',\n",
       "        'inst_character_academic', 'inst_origin', 'score_math_saber_pro',\n",
       "        'score_language_saber_pro', 'score_social_science_saber_pro',\n",
       "        'score_english_saber_pro', 'score_writing_saber_pro',\n",
       "        'your_state_research', 'your_inst_department_code', 'your_area_residse',\n",
       "        'your_tuition', 'your_times_took_exam', 'fami_social_stratum_sisben',\n",
       "        'fami_house_members', 'fami_house_rooms', 'fami_house_floor',\n",
       "        'fami_washer', 'fami_microwave', 'fami_oven', 'fami_dvd',\n",
       "        'fami_monthly_family_income', 'your_currently_working',\n",
       "        'your_background', 'cole_saber_11_icfes_code',\n",
       "        'cole_saber_11_icfes_dane', 'cole_saber_11_icfes_name', 'cole_type',\n",
       "        'cole_nature', 'cole_calendar', 'cole_bilingual', 'cole_character',\n",
       "        'cole_dane_code_campus', 'cole_name_campus', 'cole_main_campus',\n",
       "        'cole_area_location', 'cole_journey', 'cole_municipality_code_location',\n",
       "        'cole_municipality_location', 'cole_dept_code_location',\n",
       "        'cole_dept_location', 'score_language_saber_11',\n",
       "        'score_mathematics_saber_11', 'score_biology_saber_11',\n",
       "        'score_chemistry_saber_11', 'score_physics_saber_11',\n",
       "        'score_social_science_saber_11', 'score_philosophy_saber_11',\n",
       "        'score_english_saber_11', 'score_english_saber_11_category',\n",
       "        'optative_field_saber_11', 'score_optative_saber_11',\n",
       "        'optative_category_saber_11'],\n",
       "       dtype='object'))"
      ]
     },
     "execution_count": 3,
     "metadata": {},
     "output_type": "execute_result"
    }
   ],
   "source": [
    "df = pd.read_csv(f\"{DATA_DIR}/saber_combined_preprocessed.csv\")\n",
    "df.shape, df.columns"
   ]
  },
  {
   "cell_type": "code",
   "execution_count": 4,
   "id": "2e5c8054",
   "metadata": {
    "execution": {
     "iopub.execute_input": "2021-11-20T13:57:21.279423Z",
     "iopub.status.busy": "2021-11-20T13:57:21.278351Z",
     "iopub.status.idle": "2021-11-20T13:57:21.973416Z",
     "shell.execute_reply": "2021-11-20T13:57:21.972876Z",
     "shell.execute_reply.started": "2021-11-20T13:36:06.988504Z"
    },
    "papermill": {
     "duration": 0.71061,
     "end_time": "2021-11-20T13:57:21.973574",
     "exception": false,
     "start_time": "2021-11-20T13:57:21.262964",
     "status": "completed"
    },
    "tags": []
   },
   "outputs": [
    {
     "data": {
      "text/plain": [
       "0"
      ]
     },
     "execution_count": 4,
     "metadata": {},
     "output_type": "execute_result"
    }
   ],
   "source": [
    "df.isna().sum().sum()"
   ]
  },
  {
   "cell_type": "code",
   "execution_count": 5,
   "id": "4f049301",
   "metadata": {
    "execution": {
     "iopub.execute_input": "2021-11-20T13:57:22.009085Z",
     "iopub.status.busy": "2021-11-20T13:57:22.008398Z",
     "iopub.status.idle": "2021-11-20T13:57:23.218470Z",
     "shell.execute_reply": "2021-11-20T13:57:23.217925Z",
     "shell.execute_reply.started": "2021-11-20T13:36:08.656507Z"
    },
    "papermill": {
     "duration": 1.234071,
     "end_time": "2021-11-20T13:57:23.218625",
     "exception": false,
     "start_time": "2021-11-20T13:57:21.984554",
     "status": "completed"
    },
    "tags": []
   },
   "outputs": [],
   "source": [
    "from sklearn.metrics.pairwise import cosine_similarity\n",
    "from sklearn.model_selection import train_test_split\n",
    "import scipy.sparse as scipy_sparse\n",
    "from scipy.sparse.linalg import svds\n",
    "import plotly.express as px\n",
    "import plotly.graph_objs as go\n",
    "from sklearn import preprocessing\n",
    "\n",
    "def reduce_mem_usage(df, verbose=True):\n",
    "    numerics = ['int16', 'int32', 'int64', 'float16', 'float32', 'float64']\n",
    "    start_mem = df.memory_usage().sum() / 1024**2\n",
    "    for col in df.columns:\n",
    "        col_type = df[col].dtypes\n",
    "        if col_type in numerics:\n",
    "            c_min = df[col].min()\n",
    "            c_max = df[col].max()\n",
    "            if str(col_type)[:3] == 'int':\n",
    "                if c_min > np.iinfo(np.int8).min and c_max < np.iinfo(np.int8).max:\n",
    "                    df[col] = df[col].astype(np.int8)\n",
    "                elif c_min > np.iinfo(np.int16).min and c_max < np.iinfo(np.int16).max:\n",
    "                    df[col] = df[col].astype(np.int16)\n",
    "                elif c_min > np.iinfo(np.int32).min and c_max < np.iinfo(np.int32).max:\n",
    "                    df[col] = df[col].astype(np.int32)\n",
    "                elif c_min > np.iinfo(np.int64).min and c_max < np.iinfo(np.int64).max:\n",
    "                    df[col] = df[col].astype(np.int64)\n",
    "            else:\n",
    "                if c_min > np.finfo(np.float16).min and c_max < np.finfo(np.float16).max:\n",
    "                    df[col] = df[col].astype(np.float16)\n",
    "                elif c_min > np.finfo(np.float32).min and c_max < np.finfo(np.float32).max:\n",
    "                    df[col] = df[col].astype(np.float32)\n",
    "                else:\n",
    "                    df[col] = df[col].astype(np.float64)\n",
    "\n",
    "    end_mem = df.memory_usage().sum() / 1024**2\n",
    "    print('Memory usage after optimization is: {:.2f} MB'.format(end_mem))\n",
    "    print('Decreased by {:.1f}%'.format(100 * (start_mem - end_mem) / start_mem))\n",
    "\n",
    "    return df"
   ]
  },
  {
   "cell_type": "code",
   "execution_count": 6,
   "id": "6fb85bf1",
   "metadata": {
    "execution": {
     "iopub.execute_input": "2021-11-20T13:57:23.249434Z",
     "iopub.status.busy": "2021-11-20T13:57:23.248724Z",
     "iopub.status.idle": "2021-11-20T13:57:23.421082Z",
     "shell.execute_reply": "2021-11-20T13:57:23.420533Z",
     "shell.execute_reply.started": "2021-11-20T13:36:10.104940Z"
    },
    "papermill": {
     "duration": 0.191629,
     "end_time": "2021-11-20T13:57:23.421242",
     "exception": false,
     "start_time": "2021-11-20T13:57:23.229613",
     "status": "completed"
    },
    "tags": []
   },
   "outputs": [
    {
     "name": "stdout",
     "output_type": "stream",
     "text": [
      "Memory usage after optimization is: 130.41 MB\n",
      "Decreased by 17.7%\n"
     ]
    }
   ],
   "source": [
    "df = reduce_mem_usage(df)"
   ]
  },
  {
   "cell_type": "code",
   "execution_count": 7,
   "id": "541993a7",
   "metadata": {
    "execution": {
     "iopub.execute_input": "2021-11-20T13:57:23.461035Z",
     "iopub.status.busy": "2021-11-20T13:57:23.460040Z",
     "iopub.status.idle": "2021-11-20T13:57:23.484006Z",
     "shell.execute_reply": "2021-11-20T13:57:23.484537Z",
     "shell.execute_reply.started": "2021-11-20T13:36:10.291497Z"
    },
    "papermill": {
     "duration": 0.052157,
     "end_time": "2021-11-20T13:57:23.484727",
     "exception": false,
     "start_time": "2021-11-20T13:57:23.432570",
     "status": "completed"
    },
    "tags": []
   },
   "outputs": [],
   "source": [
    "replace_dict = {'AGRICULTURAL, FORESTRY ENGINEERING':'AGRICULTURAL, FOREST ENGINEERING',\n",
    "               'AGROINDUSTRIAL ENGINEERING, FOOD':'AGROINDUSTRIAL AND FOOD ENGINEERING',\n",
    "               'TRAINING RELATED TO THE MILITARY OR POLICE FIELD':'MILITARY OR POLICE TRAINING',\n",
    "               'NUTRITION AND DIET':'NUTRITION AND DIETETICS'}\n",
    "df['your_undergraduate_core'] = df['your_undergraduate_core'].replace(replace_dict)"
   ]
  },
  {
   "cell_type": "code",
   "execution_count": 8,
   "id": "1135478b",
   "metadata": {
    "execution": {
     "iopub.execute_input": "2021-11-20T13:57:23.527172Z",
     "iopub.status.busy": "2021-11-20T13:57:23.526439Z",
     "iopub.status.idle": "2021-11-20T13:57:23.929935Z",
     "shell.execute_reply": "2021-11-20T13:57:23.929437Z",
     "shell.execute_reply.started": "2021-11-20T13:36:10.362522Z"
    },
    "papermill": {
     "duration": 0.433694,
     "end_time": "2021-11-20T13:57:23.930092",
     "exception": false,
     "start_time": "2021-11-20T13:57:23.496398",
     "status": "completed"
    },
    "tags": []
   },
   "outputs": [
    {
     "data": {
      "text/plain": [
       "ADMINISTRATION                                  35790\n",
       "LAW                                             15263\n",
       "PUBLIC ACCOUNTING                               14334\n",
       "EDUCATION                                       14219\n",
       "INDUSTRIAL ENGINEERING                          10660\n",
       "PSYCHOLOGY                                      10518\n",
       "ENVIRONMENTAL, SANITARY ENGINEERING              8231\n",
       "CIVIL ENGINEERING                                7736\n",
       "SOCIAL COMMUNICATION, JOURNALISM                 7479\n",
       "ECONOMY                                          7243\n",
       "COMPUTER SYSTEMS, TELEMATICS ENGINEERING         6805\n",
       "MECHANICAL ENGINEERING                           5382\n",
       "DESIGN                                           5263\n",
       "ARCHITECTURE                                     3969\n",
       "SOCIOLOGY, SOCIAL WORK                           3832\n",
       "NURSING                                          3440\n",
       "ELECTRONIC ENGINEERING, TELECOMMUNICATIONS       2845\n",
       "MEDICINE                                         2764\n",
       "SUPERIOR NORMALS                                 2655\n",
       "THERAPIES                                        2575\n",
       "MILITARY OR POLICE TRAINING                      2370\n",
       "POLITICAL SCIENCE, INTERNATIONAL RELATIONS       2061\n",
       "CHEMICAL ENGINEERING                             1853\n",
       "AGRONOMY                                         1801\n",
       "BIOLOGY, MICROBIOLOGY                            1607\n",
       "MINING, METALLURGY ENGINEERING                   1226\n",
       "PUBLIC HEALTH                                    1156\n",
       "OTHER ENGINEERING                                1120\n",
       "VETERINARY MEDICINE                              1077\n",
       "ADVERTISING                                       982\n",
       "ELECTRICAL ENGINEERING                            979\n",
       "CHEMISTRY                                         972\n",
       "AGROINDUSTRIAL AND FOOD ENGINEERING               942\n",
       "SPORTS, PHYSICAL EDUCATION AND RECREATION         899\n",
       "MODERN LANGUAGES, LITERATURE, LINGUISTICS         827\n",
       "ODONTOLOGY                                        817\n",
       "PLASTIC ARTS, VISUAL ARTS                         814\n",
       "SURGICAL INSTRUMENTATION                          786\n",
       "DENTISTRY                                         763\n",
       "ZOOTECHNY                                         756\n",
       "AGRONOMIC, LIVESTOCK ENGINEERING                  749\n",
       "ADMINISTRATIVE ENGINEERING                        709\n",
       "GEOGRAPHY, HISTORY                                675\n",
       "BACTERIOLOGY                                      607\n",
       "NUTRITION AND DIETETICS                           589\n",
       "GEOLOGY, OTHER NATURAL SCIENCE PROGRAMS           565\n",
       "PLASTIC, VISUAL ARTS                              547\n",
       "LIBRARY, OTHERS OF SOCIAL AND HUMAN SCIENCES      530\n",
       "BIOMEDICAL ENGINEERING                            528\n",
       "AGRICULTURAL, FOREST ENGINEERING                  512\n",
       "MUSIC                                             444\n",
       "ANTHROPOLOGY, LIBERAL ARTS                        402\n",
       "MATH, STATISTICS                                  392\n",
       "OTHER PROGRAMS ASSOCIATED WITH FINE ARTS          372\n",
       "PHILOSOPHY, THEOLOGY                              336\n",
       "OPTOMETRY, OTHER HEALTH SCIENCE PROGRAMS          273\n",
       "PHISICS                                           191\n",
       "REPRESENTATIVE ARTS                               164\n",
       "Name: your_undergraduate_core, dtype: int64"
      ]
     },
     "execution_count": 8,
     "metadata": {},
     "output_type": "execute_result"
    }
   ],
   "source": [
    "df = df[df['your_undergraduate_core'] != 'UNCLASSIFIED']\n",
    "df = df[df['your_undergraduate_core'] != 'UNKNOWN']\n",
    "df['your_undergraduate_core'].value_counts()"
   ]
  },
  {
   "cell_type": "code",
   "execution_count": 9,
   "id": "37c85507",
   "metadata": {
    "execution": {
     "iopub.execute_input": "2021-11-20T13:57:23.960612Z",
     "iopub.status.busy": "2021-11-20T13:57:23.959423Z",
     "iopub.status.idle": "2021-11-20T13:57:23.963885Z",
     "shell.execute_reply": "2021-11-20T13:57:23.963281Z",
     "shell.execute_reply.started": "2021-11-20T13:36:10.836994Z"
    },
    "papermill": {
     "duration": 0.021,
     "end_time": "2021-11-20T13:57:23.964017",
     "exception": false,
     "start_time": "2021-11-20T13:57:23.943017",
     "status": "completed"
    },
    "tags": []
   },
   "outputs": [],
   "source": [
    "score_cols = ['score_language_saber_11','score_mathematics_saber_11',\n",
    "              'score_biology_saber_11','score_chemistry_saber_11', \n",
    "              'score_physics_saber_11','score_social_science_saber_11',\n",
    "              'score_philosophy_saber_11','score_english_saber_11',\n",
    "              'score_optative_saber_11','score_math_saber_pro', 'score_language_saber_pro',\n",
    "              'score_social_science_saber_pro', 'score_english_saber_pro',\n",
    "              'score_writing_saber_pro']"
   ]
  },
  {
   "cell_type": "code",
   "execution_count": 10,
   "id": "7b3ad9b6",
   "metadata": {
    "execution": {
     "iopub.execute_input": "2021-11-20T13:57:23.994100Z",
     "iopub.status.busy": "2021-11-20T13:57:23.993481Z",
     "iopub.status.idle": "2021-11-20T13:57:24.044282Z",
     "shell.execute_reply": "2021-11-20T13:57:24.043325Z",
     "shell.execute_reply.started": "2021-11-20T13:47:01.888883Z"
    },
    "papermill": {
     "duration": 0.068772,
     "end_time": "2021-11-20T13:57:24.044429",
     "exception": false,
     "start_time": "2021-11-20T13:57:23.975657",
     "status": "completed"
    },
    "tags": []
   },
   "outputs": [
    {
     "data": {
      "text/plain": [
       "Index(['Subject', 'value'], dtype='object')"
      ]
     },
     "execution_count": 10,
     "metadata": {},
     "output_type": "execute_result"
    }
   ],
   "source": [
    "mdf = pd.melt(df[score_cols], var_name=['Subject'])\n",
    "mdf.columns"
   ]
  },
  {
   "cell_type": "code",
   "execution_count": 11,
   "id": "b27e57b3",
   "metadata": {
    "execution": {
     "iopub.execute_input": "2021-11-20T13:57:24.071344Z",
     "iopub.status.busy": "2021-11-20T13:57:24.070767Z",
     "iopub.status.idle": "2021-11-20T13:57:26.475559Z",
     "shell.execute_reply": "2021-11-20T13:57:26.476339Z",
     "shell.execute_reply.started": "2021-11-20T13:49:03.457081Z"
    },
    "papermill": {
     "duration": 2.420228,
     "end_time": "2021-11-20T13:57:26.476588",
     "exception": false,
     "start_time": "2021-11-20T13:57:24.056360",
     "status": "completed"
    },
    "tags": []
   },
   "outputs": [
    {
     "data": {
      "image/png": "[encoded data removed]",
      "text/plain": [
       "<Figure size 1152x648 with 1 Axes>"
      ]
     },
     "metadata": {
      "needs_background": "light"
     },
     "output_type": "display_data"
    }
   ],
   "source": [
    "import seaborn as sns\n",
    "\n",
    "plt.figure(figsize=(16,9))\n",
    "# create plot\n",
    "ax = sns.boxplot(x=\"Subject\", y=\"value\", data=mdf)\n",
    "plt.xticks(rotation=45)\n",
    "# show plot\n",
    "plt.show()"
   ]
  },
  {
   "cell_type": "code",
   "execution_count": 12,
   "id": "19a17433",
   "metadata": {
    "execution": {
     "iopub.execute_input": "2021-11-20T13:57:26.520473Z",
     "iopub.status.busy": "2021-11-20T13:57:26.519760Z",
     "iopub.status.idle": "2021-11-20T13:57:26.525661Z",
     "shell.execute_reply": "2021-11-20T13:57:26.526113Z",
     "shell.execute_reply.started": "2021-10-24T22:07:34.813274Z"
    },
    "papermill": {
     "duration": 0.025567,
     "end_time": "2021-11-20T13:57:26.526330",
     "exception": false,
     "start_time": "2021-11-20T13:57:26.500763",
     "status": "completed"
    },
    "tags": []
   },
   "outputs": [],
   "source": [
    "# normalize the different eng majors\n",
    "ENGINEERING_dict = {\"INDUSTRIAL ENGINEERING\":'ENGINEERING',\n",
    "\"ENVIRONMENTAL, SANITARY ENGINEERING\":'ENGINEERING',\n",
    "\"CIVIL ENGINEERING\":'ENGINEERING',\n",
    "\"COMPUTER SYSTEMS, TELEMATICS ENGINEERING\":'ENGINEERING',\n",
    "\"MECHANICAL ENGINEERING\":'ENGINEERING',\n",
    "\"ELECTRONIC ENGINEERING, TELECOMMUNICATIONS\":'ENGINEERING',\n",
    "\"CHEMICAL ENGINEERING\":'ENGINEERING',\n",
    "\"MINING, METALLURGY ENGINEERING\":'ENGINEERING',\n",
    "\"OTHER ENGINEERING\":'ENGINEERING',\n",
    "\"ELECTRICAL ENGINEERING\":'ENGINEERING',\n",
    "\"AGROINDUSTRIAL AND FOOD ENGINEERING\":'ENGINEERING',\n",
    "\"AGRONOMIC, LIVESTOCK ENGINEERING\":'ENGINEERING',\n",
    "\"ADMINISTRATIVE ENGINEERING\":'ENGINEERING',\n",
    "\"BIOMEDICAL ENGINEERING\":'ENGINEERING',\n",
    "\"AGRICULTURAL, FOREST ENGINEERING\":'ENGINEERING',\n",
    "}"
   ]
  },
  {
   "cell_type": "code",
   "execution_count": 13,
   "id": "24c51f40",
   "metadata": {
    "execution": {
     "iopub.execute_input": "2021-11-20T13:57:26.558172Z",
     "iopub.status.busy": "2021-11-20T13:57:26.557560Z",
     "iopub.status.idle": "2021-11-20T13:57:27.455034Z",
     "shell.execute_reply": "2021-11-20T13:57:27.454536Z",
     "shell.execute_reply.started": "2021-11-20T13:55:00.873814Z"
    },
    "papermill": {
     "duration": 0.914345,
     "end_time": "2021-11-20T13:57:27.455179",
     "exception": false,
     "start_time": "2021-11-20T13:57:26.540834",
     "status": "completed"
    },
    "tags": []
   },
   "outputs": [
    {
     "data": {
      "text/html": [
       "<div>\n",
       "<style scoped>\n",
       "    .dataframe tbody tr th:only-of-type {\n",
       "        vertical-align: middle;\n",
       "    }\n",
       "\n",
       "    .dataframe tbody tr th {\n",
       "        vertical-align: top;\n",
       "    }\n",
       "\n",
       "    .dataframe thead th {\n",
       "        text-align: right;\n",
       "    }\n",
       "</style>\n",
       "<table border=\"1\" class=\"dataframe\">\n",
       "  <thead>\n",
       "    <tr style=\"text-align: right;\">\n",
       "      <th></th>\n",
       "      <th>your_gender</th>\n",
       "      <th>obs</th>\n",
       "    </tr>\n",
       "  </thead>\n",
       "  <tbody>\n",
       "    <tr>\n",
       "      <th>0</th>\n",
       "      <td>F</td>\n",
       "      <td>125290</td>\n",
       "    </tr>\n",
       "    <tr>\n",
       "      <th>1</th>\n",
       "      <td>M</td>\n",
       "      <td>78106</td>\n",
       "    </tr>\n",
       "  </tbody>\n",
       "</table>\n",
       "</div>"
      ],
      "text/plain": [
       "  your_gender     obs\n",
       "0           F  125290\n",
       "1           M   78106"
      ]
     },
     "execution_count": 13,
     "metadata": {},
     "output_type": "execute_result"
    }
   ],
   "source": [
    "# Gender\n",
    "source = df.groupby('your_gender').count()[['your_consecutive']].reset_index().rename(columns={'your_consecutive':'obs'})\n",
    "source"
   ]
  },
  {
   "cell_type": "code",
   "execution_count": 14,
   "id": "05f0ae1e",
   "metadata": {
    "execution": {
     "iopub.execute_input": "2021-11-20T13:57:27.487472Z",
     "iopub.status.busy": "2021-11-20T13:57:27.486628Z",
     "iopub.status.idle": "2021-11-20T13:57:28.393775Z",
     "shell.execute_reply": "2021-11-20T13:57:28.393282Z",
     "shell.execute_reply.started": "2021-11-20T13:55:48.328061Z"
    },
    "papermill": {
     "duration": 0.924465,
     "end_time": "2021-11-20T13:57:28.393925",
     "exception": false,
     "start_time": "2021-11-20T13:57:27.469460",
     "status": "completed"
    },
    "tags": []
   },
   "outputs": [
    {
     "data": {
      "text/html": [
       "<div>\n",
       "<style scoped>\n",
       "    .dataframe tbody tr th:only-of-type {\n",
       "        vertical-align: middle;\n",
       "    }\n",
       "\n",
       "    .dataframe tbody tr th {\n",
       "        vertical-align: top;\n",
       "    }\n",
       "\n",
       "    .dataframe thead th {\n",
       "        text-align: right;\n",
       "    }\n",
       "</style>\n",
       "<table border=\"1\" class=\"dataframe\">\n",
       "  <thead>\n",
       "    <tr style=\"text-align: right;\">\n",
       "      <th></th>\n",
       "      <th>your_marital_status</th>\n",
       "      <th>obs</th>\n",
       "    </tr>\n",
       "  </thead>\n",
       "  <tbody>\n",
       "    <tr>\n",
       "      <th>0</th>\n",
       "      <td>Free Union</td>\n",
       "      <td>3675</td>\n",
       "    </tr>\n",
       "    <tr>\n",
       "      <th>1</th>\n",
       "      <td>Married</td>\n",
       "      <td>1645</td>\n",
       "    </tr>\n",
       "    <tr>\n",
       "      <th>2</th>\n",
       "      <td>Separated and/or Divorced</td>\n",
       "      <td>66</td>\n",
       "    </tr>\n",
       "    <tr>\n",
       "      <th>3</th>\n",
       "      <td>Separated and/or Widowed</td>\n",
       "      <td>145</td>\n",
       "    </tr>\n",
       "    <tr>\n",
       "      <th>4</th>\n",
       "      <td>Single</td>\n",
       "      <td>197852</td>\n",
       "    </tr>\n",
       "    <tr>\n",
       "      <th>5</th>\n",
       "      <td>Widowed</td>\n",
       "      <td>13</td>\n",
       "    </tr>\n",
       "  </tbody>\n",
       "</table>\n",
       "</div>"
      ],
      "text/plain": [
       "         your_marital_status     obs\n",
       "0                 Free Union    3675\n",
       "1                    Married    1645\n",
       "2  Separated and/or Divorced      66\n",
       "3   Separated and/or Widowed     145\n",
       "4                     Single  197852\n",
       "5                    Widowed      13"
      ]
     },
     "execution_count": 14,
     "metadata": {},
     "output_type": "execute_result"
    }
   ],
   "source": [
    "# Marital Status\n",
    "source = df.groupby('your_marital_status').count()[['your_consecutive']].reset_index().rename(columns={'your_consecutive':'obs'})\n",
    "source"
   ]
  },
  {
   "cell_type": "code",
   "execution_count": null,
   "id": "3fa861ee",
   "metadata": {
    "papermill": {
     "duration": 0.013679,
     "end_time": "2021-11-20T13:57:28.421812",
     "exception": false,
     "start_time": "2021-11-20T13:57:28.408133",
     "status": "completed"
    },
    "tags": []
   },
   "outputs": [],
   "source": []
  }
 ],
 "metadata": {
  "kernelspec": {
   "display_name": "Python 3",
   "language": "python",
   "name": "python3"
  },
  "language_info": {
   "codemirror_mode": {
    "name": "ipython",
    "version": 3
   },
   "file_extension": ".py",
   "mimetype": "text/x-python",
   "name": "python",
   "nbconvert_exporter": "python",
   "pygments_lexer": "ipython3",
   "version": "3.7.10"
  },
  "papermill": {
   "default_parameters": {},
   "duration": 23.025689,
   "end_time": "2021-11-20T13:57:29.246921",
   "environment_variables": {},
   "exception": null,
   "input_path": "__notebook__.ipynb",
   "output_path": "__notebook__.ipynb",
   "parameters": {},
   "start_time": "2021-11-20T13:57:06.221232",
   "version": "2.3.3"
  }
 },
 "nbformat": 4,
 "nbformat_minor": 5
}
