{
 "cells": [
  {
   "cell_type": "code",
   "execution_count": 50,
   "id": "4333ee60",
   "metadata": {},
   "outputs": [],
   "source": [
    "import pandas as pd\n",
    "import matplotlib.pyplot as plt\n",
    "import numpy as np\n",
    "import warnings\n",
    "%matplotlib inline\n",
    "import seaborn as sns\n",
    "from sklearn.metrics import confusion_matrix, classification_report\n",
    "warnings.filterwarnings('ignore')\n",
    "from IPython.display import set_matplotlib_formats\n",
    "set_matplotlib_formats('retina')"
   ]
  },
  {
   "cell_type": "code",
   "execution_count": 2,
   "id": "e59c6f89",
   "metadata": {},
   "outputs": [],
   "source": [
    "import torch\n",
    "from torchsummary import summary\n",
    "from torch.autograd import Variable\n",
    "from torch import nn,optim\n",
    "import torch.nn.functional as F\n",
    "from torch.utils.data import TensorDataset,DataLoader"
   ]
  },
  {
   "cell_type": "code",
   "execution_count": 3,
   "id": "ba9030c3",
   "metadata": {},
   "outputs": [
    {
     "data": {
      "text/plain": [
       "<torch._C.Generator at 0x1cda4e048d0>"
      ]
     },
     "execution_count": 3,
     "metadata": {},
     "output_type": "execute_result"
    }
   ],
   "source": [
    "seed=42\n",
    "device=torch.device('cuda:0' if torch.cuda.is_available() else 'cpu')\n",
    "np.random.seed(seed)\n",
    "torch.manual_seed(seed)"
   ]
  },
  {
   "cell_type": "code",
   "execution_count": 2,
   "id": "12851bf6",
   "metadata": {},
   "outputs": [],
   "source": [
    "df=pd.read_csv('saber_combined_all_fields_english.csv')"
   ]
  },
  {
   "cell_type": "code",
   "execution_count": 3,
   "id": "2d61624d",
   "metadata": {},
   "outputs": [],
   "source": [
    "df=df.loc[df['nationality']=='colombia']"
   ]
  },
  {
   "cell_type": "code",
   "execution_count": 4,
   "id": "79f255a1",
   "metadata": {},
   "outputs": [
    {
     "name": "stdout",
     "output_type": "stream",
     "text": [
      "year_of_exam: 0.7777798809399873\n",
      "semester_of_exam: 0.7772877409829549\n",
      "percentage_approval_credits: 0.7869507197546871\n",
      "did_student_took_preparation_test?: 0.7835909181249467\n",
      "took_an_special_preparation_test?: 0.704365849272674\n",
      "took_another_test_thats_not_lectured_by_government?: 0.7041671004438724\n",
      "did_he_take_an_external_test?: 0.7062444989163457\n",
      "did_you_did_a_simulacrum?: 0.7040014764198711\n",
      "are_you_veteran?_air_forces: 0.7040062085348425\n",
      "generic_preparation_for_test: 0.7040156727647855\n",
      "fathers_job: 0.6347990270771618\n",
      "mothers_job: 0.6341507273260711\n",
      "colombian_sisben_level: 0.7784849660707357\n",
      "do_you_have_kiln?: 0.7784849660707357\n",
      "do_you_have_fridge?: 0.777268812523069\n",
      "do_you_have_cellphone?: 0.777268812523069\n",
      "does_family_have_a_phone?: 0.7784849660707357\n",
      "monthly_family_income: 0.7784849660707357\n",
      "current_job: 0.7802831697598925\n",
      "expectatives: 0.6212604461437995\n"
     ]
    }
   ],
   "source": [
    "# Ascending order of NaN values in column\n",
    "for i in df.columns.to_list():\n",
    "    val=df[i].isnull().sum()/len(df)\n",
    "    if val>=0.60:\n",
    "        print(i+':',val)"
   ]
  },
  {
   "cell_type": "code",
   "execution_count": 5,
   "id": "1a727c8c",
   "metadata": {},
   "outputs": [],
   "source": [
    "icfes_score_df=df.loc[df['undergraduate_core']!='unclassified']"
   ]
  },
  {
   "cell_type": "code",
   "execution_count": 6,
   "id": "1130d2ae",
   "metadata": {},
   "outputs": [
    {
     "data": {
      "text/plain": [
       "0"
      ]
     },
     "execution_count": 6,
     "metadata": {},
     "output_type": "execute_result"
    }
   ],
   "source": [
    "icfes_score_df['undergraduate_core'].isnull().sum()"
   ]
  },
  {
   "cell_type": "code",
   "execution_count": 14,
   "id": "9e63585c",
   "metadata": {},
   "outputs": [
    {
     "name": "stdout",
     "output_type": "stream",
     "text": [
      "public accounting 35762\n",
      "military or police training 15253\n",
      "economy 14334\n",
      "administration 14211\n",
      "industrial engineering 10653\n",
      "agronomic, livestock engineering 10508\n",
      "psychology 8231\n",
      "social communication, journalism 7729\n",
      "law 7470\n",
      "geology, other natural science programs 7232\n",
      "environmental, sanitary engineering 6804\n",
      "advertising 5373\n",
      "mechanical engineering 5257\n",
      "civil engineering 3966\n",
      "education 3829\n",
      "sociology, social work 3436\n",
      "agroindustrial and food engineering 2844\n",
      "nutrition and dietetics 2752\n",
      "dentistry 2655\n",
      "architecture 2571\n",
      "anthropology, liberal arts 2200\n",
      "therapies 2060\n",
      "chemical engineering 1850\n",
      "other engineering 1801\n",
      "veterinary medicine 1605\n",
      "computer systems, telematics engineering 1225\n",
      "electronic engineering, telecommunications 1156\n",
      "mining, metallurgy engineering 1119\n",
      "design 1077\n",
      "nursing 982\n",
      "administrative engineering 978\n",
      "electrical engineering 971\n",
      "agricultural, forest engineering 898\n",
      "political science, international relations 825\n",
      "geography, history 816\n",
      "bacteriology 814\n",
      "medicine 786\n",
      "chemistry 759\n",
      "plastic arts, visual arts 755\n",
      "biology, microbiology 748\n",
      "modern languages, literature, linguistics 708\n",
      "philosophy, theology 673\n",
      "music 607\n",
      "sports, physical education and recreation 564\n",
      "superior normals 546\n",
      "library, others of social and human sciences 530\n",
      "agronomy 528\n",
      "surgical instrumentation 473\n",
      "zootechny 469\n",
      "odontology 444\n",
      "nutrition and diet 402\n",
      "public health 391\n",
      "biomedical engineering 372\n",
      "plastic, visual arts 336\n",
      "optometry, other health science programs 325\n",
      "math, statistics 273\n",
      "agroindustrial engineering, food 268\n",
      "training related to the military or police field 264\n",
      "other programs associated with fine arts 244\n",
      "representative arts 191\n",
      "agricultural, forestry engineering 168\n",
      "physical 162\n",
      "******************************************************\n",
      "Total Unique Undergrdaute Degree Title: 62\n"
     ]
    }
   ],
   "source": [
    "df2=icfes_score_df.copy()\n",
    "a=0\n",
    "for i,j in zip(df2['undergraduate_core'].unique().tolist(),df2['undergraduate_core'].value_counts().tolist()):\n",
    "    print(i,j)\n",
    "    a+=1\n",
    "print('******************************************************')\n",
    "print('Total Unique Undergrdaute Degree Title:',a)    "
   ]
  },
  {
   "cell_type": "code",
   "execution_count": 18,
   "id": "f6f0df7b",
   "metadata": {},
   "outputs": [
    {
     "name": "stdout",
     "output_type": "stream",
     "text": [
      "Enter the common term for public accounting business\n",
      "Enter the common term for military or police training defence\n",
      "Enter the common term for economy business\n",
      "Enter the common term for administration business\n",
      "Enter the common term for industrial engineering engineering\n",
      "Enter the common term for agronomic, livestock engineering engineering\n",
      "Enter the common term for psychology liberal arts\n",
      "Enter the common term for social communication, journalism liberal arts\n",
      "Enter the common term for law liberal arts\n",
      "Enter the common term for geology, other natural science programs liberal arts\n",
      "Enter the common term for environmental, sanitary engineering engineering\n",
      "Enter the common term for advertising business\n",
      "Enter the common term for mechanical engineering engineering\n",
      "Enter the common term for civil engineering engineering\n",
      "Enter the common term for education teaching\n",
      "Enter the common term for sociology, social work liiberal arts\n",
      "Enter the common term for agroindustrial and food engineering engineering\n",
      "Enter the common term for nutrition and dietetics health science\n",
      "Enter the common term for dentistry medical\n",
      "Enter the common term for architecture engineering\n",
      "Enter the common term for anthropology, liberal arts liberal arts\n",
      "Enter the common term for therapies medical\n",
      "Enter the common term for chemical engineering engineering\n",
      "Enter the common term for other engineering engineering\n",
      "Enter the common term for veterinary medicine medical\n",
      "Enter the common term for computer systems, telematics engineering engineering\n",
      "Enter the common term for electronic engineering, telecommunications engineering\n",
      "Enter the common term for mining, metallurgy engineering engineering\n",
      "Enter the common term for design arts and design\n",
      "Enter the common term for nursing medical\n",
      "Enter the common term for administrative engineering engineering\n",
      "Enter the common term for electrical engineering engineering\n",
      "Enter the common term for agricultural, forest engineering engineering\n",
      "Enter the common term for political science, international relations liberal arts\n",
      "Enter the common term for geography, history liberal arts\n",
      "Enter the common term for bacteriology medical\n",
      "Enter the common term for medicine medical\n",
      "Enter the common term for chemistry teaching\n",
      "Enter the common term for plastic arts, visual arts arts and design\n",
      "Enter the common term for biology, microbiology teaching\n",
      "Enter the common term for modern languages, literature, linguistics liberal arts\n",
      "Enter the common term for philosophy, theology liberal arts\n",
      "Enter the common term for music arts and design\n",
      "Enter the common term for sports, physical education and recreation health science\n",
      "Enter the common term for superior normals teaching\n",
      "Enter the common term for library, others of social and human sciences liberal arts\n",
      "Enter the common term for agronomy teaching\n",
      "Enter the common term for surgical instrumentation medical\n",
      "Enter the common term for zootechny medical\n",
      "Enter the common term for odontology medical\n",
      "Enter the common term for nutrition and diet health science\n",
      "Enter the common term for public health health science\n",
      "Enter the common term for biomedical engineering engineering\n",
      "Enter the common term for plastic, visual arts arts and design\n",
      "Enter the common term for optometry, other health science programs health science\n",
      "Enter the common term for math, statistics business\n",
      "Enter the common term for agroindustrial engineering, food engineering\n",
      "Enter the common term for training related to the military or police field defence\n",
      "Enter the common term for other programs associated with fine arts arts and design\n",
      "Enter the common term for representative arts arts and design\n",
      "Enter the common term for agricultural, forestry engineering engineering\n",
      "Enter the common term for physical health science\n"
     ]
    }
   ],
   "source": [
    "replace_field={}\n",
    "for i in df2.undergraduate_core.unique().tolist():\n",
    "    m=input(f'Enter the common term for {i} ')\n",
    "    replace_field[i]=str(m)"
   ]
  },
  {
   "cell_type": "code",
   "execution_count": 19,
   "id": "4491334e",
   "metadata": {},
   "outputs": [
    {
     "data": {
      "text/plain": [
       "{'public accounting': 'business',\n",
       " 'military or police training': 'defence',\n",
       " 'economy': 'business',\n",
       " 'administration': 'business',\n",
       " 'industrial engineering': 'engineering',\n",
       " 'agronomic, livestock engineering': 'engineering',\n",
       " 'psychology': 'liberal arts',\n",
       " 'social communication, journalism': 'liberal arts',\n",
       " 'law': 'liberal arts',\n",
       " 'geology, other natural science programs': 'liberal arts',\n",
       " 'environmental, sanitary engineering': 'engineering',\n",
       " 'advertising': 'business',\n",
       " 'mechanical engineering': 'engineering',\n",
       " 'civil engineering': 'engineering',\n",
       " 'education': 'teaching',\n",
       " 'sociology, social work': 'liiberal arts',\n",
       " 'agroindustrial and food engineering': 'engineering',\n",
       " 'nutrition and dietetics': 'health science',\n",
       " 'dentistry': 'medical',\n",
       " 'architecture': 'engineering',\n",
       " 'anthropology, liberal arts': 'liberal arts',\n",
       " 'therapies': 'medical',\n",
       " 'chemical engineering': 'engineering',\n",
       " 'other engineering': 'engineering',\n",
       " 'veterinary medicine': 'medical',\n",
       " 'computer systems, telematics engineering': 'engineering',\n",
       " 'electronic engineering, telecommunications': 'engineering',\n",
       " 'mining, metallurgy engineering': 'engineering',\n",
       " 'design': 'arts and design',\n",
       " 'nursing': 'medical',\n",
       " 'administrative engineering': 'engineering',\n",
       " 'electrical engineering': 'engineering',\n",
       " 'agricultural, forest engineering': 'engineering',\n",
       " 'political science, international relations': 'liberal arts',\n",
       " 'geography, history': 'liberal arts',\n",
       " 'bacteriology': 'medical',\n",
       " 'medicine': 'medical',\n",
       " 'chemistry': 'teaching',\n",
       " 'plastic arts, visual arts': 'arts and design',\n",
       " 'biology, microbiology': 'teaching',\n",
       " 'modern languages, literature, linguistics': 'liberal arts',\n",
       " 'philosophy, theology': 'liberal arts',\n",
       " 'music': 'arts and design',\n",
       " 'sports, physical education and recreation': 'health science',\n",
       " 'superior normals': 'teaching',\n",
       " 'library, others of social and human sciences': 'liberal arts',\n",
       " 'agronomy': 'teaching',\n",
       " 'surgical instrumentation': 'medical',\n",
       " 'zootechny': 'medical',\n",
       " 'odontology': 'medical',\n",
       " 'nutrition and diet': 'health science',\n",
       " 'public health': 'health science',\n",
       " 'biomedical engineering': 'engineering',\n",
       " 'plastic, visual arts': 'arts and design',\n",
       " 'optometry, other health science programs': 'health science',\n",
       " 'math, statistics': 'business',\n",
       " 'agroindustrial engineering, food': 'engineering',\n",
       " 'training related to the military or police field': 'defence',\n",
       " 'other programs associated with fine arts': 'arts and design',\n",
       " 'representative arts': 'arts and design',\n",
       " 'agricultural, forestry engineering': 'engineering',\n",
       " 'physical': 'health science'}"
      ]
     },
     "execution_count": 19,
     "metadata": {},
     "output_type": "execute_result"
    }
   ],
   "source": [
    "replace_field"
   ]
  },
  {
   "cell_type": "code",
   "execution_count": 20,
   "id": "34e48899",
   "metadata": {},
   "outputs": [],
   "source": [
    "icfes_score_df['undergraduate_core_field']=icfes_score_df['undergraduate_core'].replace(replace_field)"
   ]
  },
  {
   "cell_type": "code",
   "execution_count": 102,
   "id": "2cb855a8",
   "metadata": {},
   "outputs": [],
   "source": [
    "from collections import Counter"
   ]
  },
  {
   "cell_type": "code",
   "execution_count": 40,
   "id": "2e6268c7",
   "metadata": {},
   "outputs": [
    {
     "data": {
      "text/plain": [
       "Counter({'business': 58701,\n",
       "         'defence': 2368,\n",
       "         'engineering': 54210,\n",
       "         'liberal arts': 42450,\n",
       "         'teaching': 21243,\n",
       "         'health science': 3107,\n",
       "         'medical': 13559,\n",
       "         'arts and design': 7595})"
      ]
     },
     "execution_count": 40,
     "metadata": {},
     "output_type": "execute_result"
    }
   ],
   "source": [
    "Counter(icfes_score_df['undergraduate_core_field'])"
   ]
  },
  {
   "cell_type": "code",
   "execution_count": 35,
   "id": "54b01631",
   "metadata": {},
   "outputs": [
    {
     "data": {
      "image/png": "[encoded data removed]",
      "text/plain": [
       "<Figure size 432x288 with 1 Axes>"
      ]
     },
     "metadata": {
      "image/png": {
       "height": 316,
       "width": 388
      },
      "needs_background": "light"
     },
     "output_type": "display_data"
    }
   ],
   "source": [
    "icfes_score_df['undergraduate_core_field'].value_counts().plot(kind='bar');"
   ]
  },
  {
   "cell_type": "code",
   "execution_count": 41,
   "id": "77543247",
   "metadata": {},
   "outputs": [],
   "source": [
    "icfes_score_df=icfes_score_df[['saber_11_icfes_mathematics','saber_11_icfes_language',\n",
    "              'saber_11_icfes_chemistry',\n",
    "              'saber_11_icfes_physics',\n",
    "              'saber_11_icfes_social_sciences',\n",
    "              'saber_11_icfes_philosophy',\n",
    "              'saber_11_icfes_english','saber_11_icfes_optative_score','undergraduate_core','undergraduate_core_field']]"
   ]
  },
  {
   "cell_type": "code",
   "execution_count": 42,
   "id": "1e44b363",
   "metadata": {},
   "outputs": [],
   "source": [
    "#icfes_score_df.to_csv('final_scores.csv',index=False)"
   ]
  },
  {
   "cell_type": "code",
   "execution_count": 4,
   "id": "1525d6c9",
   "metadata": {},
   "outputs": [],
   "source": [
    "#icfes_score_df=pd.read_csv('final_scores.csv')"
   ]
  },
  {
   "cell_type": "code",
   "execution_count": 14,
   "id": "b800688a",
   "metadata": {},
   "outputs": [
    {
     "data": {
      "text/html": [
       "<div>\n",
       "<style scoped>\n",
       "    .dataframe tbody tr th:only-of-type {\n",
       "        vertical-align: middle;\n",
       "    }\n",
       "\n",
       "    .dataframe tbody tr th {\n",
       "        vertical-align: top;\n",
       "    }\n",
       "\n",
       "    .dataframe thead th {\n",
       "        text-align: right;\n",
       "    }\n",
       "</style>\n",
       "<table border=\"1\" class=\"dataframe\">\n",
       "  <thead>\n",
       "    <tr style=\"text-align: right;\">\n",
       "      <th></th>\n",
       "      <th>saber_11_icfes_mathematics</th>\n",
       "      <th>saber_11_icfes_language</th>\n",
       "      <th>saber_11_icfes_chemistry</th>\n",
       "      <th>saber_11_icfes_physics</th>\n",
       "      <th>saber_11_icfes_social_sciences</th>\n",
       "      <th>saber_11_icfes_philosophy</th>\n",
       "      <th>saber_11_icfes_english</th>\n",
       "      <th>saber_11_icfes_optative_score</th>\n",
       "      <th>undergraduate_core</th>\n",
       "      <th>undergraduate_core_field</th>\n",
       "    </tr>\n",
       "  </thead>\n",
       "  <tbody>\n",
       "    <tr>\n",
       "      <th>0</th>\n",
       "      <td>43</td>\n",
       "      <td>32</td>\n",
       "      <td>42</td>\n",
       "      <td>33</td>\n",
       "      <td>33</td>\n",
       "      <td>29</td>\n",
       "      <td>38</td>\n",
       "      <td>49</td>\n",
       "      <td>public accounting</td>\n",
       "      <td>business</td>\n",
       "    </tr>\n",
       "    <tr>\n",
       "      <th>1</th>\n",
       "      <td>64</td>\n",
       "      <td>48</td>\n",
       "      <td>52</td>\n",
       "      <td>54</td>\n",
       "      <td>44</td>\n",
       "      <td>47</td>\n",
       "      <td>51</td>\n",
       "      <td>6</td>\n",
       "      <td>military or police training</td>\n",
       "      <td>defence</td>\n",
       "    </tr>\n",
       "    <tr>\n",
       "      <th>2</th>\n",
       "      <td>42</td>\n",
       "      <td>57</td>\n",
       "      <td>51</td>\n",
       "      <td>28</td>\n",
       "      <td>46</td>\n",
       "      <td>45</td>\n",
       "      <td>43</td>\n",
       "      <td>5</td>\n",
       "      <td>public accounting</td>\n",
       "      <td>business</td>\n",
       "    </tr>\n",
       "    <tr>\n",
       "      <th>3</th>\n",
       "      <td>46</td>\n",
       "      <td>40</td>\n",
       "      <td>35</td>\n",
       "      <td>45</td>\n",
       "      <td>42</td>\n",
       "      <td>40</td>\n",
       "      <td>43</td>\n",
       "      <td>29</td>\n",
       "      <td>economy</td>\n",
       "      <td>business</td>\n",
       "    </tr>\n",
       "    <tr>\n",
       "      <th>4</th>\n",
       "      <td>44</td>\n",
       "      <td>48</td>\n",
       "      <td>65</td>\n",
       "      <td>44</td>\n",
       "      <td>49</td>\n",
       "      <td>43</td>\n",
       "      <td>42</td>\n",
       "      <td>55</td>\n",
       "      <td>administration</td>\n",
       "      <td>business</td>\n",
       "    </tr>\n",
       "  </tbody>\n",
       "</table>\n",
       "</div>"
      ],
      "text/plain": [
       "   saber_11_icfes_mathematics  saber_11_icfes_language  \\\n",
       "0                          43                       32   \n",
       "1                          64                       48   \n",
       "2                          42                       57   \n",
       "3                          46                       40   \n",
       "4                          44                       48   \n",
       "\n",
       "   saber_11_icfes_chemistry  saber_11_icfes_physics  \\\n",
       "0                        42                      33   \n",
       "1                        52                      54   \n",
       "2                        51                      28   \n",
       "3                        35                      45   \n",
       "4                        65                      44   \n",
       "\n",
       "   saber_11_icfes_social_sciences  saber_11_icfes_philosophy  \\\n",
       "0                              33                         29   \n",
       "1                              44                         47   \n",
       "2                              46                         45   \n",
       "3                              42                         40   \n",
       "4                              49                         43   \n",
       "\n",
       "   saber_11_icfes_english  saber_11_icfes_optative_score  \\\n",
       "0                      38                             49   \n",
       "1                      51                              6   \n",
       "2                      43                              5   \n",
       "3                      43                             29   \n",
       "4                      42                             55   \n",
       "\n",
       "            undergraduate_core undergraduate_core_field  \n",
       "0            public accounting                 business  \n",
       "1  military or police training                  defence  \n",
       "2            public accounting                 business  \n",
       "3                      economy                 business  \n",
       "4               administration                 business  "
      ]
     },
     "execution_count": 14,
     "metadata": {},
     "output_type": "execute_result"
    }
   ],
   "source": [
    "icfes_score_df.head(5)"
   ]
  },
  {
   "cell_type": "code",
   "execution_count": 5,
   "id": "4d6c747b",
   "metadata": {},
   "outputs": [],
   "source": [
    "from sklearn.preprocessing import RobustScaler,OneHotEncoder\n",
    "from sklearn.model_selection import train_test_split\n",
    "\n",
    "rb=RobustScaler()\n",
    "encoder=OneHotEncoder(handle_unknown='ignore',sparse=False)"
   ]
  },
  {
   "cell_type": "code",
   "execution_count": 6,
   "id": "49483432",
   "metadata": {},
   "outputs": [],
   "source": [
    "X=icfes_score_df.drop(columns=['undergraduate_core','undergraduate_core_field'])\n",
    "y=icfes_score_df.undergraduate_core_field\n",
    "\n",
    "X_train,X_test,y_train,y_test = train_test_split(X,y,test_size=0.3,random_state=seed,stratify=y)\n",
    "X_val,X_test,y_val,y_test = train_test_split(X_test,y_test,test_size=0.5,random_state=seed,stratify=y_test)"
   ]
  },
  {
   "cell_type": "code",
   "execution_count": 7,
   "id": "356e957f",
   "metadata": {},
   "outputs": [
    {
     "name": "stdout",
     "output_type": "stream",
     "text": [
      "Length of dataset of train,validation, and test is 142263,30485,and 30485 respectively\n"
     ]
    }
   ],
   "source": [
    "print(f'Length of dataset of train,validation, and test is {len(X_train)},{len(X_val)},and {len(X_test)} respectively')"
   ]
  },
  {
   "cell_type": "code",
   "execution_count": 10,
   "id": "1fa96833",
   "metadata": {},
   "outputs": [
    {
     "data": {
      "text/plain": [
       "Counter({'business': 41091,\n",
       "         'engineering': 37947,\n",
       "         'liberal arts': 29715,\n",
       "         'arts and design': 5316,\n",
       "         'teaching': 14870,\n",
       "         'defence': 1658,\n",
       "         'medical': 9491,\n",
       "         'health science': 2175})"
      ]
     },
     "execution_count": 10,
     "metadata": {},
     "output_type": "execute_result"
    }
   ],
   "source": [
    "Counter(y_train)"
   ]
  },
  {
   "cell_type": "code",
   "execution_count": 12,
   "id": "f6fa5ea4",
   "metadata": {},
   "outputs": [
    {
     "data": {
      "text/plain": [
       "Counter({'engineering': 8132,\n",
       "         'teaching': 3187,\n",
       "         'business': 8805,\n",
       "         'liberal arts': 6367,\n",
       "         'medical': 2034,\n",
       "         'arts and design': 1139,\n",
       "         'health science': 466,\n",
       "         'defence': 355})"
      ]
     },
     "execution_count": 12,
     "metadata": {},
     "output_type": "execute_result"
    }
   ],
   "source": [
    "Counter(y_val)"
   ]
  },
  {
   "cell_type": "code",
   "execution_count": 11,
   "id": "a86e85f8",
   "metadata": {},
   "outputs": [
    {
     "data": {
      "text/plain": [
       "Counter({'engineering': 8131,\n",
       "         'business': 8805,\n",
       "         'medical': 2034,\n",
       "         'defence': 355,\n",
       "         'liberal arts': 6368,\n",
       "         'teaching': 3186,\n",
       "         'arts and design': 1140,\n",
       "         'health science': 466})"
      ]
     },
     "execution_count": 11,
     "metadata": {},
     "output_type": "execute_result"
    }
   ],
   "source": [
    "Counter(y_test)"
   ]
  },
  {
   "cell_type": "code",
   "execution_count": 7,
   "id": "9334a3cf",
   "metadata": {},
   "outputs": [],
   "source": [
    "# Standarize the column values \n",
    "X_train_rs=rb.fit_transform(X_train.values)\n",
    "X_train_rs=pd.DataFrame(X_train_rs,columns=X_train.columns.tolist())\n",
    "X_val_rs=rb.transform(X_val.values)\n",
    "X_val_rs=pd.DataFrame(X_val_rs,columns=X_train.columns.tolist())\n",
    "X_test_rs=rb.transform(X_test.values)\n",
    "X_test_rs=pd.DataFrame(X_test_rs,columns=X_train.columns.tolist())"
   ]
  },
  {
   "cell_type": "code",
   "execution_count": 8,
   "id": "fa49479b",
   "metadata": {},
   "outputs": [],
   "source": [
    "encoder_train=pd.DataFrame(encoder.fit_transform(y_train.values.reshape(-1, 1)))\n",
    "encoder_val=pd.DataFrame(encoder.transform(y_val.values.reshape(-1, 1)))\n",
    "encoder_test=pd.DataFrame(encoder.transform(y_test.values.reshape(-1, 1)))"
   ]
  },
  {
   "cell_type": "code",
   "execution_count": 9,
   "id": "c9a8e710",
   "metadata": {},
   "outputs": [
    {
     "data": {
      "text/plain": [
       "array(['x0_arts and design', 'x0_business', 'x0_defence',\n",
       "       'x0_engineering', 'x0_health science', 'x0_liberal arts',\n",
       "       'x0_medical', 'x0_teaching'], dtype=object)"
      ]
     },
     "execution_count": 9,
     "metadata": {},
     "output_type": "execute_result"
    }
   ],
   "source": [
    "encoder.get_feature_names()"
   ]
  },
  {
   "cell_type": "code",
   "execution_count": 73,
   "id": "f9fb70c8",
   "metadata": {},
   "outputs": [
    {
     "data": {
      "text/plain": [
       "26812        liberal arts\n",
       "195343       liberal arts\n",
       "139362        engineering\n",
       "201936       liberal arts\n",
       "160053           business\n",
       "90232         engineering\n",
       "193458       liberal arts\n",
       "188860           business\n",
       "138614       liberal arts\n",
       "55019     arts and design\n",
       "Name: undergraduate_core_field, dtype: object"
      ]
     },
     "execution_count": 73,
     "metadata": {},
     "output_type": "execute_result"
    }
   ],
   "source": [
    "y_train.head(10)"
   ]
  },
  {
   "cell_type": "code",
   "execution_count": 39,
   "id": "11fbaaf2",
   "metadata": {},
   "outputs": [
    {
     "data": {
      "text/html": [
       "<div>\n",
       "<style scoped>\n",
       "    .dataframe tbody tr th:only-of-type {\n",
       "        vertical-align: middle;\n",
       "    }\n",
       "\n",
       "    .dataframe tbody tr th {\n",
       "        vertical-align: top;\n",
       "    }\n",
       "\n",
       "    .dataframe thead th {\n",
       "        text-align: right;\n",
       "    }\n",
       "</style>\n",
       "<table border=\"1\" class=\"dataframe\">\n",
       "  <thead>\n",
       "    <tr style=\"text-align: right;\">\n",
       "      <th></th>\n",
       "      <th>0</th>\n",
       "      <th>1</th>\n",
       "      <th>2</th>\n",
       "      <th>3</th>\n",
       "      <th>4</th>\n",
       "      <th>5</th>\n",
       "      <th>6</th>\n",
       "      <th>7</th>\n",
       "    </tr>\n",
       "  </thead>\n",
       "  <tbody>\n",
       "    <tr>\n",
       "      <th>0</th>\n",
       "      <td>0.0</td>\n",
       "      <td>1.0</td>\n",
       "      <td>0.0</td>\n",
       "      <td>0.0</td>\n",
       "      <td>0.0</td>\n",
       "      <td>0.0</td>\n",
       "      <td>0.0</td>\n",
       "      <td>0.0</td>\n",
       "    </tr>\n",
       "    <tr>\n",
       "      <th>1</th>\n",
       "      <td>0.0</td>\n",
       "      <td>0.0</td>\n",
       "      <td>0.0</td>\n",
       "      <td>1.0</td>\n",
       "      <td>0.0</td>\n",
       "      <td>0.0</td>\n",
       "      <td>0.0</td>\n",
       "      <td>0.0</td>\n",
       "    </tr>\n",
       "    <tr>\n",
       "      <th>2</th>\n",
       "      <td>0.0</td>\n",
       "      <td>0.0</td>\n",
       "      <td>0.0</td>\n",
       "      <td>0.0</td>\n",
       "      <td>0.0</td>\n",
       "      <td>1.0</td>\n",
       "      <td>0.0</td>\n",
       "      <td>0.0</td>\n",
       "    </tr>\n",
       "    <tr>\n",
       "      <th>3</th>\n",
       "      <td>0.0</td>\n",
       "      <td>0.0</td>\n",
       "      <td>0.0</td>\n",
       "      <td>0.0</td>\n",
       "      <td>0.0</td>\n",
       "      <td>1.0</td>\n",
       "      <td>0.0</td>\n",
       "      <td>0.0</td>\n",
       "    </tr>\n",
       "    <tr>\n",
       "      <th>4</th>\n",
       "      <td>0.0</td>\n",
       "      <td>0.0</td>\n",
       "      <td>0.0</td>\n",
       "      <td>1.0</td>\n",
       "      <td>0.0</td>\n",
       "      <td>0.0</td>\n",
       "      <td>0.0</td>\n",
       "      <td>0.0</td>\n",
       "    </tr>\n",
       "    <tr>\n",
       "      <th>5</th>\n",
       "      <td>0.0</td>\n",
       "      <td>0.0</td>\n",
       "      <td>0.0</td>\n",
       "      <td>1.0</td>\n",
       "      <td>0.0</td>\n",
       "      <td>0.0</td>\n",
       "      <td>0.0</td>\n",
       "      <td>0.0</td>\n",
       "    </tr>\n",
       "    <tr>\n",
       "      <th>6</th>\n",
       "      <td>0.0</td>\n",
       "      <td>1.0</td>\n",
       "      <td>0.0</td>\n",
       "      <td>0.0</td>\n",
       "      <td>0.0</td>\n",
       "      <td>0.0</td>\n",
       "      <td>0.0</td>\n",
       "      <td>0.0</td>\n",
       "    </tr>\n",
       "    <tr>\n",
       "      <th>7</th>\n",
       "      <td>0.0</td>\n",
       "      <td>1.0</td>\n",
       "      <td>0.0</td>\n",
       "      <td>0.0</td>\n",
       "      <td>0.0</td>\n",
       "      <td>0.0</td>\n",
       "      <td>0.0</td>\n",
       "      <td>0.0</td>\n",
       "    </tr>\n",
       "    <tr>\n",
       "      <th>8</th>\n",
       "      <td>0.0</td>\n",
       "      <td>1.0</td>\n",
       "      <td>0.0</td>\n",
       "      <td>0.0</td>\n",
       "      <td>0.0</td>\n",
       "      <td>0.0</td>\n",
       "      <td>0.0</td>\n",
       "      <td>0.0</td>\n",
       "    </tr>\n",
       "    <tr>\n",
       "      <th>9</th>\n",
       "      <td>0.0</td>\n",
       "      <td>1.0</td>\n",
       "      <td>0.0</td>\n",
       "      <td>0.0</td>\n",
       "      <td>0.0</td>\n",
       "      <td>0.0</td>\n",
       "      <td>0.0</td>\n",
       "      <td>0.0</td>\n",
       "    </tr>\n",
       "  </tbody>\n",
       "</table>\n",
       "</div>"
      ],
      "text/plain": [
       "     0    1    2    3    4    5    6    7\n",
       "0  0.0  1.0  0.0  0.0  0.0  0.0  0.0  0.0\n",
       "1  0.0  0.0  0.0  1.0  0.0  0.0  0.0  0.0\n",
       "2  0.0  0.0  0.0  0.0  0.0  1.0  0.0  0.0\n",
       "3  0.0  0.0  0.0  0.0  0.0  1.0  0.0  0.0\n",
       "4  0.0  0.0  0.0  1.0  0.0  0.0  0.0  0.0\n",
       "5  0.0  0.0  0.0  1.0  0.0  0.0  0.0  0.0\n",
       "6  0.0  1.0  0.0  0.0  0.0  0.0  0.0  0.0\n",
       "7  0.0  1.0  0.0  0.0  0.0  0.0  0.0  0.0\n",
       "8  0.0  1.0  0.0  0.0  0.0  0.0  0.0  0.0\n",
       "9  0.0  1.0  0.0  0.0  0.0  0.0  0.0  0.0"
      ]
     },
     "execution_count": 39,
     "metadata": {},
     "output_type": "execute_result"
    }
   ],
   "source": [
    "encoder_train.head(10)"
   ]
  },
  {
   "cell_type": "code",
   "execution_count": 40,
   "id": "40ffc360",
   "metadata": {},
   "outputs": [
    {
     "data": {
      "text/plain": [
       "0.6999995079539248"
      ]
     },
     "execution_count": 40,
     "metadata": {},
     "output_type": "execute_result"
    }
   ],
   "source": [
    "X_train_rs.shape[0]/X.shape[0]"
   ]
  },
  {
   "cell_type": "code",
   "execution_count": 10,
   "id": "009c7338",
   "metadata": {},
   "outputs": [],
   "source": [
    "train_ds=TensorDataset(torch.FloatTensor(X_train.values),torch.LongTensor(encoder_train.values))\n",
    "val_ds=TensorDataset(torch.FloatTensor(X_val.values),torch.LongTensor(encoder_val.values))\n",
    "test_ds=TensorDataset(torch.FloatTensor(X_test.values),torch.LongTensor(encoder_test.values))"
   ]
  },
  {
   "cell_type": "code",
   "execution_count": 11,
   "id": "07317d8f",
   "metadata": {},
   "outputs": [],
   "source": [
    "train_dl=DataLoader(train_ds,batch_size=32,shuffle=True)\n",
    "val_dl=DataLoader(val_ds,batch_size=1,shuffle=False)\n",
    "test_dl=DataLoader(test_ds,batch_size=1,shuffle=False)"
   ]
  },
  {
   "cell_type": "code",
   "execution_count": 31,
   "id": "2f60d6f0",
   "metadata": {},
   "outputs": [
    {
     "name": "stdout",
     "output_type": "stream",
     "text": [
      "torch.Size([32, 8])\n",
      "torch.Size([32, 8])\n"
     ]
    }
   ],
   "source": [
    "for x,y in train_dl:\n",
    "    print(x.shape)\n",
    "    print(y.shape)\n",
    "    break"
   ]
  },
  {
   "cell_type": "code",
   "execution_count": 12,
   "id": "f2a21bb4",
   "metadata": {},
   "outputs": [],
   "source": [
    "class DenseModel(nn.Module):\n",
    "    def __init__(self,num_labels):\n",
    "        super(DenseModel,self).__init__()\n",
    "        self.m=nn.Sequential(nn.Linear(num_labels,16),\n",
    "                             nn.ReLU(),\n",
    "                             nn.BatchNorm1d(16),\n",
    "                             nn.Dropout(0.3),\n",
    "                             nn.Linear(16,32),\n",
    "                             nn.ReLU(),\n",
    "                             nn.BatchNorm1d(32),\n",
    "                             nn.Dropout(0.3),\n",
    "                             nn.Linear(32,64),\n",
    "                             nn.ReLU(),\n",
    "                             nn.BatchNorm1d(64),\n",
    "                             nn.Dropout(0.3),\n",
    "                             nn.Linear(64,32),\n",
    "                             nn.ReLU(),\n",
    "                             nn.BatchNorm1d(32),\n",
    "                             nn.Dropout(0.3),\n",
    "                             nn.Linear(32,16),\n",
    "                             nn.ReLU(),\n",
    "                             nn.BatchNorm1d(16),\n",
    "                             nn.Dropout(0.3),\n",
    "                             nn.Linear(16,8),\n",
    "                             nn.LogSoftmax(dim=1)\n",
    "                            )\n",
    "    def forward(self,x):\n",
    "        out=self.m(x)\n",
    "        return out"
   ]
  },
  {
   "cell_type": "code",
   "execution_count": 13,
   "id": "700986c2",
   "metadata": {},
   "outputs": [
    {
     "data": {
      "text/plain": [
       "DenseModel(\n",
       "  (m): Sequential(\n",
       "    (0): Linear(in_features=8, out_features=16, bias=True)\n",
       "    (1): ReLU()\n",
       "    (2): BatchNorm1d(16, eps=1e-05, momentum=0.1, affine=True, track_running_stats=True)\n",
       "    (3): Dropout(p=0.3, inplace=False)\n",
       "    (4): Linear(in_features=16, out_features=32, bias=True)\n",
       "    (5): ReLU()\n",
       "    (6): BatchNorm1d(32, eps=1e-05, momentum=0.1, affine=True, track_running_stats=True)\n",
       "    (7): Dropout(p=0.3, inplace=False)\n",
       "    (8): Linear(in_features=32, out_features=64, bias=True)\n",
       "    (9): ReLU()\n",
       "    (10): BatchNorm1d(64, eps=1e-05, momentum=0.1, affine=True, track_running_stats=True)\n",
       "    (11): Dropout(p=0.3, inplace=False)\n",
       "    (12): Linear(in_features=64, out_features=32, bias=True)\n",
       "    (13): ReLU()\n",
       "    (14): BatchNorm1d(32, eps=1e-05, momentum=0.1, affine=True, track_running_stats=True)\n",
       "    (15): Dropout(p=0.3, inplace=False)\n",
       "    (16): Linear(in_features=32, out_features=16, bias=True)\n",
       "    (17): ReLU()\n",
       "    (18): BatchNorm1d(16, eps=1e-05, momentum=0.1, affine=True, track_running_stats=True)\n",
       "    (19): Dropout(p=0.3, inplace=False)\n",
       "    (20): Linear(in_features=16, out_features=8, bias=True)\n",
       "    (21): LogSoftmax(dim=1)\n",
       "  )\n",
       ")"
      ]
     },
     "execution_count": 13,
     "metadata": {},
     "output_type": "execute_result"
    }
   ],
   "source": [
    "model=DenseModel(8)\n",
    "model"
   ]
  },
  {
   "cell_type": "code",
   "execution_count": 82,
   "id": "bfd1b416",
   "metadata": {},
   "outputs": [
    {
     "name": "stdout",
     "output_type": "stream",
     "text": [
      "=================================================================\n",
      "Layer (type:depth-idx)                   Param #\n",
      "=================================================================\n",
      "├─Sequential: 1-1                        --\n",
      "|    └─Linear: 2-1                       144\n",
      "|    └─ReLU: 2-2                         --\n",
      "|    └─BatchNorm1d: 2-3                  32\n",
      "|    └─Dropout: 2-4                      --\n",
      "|    └─Linear: 2-5                       544\n",
      "|    └─ReLU: 2-6                         --\n",
      "|    └─BatchNorm1d: 2-7                  64\n",
      "|    └─Dropout: 2-8                      --\n",
      "|    └─Linear: 2-9                       2,112\n",
      "|    └─ReLU: 2-10                        --\n",
      "|    └─BatchNorm1d: 2-11                 128\n",
      "|    └─Dropout: 2-12                     --\n",
      "|    └─Linear: 2-13                      2,080\n",
      "|    └─ReLU: 2-14                        --\n",
      "|    └─BatchNorm1d: 2-15                 64\n",
      "|    └─Dropout: 2-16                     --\n",
      "|    └─Linear: 2-17                      528\n",
      "|    └─ReLU: 2-18                        --\n",
      "|    └─BatchNorm1d: 2-19                 32\n",
      "|    └─Dropout: 2-20                     --\n",
      "|    └─Linear: 2-21                      136\n",
      "|    └─LogSoftmax: 2-22                  --\n",
      "=================================================================\n",
      "Total params: 5,864\n",
      "Trainable params: 5,864\n",
      "Non-trainable params: 0\n",
      "=================================================================\n"
     ]
    },
    {
     "data": {
      "text/plain": [
       "=================================================================\n",
       "Layer (type:depth-idx)                   Param #\n",
       "=================================================================\n",
       "├─Sequential: 1-1                        --\n",
       "|    └─Linear: 2-1                       144\n",
       "|    └─ReLU: 2-2                         --\n",
       "|    └─BatchNorm1d: 2-3                  32\n",
       "|    └─Dropout: 2-4                      --\n",
       "|    └─Linear: 2-5                       544\n",
       "|    └─ReLU: 2-6                         --\n",
       "|    └─BatchNorm1d: 2-7                  64\n",
       "|    └─Dropout: 2-8                      --\n",
       "|    └─Linear: 2-9                       2,112\n",
       "|    └─ReLU: 2-10                        --\n",
       "|    └─BatchNorm1d: 2-11                 128\n",
       "|    └─Dropout: 2-12                     --\n",
       "|    └─Linear: 2-13                      2,080\n",
       "|    └─ReLU: 2-14                        --\n",
       "|    └─BatchNorm1d: 2-15                 64\n",
       "|    └─Dropout: 2-16                     --\n",
       "|    └─Linear: 2-17                      528\n",
       "|    └─ReLU: 2-18                        --\n",
       "|    └─BatchNorm1d: 2-19                 32\n",
       "|    └─Dropout: 2-20                     --\n",
       "|    └─Linear: 2-21                      136\n",
       "|    └─LogSoftmax: 2-22                  --\n",
       "=================================================================\n",
       "Total params: 5,864\n",
       "Trainable params: 5,864\n",
       "Non-trainable params: 0\n",
       "================================================================="
      ]
     },
     "execution_count": 82,
     "metadata": {},
     "output_type": "execute_result"
    }
   ],
   "source": [
    "summary(model,input_size=(32,8),device=device.type)"
   ]
  },
  {
   "cell_type": "code",
   "execution_count": 16,
   "id": "075737df",
   "metadata": {},
   "outputs": [],
   "source": [
    "model=model.to(device)\n",
    "loss_fn=nn.NLLLoss()\n",
    "optimizer=optim.Adam(model.parameters(),lr=0.001)\n",
    "scheduler=torch.optim.lr_scheduler.ReduceLROnPlateau(optimizer,mode='min',factor=0.2,patience=5,verbose=True)"
   ]
  },
  {
   "cell_type": "code",
   "execution_count": 17,
   "id": "9b798834",
   "metadata": {},
   "outputs": [],
   "source": [
    "def validation_loss(model,dl):\n",
    "    model.eval()\n",
    "    val_loss=0.0\n",
    "    with torch.no_grad():\n",
    "        for x,y in dl:\n",
    "            x=Variable(x).to(device)\n",
    "            y=Variable(y).to(device)\n",
    "            out=model(x)\n",
    "            loss=loss_fn(out,y.argmax(dim=1))\n",
    "            val_loss+=loss.cpu().item()\n",
    "    return val_loss/len(dl)        "
   ]
  },
  {
   "cell_type": "code",
   "execution_count": 14,
   "id": "86246b07",
   "metadata": {},
   "outputs": [],
   "source": [
    "num_epochs=50\n",
    "train_losses=[]\n",
    "val_losses=[]\n",
    "best_loss=float('inf')\n",
    "for epoch in range(1,num_epochs+1):\n",
    "    print(f'{epoch} Epoch is running')\n",
    "    losses=0.0\n",
    "    val_loss=[]\n",
    "    for i,(x,y) in enumerate(train_dl):\n",
    "        x=Variable(x).to(device)\n",
    "        y=Variable(y).to(device)\n",
    "        model.train()\n",
    "        optimizer.zero_grad()\n",
    "        out=model(x)\n",
    "        loss=loss_fn(out,y.argmax(dim=1))\n",
    "        losses+=loss.item()*x.size(0)\n",
    "        loss.backward()\n",
    "        optimizer.step()\n",
    "        \n",
    "        # Validation\n",
    "        if i%500==0:\n",
    "            val_loss.append(validation_loss(model,val_dl))\n",
    "    val=sum(val_loss)/len(val_loss)\n",
    "    if val<best_loss:\n",
    "        best_loss=val\n",
    "        torch.save(model.state_dict(),f'model{epoch}.pth')\n",
    "    scheduler.step(val)\n",
    "    # Average Training Losses and Validation Losses\n",
    "    train_losses.append(losses/len(train_dl.dataset))\n",
    "    val_losses.append(val)    "
   ]
  },
  {
   "cell_type": "code",
   "execution_count": 16,
   "id": "62d4181e",
   "metadata": {},
   "outputs": [
    {
     "name": "stdout",
     "output_type": "stream",
     "text": [
      "[1.698803360672531, 1.6523136464136166, 1.648517795700684, 1.6463767049682345, 1.6456351357714403, 1.644983525859833, 1.643717055085678, 1.6439187968796953, 1.643604348437757, 1.6430276557077803, 1.6430551670663214, 1.6424644636051864, 1.6425369157975018, 1.6419295450613471, 1.6430488292980698, 1.6432084611494158, 1.6415721653817716, 1.641409296481576, 1.64207617843694, 1.6406096869310465, 1.6416097839028976, 1.6405554688638901, 1.6410963602110218, 1.640386748872649, 1.6406457317333565, 1.6409708359345676, 1.6404340550115235, 1.640624480068746, 1.64046049560731, 1.6406727137546542, 1.6402484022055916, 1.6410221309847153, 1.6404178819142006, 1.6409837862893626, 1.6402484175551608, 1.6405111170268898, 1.6399315841690867, 1.6405146550322072, 1.6403843650320933, 1.6402321870641243, 1.6399825206897314, 1.6405391329453287, 1.6400705816753083, 1.6402545213535102, 1.6404464992587267, 1.6410601121823591, 1.640557046242872, 1.6409551160944882, 1.641269642301544, 1.6407077535305543]\n"
     ]
    }
   ],
   "source": [
    "print(train_losses)"
   ]
  },
  {
   "cell_type": "code",
   "execution_count": 26,
   "id": "d24fb578",
   "metadata": {},
   "outputs": [
    {
     "name": "stdout",
     "output_type": "stream",
     "text": [
      "[1.7006998395492101, 1.6371449512886753, 1.6427690496057115, 1.637867850119597, 1.6366929759270814, 1.6350808492207167, 1.6330493691551884, 1.63235991638417, 1.6323644095876828, 1.631354733050805, 1.6318656634349584, 1.6319034467406655, 1.6316580819097974, 1.6313861252564872, 1.6354025779415378, 1.6400295913455551, 1.6364075592563914, 1.6394292104166874, 1.6412803368446156, 1.638127382859283, 1.6391160907590667, 1.6432587119664532, 1.6401770343833555, 1.6462794743069946, 1.6416177710165558, 1.6444275077875659, 1.6429823798737835, 1.643717016326053, 1.6458514922470024, 1.6419582815052043, 1.6457648815634516, 1.6472181247135511, 1.6452793353445598, 1.641237656383797, 1.6431977143139773, 1.6471392033675472, 1.6441077486395967, 1.6456639543912444, 1.645260896382192, 1.6459136785868957, 1.6442015941458523, 1.6449956387212987, 1.6407206419857647, 1.6448177382726652, 1.6428088464480106, 1.6430274875549378, 1.6454968341214753, 1.6481087197994233, 1.6434120887078938, 1.6439143088926125]\n"
     ]
    }
   ],
   "source": [
    "print(val_losses)"
   ]
  },
  {
   "cell_type": "code",
   "execution_count": 36,
   "id": "713e4d04",
   "metadata": {},
   "outputs": [
    {
     "name": "stdout",
     "output_type": "stream",
     "text": [
      "Min losses in all the epochs in training is 1.6399315841690867 and in validation is 1.631354733050805\n",
      "Minimal loss at epoch for training is 36 and for validation is 9\n"
     ]
    }
   ],
   "source": [
    "print(f'Min losses in all the epochs in training is {min(train_losses)} and in validation is {min(val_losses)}')\n",
    "print(f'Minimal loss at epoch for training is {train_losses.index(min(train_losses))} and for validation is {val_losses.index(min(val_losses))}')"
   ]
  },
  {
   "cell_type": "code",
   "execution_count": 41,
   "id": "5c4a6ee7",
   "metadata": {},
   "outputs": [
    {
     "data": {
      "text/plain": [
       "<matplotlib.legend.Legend at 0x1cdb5c561f0>"
      ]
     },
     "execution_count": 41,
     "metadata": {},
     "output_type": "execute_result"
    },
    {
     "data": {
      "image/png": "[encoded data removed]",
      "text/plain": [
       "<Figure size 432x288 with 1 Axes>"
      ]
     },
     "metadata": {
      "image/png": {
       "height": 277,
       "width": 391
      },
      "needs_background": "light"
     },
     "output_type": "display_data"
    }
   ],
   "source": [
    "plt.title(\"Training v/s validation loss at each epoch\")\n",
    "plt.plot(train_losses,label='Training')\n",
    "plt.plot(val_losses,label='Validation')\n",
    "plt.xlabel('Number of epochs')\n",
    "plt.ylabel('Losses')\n",
    "plt.legend()"
   ]
  },
  {
   "cell_type": "markdown",
   "id": "7247405c",
   "metadata": {},
   "source": [
    "Above graph shows that at epoch 10, the validation loss is minimal and the training loss is not changed so much.\n",
    "At epoch 10, the model parameter has been saved and can be used for testing datasets."
   ]
  },
  {
   "cell_type": "code",
   "execution_count": 61,
   "id": "855626de",
   "metadata": {},
   "outputs": [
    {
     "data": {
      "text/plain": [
       "DenseModel(\n",
       "  (m): Sequential(\n",
       "    (0): Linear(in_features=8, out_features=16, bias=True)\n",
       "    (1): ReLU()\n",
       "    (2): BatchNorm1d(16, eps=1e-05, momentum=0.1, affine=True, track_running_stats=True)\n",
       "    (3): Dropout(p=0.3, inplace=False)\n",
       "    (4): Linear(in_features=16, out_features=32, bias=True)\n",
       "    (5): ReLU()\n",
       "    (6): BatchNorm1d(32, eps=1e-05, momentum=0.1, affine=True, track_running_stats=True)\n",
       "    (7): Dropout(p=0.3, inplace=False)\n",
       "    (8): Linear(in_features=32, out_features=64, bias=True)\n",
       "    (9): ReLU()\n",
       "    (10): BatchNorm1d(64, eps=1e-05, momentum=0.1, affine=True, track_running_stats=True)\n",
       "    (11): Dropout(p=0.3, inplace=False)\n",
       "    (12): Linear(in_features=64, out_features=32, bias=True)\n",
       "    (13): ReLU()\n",
       "    (14): BatchNorm1d(32, eps=1e-05, momentum=0.1, affine=True, track_running_stats=True)\n",
       "    (15): Dropout(p=0.3, inplace=False)\n",
       "    (16): Linear(in_features=32, out_features=16, bias=True)\n",
       "    (17): ReLU()\n",
       "    (18): BatchNorm1d(16, eps=1e-05, momentum=0.1, affine=True, track_running_stats=True)\n",
       "    (19): Dropout(p=0.3, inplace=False)\n",
       "    (20): Linear(in_features=16, out_features=8, bias=True)\n",
       "    (21): LogSoftmax(dim=1)\n",
       "  )\n",
       ")"
      ]
     },
     "execution_count": 61,
     "metadata": {},
     "output_type": "execute_result"
    }
   ],
   "source": [
    "model=DenseModel(8)\n",
    "model.load_state_dict(torch.load('model10.pth'))\n",
    "model=model.to(device)\n",
    "model.eval()"
   ]
  },
  {
   "cell_type": "code",
   "execution_count": 78,
   "id": "5682ecff",
   "metadata": {},
   "outputs": [],
   "source": [
    "y_pred_list=[]\n",
    "y_target_list=[]\n",
    "with torch.no_grad():\n",
    "    model.eval()\n",
    "    for xb,yb in test_ds:\n",
    "        xb=Variable(xb.unsqueeze(0)).to(device)\n",
    "        pred=model(xb)\n",
    "        pred=pred.argmax().item()\n",
    "        y_pred_list.append(pred)\n",
    "        y_target_list.append(yb.argmax().item())       "
   ]
  },
  {
   "cell_type": "code",
   "execution_count": 76,
   "id": "c6f78f94",
   "metadata": {},
   "outputs": [],
   "source": [
    "idx2class={}\n",
    "for i,j in enumerate(encoder.get_feature_names()):\n",
    "    idx2class[i]=j.replace('x0_','')"
   ]
  },
  {
   "cell_type": "code",
   "execution_count": 77,
   "id": "2852fa98",
   "metadata": {},
   "outputs": [
    {
     "data": {
      "text/plain": [
       "{0: 'arts and design',\n",
       " 1: 'business',\n",
       " 2: 'defence',\n",
       " 3: 'engineering',\n",
       " 4: 'health science',\n",
       " 5: 'liberal arts',\n",
       " 6: 'medical',\n",
       " 7: 'teaching'}"
      ]
     },
     "execution_count": 77,
     "metadata": {},
     "output_type": "execute_result"
    }
   ],
   "source": [
    "idx2class"
   ]
  },
  {
   "cell_type": "code",
   "execution_count": 82,
   "id": "d32ce655",
   "metadata": {},
   "outputs": [
    {
     "data": {
      "text/plain": [
       "<AxesSubplot:>"
      ]
     },
     "execution_count": 82,
     "metadata": {},
     "output_type": "execute_result"
    },
    {
     "data": {
      "image/png": "[encoded data removed]",
      "text/plain": [
       "<Figure size 432x288 with 2 Axes>"
      ]
     },
     "metadata": {
      "image/png": {
       "height": 316,
       "width": 427
      },
      "needs_background": "light"
     },
     "output_type": "display_data"
    }
   ],
   "source": [
    "confusion_matrix_df = pd.DataFrame(confusion_matrix(y_target_list, y_pred_list)).rename(columns=idx2class, index=idx2class)\n",
    "\n",
    "sns.heatmap(confusion_matrix_df, annot=True)"
   ]
  },
  {
   "cell_type": "code",
   "execution_count": 94,
   "id": "33c33337",
   "metadata": {},
   "outputs": [
    {
     "name": "stdout",
     "output_type": "stream",
     "text": [
      "                 precision    recall  f1-score   support\n",
      "\n",
      "arts and design       0.00      0.00      0.00      1140\n",
      "       business       0.33      0.63      0.43      8805\n",
      "        defence       0.00      0.00      0.00       355\n",
      "    engineering       0.41      0.48      0.44      8131\n",
      " health science       0.00      0.00      0.00       466\n",
      "   liberal arts       0.37      0.25      0.30      6368\n",
      "        medical       0.00      0.00      0.00      2034\n",
      "       teaching       0.00      0.00      0.00      3186\n",
      "\n",
      "       accuracy                           0.36     30485\n",
      "      macro avg       0.14      0.17      0.15     30485\n",
      "   weighted avg       0.28      0.36      0.30     30485\n",
      "\n"
     ]
    }
   ],
   "source": [
    "print(classification_report(y_true=y_target_list,y_pred=y_pred_list,target_names=idx2class.values()))"
   ]
  },
  {
   "cell_type": "markdown",
   "id": "c02b4315",
   "metadata": {},
   "source": [
    "Accuracy around 50% only those whose has more number of samples of Target types"
   ]
  },
  {
   "cell_type": "code",
   "execution_count": 103,
   "id": "d17c117b",
   "metadata": {},
   "outputs": [
    {
     "data": {
      "text/plain": [
       "Counter({'engineering': 8131,\n",
       "         'business': 8805,\n",
       "         'medical': 2034,\n",
       "         'defence': 355,\n",
       "         'liberal arts': 6368,\n",
       "         'teaching': 3186,\n",
       "         'arts and design': 1140,\n",
       "         'health science': 466})"
      ]
     },
     "execution_count": 103,
     "metadata": {},
     "output_type": "execute_result"
    }
   ],
   "source": [
    "Counter(y_test)"
   ]
  },
  {
   "cell_type": "code",
   "execution_count": 100,
   "id": "b04e4f0c",
   "metadata": {},
   "outputs": [
    {
     "data": {
      "text/plain": [
       "0.3604067574216828"
      ]
     },
     "execution_count": 100,
     "metadata": {},
     "output_type": "execute_result"
    }
   ],
   "source": [
    "# Whole Accuracy\n",
    "np.sum(np.array(y_target_list)==np.array(y_pred_list))/len(y_target_list)"
   ]
  }
 ],
 "metadata": {
  "kernelspec": {
   "display_name": "Python 3 (ipykernel)",
   "language": "python",
   "name": "python3"
  },
  "language_info": {
   "codemirror_mode": {
    "name": "ipython",
    "version": 3
   },
   "file_extension": ".py",
   "mimetype": "text/x-python",
   "name": "python",
   "nbconvert_exporter": "python",
   "pygments_lexer": "ipython3",
   "version": "3.8.12"
  }
 },
 "nbformat": 4,
 "nbformat_minor": 5
}
